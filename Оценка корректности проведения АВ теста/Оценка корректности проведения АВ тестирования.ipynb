{
 "cells": [
  {
   "cell_type": "markdown",
   "metadata": {},
   "source": [
    "**Техническое задание**\n",
    "\n",
    "- Название теста: `recommender_system_test`;\n",
    "- группы: А — контрольная, B — новая платёжная воронка;\n",
    "- дата запуска: 2020-12-07;\n",
    "- дата остановки набора новых пользователей: 2020-12-21;\n",
    "- дата остановки: 2021-01-04;\n",
    "- аудитория: 15% новых пользователей из региона EU;\n",
    "- назначение теста: тестирование изменений, связанных с внедрением улучшенной рекомендательной системы;\n",
    "- ожидаемое количество участников теста: 6000.\n",
    "- ожидаемый эффект: за 14 дней с момента регистрации пользователи покажут улучшение каждой метрики не менее, чем на 10%:\n",
    "    - конверсии в просмотр карточек товаров — событие `product_page`,\n",
    "    - просмотры корзины — `product_cart`,\n",
    "    - покупки — `purchase`.\n",
    "\n"
   ]
  },
  {
   "cell_type": "code",
   "execution_count": 1,
   "metadata": {},
   "outputs": [],
   "source": [
    "import pandas as pd\n",
    "import numpy as np\n",
    "import matplotlib.pyplot as plt\n",
    "import seaborn as sns\n",
    "from io import BytesIO\n",
    "import requests\n",
    "import re\n",
    "from scipy import stats as st\n",
    "import warnings \n",
    "warnings.filterwarnings('ignore')\n",
    "from statsmodels.stats.proportion import proportions_ztest"
   ]
  },
  {
   "cell_type": "code",
   "execution_count": 2,
   "metadata": {},
   "outputs": [],
   "source": [
    "def info(data):\n",
    "# функция выводит информаци по загруженному датефрейму    \n",
    "\n",
    "    print('--------------Обзор загруженных данных-----------')\n",
    "    display(data.head(5))\n",
    "    print()\n",
    "    data.info()\n",
    "    print()\n",
    "    print()\n",
    "    print('----------Размер датасета---')\n",
    "    print(data.shape)\n",
    "    print()\n",
    "    print('----------Пропуски----------')\n",
    "    for i in data.columns:\n",
    "        if data[i].isna().sum()>0:\n",
    "            print(f'Количество пропусков в столбце {i}:',data[i].isna().sum(),\n",
    "                  ', что состовляет: {:.2%}'.format(data[i].isna().mean()))\n",
    "    display(pd.DataFrame(round((data.isna().mean()*100),2)).style.background_gradient('coolwarm'))\n",
    "            \n",
    "            \n",
    "            \n",
    "    print()        \n",
    "    print('----------Дубликаты----------')   \n",
    "    print('Количество полных дубликатов:', data.duplicated().sum())\n",
    "    print()\n",
    "\n",
    "    print('----------Типы данных--------')\n",
    "    list2={}\n",
    "    for i in data.columns:\n",
    "        key = data[i].dtypes\n",
    "        list2.setdefault(key, [])\n",
    "        list2[key].append(i)\n",
    "    for i,k in list2.items():\n",
    "        print(f'Тип данных {i}: {k}')       "
   ]
  },
  {
   "cell_type": "code",
   "execution_count": 3,
   "metadata": {},
   "outputs": [],
   "source": [
    "ab_project_marketing_events ='1OgfQ3sgf8Tbq-t3cSR0nBnU50jMrh_jyutjKOTvsKto'\n",
    "final_ab_participants ='1U87aNGMd3tO4idO1karYTnMidrlln15or1qJOLb9qV0'\n",
    "final_ab_events ='1AwFGp-2td9ytcErGhkZdE0L2Aad_I8ueWRm03H6AVdU'\n",
    "final_ab_new_users ='1aMHHUsHk8C8WHP7f5Na7qn_QACKi1hKH3iQMb281dpw'\n",
    "\n",
    "# функция для загрузки из гугл диска\n",
    "def requests_google(i):\n",
    "    global requests_1\n",
    "    requests_1 = requests.get('https://docs.google.com/spreadsheets/d/{}/export?format=csv'.format(i))\n",
    "    df = pd.read_csv(BytesIO(requests_1.content))\n",
    "    return df\n",
    "\n",
    "marketing_events=requests_google(ab_project_marketing_events)\n",
    "ab_participants=requests_google(final_ab_participants)\n",
    "ab_events=requests_google(final_ab_events)\n",
    "ab_new_users=requests_google(final_ab_new_users)"
   ]
  },
  {
   "cell_type": "code",
   "execution_count": 4,
   "metadata": {
    "scrolled": false
   },
   "outputs": [
    {
     "name": "stdout",
     "output_type": "stream",
     "text": [
      "\u001b[1mmarketing_events\u001b[0m\n",
      "--------------Обзор загруженных данных-----------\n"
     ]
    },
    {
     "data": {
      "text/html": [
       "<div>\n",
       "<style scoped>\n",
       "    .dataframe tbody tr th:only-of-type {\n",
       "        vertical-align: middle;\n",
       "    }\n",
       "\n",
       "    .dataframe tbody tr th {\n",
       "        vertical-align: top;\n",
       "    }\n",
       "\n",
       "    .dataframe thead th {\n",
       "        text-align: right;\n",
       "    }\n",
       "</style>\n",
       "<table border=\"1\" class=\"dataframe\">\n",
       "  <thead>\n",
       "    <tr style=\"text-align: right;\">\n",
       "      <th></th>\n",
       "      <th>name</th>\n",
       "      <th>regions</th>\n",
       "      <th>start_dt</th>\n",
       "      <th>finish_dt</th>\n",
       "    </tr>\n",
       "  </thead>\n",
       "  <tbody>\n",
       "    <tr>\n",
       "      <th>0</th>\n",
       "      <td>Christmas&amp;New Year Promo</td>\n",
       "      <td>EU, N.America</td>\n",
       "      <td>2020-12-25</td>\n",
       "      <td>2021-01-03</td>\n",
       "    </tr>\n",
       "    <tr>\n",
       "      <th>1</th>\n",
       "      <td>St. Valentine's Day Giveaway</td>\n",
       "      <td>EU, CIS, APAC, N.America</td>\n",
       "      <td>2020-02-14</td>\n",
       "      <td>2020-02-16</td>\n",
       "    </tr>\n",
       "    <tr>\n",
       "      <th>2</th>\n",
       "      <td>St. Patric's Day Promo</td>\n",
       "      <td>EU, N.America</td>\n",
       "      <td>2020-03-17</td>\n",
       "      <td>2020-03-19</td>\n",
       "    </tr>\n",
       "    <tr>\n",
       "      <th>3</th>\n",
       "      <td>Easter Promo</td>\n",
       "      <td>EU, CIS, APAC, N.America</td>\n",
       "      <td>2020-04-12</td>\n",
       "      <td>2020-04-19</td>\n",
       "    </tr>\n",
       "    <tr>\n",
       "      <th>4</th>\n",
       "      <td>4th of July Promo</td>\n",
       "      <td>N.America</td>\n",
       "      <td>2020-07-04</td>\n",
       "      <td>2020-07-11</td>\n",
       "    </tr>\n",
       "  </tbody>\n",
       "</table>\n",
       "</div>"
      ],
      "text/plain": [
       "                           name                   regions    start_dt  \\\n",
       "0      Christmas&New Year Promo             EU, N.America  2020-12-25   \n",
       "1  St. Valentine's Day Giveaway  EU, CIS, APAC, N.America  2020-02-14   \n",
       "2        St. Patric's Day Promo             EU, N.America  2020-03-17   \n",
       "3                  Easter Promo  EU, CIS, APAC, N.America  2020-04-12   \n",
       "4             4th of July Promo                 N.America  2020-07-04   \n",
       "\n",
       "    finish_dt  \n",
       "0  2021-01-03  \n",
       "1  2020-02-16  \n",
       "2  2020-03-19  \n",
       "3  2020-04-19  \n",
       "4  2020-07-11  "
      ]
     },
     "metadata": {},
     "output_type": "display_data"
    },
    {
     "name": "stdout",
     "output_type": "stream",
     "text": [
      "\n",
      "<class 'pandas.core.frame.DataFrame'>\n",
      "RangeIndex: 14 entries, 0 to 13\n",
      "Data columns (total 4 columns):\n",
      " #   Column     Non-Null Count  Dtype \n",
      "---  ------     --------------  ----- \n",
      " 0   name       14 non-null     object\n",
      " 1   regions    14 non-null     object\n",
      " 2   start_dt   14 non-null     object\n",
      " 3   finish_dt  14 non-null     object\n",
      "dtypes: object(4)\n",
      "memory usage: 576.0+ bytes\n",
      "\n",
      "\n",
      "----------Размер датасета---\n",
      "(14, 4)\n",
      "\n",
      "----------Пропуски----------\n"
     ]
    },
    {
     "data": {
      "text/html": [
       "<style  type=\"text/css\" >\n",
       "#T_9095cd07_dbdf_11eb_b380_a08cfd79dc69row0_col0,#T_9095cd07_dbdf_11eb_b380_a08cfd79dc69row1_col0,#T_9095cd07_dbdf_11eb_b380_a08cfd79dc69row2_col0,#T_9095cd07_dbdf_11eb_b380_a08cfd79dc69row3_col0{\n",
       "            background-color:  #3b4cc0;\n",
       "            color:  #f1f1f1;\n",
       "        }</style><table id=\"T_9095cd07_dbdf_11eb_b380_a08cfd79dc69\" ><thead>    <tr>        <th class=\"blank level0\" ></th>        <th class=\"col_heading level0 col0\" >0</th>    </tr></thead><tbody>\n",
       "                <tr>\n",
       "                        <th id=\"T_9095cd07_dbdf_11eb_b380_a08cfd79dc69level0_row0\" class=\"row_heading level0 row0\" >name</th>\n",
       "                        <td id=\"T_9095cd07_dbdf_11eb_b380_a08cfd79dc69row0_col0\" class=\"data row0 col0\" >0.000000</td>\n",
       "            </tr>\n",
       "            <tr>\n",
       "                        <th id=\"T_9095cd07_dbdf_11eb_b380_a08cfd79dc69level0_row1\" class=\"row_heading level0 row1\" >regions</th>\n",
       "                        <td id=\"T_9095cd07_dbdf_11eb_b380_a08cfd79dc69row1_col0\" class=\"data row1 col0\" >0.000000</td>\n",
       "            </tr>\n",
       "            <tr>\n",
       "                        <th id=\"T_9095cd07_dbdf_11eb_b380_a08cfd79dc69level0_row2\" class=\"row_heading level0 row2\" >start_dt</th>\n",
       "                        <td id=\"T_9095cd07_dbdf_11eb_b380_a08cfd79dc69row2_col0\" class=\"data row2 col0\" >0.000000</td>\n",
       "            </tr>\n",
       "            <tr>\n",
       "                        <th id=\"T_9095cd07_dbdf_11eb_b380_a08cfd79dc69level0_row3\" class=\"row_heading level0 row3\" >finish_dt</th>\n",
       "                        <td id=\"T_9095cd07_dbdf_11eb_b380_a08cfd79dc69row3_col0\" class=\"data row3 col0\" >0.000000</td>\n",
       "            </tr>\n",
       "    </tbody></table>"
      ],
      "text/plain": [
       "<pandas.io.formats.style.Styler at 0x1fc37de9820>"
      ]
     },
     "metadata": {},
     "output_type": "display_data"
    },
    {
     "name": "stdout",
     "output_type": "stream",
     "text": [
      "\n",
      "----------Дубликаты----------\n",
      "Количество полных дубликатов: 0\n",
      "\n",
      "----------Типы данных--------\n",
      "Тип данных object: ['name', 'regions', 'start_dt', 'finish_dt']\n",
      "\n",
      "\u001b[1mab_participants\u001b[0m\n",
      "--------------Обзор загруженных данных-----------\n"
     ]
    },
    {
     "data": {
      "text/html": [
       "<div>\n",
       "<style scoped>\n",
       "    .dataframe tbody tr th:only-of-type {\n",
       "        vertical-align: middle;\n",
       "    }\n",
       "\n",
       "    .dataframe tbody tr th {\n",
       "        vertical-align: top;\n",
       "    }\n",
       "\n",
       "    .dataframe thead th {\n",
       "        text-align: right;\n",
       "    }\n",
       "</style>\n",
       "<table border=\"1\" class=\"dataframe\">\n",
       "  <thead>\n",
       "    <tr style=\"text-align: right;\">\n",
       "      <th></th>\n",
       "      <th>user_id</th>\n",
       "      <th>group</th>\n",
       "      <th>ab_test</th>\n",
       "    </tr>\n",
       "  </thead>\n",
       "  <tbody>\n",
       "    <tr>\n",
       "      <th>0</th>\n",
       "      <td>D1ABA3E2887B6A73</td>\n",
       "      <td>A</td>\n",
       "      <td>recommender_system_test</td>\n",
       "    </tr>\n",
       "    <tr>\n",
       "      <th>1</th>\n",
       "      <td>A7A3664BD6242119</td>\n",
       "      <td>A</td>\n",
       "      <td>recommender_system_test</td>\n",
       "    </tr>\n",
       "    <tr>\n",
       "      <th>2</th>\n",
       "      <td>DABC14FDDFADD29E</td>\n",
       "      <td>A</td>\n",
       "      <td>recommender_system_test</td>\n",
       "    </tr>\n",
       "    <tr>\n",
       "      <th>3</th>\n",
       "      <td>04988C5DF189632E</td>\n",
       "      <td>A</td>\n",
       "      <td>recommender_system_test</td>\n",
       "    </tr>\n",
       "    <tr>\n",
       "      <th>4</th>\n",
       "      <td>482F14783456D21B</td>\n",
       "      <td>B</td>\n",
       "      <td>recommender_system_test</td>\n",
       "    </tr>\n",
       "  </tbody>\n",
       "</table>\n",
       "</div>"
      ],
      "text/plain": [
       "            user_id group                  ab_test\n",
       "0  D1ABA3E2887B6A73     A  recommender_system_test\n",
       "1  A7A3664BD6242119     A  recommender_system_test\n",
       "2  DABC14FDDFADD29E     A  recommender_system_test\n",
       "3  04988C5DF189632E     A  recommender_system_test\n",
       "4  482F14783456D21B     B  recommender_system_test"
      ]
     },
     "metadata": {},
     "output_type": "display_data"
    },
    {
     "name": "stdout",
     "output_type": "stream",
     "text": [
      "\n",
      "<class 'pandas.core.frame.DataFrame'>\n",
      "RangeIndex: 18268 entries, 0 to 18267\n",
      "Data columns (total 3 columns):\n",
      " #   Column   Non-Null Count  Dtype \n",
      "---  ------   --------------  ----- \n",
      " 0   user_id  18268 non-null  object\n",
      " 1   group    18268 non-null  object\n",
      " 2   ab_test  18268 non-null  object\n",
      "dtypes: object(3)\n",
      "memory usage: 428.3+ KB\n",
      "\n",
      "\n",
      "----------Размер датасета---\n",
      "(18268, 3)\n",
      "\n",
      "----------Пропуски----------\n"
     ]
    },
    {
     "data": {
      "text/html": [
       "<style  type=\"text/css\" >\n",
       "#T_90a29c72_dbdf_11eb_a82d_a08cfd79dc69row0_col0,#T_90a29c72_dbdf_11eb_a82d_a08cfd79dc69row1_col0,#T_90a29c72_dbdf_11eb_a82d_a08cfd79dc69row2_col0{\n",
       "            background-color:  #3b4cc0;\n",
       "            color:  #f1f1f1;\n",
       "        }</style><table id=\"T_90a29c72_dbdf_11eb_a82d_a08cfd79dc69\" ><thead>    <tr>        <th class=\"blank level0\" ></th>        <th class=\"col_heading level0 col0\" >0</th>    </tr></thead><tbody>\n",
       "                <tr>\n",
       "                        <th id=\"T_90a29c72_dbdf_11eb_a82d_a08cfd79dc69level0_row0\" class=\"row_heading level0 row0\" >user_id</th>\n",
       "                        <td id=\"T_90a29c72_dbdf_11eb_a82d_a08cfd79dc69row0_col0\" class=\"data row0 col0\" >0.000000</td>\n",
       "            </tr>\n",
       "            <tr>\n",
       "                        <th id=\"T_90a29c72_dbdf_11eb_a82d_a08cfd79dc69level0_row1\" class=\"row_heading level0 row1\" >group</th>\n",
       "                        <td id=\"T_90a29c72_dbdf_11eb_a82d_a08cfd79dc69row1_col0\" class=\"data row1 col0\" >0.000000</td>\n",
       "            </tr>\n",
       "            <tr>\n",
       "                        <th id=\"T_90a29c72_dbdf_11eb_a82d_a08cfd79dc69level0_row2\" class=\"row_heading level0 row2\" >ab_test</th>\n",
       "                        <td id=\"T_90a29c72_dbdf_11eb_a82d_a08cfd79dc69row2_col0\" class=\"data row2 col0\" >0.000000</td>\n",
       "            </tr>\n",
       "    </tbody></table>"
      ],
      "text/plain": [
       "<pandas.io.formats.style.Styler at 0x1fc3e7e35e0>"
      ]
     },
     "metadata": {},
     "output_type": "display_data"
    },
    {
     "name": "stdout",
     "output_type": "stream",
     "text": [
      "\n",
      "----------Дубликаты----------\n",
      "Количество полных дубликатов: 0\n",
      "\n",
      "----------Типы данных--------\n",
      "Тип данных object: ['user_id', 'group', 'ab_test']\n",
      "\n",
      "\u001b[1mab_events\u001b[0m\n",
      "--------------Обзор загруженных данных-----------\n"
     ]
    },
    {
     "data": {
      "text/html": [
       "<div>\n",
       "<style scoped>\n",
       "    .dataframe tbody tr th:only-of-type {\n",
       "        vertical-align: middle;\n",
       "    }\n",
       "\n",
       "    .dataframe tbody tr th {\n",
       "        vertical-align: top;\n",
       "    }\n",
       "\n",
       "    .dataframe thead th {\n",
       "        text-align: right;\n",
       "    }\n",
       "</style>\n",
       "<table border=\"1\" class=\"dataframe\">\n",
       "  <thead>\n",
       "    <tr style=\"text-align: right;\">\n",
       "      <th></th>\n",
       "      <th>user_id</th>\n",
       "      <th>event_dt</th>\n",
       "      <th>event_name</th>\n",
       "      <th>details</th>\n",
       "    </tr>\n",
       "  </thead>\n",
       "  <tbody>\n",
       "    <tr>\n",
       "      <th>0</th>\n",
       "      <td>E1BDDCE0DAFA2679</td>\n",
       "      <td>2020-12-07 20:22:03</td>\n",
       "      <td>purchase</td>\n",
       "      <td>99.99</td>\n",
       "    </tr>\n",
       "    <tr>\n",
       "      <th>1</th>\n",
       "      <td>7B6452F081F49504</td>\n",
       "      <td>2020-12-07 9:22:53</td>\n",
       "      <td>purchase</td>\n",
       "      <td>9.99</td>\n",
       "    </tr>\n",
       "    <tr>\n",
       "      <th>2</th>\n",
       "      <td>9CD9F34546DF254C</td>\n",
       "      <td>2020-12-07 12:59:29</td>\n",
       "      <td>purchase</td>\n",
       "      <td>4.99</td>\n",
       "    </tr>\n",
       "    <tr>\n",
       "      <th>3</th>\n",
       "      <td>96F27A054B191457</td>\n",
       "      <td>2020-12-07 4:02:40</td>\n",
       "      <td>purchase</td>\n",
       "      <td>4.99</td>\n",
       "    </tr>\n",
       "    <tr>\n",
       "      <th>4</th>\n",
       "      <td>1FD7660FDF94CA1F</td>\n",
       "      <td>2020-12-07 10:15:09</td>\n",
       "      <td>purchase</td>\n",
       "      <td>4.99</td>\n",
       "    </tr>\n",
       "  </tbody>\n",
       "</table>\n",
       "</div>"
      ],
      "text/plain": [
       "            user_id             event_dt event_name  details\n",
       "0  E1BDDCE0DAFA2679  2020-12-07 20:22:03   purchase    99.99\n",
       "1  7B6452F081F49504   2020-12-07 9:22:53   purchase     9.99\n",
       "2  9CD9F34546DF254C  2020-12-07 12:59:29   purchase     4.99\n",
       "3  96F27A054B191457   2020-12-07 4:02:40   purchase     4.99\n",
       "4  1FD7660FDF94CA1F  2020-12-07 10:15:09   purchase     4.99"
      ]
     },
     "metadata": {},
     "output_type": "display_data"
    },
    {
     "name": "stdout",
     "output_type": "stream",
     "text": [
      "\n",
      "<class 'pandas.core.frame.DataFrame'>\n",
      "RangeIndex: 440317 entries, 0 to 440316\n",
      "Data columns (total 4 columns):\n",
      " #   Column      Non-Null Count   Dtype  \n",
      "---  ------      --------------   -----  \n",
      " 0   user_id     440317 non-null  object \n",
      " 1   event_dt    440317 non-null  object \n",
      " 2   event_name  440317 non-null  object \n",
      " 3   details     62740 non-null   float64\n",
      "dtypes: float64(1), object(3)\n",
      "memory usage: 13.4+ MB\n",
      "\n",
      "\n",
      "----------Размер датасета---\n",
      "(440317, 4)\n",
      "\n",
      "----------Пропуски----------\n",
      "Количество пропусков в столбце details: 377577 , что состовляет: 85.75%\n"
     ]
    },
    {
     "data": {
      "text/html": [
       "<style  type=\"text/css\" >\n",
       "#T_9109b39d_dbdf_11eb_93ae_a08cfd79dc69row0_col0,#T_9109b39d_dbdf_11eb_93ae_a08cfd79dc69row1_col0,#T_9109b39d_dbdf_11eb_93ae_a08cfd79dc69row2_col0{\n",
       "            background-color:  #3b4cc0;\n",
       "            color:  #f1f1f1;\n",
       "        }#T_9109b39d_dbdf_11eb_93ae_a08cfd79dc69row3_col0{\n",
       "            background-color:  #b40426;\n",
       "            color:  #f1f1f1;\n",
       "        }</style><table id=\"T_9109b39d_dbdf_11eb_93ae_a08cfd79dc69\" ><thead>    <tr>        <th class=\"blank level0\" ></th>        <th class=\"col_heading level0 col0\" >0</th>    </tr></thead><tbody>\n",
       "                <tr>\n",
       "                        <th id=\"T_9109b39d_dbdf_11eb_93ae_a08cfd79dc69level0_row0\" class=\"row_heading level0 row0\" >user_id</th>\n",
       "                        <td id=\"T_9109b39d_dbdf_11eb_93ae_a08cfd79dc69row0_col0\" class=\"data row0 col0\" >0.000000</td>\n",
       "            </tr>\n",
       "            <tr>\n",
       "                        <th id=\"T_9109b39d_dbdf_11eb_93ae_a08cfd79dc69level0_row1\" class=\"row_heading level0 row1\" >event_dt</th>\n",
       "                        <td id=\"T_9109b39d_dbdf_11eb_93ae_a08cfd79dc69row1_col0\" class=\"data row1 col0\" >0.000000</td>\n",
       "            </tr>\n",
       "            <tr>\n",
       "                        <th id=\"T_9109b39d_dbdf_11eb_93ae_a08cfd79dc69level0_row2\" class=\"row_heading level0 row2\" >event_name</th>\n",
       "                        <td id=\"T_9109b39d_dbdf_11eb_93ae_a08cfd79dc69row2_col0\" class=\"data row2 col0\" >0.000000</td>\n",
       "            </tr>\n",
       "            <tr>\n",
       "                        <th id=\"T_9109b39d_dbdf_11eb_93ae_a08cfd79dc69level0_row3\" class=\"row_heading level0 row3\" >details</th>\n",
       "                        <td id=\"T_9109b39d_dbdf_11eb_93ae_a08cfd79dc69row3_col0\" class=\"data row3 col0\" >85.750000</td>\n",
       "            </tr>\n",
       "    </tbody></table>"
      ],
      "text/plain": [
       "<pandas.io.formats.style.Styler at 0x1fc3e79dbb0>"
      ]
     },
     "metadata": {},
     "output_type": "display_data"
    },
    {
     "name": "stdout",
     "output_type": "stream",
     "text": [
      "\n",
      "----------Дубликаты----------\n",
      "Количество полных дубликатов: 0\n",
      "\n",
      "----------Типы данных--------\n",
      "Тип данных object: ['user_id', 'event_dt', 'event_name']\n",
      "Тип данных float64: ['details']\n",
      "\n",
      "\u001b[1mab_new_users\u001b[0m\n",
      "--------------Обзор загруженных данных-----------\n"
     ]
    },
    {
     "data": {
      "text/html": [
       "<div>\n",
       "<style scoped>\n",
       "    .dataframe tbody tr th:only-of-type {\n",
       "        vertical-align: middle;\n",
       "    }\n",
       "\n",
       "    .dataframe tbody tr th {\n",
       "        vertical-align: top;\n",
       "    }\n",
       "\n",
       "    .dataframe thead th {\n",
       "        text-align: right;\n",
       "    }\n",
       "</style>\n",
       "<table border=\"1\" class=\"dataframe\">\n",
       "  <thead>\n",
       "    <tr style=\"text-align: right;\">\n",
       "      <th></th>\n",
       "      <th>user_id</th>\n",
       "      <th>first_date</th>\n",
       "      <th>region</th>\n",
       "      <th>device</th>\n",
       "    </tr>\n",
       "  </thead>\n",
       "  <tbody>\n",
       "    <tr>\n",
       "      <th>0</th>\n",
       "      <td>D72A72121175D8BE</td>\n",
       "      <td>2020-12-07</td>\n",
       "      <td>EU</td>\n",
       "      <td>PC</td>\n",
       "    </tr>\n",
       "    <tr>\n",
       "      <th>1</th>\n",
       "      <td>F1C668619DFE6E65</td>\n",
       "      <td>2020-12-07</td>\n",
       "      <td>N.America</td>\n",
       "      <td>Android</td>\n",
       "    </tr>\n",
       "    <tr>\n",
       "      <th>2</th>\n",
       "      <td>2E1BF1D4C37EA01F</td>\n",
       "      <td>2020-12-07</td>\n",
       "      <td>EU</td>\n",
       "      <td>PC</td>\n",
       "    </tr>\n",
       "    <tr>\n",
       "      <th>3</th>\n",
       "      <td>50734A22C0C63768</td>\n",
       "      <td>2020-12-07</td>\n",
       "      <td>EU</td>\n",
       "      <td>iPhone</td>\n",
       "    </tr>\n",
       "    <tr>\n",
       "      <th>4</th>\n",
       "      <td>E1BDDCE0DAFA2679</td>\n",
       "      <td>2020-12-07</td>\n",
       "      <td>N.America</td>\n",
       "      <td>iPhone</td>\n",
       "    </tr>\n",
       "  </tbody>\n",
       "</table>\n",
       "</div>"
      ],
      "text/plain": [
       "            user_id  first_date     region   device\n",
       "0  D72A72121175D8BE  2020-12-07         EU       PC\n",
       "1  F1C668619DFE6E65  2020-12-07  N.America  Android\n",
       "2  2E1BF1D4C37EA01F  2020-12-07         EU       PC\n",
       "3  50734A22C0C63768  2020-12-07         EU   iPhone\n",
       "4  E1BDDCE0DAFA2679  2020-12-07  N.America   iPhone"
      ]
     },
     "metadata": {},
     "output_type": "display_data"
    },
    {
     "name": "stdout",
     "output_type": "stream",
     "text": [
      "\n",
      "<class 'pandas.core.frame.DataFrame'>\n",
      "RangeIndex: 61733 entries, 0 to 61732\n",
      "Data columns (total 4 columns):\n",
      " #   Column      Non-Null Count  Dtype \n",
      "---  ------      --------------  ----- \n",
      " 0   user_id     61733 non-null  object\n",
      " 1   first_date  61733 non-null  object\n",
      " 2   region      61733 non-null  object\n",
      " 3   device      61733 non-null  object\n",
      "dtypes: object(4)\n",
      "memory usage: 1.9+ MB\n",
      "\n",
      "\n",
      "----------Размер датасета---\n",
      "(61733, 4)\n",
      "\n",
      "----------Пропуски----------\n"
     ]
    },
    {
     "data": {
      "text/html": [
       "<style  type=\"text/css\" >\n",
       "#T_915e7e04_dbdf_11eb_8813_a08cfd79dc69row0_col0,#T_915e7e04_dbdf_11eb_8813_a08cfd79dc69row1_col0,#T_915e7e04_dbdf_11eb_8813_a08cfd79dc69row2_col0,#T_915e7e04_dbdf_11eb_8813_a08cfd79dc69row3_col0{\n",
       "            background-color:  #3b4cc0;\n",
       "            color:  #f1f1f1;\n",
       "        }</style><table id=\"T_915e7e04_dbdf_11eb_8813_a08cfd79dc69\" ><thead>    <tr>        <th class=\"blank level0\" ></th>        <th class=\"col_heading level0 col0\" >0</th>    </tr></thead><tbody>\n",
       "                <tr>\n",
       "                        <th id=\"T_915e7e04_dbdf_11eb_8813_a08cfd79dc69level0_row0\" class=\"row_heading level0 row0\" >user_id</th>\n",
       "                        <td id=\"T_915e7e04_dbdf_11eb_8813_a08cfd79dc69row0_col0\" class=\"data row0 col0\" >0.000000</td>\n",
       "            </tr>\n",
       "            <tr>\n",
       "                        <th id=\"T_915e7e04_dbdf_11eb_8813_a08cfd79dc69level0_row1\" class=\"row_heading level0 row1\" >first_date</th>\n",
       "                        <td id=\"T_915e7e04_dbdf_11eb_8813_a08cfd79dc69row1_col0\" class=\"data row1 col0\" >0.000000</td>\n",
       "            </tr>\n",
       "            <tr>\n",
       "                        <th id=\"T_915e7e04_dbdf_11eb_8813_a08cfd79dc69level0_row2\" class=\"row_heading level0 row2\" >region</th>\n",
       "                        <td id=\"T_915e7e04_dbdf_11eb_8813_a08cfd79dc69row2_col0\" class=\"data row2 col0\" >0.000000</td>\n",
       "            </tr>\n",
       "            <tr>\n",
       "                        <th id=\"T_915e7e04_dbdf_11eb_8813_a08cfd79dc69level0_row3\" class=\"row_heading level0 row3\" >device</th>\n",
       "                        <td id=\"T_915e7e04_dbdf_11eb_8813_a08cfd79dc69row3_col0\" class=\"data row3 col0\" >0.000000</td>\n",
       "            </tr>\n",
       "    </tbody></table>"
      ],
      "text/plain": [
       "<pandas.io.formats.style.Styler at 0x1fc3e79dd60>"
      ]
     },
     "metadata": {},
     "output_type": "display_data"
    },
    {
     "name": "stdout",
     "output_type": "stream",
     "text": [
      "\n",
      "----------Дубликаты----------\n",
      "Количество полных дубликатов: 0\n",
      "\n",
      "----------Типы данных--------\n",
      "Тип данных object: ['user_id', 'first_date', 'region', 'device']\n",
      "\n"
     ]
    }
   ],
   "source": [
    "all_dfs = {'marketing_events': marketing_events, 'ab_participants': ab_participants, 'ab_events': ab_events, 'ab_new_users': ab_new_users} # собираем все датафреймы в одну общую переменную\n",
    "for df_key in all_dfs.keys():\n",
    "    print('\\033[1m' + df_key + '\\033[0m')\n",
    "    info(all_dfs[df_key])\n",
    "    print()\n",
    "    "
   ]
  },
  {
   "cell_type": "code",
   "execution_count": 6,
   "metadata": {},
   "outputs": [],
   "source": [
    "# изменили формат даты в столбцацах, для удобной работы с временем\n",
    "ab_new_users['first_date']=pd.to_datetime(ab_new_users['first_date'])\n",
    "ab_events['event_dt']=pd.to_datetime(ab_events['event_dt'])"
   ]
  },
  {
   "cell_type": "markdown",
   "metadata": {},
   "source": [
    "Загружены 4 датафрейма. Датафреймы проверены на пропуски и полные дубликаты. Полных дубликатов не оказалось, пропуски оказались, в тех столбцах, где их наличие уместно."
   ]
  },
  {
   "cell_type": "markdown",
   "metadata": {},
   "source": [
    "### Исследование данных"
   ]
  },
  {
   "cell_type": "code",
   "execution_count": 7,
   "metadata": {},
   "outputs": [],
   "source": [
    "# фильтруем пользователей по отношению к тесту\n",
    "user_test=ab_participants.query('ab_test==\"recommender_system_test\"') "
   ]
  },
  {
   "cell_type": "code",
   "execution_count": 8,
   "metadata": {},
   "outputs": [],
   "source": [
    "# фильтруем пользователей по дате набора и отношению к региону\n",
    "total_user=ab_new_users.query('\"2020-12-07\"<=first_date<=\"2020-12-21\" and region==\"EU\"')"
   ]
  },
  {
   "cell_type": "code",
   "execution_count": 9,
   "metadata": {},
   "outputs": [
    {
     "name": "stdout",
     "output_type": "stream",
     "text": [
      "Количество охваченных пользователей: 6701\n",
      "Охват новых пользователей при тестировании: 15.83\n"
     ]
    }
   ],
   "source": [
    "# смотрим долю охвата теста новых пользователей региона\n",
    "print('Количество охваченных пользователей:', user_test.shape[0])\n",
    "print('Охват новых пользователей при тестировании:', (round((user_test.shape[0]/total_user.shape[0]*100),2)))"
   ]
  },
  {
   "cell_type": "code",
   "execution_count": 10,
   "metadata": {},
   "outputs": [
    {
     "name": "stdout",
     "output_type": "stream",
     "text": [
      "Количество пересечений в тестах в группах В:В 344\n"
     ]
    }
   ],
   "source": [
    "# пересекающиеся юзеры в контрольных группах\n",
    "test1=ab_participants.query('ab_test==\"interface_eu_test\" and group==\"B\"')\n",
    "test2=ab_participants.query('ab_test==\"recommender_system_test\" and group==\"B\"')\n",
    "user_intersaction=list(test1.merge(test2,how='inner',on='user_id')['user_id'])\n",
    "print('Количество пересечений в тестах в группах В:В',len(user_intersaction))\n",
    "test_clear_user=user_test"
   ]
  },
  {
   "cell_type": "code",
   "execution_count": 11,
   "metadata": {},
   "outputs": [],
   "source": [
    "# Добавляем к данным по активности, данные по тестам и дату регестрации\n",
    "test_data=ab_events.merge(test_clear_user[['user_id','group']],how='left',on='user_id')\n",
    "test_data=test_data.merge(ab_new_users[['user_id','first_date']],how='left',on='user_id')\n",
    "test_data['time_activ']=test_data['event_dt']-test_data['first_date']\n",
    "test_data['time_activ']=test_data['time_activ']/np.timedelta64(1,'D')\n",
    "# сортируем 14 дневный срок активности после регестрации\n",
    "test_data=test_data.query('time_activ<=14')\n",
    "test_AB=test_data.query('group in(\"A\",\"B\")')\n"
   ]
  },
  {
   "cell_type": "code",
   "execution_count": 12,
   "metadata": {},
   "outputs": [
    {
     "name": "stdout",
     "output_type": "stream",
     "text": [
      "Количество охваченных пользователей: 6701\n",
      "Количество участников группы А: 3824\n",
      "Количество участников группы B: 2877\n",
      "Охват новых пользователей при тестировании: 15.83\n"
     ]
    }
   ],
   "source": [
    "# доля охвата теста  пользователей\n",
    "\n",
    "print('Количество охваченных пользователей:', test_clear_user.shape[0])\n",
    "print('Количество участников группы А:', test_clear_user.query('group==\"A\"').shape[0])\n",
    "print('Количество участников группы B:', test_clear_user.query('group==\"B\"').shape[0])\n",
    "print('Охват новых пользователей при тестировании:', (round((test_clear_user.shape[0]/total_user.shape[0]*100),2)))\n"
   ]
  },
  {
   "cell_type": "markdown",
   "metadata": {},
   "source": [
    "`Проверка охвата на стат значимость`\n",
    "\n",
    "Охват теста получулся равен 15,83, это чуть выше уровня, который закладывался в техническом задании.Проведем тест, чтобы проверить действительно ли это статистически значимое различие:\n",
    "- H0: нет статистичечкого значимого различия доли пользователей между тз и тестом (15%);\n",
    "- H1: есть статистичечкого значимое различие доли пользователей между тз и тестом (15%).\n",
    "\n",
    "Уровень значимости установим 0.05 и откорректируем методом Бонферрони т.к. мы проводим в этой части два теста - текущий и тест на распрееление пользователей по группам.\n"
   ]
  },
  {
   "cell_type": "code",
   "execution_count": 13,
   "metadata": {},
   "outputs": [
    {
     "name": "stdout",
     "output_type": "stream",
     "text": [
      "p-value: 3.157976853750584e-06\n",
      "есть статистичечкого значимое различие доли пользователей между тз и тестом (15%).\n"
     ]
    }
   ],
   "source": [
    "alpha = 0.05\n",
    "alpha = alpha / 2\n",
    "pvalue = proportions_ztest(test_clear_user.shape[0], total_user.shape[0], value = 0.15)[1]\n",
    "print('p-value: {}'.format(pvalue))\n",
    "if pvalue >= alpha: \n",
    "    print('Нулевая гипотеза не отвергается: нет статистичечкого значимого различия доли пользователей между тз и тестом (15%).')\n",
    "else:\n",
    "    print('есть статистичечкого значимое различие доли пользователей между тз и тестом (15%).')"
   ]
  },
  {
   "cell_type": "markdown",
   "metadata": {},
   "source": [
    "Теперь проверим, была ли вероятность попасть в группы одинаковой:"
   ]
  },
  {
   "cell_type": "code",
   "execution_count": 14,
   "metadata": {},
   "outputs": [
    {
     "data": {
      "text/plain": [
       "0.5706610953589016"
      ]
     },
     "execution_count": 14,
     "metadata": {},
     "output_type": "execute_result"
    }
   ],
   "source": [
    "a_users = test_clear_user.query('group==\"A\"').shape[0]\n",
    "all_participants = test_clear_user.shape[0]\n",
    "a_users / all_participants"
   ]
  },
  {
   "cell_type": "markdown",
   "metadata": {},
   "source": [
    "Вероятность попасть в группу А составила 60%. Проверим одновыборочным z-тестом:\n",
    "- H0: вероятность попасть в группу А составляет 50%;\n",
    "- H1: веростность попасть в группу А отличается от 50%"
   ]
  },
  {
   "cell_type": "code",
   "execution_count": 15,
   "metadata": {},
   "outputs": [
    {
     "name": "stdout",
     "output_type": "stream",
     "text": [
      "p-value: 1.50536508194716e-31\n",
      "Нулевая гипотеза отвергается: вероятность попасть в группу А отличается от 50%\n"
     ]
    }
   ],
   "source": [
    "alpha = 0.05\n",
    "alpha = alpha / 2\n",
    "pvalue = proportions_ztest(a_users, all_participants, value = 0.5)[1]\n",
    "print('p-value: {}'.format(pvalue))\n",
    "if pvalue >= alpha: \n",
    "    print('Нулевая гипотеза не отвергается: вероятность попасть в группу А составляет 50%')\n",
    "else:\n",
    "    print('Нулевая гипотеза отвергается: вероятность попасть в группу А отличается от 50%')"
   ]
  },
  {
   "cell_type": "code",
   "execution_count": 16,
   "metadata": {},
   "outputs": [],
   "source": [
    "def discribe_test(i):\n",
    "    print(\"Количество событий в исследуемых данных:\",i.shape[0])\n",
    "    print('Количество пользователей в логе:', i['user_id'].nunique())\n",
    "    print('Количестов событий в среднем приходящихся на одного пользовтеля: {:.0f}'\n",
    "      .format(i.shape[0]/i['user_id'].nunique()))\n",
    "    print('Количесво событий на одного пользователя усредненных медианой: {:.0f}' \n",
    "      .format(i.groupby('user_id').\n",
    "      agg({'event_name':'count'}).reset_index()['event_name'].median()))\n",
    "\n",
    "\n",
    "    print('Минимальная дата:',i['event_dt'].min())\n",
    "    print('Максимальная дата:',i['event_dt'].max())\n"
   ]
  },
  {
   "cell_type": "code",
   "execution_count": 17,
   "metadata": {},
   "outputs": [
    {
     "name": "stdout",
     "output_type": "stream",
     "text": [
      "Даные для общей группы А и В:\n",
      "Количество событий в исследуемых данных: 23856\n",
      "Количество пользователей в логе: 3675\n",
      "Количестов событий в среднем приходящихся на одного пользовтеля: 6\n",
      "Количесво событий на одного пользователя усредненных медианой: 6\n",
      "Минимальная дата: 2020-12-07 00:05:57\n",
      "Максимальная дата: 2020-12-29 23:38:29\n",
      "\n",
      "Даные для группы А:\n",
      "Количество событий в исследуемых данных: 18801\n",
      "Количество пользователей в логе: 2747\n",
      "Количестов событий в среднем приходящихся на одного пользовтеля: 7\n",
      "Количесво событий на одного пользователя усредненных медианой: 6\n",
      "Минимальная дата: 2020-12-07 00:14:01\n",
      "Максимальная дата: 2020-12-29 23:38:29\n",
      "\n",
      "Даные для группы B:\n",
      "Количество событий в исследуемых данных: 5055\n",
      "Количество пользователей в логе: 928\n",
      "Количестов событий в среднем приходящихся на одного пользовтеля: 5\n",
      "Количесво событий на одного пользователя усредненных медианой: 4\n",
      "Минимальная дата: 2020-12-07 00:05:57\n",
      "Максимальная дата: 2020-12-29 23:24:34\n"
     ]
    }
   ],
   "source": [
    "print('Даные для общей группы А и В:')\n",
    "discribe_test(test_AB)\n",
    "print()\n",
    "print('Даные для группы А:')\n",
    "discribe_test(test_AB.query('group==\"A\"'))\n",
    "print()\n",
    "print('Даные для группы B:')\n",
    "discribe_test(test_AB.query('group==\"B\"'))\n"
   ]
  },
  {
   "cell_type": "code",
   "execution_count": 18,
   "metadata": {},
   "outputs": [
    {
     "name": "stdout",
     "output_type": "stream",
     "text": [
      "Промоакция приходящаяся на время проведение теста\n"
     ]
    },
    {
     "data": {
      "text/html": [
       "<div>\n",
       "<style scoped>\n",
       "    .dataframe tbody tr th:only-of-type {\n",
       "        vertical-align: middle;\n",
       "    }\n",
       "\n",
       "    .dataframe tbody tr th {\n",
       "        vertical-align: top;\n",
       "    }\n",
       "\n",
       "    .dataframe thead th {\n",
       "        text-align: right;\n",
       "    }\n",
       "</style>\n",
       "<table border=\"1\" class=\"dataframe\">\n",
       "  <thead>\n",
       "    <tr style=\"text-align: right;\">\n",
       "      <th></th>\n",
       "      <th>name</th>\n",
       "      <th>regions</th>\n",
       "      <th>start_dt</th>\n",
       "      <th>finish_dt</th>\n",
       "      <th>group_ea</th>\n",
       "    </tr>\n",
       "  </thead>\n",
       "  <tbody>\n",
       "    <tr>\n",
       "      <th>0</th>\n",
       "      <td>Christmas&amp;New Year Promo</td>\n",
       "      <td>EU, N.America</td>\n",
       "      <td>2020-12-25</td>\n",
       "      <td>2021-01-03</td>\n",
       "      <td>EU</td>\n",
       "    </tr>\n",
       "  </tbody>\n",
       "</table>\n",
       "</div>"
      ],
      "text/plain": [
       "                       name        regions    start_dt   finish_dt group_ea\n",
       "0  Christmas&New Year Promo  EU, N.America  2020-12-25  2021-01-03       EU"
      ]
     },
     "execution_count": 18,
     "metadata": {},
     "output_type": "execute_result"
    }
   ],
   "source": [
    "marketing_events.query('regions==\"EU\"')\n",
    "marketing_events['group_ea']=marketing_events['regions'].str.split(',',expand=True)[0]\n",
    "print('Промоакция приходящаяся на время проведение теста')\n",
    "marketing_events.query('group_ea==\"EU\" and (\"2020-12-07\"<=start_dt<=\"2021-01-04\")')\n"
   ]
  },
  {
   "cell_type": "markdown",
   "metadata": {},
   "source": [
    "`Oхват теста` составил 15,83%, тз-устанавливало 15%.\n",
    "Проверка гипотез показала что охват 15,83 % имеет, статического значимое различия с ТЗ.`Показатель распределения между группами`, показал, что группы распределены неравномерно, доля попавших в группу А составляет 60%, стат тест показал различие между группами А и В. Это не есть хорошо, распределение должно быть близко к 50 %. На дату проведения теста попала `промоакция`, что может искажать резуьльтаты, лучше всего проводить тесты в те периоды, где не будет событий, способных повлиять на результаты."
   ]
  },
  {
   "cell_type": "markdown",
   "metadata": {},
   "source": [
    "### Распределение событий по дням."
   ]
  },
  {
   "cell_type": "code",
   "execution_count": 19,
   "metadata": {},
   "outputs": [
    {
     "data": {
      "image/png": "[encoded data removed]",
      "text/plain": [
       "<Figure size 864x360 with 1 Axes>"
      ]
     },
     "metadata": {
      "needs_background": "light"
     },
     "output_type": "display_data"
    }
   ],
   "source": [
    "test_AB['date']=test_AB['event_dt'].dt.date\n",
    "test_AB['date'].hist(bins=23,figsize=(12,5))\n",
    "plt.title('Распределение количества событий по дням')\n",
    "plt.xlabel('Дата')\n",
    "plt.ylabel('Количество событий')\n",
    "plt.show()"
   ]
  },
  {
   "cell_type": "code",
   "execution_count": 20,
   "metadata": {},
   "outputs": [
    {
     "data": {
      "image/png": "[encoded data removed]",
      "text/plain": [
       "<Figure size 864x360 with 1 Axes>"
      ]
     },
     "metadata": {
      "needs_background": "light"
     },
     "output_type": "display_data"
    }
   ],
   "source": [
    "test_AB['date']=test_AB.query('group==\"A\"')['event_dt'].dt.date\n",
    "test_AB['date'].hist(bins=23,figsize=(12,5),label='Группа А ')\n",
    "\n",
    "\n",
    "\n",
    "test_AB['date']=test_AB.query('group==\"B\"')['event_dt'].dt.date\n",
    "test_AB['date'].hist(bins=23,figsize=(12,5), label='Группа В')\n",
    "plt.title('Распределение количества событий по дням в разрезе групп')\n",
    "plt.xlabel('Дата')\n",
    "plt.ylabel('Количество событий')\n",
    "plt.legend()\n",
    "plt.show()"
   ]
  },
  {
   "cell_type": "markdown",
   "metadata": {},
   "source": [
    "Из распределения событий по группам видим, что в начале количество событий не сильно различались, но затем группа А выбилась вперед. Это говорит, о том, что в начале группы формирвались приблизительно одинаково, но потом, случилась какае то диспропорция, что количество юзеров группы А стало преобладать над группой В, а как следствие и количество событий тоже имеют различие."
   ]
  },
  {
   "cell_type": "markdown",
   "metadata": {},
   "source": [
    "### Исследование воронки событий"
   ]
  },
  {
   "cell_type": "code",
   "execution_count": 21,
   "metadata": {},
   "outputs": [],
   "source": [
    "def voronca(i,j):\n",
    "    event_name_count=(i.groupby('event_name').\n",
    "                  agg({'user_id':'count'}).reset_index().sort_values(by='user_id', ascending=False))\n",
    "    print('Воронка видов событий:')\n",
    "    display(event_name_count)\n",
    "    event_name_count_users=(i.groupby('event_name').\n",
    "                  agg({'user_id':'nunique'}).reset_index().sort_values(by='user_id', ascending=False)).reset_index()\n",
    "    print('Воронка  уникальных пользователей по событиям:')\n",
    "    display(event_name_count_users)\n",
    "    event_name_count_users['share']=(event_name_count_users['user_id'] / j*100).round(2)\n",
    "    print('Доля пользователей хоть раз совершивших событие от зарегистрированных:')\n",
    "    \n",
    "    d = {2: 3, 3: 2}\n",
    "    event_name_count_users = event_name_count_users.rename(d).sort_index()\n",
    "    display(event_name_count_users)\n",
    "    \n",
    "    conv=event_name_count_users[1:].reset_index()['user_id']\n",
    "    conv= conv.rename('count_users')\n",
    "    conv\n",
    "    conv1=event_name_count_users.reset_index()[['event_name','user_id']]\n",
    "    conv2=pd.concat([conv1, conv], axis=1)\n",
    "    conv2['conv']=(conv2['count_users'] / conv2['user_id']*100).round(2)\n",
    "    print('Доля перехода пользователей между событиями: ')\n",
    "    conv2[['event_name','conv']]\n",
    "    display(conv2)\n",
    "    print('Доля пользователей, которые доходят от регестрации  до оплаты: {:.2%}'\n",
    "      .format(conv2['user_id'][3] / j))"
   ]
  },
  {
   "cell_type": "code",
   "execution_count": 22,
   "metadata": {},
   "outputs": [],
   "source": [
    "# количество зарегестрированных в группах\n",
    "list_reg={'ab':6701, 'a':3824, 'b': 2877}\n"
   ]
  },
  {
   "cell_type": "markdown",
   "metadata": {},
   "source": [
    "#### Группа общая"
   ]
  },
  {
   "cell_type": "code",
   "execution_count": 23,
   "metadata": {},
   "outputs": [
    {
     "name": "stdout",
     "output_type": "stream",
     "text": [
      "Воронка видов событий:\n"
     ]
    },
    {
     "data": {
      "text/html": [
       "<div>\n",
       "<style scoped>\n",
       "    .dataframe tbody tr th:only-of-type {\n",
       "        vertical-align: middle;\n",
       "    }\n",
       "\n",
       "    .dataframe tbody tr th {\n",
       "        vertical-align: top;\n",
       "    }\n",
       "\n",
       "    .dataframe thead th {\n",
       "        text-align: right;\n",
       "    }\n",
       "</style>\n",
       "<table border=\"1\" class=\"dataframe\">\n",
       "  <thead>\n",
       "    <tr style=\"text-align: right;\">\n",
       "      <th></th>\n",
       "      <th>event_name</th>\n",
       "      <th>user_id</th>\n",
       "    </tr>\n",
       "  </thead>\n",
       "  <tbody>\n",
       "    <tr>\n",
       "      <th>0</th>\n",
       "      <td>login</td>\n",
       "      <td>10794</td>\n",
       "    </tr>\n",
       "    <tr>\n",
       "      <th>2</th>\n",
       "      <td>product_page</td>\n",
       "      <td>6684</td>\n",
       "    </tr>\n",
       "    <tr>\n",
       "      <th>3</th>\n",
       "      <td>purchase</td>\n",
       "      <td>3232</td>\n",
       "    </tr>\n",
       "    <tr>\n",
       "      <th>1</th>\n",
       "      <td>product_cart</td>\n",
       "      <td>3146</td>\n",
       "    </tr>\n",
       "  </tbody>\n",
       "</table>\n",
       "</div>"
      ],
      "text/plain": [
       "     event_name  user_id\n",
       "0         login    10794\n",
       "2  product_page     6684\n",
       "3      purchase     3232\n",
       "1  product_cart     3146"
      ]
     },
     "metadata": {},
     "output_type": "display_data"
    },
    {
     "name": "stdout",
     "output_type": "stream",
     "text": [
      "Воронка  уникальных пользователей по событиям:\n"
     ]
    },
    {
     "data": {
      "text/html": [
       "<div>\n",
       "<style scoped>\n",
       "    .dataframe tbody tr th:only-of-type {\n",
       "        vertical-align: middle;\n",
       "    }\n",
       "\n",
       "    .dataframe tbody tr th {\n",
       "        vertical-align: top;\n",
       "    }\n",
       "\n",
       "    .dataframe thead th {\n",
       "        text-align: right;\n",
       "    }\n",
       "</style>\n",
       "<table border=\"1\" class=\"dataframe\">\n",
       "  <thead>\n",
       "    <tr style=\"text-align: right;\">\n",
       "      <th></th>\n",
       "      <th>index</th>\n",
       "      <th>event_name</th>\n",
       "      <th>user_id</th>\n",
       "    </tr>\n",
       "  </thead>\n",
       "  <tbody>\n",
       "    <tr>\n",
       "      <th>0</th>\n",
       "      <td>0</td>\n",
       "      <td>login</td>\n",
       "      <td>3674</td>\n",
       "    </tr>\n",
       "    <tr>\n",
       "      <th>1</th>\n",
       "      <td>2</td>\n",
       "      <td>product_page</td>\n",
       "      <td>2303</td>\n",
       "    </tr>\n",
       "    <tr>\n",
       "      <th>2</th>\n",
       "      <td>3</td>\n",
       "      <td>purchase</td>\n",
       "      <td>1128</td>\n",
       "    </tr>\n",
       "    <tr>\n",
       "      <th>3</th>\n",
       "      <td>1</td>\n",
       "      <td>product_cart</td>\n",
       "      <td>1079</td>\n",
       "    </tr>\n",
       "  </tbody>\n",
       "</table>\n",
       "</div>"
      ],
      "text/plain": [
       "   index    event_name  user_id\n",
       "0      0         login     3674\n",
       "1      2  product_page     2303\n",
       "2      3      purchase     1128\n",
       "3      1  product_cart     1079"
      ]
     },
     "metadata": {},
     "output_type": "display_data"
    },
    {
     "name": "stdout",
     "output_type": "stream",
     "text": [
      "Доля пользователей хоть раз совершивших событие от зарегистрированных:\n"
     ]
    },
    {
     "data": {
      "text/html": [
       "<div>\n",
       "<style scoped>\n",
       "    .dataframe tbody tr th:only-of-type {\n",
       "        vertical-align: middle;\n",
       "    }\n",
       "\n",
       "    .dataframe tbody tr th {\n",
       "        vertical-align: top;\n",
       "    }\n",
       "\n",
       "    .dataframe thead th {\n",
       "        text-align: right;\n",
       "    }\n",
       "</style>\n",
       "<table border=\"1\" class=\"dataframe\">\n",
       "  <thead>\n",
       "    <tr style=\"text-align: right;\">\n",
       "      <th></th>\n",
       "      <th>index</th>\n",
       "      <th>event_name</th>\n",
       "      <th>user_id</th>\n",
       "      <th>share</th>\n",
       "    </tr>\n",
       "  </thead>\n",
       "  <tbody>\n",
       "    <tr>\n",
       "      <th>0</th>\n",
       "      <td>0</td>\n",
       "      <td>login</td>\n",
       "      <td>3674</td>\n",
       "      <td>54.83</td>\n",
       "    </tr>\n",
       "    <tr>\n",
       "      <th>1</th>\n",
       "      <td>2</td>\n",
       "      <td>product_page</td>\n",
       "      <td>2303</td>\n",
       "      <td>34.37</td>\n",
       "    </tr>\n",
       "    <tr>\n",
       "      <th>2</th>\n",
       "      <td>1</td>\n",
       "      <td>product_cart</td>\n",
       "      <td>1079</td>\n",
       "      <td>16.10</td>\n",
       "    </tr>\n",
       "    <tr>\n",
       "      <th>3</th>\n",
       "      <td>3</td>\n",
       "      <td>purchase</td>\n",
       "      <td>1128</td>\n",
       "      <td>16.83</td>\n",
       "    </tr>\n",
       "  </tbody>\n",
       "</table>\n",
       "</div>"
      ],
      "text/plain": [
       "   index    event_name  user_id  share\n",
       "0      0         login     3674  54.83\n",
       "1      2  product_page     2303  34.37\n",
       "2      1  product_cart     1079  16.10\n",
       "3      3      purchase     1128  16.83"
      ]
     },
     "metadata": {},
     "output_type": "display_data"
    },
    {
     "name": "stdout",
     "output_type": "stream",
     "text": [
      "Доля перехода пользователей между событиями: \n"
     ]
    },
    {
     "data": {
      "text/html": [
       "<div>\n",
       "<style scoped>\n",
       "    .dataframe tbody tr th:only-of-type {\n",
       "        vertical-align: middle;\n",
       "    }\n",
       "\n",
       "    .dataframe tbody tr th {\n",
       "        vertical-align: top;\n",
       "    }\n",
       "\n",
       "    .dataframe thead th {\n",
       "        text-align: right;\n",
       "    }\n",
       "</style>\n",
       "<table border=\"1\" class=\"dataframe\">\n",
       "  <thead>\n",
       "    <tr style=\"text-align: right;\">\n",
       "      <th></th>\n",
       "      <th>event_name</th>\n",
       "      <th>user_id</th>\n",
       "      <th>count_users</th>\n",
       "      <th>conv</th>\n",
       "    </tr>\n",
       "  </thead>\n",
       "  <tbody>\n",
       "    <tr>\n",
       "      <th>0</th>\n",
       "      <td>login</td>\n",
       "      <td>3674</td>\n",
       "      <td>2303.0</td>\n",
       "      <td>62.68</td>\n",
       "    </tr>\n",
       "    <tr>\n",
       "      <th>1</th>\n",
       "      <td>product_page</td>\n",
       "      <td>2303</td>\n",
       "      <td>1079.0</td>\n",
       "      <td>46.85</td>\n",
       "    </tr>\n",
       "    <tr>\n",
       "      <th>2</th>\n",
       "      <td>product_cart</td>\n",
       "      <td>1079</td>\n",
       "      <td>1128.0</td>\n",
       "      <td>104.54</td>\n",
       "    </tr>\n",
       "    <tr>\n",
       "      <th>3</th>\n",
       "      <td>purchase</td>\n",
       "      <td>1128</td>\n",
       "      <td>NaN</td>\n",
       "      <td>NaN</td>\n",
       "    </tr>\n",
       "  </tbody>\n",
       "</table>\n",
       "</div>"
      ],
      "text/plain": [
       "     event_name  user_id  count_users    conv\n",
       "0         login     3674       2303.0   62.68\n",
       "1  product_page     2303       1079.0   46.85\n",
       "2  product_cart     1079       1128.0  104.54\n",
       "3      purchase     1128          NaN     NaN"
      ]
     },
     "metadata": {},
     "output_type": "display_data"
    },
    {
     "name": "stdout",
     "output_type": "stream",
     "text": [
      "Доля пользователей, которые доходят от регестрации  до оплаты: 16.83%\n"
     ]
    }
   ],
   "source": [
    "\n",
    "voronca(test_AB,list_reg['ab'])"
   ]
  },
  {
   "cell_type": "markdown",
   "metadata": {},
   "source": [
    "#### Группа A"
   ]
  },
  {
   "cell_type": "code",
   "execution_count": 24,
   "metadata": {},
   "outputs": [
    {
     "name": "stdout",
     "output_type": "stream",
     "text": [
      "Воронка видов событий:\n"
     ]
    },
    {
     "data": {
      "text/html": [
       "<div>\n",
       "<style scoped>\n",
       "    .dataframe tbody tr th:only-of-type {\n",
       "        vertical-align: middle;\n",
       "    }\n",
       "\n",
       "    .dataframe tbody tr th {\n",
       "        vertical-align: top;\n",
       "    }\n",
       "\n",
       "    .dataframe thead th {\n",
       "        text-align: right;\n",
       "    }\n",
       "</style>\n",
       "<table border=\"1\" class=\"dataframe\">\n",
       "  <thead>\n",
       "    <tr style=\"text-align: right;\">\n",
       "      <th></th>\n",
       "      <th>event_name</th>\n",
       "      <th>user_id</th>\n",
       "    </tr>\n",
       "  </thead>\n",
       "  <tbody>\n",
       "    <tr>\n",
       "      <th>0</th>\n",
       "      <td>login</td>\n",
       "      <td>8337</td>\n",
       "    </tr>\n",
       "    <tr>\n",
       "      <th>2</th>\n",
       "      <td>product_page</td>\n",
       "      <td>5371</td>\n",
       "    </tr>\n",
       "    <tr>\n",
       "      <th>3</th>\n",
       "      <td>purchase</td>\n",
       "      <td>2598</td>\n",
       "    </tr>\n",
       "    <tr>\n",
       "      <th>1</th>\n",
       "      <td>product_cart</td>\n",
       "      <td>2495</td>\n",
       "    </tr>\n",
       "  </tbody>\n",
       "</table>\n",
       "</div>"
      ],
      "text/plain": [
       "     event_name  user_id\n",
       "0         login     8337\n",
       "2  product_page     5371\n",
       "3      purchase     2598\n",
       "1  product_cart     2495"
      ]
     },
     "metadata": {},
     "output_type": "display_data"
    },
    {
     "name": "stdout",
     "output_type": "stream",
     "text": [
      "Воронка  уникальных пользователей по событиям:\n"
     ]
    },
    {
     "data": {
      "text/html": [
       "<div>\n",
       "<style scoped>\n",
       "    .dataframe tbody tr th:only-of-type {\n",
       "        vertical-align: middle;\n",
       "    }\n",
       "\n",
       "    .dataframe tbody tr th {\n",
       "        vertical-align: top;\n",
       "    }\n",
       "\n",
       "    .dataframe thead th {\n",
       "        text-align: right;\n",
       "    }\n",
       "</style>\n",
       "<table border=\"1\" class=\"dataframe\">\n",
       "  <thead>\n",
       "    <tr style=\"text-align: right;\">\n",
       "      <th></th>\n",
       "      <th>index</th>\n",
       "      <th>event_name</th>\n",
       "      <th>user_id</th>\n",
       "    </tr>\n",
       "  </thead>\n",
       "  <tbody>\n",
       "    <tr>\n",
       "      <th>0</th>\n",
       "      <td>0</td>\n",
       "      <td>login</td>\n",
       "      <td>2747</td>\n",
       "    </tr>\n",
       "    <tr>\n",
       "      <th>1</th>\n",
       "      <td>2</td>\n",
       "      <td>product_page</td>\n",
       "      <td>1780</td>\n",
       "    </tr>\n",
       "    <tr>\n",
       "      <th>2</th>\n",
       "      <td>3</td>\n",
       "      <td>purchase</td>\n",
       "      <td>872</td>\n",
       "    </tr>\n",
       "    <tr>\n",
       "      <th>3</th>\n",
       "      <td>1</td>\n",
       "      <td>product_cart</td>\n",
       "      <td>824</td>\n",
       "    </tr>\n",
       "  </tbody>\n",
       "</table>\n",
       "</div>"
      ],
      "text/plain": [
       "   index    event_name  user_id\n",
       "0      0         login     2747\n",
       "1      2  product_page     1780\n",
       "2      3      purchase      872\n",
       "3      1  product_cart      824"
      ]
     },
     "metadata": {},
     "output_type": "display_data"
    },
    {
     "name": "stdout",
     "output_type": "stream",
     "text": [
      "Доля пользователей хоть раз совершивших событие от зарегистрированных:\n"
     ]
    },
    {
     "data": {
      "text/html": [
       "<div>\n",
       "<style scoped>\n",
       "    .dataframe tbody tr th:only-of-type {\n",
       "        vertical-align: middle;\n",
       "    }\n",
       "\n",
       "    .dataframe tbody tr th {\n",
       "        vertical-align: top;\n",
       "    }\n",
       "\n",
       "    .dataframe thead th {\n",
       "        text-align: right;\n",
       "    }\n",
       "</style>\n",
       "<table border=\"1\" class=\"dataframe\">\n",
       "  <thead>\n",
       "    <tr style=\"text-align: right;\">\n",
       "      <th></th>\n",
       "      <th>index</th>\n",
       "      <th>event_name</th>\n",
       "      <th>user_id</th>\n",
       "      <th>share</th>\n",
       "    </tr>\n",
       "  </thead>\n",
       "  <tbody>\n",
       "    <tr>\n",
       "      <th>0</th>\n",
       "      <td>0</td>\n",
       "      <td>login</td>\n",
       "      <td>2747</td>\n",
       "      <td>71.84</td>\n",
       "    </tr>\n",
       "    <tr>\n",
       "      <th>1</th>\n",
       "      <td>2</td>\n",
       "      <td>product_page</td>\n",
       "      <td>1780</td>\n",
       "      <td>46.55</td>\n",
       "    </tr>\n",
       "    <tr>\n",
       "      <th>2</th>\n",
       "      <td>1</td>\n",
       "      <td>product_cart</td>\n",
       "      <td>824</td>\n",
       "      <td>21.55</td>\n",
       "    </tr>\n",
       "    <tr>\n",
       "      <th>3</th>\n",
       "      <td>3</td>\n",
       "      <td>purchase</td>\n",
       "      <td>872</td>\n",
       "      <td>22.80</td>\n",
       "    </tr>\n",
       "  </tbody>\n",
       "</table>\n",
       "</div>"
      ],
      "text/plain": [
       "   index    event_name  user_id  share\n",
       "0      0         login     2747  71.84\n",
       "1      2  product_page     1780  46.55\n",
       "2      1  product_cart      824  21.55\n",
       "3      3      purchase      872  22.80"
      ]
     },
     "metadata": {},
     "output_type": "display_data"
    },
    {
     "name": "stdout",
     "output_type": "stream",
     "text": [
      "Доля перехода пользователей между событиями: \n"
     ]
    },
    {
     "data": {
      "text/html": [
       "<div>\n",
       "<style scoped>\n",
       "    .dataframe tbody tr th:only-of-type {\n",
       "        vertical-align: middle;\n",
       "    }\n",
       "\n",
       "    .dataframe tbody tr th {\n",
       "        vertical-align: top;\n",
       "    }\n",
       "\n",
       "    .dataframe thead th {\n",
       "        text-align: right;\n",
       "    }\n",
       "</style>\n",
       "<table border=\"1\" class=\"dataframe\">\n",
       "  <thead>\n",
       "    <tr style=\"text-align: right;\">\n",
       "      <th></th>\n",
       "      <th>event_name</th>\n",
       "      <th>user_id</th>\n",
       "      <th>count_users</th>\n",
       "      <th>conv</th>\n",
       "    </tr>\n",
       "  </thead>\n",
       "  <tbody>\n",
       "    <tr>\n",
       "      <th>0</th>\n",
       "      <td>login</td>\n",
       "      <td>2747</td>\n",
       "      <td>1780.0</td>\n",
       "      <td>64.80</td>\n",
       "    </tr>\n",
       "    <tr>\n",
       "      <th>1</th>\n",
       "      <td>product_page</td>\n",
       "      <td>1780</td>\n",
       "      <td>824.0</td>\n",
       "      <td>46.29</td>\n",
       "    </tr>\n",
       "    <tr>\n",
       "      <th>2</th>\n",
       "      <td>product_cart</td>\n",
       "      <td>824</td>\n",
       "      <td>872.0</td>\n",
       "      <td>105.83</td>\n",
       "    </tr>\n",
       "    <tr>\n",
       "      <th>3</th>\n",
       "      <td>purchase</td>\n",
       "      <td>872</td>\n",
       "      <td>NaN</td>\n",
       "      <td>NaN</td>\n",
       "    </tr>\n",
       "  </tbody>\n",
       "</table>\n",
       "</div>"
      ],
      "text/plain": [
       "     event_name  user_id  count_users    conv\n",
       "0         login     2747       1780.0   64.80\n",
       "1  product_page     1780        824.0   46.29\n",
       "2  product_cart      824        872.0  105.83\n",
       "3      purchase      872          NaN     NaN"
      ]
     },
     "metadata": {},
     "output_type": "display_data"
    },
    {
     "name": "stdout",
     "output_type": "stream",
     "text": [
      "Доля пользователей, которые доходят от регестрации  до оплаты: 22.80%\n"
     ]
    }
   ],
   "source": [
    "voronca(test_AB.query('group==\"A\"')\n",
    "        ,list_reg['a'])"
   ]
  },
  {
   "cell_type": "markdown",
   "metadata": {},
   "source": [
    "#### Группа B"
   ]
  },
  {
   "cell_type": "code",
   "execution_count": 25,
   "metadata": {},
   "outputs": [
    {
     "name": "stdout",
     "output_type": "stream",
     "text": [
      "Воронка видов событий:\n"
     ]
    },
    {
     "data": {
      "text/html": [
       "<div>\n",
       "<style scoped>\n",
       "    .dataframe tbody tr th:only-of-type {\n",
       "        vertical-align: middle;\n",
       "    }\n",
       "\n",
       "    .dataframe tbody tr th {\n",
       "        vertical-align: top;\n",
       "    }\n",
       "\n",
       "    .dataframe thead th {\n",
       "        text-align: right;\n",
       "    }\n",
       "</style>\n",
       "<table border=\"1\" class=\"dataframe\">\n",
       "  <thead>\n",
       "    <tr style=\"text-align: right;\">\n",
       "      <th></th>\n",
       "      <th>event_name</th>\n",
       "      <th>user_id</th>\n",
       "    </tr>\n",
       "  </thead>\n",
       "  <tbody>\n",
       "    <tr>\n",
       "      <th>0</th>\n",
       "      <td>login</td>\n",
       "      <td>2457</td>\n",
       "    </tr>\n",
       "    <tr>\n",
       "      <th>2</th>\n",
       "      <td>product_page</td>\n",
       "      <td>1313</td>\n",
       "    </tr>\n",
       "    <tr>\n",
       "      <th>1</th>\n",
       "      <td>product_cart</td>\n",
       "      <td>651</td>\n",
       "    </tr>\n",
       "    <tr>\n",
       "      <th>3</th>\n",
       "      <td>purchase</td>\n",
       "      <td>634</td>\n",
       "    </tr>\n",
       "  </tbody>\n",
       "</table>\n",
       "</div>"
      ],
      "text/plain": [
       "     event_name  user_id\n",
       "0         login     2457\n",
       "2  product_page     1313\n",
       "1  product_cart      651\n",
       "3      purchase      634"
      ]
     },
     "metadata": {},
     "output_type": "display_data"
    },
    {
     "name": "stdout",
     "output_type": "stream",
     "text": [
      "Воронка  уникальных пользователей по событиям:\n"
     ]
    },
    {
     "data": {
      "text/html": [
       "<div>\n",
       "<style scoped>\n",
       "    .dataframe tbody tr th:only-of-type {\n",
       "        vertical-align: middle;\n",
       "    }\n",
       "\n",
       "    .dataframe tbody tr th {\n",
       "        vertical-align: top;\n",
       "    }\n",
       "\n",
       "    .dataframe thead th {\n",
       "        text-align: right;\n",
       "    }\n",
       "</style>\n",
       "<table border=\"1\" class=\"dataframe\">\n",
       "  <thead>\n",
       "    <tr style=\"text-align: right;\">\n",
       "      <th></th>\n",
       "      <th>index</th>\n",
       "      <th>event_name</th>\n",
       "      <th>user_id</th>\n",
       "    </tr>\n",
       "  </thead>\n",
       "  <tbody>\n",
       "    <tr>\n",
       "      <th>0</th>\n",
       "      <td>0</td>\n",
       "      <td>login</td>\n",
       "      <td>927</td>\n",
       "    </tr>\n",
       "    <tr>\n",
       "      <th>1</th>\n",
       "      <td>2</td>\n",
       "      <td>product_page</td>\n",
       "      <td>523</td>\n",
       "    </tr>\n",
       "    <tr>\n",
       "      <th>2</th>\n",
       "      <td>3</td>\n",
       "      <td>purchase</td>\n",
       "      <td>256</td>\n",
       "    </tr>\n",
       "    <tr>\n",
       "      <th>3</th>\n",
       "      <td>1</td>\n",
       "      <td>product_cart</td>\n",
       "      <td>255</td>\n",
       "    </tr>\n",
       "  </tbody>\n",
       "</table>\n",
       "</div>"
      ],
      "text/plain": [
       "   index    event_name  user_id\n",
       "0      0         login      927\n",
       "1      2  product_page      523\n",
       "2      3      purchase      256\n",
       "3      1  product_cart      255"
      ]
     },
     "metadata": {},
     "output_type": "display_data"
    },
    {
     "name": "stdout",
     "output_type": "stream",
     "text": [
      "Доля пользователей хоть раз совершивших событие от зарегистрированных:\n"
     ]
    },
    {
     "data": {
      "text/html": [
       "<div>\n",
       "<style scoped>\n",
       "    .dataframe tbody tr th:only-of-type {\n",
       "        vertical-align: middle;\n",
       "    }\n",
       "\n",
       "    .dataframe tbody tr th {\n",
       "        vertical-align: top;\n",
       "    }\n",
       "\n",
       "    .dataframe thead th {\n",
       "        text-align: right;\n",
       "    }\n",
       "</style>\n",
       "<table border=\"1\" class=\"dataframe\">\n",
       "  <thead>\n",
       "    <tr style=\"text-align: right;\">\n",
       "      <th></th>\n",
       "      <th>index</th>\n",
       "      <th>event_name</th>\n",
       "      <th>user_id</th>\n",
       "      <th>share</th>\n",
       "    </tr>\n",
       "  </thead>\n",
       "  <tbody>\n",
       "    <tr>\n",
       "      <th>0</th>\n",
       "      <td>0</td>\n",
       "      <td>login</td>\n",
       "      <td>927</td>\n",
       "      <td>32.22</td>\n",
       "    </tr>\n",
       "    <tr>\n",
       "      <th>1</th>\n",
       "      <td>2</td>\n",
       "      <td>product_page</td>\n",
       "      <td>523</td>\n",
       "      <td>18.18</td>\n",
       "    </tr>\n",
       "    <tr>\n",
       "      <th>2</th>\n",
       "      <td>1</td>\n",
       "      <td>product_cart</td>\n",
       "      <td>255</td>\n",
       "      <td>8.86</td>\n",
       "    </tr>\n",
       "    <tr>\n",
       "      <th>3</th>\n",
       "      <td>3</td>\n",
       "      <td>purchase</td>\n",
       "      <td>256</td>\n",
       "      <td>8.90</td>\n",
       "    </tr>\n",
       "  </tbody>\n",
       "</table>\n",
       "</div>"
      ],
      "text/plain": [
       "   index    event_name  user_id  share\n",
       "0      0         login      927  32.22\n",
       "1      2  product_page      523  18.18\n",
       "2      1  product_cart      255   8.86\n",
       "3      3      purchase      256   8.90"
      ]
     },
     "metadata": {},
     "output_type": "display_data"
    },
    {
     "name": "stdout",
     "output_type": "stream",
     "text": [
      "Доля перехода пользователей между событиями: \n"
     ]
    },
    {
     "data": {
      "text/html": [
       "<div>\n",
       "<style scoped>\n",
       "    .dataframe tbody tr th:only-of-type {\n",
       "        vertical-align: middle;\n",
       "    }\n",
       "\n",
       "    .dataframe tbody tr th {\n",
       "        vertical-align: top;\n",
       "    }\n",
       "\n",
       "    .dataframe thead th {\n",
       "        text-align: right;\n",
       "    }\n",
       "</style>\n",
       "<table border=\"1\" class=\"dataframe\">\n",
       "  <thead>\n",
       "    <tr style=\"text-align: right;\">\n",
       "      <th></th>\n",
       "      <th>event_name</th>\n",
       "      <th>user_id</th>\n",
       "      <th>count_users</th>\n",
       "      <th>conv</th>\n",
       "    </tr>\n",
       "  </thead>\n",
       "  <tbody>\n",
       "    <tr>\n",
       "      <th>0</th>\n",
       "      <td>login</td>\n",
       "      <td>927</td>\n",
       "      <td>523.0</td>\n",
       "      <td>56.42</td>\n",
       "    </tr>\n",
       "    <tr>\n",
       "      <th>1</th>\n",
       "      <td>product_page</td>\n",
       "      <td>523</td>\n",
       "      <td>255.0</td>\n",
       "      <td>48.76</td>\n",
       "    </tr>\n",
       "    <tr>\n",
       "      <th>2</th>\n",
       "      <td>product_cart</td>\n",
       "      <td>255</td>\n",
       "      <td>256.0</td>\n",
       "      <td>100.39</td>\n",
       "    </tr>\n",
       "    <tr>\n",
       "      <th>3</th>\n",
       "      <td>purchase</td>\n",
       "      <td>256</td>\n",
       "      <td>NaN</td>\n",
       "      <td>NaN</td>\n",
       "    </tr>\n",
       "  </tbody>\n",
       "</table>\n",
       "</div>"
      ],
      "text/plain": [
       "     event_name  user_id  count_users    conv\n",
       "0         login      927        523.0   56.42\n",
       "1  product_page      523        255.0   48.76\n",
       "2  product_cart      255        256.0  100.39\n",
       "3      purchase      256          NaN     NaN"
      ]
     },
     "metadata": {},
     "output_type": "display_data"
    },
    {
     "name": "stdout",
     "output_type": "stream",
     "text": [
      "Доля пользователей, которые доходят от регестрации  до оплаты: 8.90%\n"
     ]
    }
   ],
   "source": [
    "voronca(test_AB.query('group==\"B\"')\n",
    "        ,list_reg['b'])"
   ]
  },
  {
   "cell_type": "markdown",
   "metadata": {},
   "source": [
    "*Воронка активности пользователей по событиям:**\n",
    "\n",
    "событие|количество пользователей A| количество пользователей В| доля перехода на следующий шаг A|доля перехода на следующий шаг B\n",
    "--|--|--|--|--\n",
    "**Regestration**|3824|2877|61.91|32.41\n",
    "\t**login:**|\t2747| 927|64.80|56,42\n",
    "\t**product_page:**|\t1780| 523|46.29|48,76\n",
    "\t**product_cart:**|\t824| 255|105.83|100.39\n",
    "\t**purchase:**|\t872| 256|не считается|не считается\n",
    "    \n",
    "   \n",
    "    \n",
    "- Доля пользователей, которые доходят от регестрации  до оплаты в группе A: 22.80%\n",
    "- Доля пользователей, которые доходят от регестрации  до оплаты в группе В: 10,11%\n",
    "\n",
    "Из всех высчитанных метрик видим, что группа В уступает группе А, тоесть мы неулучшили, а даже ухудшили все показатели,осталось проверить стат различие по этапам с помощью стат теста.\n",
    "\n",
    "Из воронки продаж видим, что у нас воронка событий не строгая, и сразу например можно перейти к оплате товара, минуя корзину."
   ]
  },
  {
   "cell_type": "markdown",
   "metadata": {},
   "source": [
    "#### Зет тест конверсий событий"
   ]
  },
  {
   "cell_type": "code",
   "execution_count": 26,
   "metadata": {},
   "outputs": [],
   "source": [
    "z_test_data=test_AB.pivot_table(index='group',columns='event_name',values='user_id',aggfunc='nunique').reset_index()\n",
    "z_test_data['reg_user']= [test_clear_user.query('group==\"A\"').shape[0],test_clear_user.query('group==\"B\"').shape[0]]\n"
   ]
  },
  {
   "cell_type": "code",
   "execution_count": 27,
   "metadata": {},
   "outputs": [],
   "source": [
    "def test_conv(event,reg_user,alpha):\n",
    "   \n",
    "    pvalue = proportions_ztest(event, reg_user, value = 0)[1]\n",
    "    print('p-value: {}'.format(pvalue))\n",
    "    if pvalue > alpha: \n",
    "        print('Нулевая гипотеза не отвергается: между группами A и B нет различий в % конверсии')\n",
    "    else:\n",
    "        print('Нулевая гипотеза отвергается: между группами A и B есть различие в % конверсии')"
   ]
  },
  {
   "cell_type": "code",
   "execution_count": 28,
   "metadata": {},
   "outputs": [
    {
     "name": "stdout",
     "output_type": "stream",
     "text": [
      "p-value: 3.123087693406295e-228\n",
      "Нулевая гипотеза отвергается: между группами A и B есть различие в % конверсии\n",
      "p-value: 1.95915226847382e-44\n",
      "Нулевая гипотеза отвергается: между группами A и B есть различие в % конверсии\n",
      "p-value: 2.0521014454928e-129\n",
      "Нулевая гипотеза отвергается: между группами A и B есть различие в % конверсии\n",
      "p-value: 3.044251010416302e-51\n",
      "Нулевая гипотеза отвергается: между группами A и B есть различие в % конверсии\n"
     ]
    }
   ],
   "source": [
    "# поправки альфа взялия 4, так как проводим 4 разных теста\n",
    "test_conv(z_test_data['login'],z_test_data['reg_user'],0.05/4)\n",
    "test_conv(z_test_data['product_cart'],z_test_data['reg_user'],0.05/4)\n",
    "test_conv(z_test_data['product_page'],z_test_data['reg_user'],0.05/4)\n",
    "test_conv(z_test_data['purchase'],z_test_data['reg_user'],0.05/4)"
   ]
  },
  {
   "cell_type": "markdown",
   "metadata": {},
   "source": [
    "Вывод\n",
    "\n",
    "`Даные для общей группы А и В:`\n",
    "- Количество событий в исследуемых данных: 23194\n",
    "- Количество пользователей в логе: 3569\n",
    "- Количестов событий в среднем приходящихся на одного пользовтеля: 6\n",
    "- Количесво событий на одного пользователя усредненных медианой: 6\n",
    "- Минимальная дата: 2020-12-07 00:05:57\n",
    "- Максимальная дата: 2020-12-29 23:38:29\n",
    "\n",
    "`Даные для группы А:`\n",
    "- Количество событий в исследуемых данных: 18801\n",
    "- Количество пользователей в логе: 2747\n",
    "- Количестов событий в среднем приходящихся на одного пользовтеля: 7\n",
    "- Количесво событий на одного пользователя усредненных медианой: 6\n",
    "- Минимальная дата: 2020-12-07 00:14:01\n",
    "- Максимальная дата: 2020-12-29 23:38:29\n",
    "\n",
    "`Даные для группы B:`\n",
    "- Количество событий в исследуемых данных: 4393\n",
    "- Количество пользователей в логе: 822\n",
    "- Количестов событий в среднем приходящихся на одного пользовтеля: 5\n",
    "- Количесво событий на одного пользователя усредненных медианой: 4\n",
    "- Минимальная дата: 2020-12-07 00:05:57\n",
    "- Максимальная дата: 2020-12-29 23:24:34\n",
    "\n",
    "\n",
    "*Воронка активности пользователей по событиям:**\n",
    "\n",
    "событие|количество пользователей A| количество пользователей В| доля перехода на следующий шаг A|доля перехода на следующий шаг B\n",
    "--|--|--|--|--\n",
    "**Regestration**|3824|2877|61.91|32.41\n",
    "\t**login:**|\t2747| 927|64.80|56,42\n",
    "\t**product_page:**|\t1780| 523|46.29|48,76\n",
    "\t**product_cart:**|\t824| 255|105.83|100.39\n",
    "\t**purchase:**|\t872| 256|не считается|не считается\n",
    "    \n",
    "   \n",
    "    \n",
    "- Доля пользователей, которые доходят от регестрации  до оплаты в группе A: 22.80%\n",
    "- Доля пользователей, которые доходят от регестрации  до оплаты в группе В: 10,11%\n",
    "\n",
    "\n",
    "`Тест можно признать неудачным, ввиду того что полученные целевые показатели достигнуты не были, конверсия в группу В ухудшилась, что потвердили стат тесты, так же стоит заметить, что при запуске теста была допущена диспрапорция групп.`"
   ]
  }
 ],
 "metadata": {
  "kernelspec": {
   "display_name": "Python 3",
   "language": "python",
   "name": "python3"
  },
  "language_info": {
   "codemirror_mode": {
    "name": "ipython",
    "version": 3
   },
   "file_extension": ".py",
   "mimetype": "text/x-python",
   "name": "python",
   "nbconvert_exporter": "python",
   "pygments_lexer": "ipython3",
   "version": "3.8.5"
  },
  "toc": {
   "base_numbering": 1,
   "nav_menu": {},
   "number_sections": true,
   "sideBar": true,
   "skip_h1_title": false,
   "title_cell": "Table of Contents",
   "title_sidebar": "Contents",
   "toc_cell": false,
   "toc_position": {
    "height": "calc(100% - 180px)",
    "left": "10px",
    "top": "150px",
    "width": "280px"
   },
   "toc_section_display": true,
   "toc_window_display": true
  }
 },
 "nbformat": 4,
 "nbformat_minor": 4
}
