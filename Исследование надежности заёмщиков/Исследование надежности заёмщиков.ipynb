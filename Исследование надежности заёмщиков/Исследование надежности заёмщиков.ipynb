{
 "cells": [
  {
   "cell_type": "markdown",
   "metadata": {},
   "source": [
    "<div class=\"alert alert-success\">\n",
    "<h2> Комментарий ревьюера 2</h2>\n",
    "\n",
    "Привет еще раз. Спасибо, что доделал работу. Оформление комментариев по работе сохраняется. Только обозначим, что это вторая итерация. \n",
    "\n",
    "</div>"
   ]
  },
  {
   "cell_type": "markdown",
   "metadata": {},
   "source": [
    "<div class=\"alert alert-success\">\n",
    "<h2> Комментарий ревьюера</h2>\n",
    "\n",
    "Привет! Спасибо, что прислал задание:) Поздравляю с первым сданным проектом. Меня зовут Слепцов Артем и я буду проверять твой проект) Ты проделал большую работу над проектом, однако его еще можно улучшить. Будет здорово, если ты, надеюсь, не против, если я буду на ты, будешь отвечать на комментарии и участвовать в диалоге. \n",
    "\n",
    "Мои комментарии обозначены пометкой **Комментарий ревьюера**. Далее в файле ты сможешь найти их в похожих ячейках (если фон комментария <font color=green>зелёный</font> - всё сделано правильно. Рекомендации укажу таким же цветом; <font color=orange>оранжевый</font> - некритичные замечания. Если таких замечаний меньше трех - проект может быть принят без их отработки; <font color=red>красный</font> - нужно переделать). Не удаляй эти комментарии и постарайся учесть их в ходе выполнения данного проекта. \n",
    "\n",
    "</div>"
   ]
  },
  {
   "cell_type": "markdown",
   "metadata": {},
   "source": [
    "## Исследование надёжности заёмщиков"
   ]
  },
  {
   "cell_type": "markdown",
   "metadata": {},
   "source": [
    "Заказчик — кредитный отдел банка. Нужно разобраться, влияет ли семейное положение и количество детей клиента на факт погашения кредита в срок. Входные данные от банка — статистика о платёжеспособности клиентов.\n",
    "\n",
    "Результаты исследования будут учтены при построении модели **кредитного скоринга** — специальной системы, которая оценивает способность потенциального заёмщика вернуть кредит банку."
   ]
  },
  {
   "cell_type": "markdown",
   "metadata": {},
   "source": [
    "<div class=\"alert alert-warning\">\n",
    "<h2> Комментарий ревьюера</h2>\n",
    "\n",
    "Правильно, что есть краткое вступление в работу, описание того, что надо делать. В работе следует приводить краткий план того, что надо сделать(если этот план имеется), а также информацию о входных данных: какие столбцы есть в таблице, их названия и какую информацию они несут. Также название работы лучше отображать в отдельной ячейке и делать крупный шрифт (заголовок). Так работа выглядит презентабельно. Подробнее смотри [методичку](https://www.notion.so/35d9c2f32ffa42f3b17010737aedca4b) по оформлению проектов.\n",
    "\n",
    "</div>"
   ]
  },
  {
   "cell_type": "markdown",
   "metadata": {},
   "source": [
    "### Шаг 1. Откройте файл с данными и изучите общую информацию. "
   ]
  },
  {
   "cell_type": "code",
   "execution_count": 1,
   "metadata": {
    "scrolled": true
   },
   "outputs": [],
   "source": [
    "import pandas as pd"
   ]
  },
  {
   "cell_type": "code",
   "execution_count": 2,
   "metadata": {},
   "outputs": [
    {
     "data": {
      "text/html": [
       "<div>\n",
       "<style scoped>\n",
       "    .dataframe tbody tr th:only-of-type {\n",
       "        vertical-align: middle;\n",
       "    }\n",
       "\n",
       "    .dataframe tbody tr th {\n",
       "        vertical-align: top;\n",
       "    }\n",
       "\n",
       "    .dataframe thead th {\n",
       "        text-align: right;\n",
       "    }\n",
       "</style>\n",
       "<table border=\"1\" class=\"dataframe\">\n",
       "  <thead>\n",
       "    <tr style=\"text-align: right;\">\n",
       "      <th></th>\n",
       "      <th>children</th>\n",
       "      <th>days_employed</th>\n",
       "      <th>dob_years</th>\n",
       "      <th>education</th>\n",
       "      <th>education_id</th>\n",
       "      <th>family_status</th>\n",
       "      <th>family_status_id</th>\n",
       "      <th>gender</th>\n",
       "      <th>income_type</th>\n",
       "      <th>debt</th>\n",
       "      <th>total_income</th>\n",
       "      <th>purpose</th>\n",
       "    </tr>\n",
       "  </thead>\n",
       "  <tbody>\n",
       "    <tr>\n",
       "      <td>0</td>\n",
       "      <td>1</td>\n",
       "      <td>-8437.673028</td>\n",
       "      <td>42</td>\n",
       "      <td>высшее</td>\n",
       "      <td>0</td>\n",
       "      <td>женат / замужем</td>\n",
       "      <td>0</td>\n",
       "      <td>F</td>\n",
       "      <td>сотрудник</td>\n",
       "      <td>0</td>\n",
       "      <td>253875.639453</td>\n",
       "      <td>покупка жилья</td>\n",
       "    </tr>\n",
       "    <tr>\n",
       "      <td>1</td>\n",
       "      <td>1</td>\n",
       "      <td>-4024.803754</td>\n",
       "      <td>36</td>\n",
       "      <td>среднее</td>\n",
       "      <td>1</td>\n",
       "      <td>женат / замужем</td>\n",
       "      <td>0</td>\n",
       "      <td>F</td>\n",
       "      <td>сотрудник</td>\n",
       "      <td>0</td>\n",
       "      <td>112080.014102</td>\n",
       "      <td>приобретение автомобиля</td>\n",
       "    </tr>\n",
       "    <tr>\n",
       "      <td>2</td>\n",
       "      <td>0</td>\n",
       "      <td>-5623.422610</td>\n",
       "      <td>33</td>\n",
       "      <td>Среднее</td>\n",
       "      <td>1</td>\n",
       "      <td>женат / замужем</td>\n",
       "      <td>0</td>\n",
       "      <td>M</td>\n",
       "      <td>сотрудник</td>\n",
       "      <td>0</td>\n",
       "      <td>145885.952297</td>\n",
       "      <td>покупка жилья</td>\n",
       "    </tr>\n",
       "    <tr>\n",
       "      <td>3</td>\n",
       "      <td>3</td>\n",
       "      <td>-4124.747207</td>\n",
       "      <td>32</td>\n",
       "      <td>среднее</td>\n",
       "      <td>1</td>\n",
       "      <td>женат / замужем</td>\n",
       "      <td>0</td>\n",
       "      <td>M</td>\n",
       "      <td>сотрудник</td>\n",
       "      <td>0</td>\n",
       "      <td>267628.550329</td>\n",
       "      <td>дополнительное образование</td>\n",
       "    </tr>\n",
       "    <tr>\n",
       "      <td>4</td>\n",
       "      <td>0</td>\n",
       "      <td>340266.072047</td>\n",
       "      <td>53</td>\n",
       "      <td>среднее</td>\n",
       "      <td>1</td>\n",
       "      <td>гражданский брак</td>\n",
       "      <td>1</td>\n",
       "      <td>F</td>\n",
       "      <td>пенсионер</td>\n",
       "      <td>0</td>\n",
       "      <td>158616.077870</td>\n",
       "      <td>сыграть свадьбу</td>\n",
       "    </tr>\n",
       "    <tr>\n",
       "      <td>...</td>\n",
       "      <td>...</td>\n",
       "      <td>...</td>\n",
       "      <td>...</td>\n",
       "      <td>...</td>\n",
       "      <td>...</td>\n",
       "      <td>...</td>\n",
       "      <td>...</td>\n",
       "      <td>...</td>\n",
       "      <td>...</td>\n",
       "      <td>...</td>\n",
       "      <td>...</td>\n",
       "      <td>...</td>\n",
       "    </tr>\n",
       "    <tr>\n",
       "      <td>21520</td>\n",
       "      <td>1</td>\n",
       "      <td>-4529.316663</td>\n",
       "      <td>43</td>\n",
       "      <td>среднее</td>\n",
       "      <td>1</td>\n",
       "      <td>гражданский брак</td>\n",
       "      <td>1</td>\n",
       "      <td>F</td>\n",
       "      <td>компаньон</td>\n",
       "      <td>0</td>\n",
       "      <td>224791.862382</td>\n",
       "      <td>операции с жильем</td>\n",
       "    </tr>\n",
       "    <tr>\n",
       "      <td>21521</td>\n",
       "      <td>0</td>\n",
       "      <td>343937.404131</td>\n",
       "      <td>67</td>\n",
       "      <td>среднее</td>\n",
       "      <td>1</td>\n",
       "      <td>женат / замужем</td>\n",
       "      <td>0</td>\n",
       "      <td>F</td>\n",
       "      <td>пенсионер</td>\n",
       "      <td>0</td>\n",
       "      <td>155999.806512</td>\n",
       "      <td>сделка с автомобилем</td>\n",
       "    </tr>\n",
       "    <tr>\n",
       "      <td>21522</td>\n",
       "      <td>1</td>\n",
       "      <td>-2113.346888</td>\n",
       "      <td>38</td>\n",
       "      <td>среднее</td>\n",
       "      <td>1</td>\n",
       "      <td>гражданский брак</td>\n",
       "      <td>1</td>\n",
       "      <td>M</td>\n",
       "      <td>сотрудник</td>\n",
       "      <td>1</td>\n",
       "      <td>89672.561153</td>\n",
       "      <td>недвижимость</td>\n",
       "    </tr>\n",
       "    <tr>\n",
       "      <td>21523</td>\n",
       "      <td>3</td>\n",
       "      <td>-3112.481705</td>\n",
       "      <td>38</td>\n",
       "      <td>среднее</td>\n",
       "      <td>1</td>\n",
       "      <td>женат / замужем</td>\n",
       "      <td>0</td>\n",
       "      <td>M</td>\n",
       "      <td>сотрудник</td>\n",
       "      <td>1</td>\n",
       "      <td>244093.050500</td>\n",
       "      <td>на покупку своего автомобиля</td>\n",
       "    </tr>\n",
       "    <tr>\n",
       "      <td>21524</td>\n",
       "      <td>2</td>\n",
       "      <td>-1984.507589</td>\n",
       "      <td>40</td>\n",
       "      <td>среднее</td>\n",
       "      <td>1</td>\n",
       "      <td>женат / замужем</td>\n",
       "      <td>0</td>\n",
       "      <td>F</td>\n",
       "      <td>сотрудник</td>\n",
       "      <td>0</td>\n",
       "      <td>82047.418899</td>\n",
       "      <td>на покупку автомобиля</td>\n",
       "    </tr>\n",
       "  </tbody>\n",
       "</table>\n",
       "<p>21525 rows × 12 columns</p>\n",
       "</div>"
      ],
      "text/plain": [
       "       children  days_employed  dob_years education  education_id  \\\n",
       "0             1   -8437.673028         42    высшее             0   \n",
       "1             1   -4024.803754         36   среднее             1   \n",
       "2             0   -5623.422610         33   Среднее             1   \n",
       "3             3   -4124.747207         32   среднее             1   \n",
       "4             0  340266.072047         53   среднее             1   \n",
       "...         ...            ...        ...       ...           ...   \n",
       "21520         1   -4529.316663         43   среднее             1   \n",
       "21521         0  343937.404131         67   среднее             1   \n",
       "21522         1   -2113.346888         38   среднее             1   \n",
       "21523         3   -3112.481705         38   среднее             1   \n",
       "21524         2   -1984.507589         40   среднее             1   \n",
       "\n",
       "          family_status  family_status_id gender income_type  debt  \\\n",
       "0       женат / замужем                 0      F   сотрудник     0   \n",
       "1       женат / замужем                 0      F   сотрудник     0   \n",
       "2       женат / замужем                 0      M   сотрудник     0   \n",
       "3       женат / замужем                 0      M   сотрудник     0   \n",
       "4      гражданский брак                 1      F   пенсионер     0   \n",
       "...                 ...               ...    ...         ...   ...   \n",
       "21520  гражданский брак                 1      F   компаньон     0   \n",
       "21521   женат / замужем                 0      F   пенсионер     0   \n",
       "21522  гражданский брак                 1      M   сотрудник     1   \n",
       "21523   женат / замужем                 0      M   сотрудник     1   \n",
       "21524   женат / замужем                 0      F   сотрудник     0   \n",
       "\n",
       "        total_income                       purpose  \n",
       "0      253875.639453                 покупка жилья  \n",
       "1      112080.014102       приобретение автомобиля  \n",
       "2      145885.952297                 покупка жилья  \n",
       "3      267628.550329    дополнительное образование  \n",
       "4      158616.077870               сыграть свадьбу  \n",
       "...              ...                           ...  \n",
       "21520  224791.862382             операции с жильем  \n",
       "21521  155999.806512          сделка с автомобилем  \n",
       "21522   89672.561153                  недвижимость  \n",
       "21523  244093.050500  на покупку своего автомобиля  \n",
       "21524   82047.418899         на покупку автомобиля  \n",
       "\n",
       "[21525 rows x 12 columns]"
      ]
     },
     "execution_count": 2,
     "metadata": {},
     "output_type": "execute_result"
    }
   ],
   "source": [
    "dt = pd.read_csv('/datasets/data.csv')\n",
    "dt"
   ]
  },
  {
   "cell_type": "markdown",
   "metadata": {},
   "source": [
    "### Вывод"
   ]
  },
  {
   "cell_type": "markdown",
   "metadata": {},
   "source": [
    "Из открытой таблицы видно:"
   ]
  },
  {
   "cell_type": "markdown",
   "metadata": {},
   "source": [
    "**1**. что есть все данные которые позволят ответить на cледующие вопросы:\n",
    "\n",
    "- есть ли зависимость между наличием детей и возвратом кредита в срок?\n",
    "- есть ли зависимость между семейным положением и возвратом кредита в срок?\n",
    "- есть ли зависимость между уровнем дохода и возвратом кредита в срок?\n",
    "- как разные цели кредита влияют на его возврат в срок?\n",
    "\n",
    "**2.** заголовки таблицы заполнены корректно;\n",
    "\n",
    "**3.** интересущие нас стоблбцы : children,  family_status,  income_type,  debt,  purprose."
   ]
  },
  {
   "cell_type": "markdown",
   "metadata": {},
   "source": [
    "<div class=\"alert alert-success\">\n",
    "<h2> Комментарий ревьюера </h2>\n",
    "\n",
    "У меня имеется несколько комментариев по данному шагу:\n",
    "- считывание данных и импорт необходимых библиотек лучше проводить в разных ячейках;\n",
    "- следует давать переменным осознанные имена. Таблица про клиентов - название надо бы выбрать соответствующее;\n",
    "- Подумай также о возможных причинах появления пропусков, а также о том, являются ли они случайными или нет.\n",
    "\n",
    "Первый взгляд на таблицу выполнен.\n",
    "\n",
    "</div>"
   ]
  },
  {
   "cell_type": "markdown",
   "metadata": {},
   "source": [
    "### Шаг 2. Предобработка данных"
   ]
  },
  {
   "cell_type": "markdown",
   "metadata": {},
   "source": [
    "### Обработка пропусков"
   ]
  },
  {
   "cell_type": "code",
   "execution_count": 3,
   "metadata": {
    "scrolled": true
   },
   "outputs": [
    {
     "name": "stdout",
     "output_type": "stream",
     "text": [
      "<class 'pandas.core.frame.DataFrame'>\n",
      "RangeIndex: 21525 entries, 0 to 21524\n",
      "Data columns (total 12 columns):\n",
      "children            21525 non-null int64\n",
      "days_employed       19351 non-null float64\n",
      "dob_years           21525 non-null int64\n",
      "education           21525 non-null object\n",
      "education_id        21525 non-null int64\n",
      "family_status       21525 non-null object\n",
      "family_status_id    21525 non-null int64\n",
      "gender              21525 non-null object\n",
      "income_type         21525 non-null object\n",
      "debt                21525 non-null int64\n",
      "total_income        19351 non-null float64\n",
      "purpose             21525 non-null object\n",
      "dtypes: float64(2), int64(5), object(5)\n",
      "memory usage: 2.0+ MB\n"
     ]
    }
   ],
   "source": [
    "dt.info() # данные по таблице"
   ]
  },
  {
   "cell_type": "code",
   "execution_count": 4,
   "metadata": {
    "scrolled": false
   },
   "outputs": [
    {
     "data": {
      "text/plain": [
       "children               0\n",
       "days_employed       2174\n",
       "dob_years              0\n",
       "education              0\n",
       "education_id           0\n",
       "family_status          0\n",
       "family_status_id       0\n",
       "gender                 0\n",
       "income_type            0\n",
       "debt                   0\n",
       "total_income        2174\n",
       "purpose                0\n",
       "dtype: int64"
      ]
     },
     "execution_count": 4,
     "metadata": {},
     "output_type": "execute_result"
    }
   ],
   "source": [
    "dt.isnull().sum() # количество пропусок\n"
   ]
  },
  {
   "cell_type": "code",
   "execution_count": 5,
   "metadata": {},
   "outputs": [],
   "source": [
    "dt['days_employed'] = dt['days_employed'].fillna(0) # заменяю пропущенные значения в столбце трудовой стаж на 0\n"
   ]
  },
  {
   "cell_type": "code",
   "execution_count": 6,
   "metadata": {},
   "outputs": [
    {
     "data": {
      "text/html": [
       "<div>\n",
       "<style scoped>\n",
       "    .dataframe tbody tr th:only-of-type {\n",
       "        vertical-align: middle;\n",
       "    }\n",
       "\n",
       "    .dataframe tbody tr th {\n",
       "        vertical-align: top;\n",
       "    }\n",
       "\n",
       "    .dataframe thead th {\n",
       "        text-align: right;\n",
       "    }\n",
       "</style>\n",
       "<table border=\"1\" class=\"dataframe\">\n",
       "  <thead>\n",
       "    <tr style=\"text-align: right;\">\n",
       "      <th></th>\n",
       "      <th>children</th>\n",
       "      <th>days_employed</th>\n",
       "      <th>dob_years</th>\n",
       "      <th>education</th>\n",
       "      <th>education_id</th>\n",
       "      <th>family_status</th>\n",
       "      <th>family_status_id</th>\n",
       "      <th>gender</th>\n",
       "      <th>income_type</th>\n",
       "      <th>debt</th>\n",
       "      <th>total_income</th>\n",
       "      <th>purpose</th>\n",
       "    </tr>\n",
       "  </thead>\n",
       "  <tbody>\n",
       "  </tbody>\n",
       "</table>\n",
       "</div>"
      ],
      "text/plain": [
       "Empty DataFrame\n",
       "Columns: [children, days_employed, dob_years, education, education_id, family_status, family_status_id, gender, income_type, debt, total_income, purpose]\n",
       "Index: []"
      ]
     },
     "execution_count": 6,
     "metadata": {},
     "output_type": "execute_result"
    }
   ],
   "source": [
    "dt[dt['total_income']== 0] # (так как столбик доход является определяющим для исследования, проверяю нет ли\n",
    "# целенаправленно заполнненных нулевых значений\n"
   ]
  },
  {
   "cell_type": "code",
   "execution_count": 7,
   "metadata": {},
   "outputs": [],
   "source": [
    "dt['total_income'] = dt['total_income'].fillna(0) # заменю пропущенные значения на 0\n"
   ]
  },
  {
   "cell_type": "code",
   "execution_count": 8,
   "metadata": {},
   "outputs": [
    {
     "name": "stdout",
     "output_type": "stream",
     "text": [
      "<class 'pandas.core.frame.DataFrame'>\n",
      "RangeIndex: 21525 entries, 0 to 21524\n",
      "Data columns (total 12 columns):\n",
      "children            21525 non-null int64\n",
      "days_employed       21525 non-null float64\n",
      "dob_years           21525 non-null int64\n",
      "education           21525 non-null object\n",
      "education_id        21525 non-null int64\n",
      "family_status       21525 non-null object\n",
      "family_status_id    21525 non-null int64\n",
      "gender              21525 non-null object\n",
      "income_type         21525 non-null object\n",
      "debt                21525 non-null int64\n",
      "total_income        21525 non-null float64\n",
      "purpose             21525 non-null object\n",
      "dtypes: float64(2), int64(5), object(5)\n",
      "memory usage: 2.0+ MB\n"
     ]
    }
   ],
   "source": [
    "dt.info() # проверяю данные по таблице после проведенных замен\n"
   ]
  },
  {
   "cell_type": "code",
   "execution_count": 9,
   "metadata": {},
   "outputs": [
    {
     "data": {
      "text/plain": [
       "income_type\n",
       "безработный        2.027225e+05\n",
       "в декрете          5.382913e+04\n",
       "госслужащий        9.104515e+05\n",
       "компаньон          2.265604e+06\n",
       "пенсионер          7.351033e+05\n",
       "предприниматель    4.991631e+05\n",
       "сотрудник          1.726276e+06\n",
       "студент            9.820163e+04\n",
       "Name: total_income, dtype: float64"
      ]
     },
     "execution_count": 9,
     "metadata": {},
     "output_type": "execute_result"
    }
   ],
   "source": [
    "dt.groupby('income_type')['total_income'].max() # проверил максилмальные доходы по категориям, чтоб выбрать тип заполнения пропуска"
   ]
  },
  {
   "cell_type": "code",
   "execution_count": 10,
   "metadata": {},
   "outputs": [
    {
     "name": "stdout",
     "output_type": "stream",
     "text": [
      "income_type\n",
      "безработный        131339.751676\n",
      "в декрете           53829.130729\n",
      "госслужащий        139034.452386\n",
      "компаньон          162401.351555\n",
      "пенсионер          110179.690761\n",
      "предприниматель    249581.572474\n",
      "сотрудник          133546.457238\n",
      "студент             98201.625314\n",
      "Name: total_income, dtype: float64\n"
     ]
    }
   ],
   "source": [
    "midian_incom_type = dt.groupby('income_type')['total_income'].median() # Ищем медиану по группам типа занятости\n",
    "print (midian_incom_type)\n",
    "def mid_incom(quares):# функция которая возвращает значение медианы, в зависисомости от запроса (тип занятости)\n",
    "    if quares == 'безработный':\n",
    "        dt.loc[(dt['total_income'] == 0) & (dt['income_type'] == 'безработный'), 'total_income'] = midian_incom_type[0] \n",
    "    if quares == 'в декрете':\n",
    "        dt.loc[(dt['total_income'] == 0) & (dt['income_type'] == 'в декрете'), 'total_income'] = midian_incom_type[1]\n",
    "    if quares == 'госслужащий':\n",
    "        dt.loc[(dt['total_income'] == 0) & (dt['income_type'] == 'госслужащий'), 'total_income'] = midian_incom_type[2]\n",
    "    if quares == 'компаньон':\n",
    "        dt.loc[(dt['total_income'] == 0) & (dt['income_type'] == 'компаньон'), 'total_income'] = midian_incom_type[3]\n",
    "    if quares == 'предприниматель':\n",
    "        dt.loc[(dt['total_income'] == 0) & (dt['income_type'] == 'предприниматель'), 'total_income'] = midian_incom_type[5]\n",
    "    if quares == 'студент':\n",
    "        dt.loc[(dt['total_income'] == 0) & (dt['income_type'] == 'студент'), 'total_income'] = midian_incom_type[7]\n",
    "    if quares == 'пенсионер':\n",
    "        dt.loc[(dt['total_income'] == 0) & (dt['income_type'] == 'пенсионер'), 'total_income'] = midian_incom_type[4]\n",
    "    if quares == 'сотрудник':\n",
    "        dt.loc[(dt['total_income'] == 0) & (dt['income_type'] == 'сотрудник'), 'total_income'] = midian_incom_type[6]\n",
    "\n",
    "\n"
   ]
  },
  {
   "cell_type": "code",
   "execution_count": 11,
   "metadata": {},
   "outputs": [
    {
     "data": {
      "text/html": [
       "<div>\n",
       "<style scoped>\n",
       "    .dataframe tbody tr th:only-of-type {\n",
       "        vertical-align: middle;\n",
       "    }\n",
       "\n",
       "    .dataframe tbody tr th {\n",
       "        vertical-align: top;\n",
       "    }\n",
       "\n",
       "    .dataframe thead th {\n",
       "        text-align: right;\n",
       "    }\n",
       "</style>\n",
       "<table border=\"1\" class=\"dataframe\">\n",
       "  <thead>\n",
       "    <tr style=\"text-align: right;\">\n",
       "      <th></th>\n",
       "      <th>children</th>\n",
       "      <th>days_employed</th>\n",
       "      <th>dob_years</th>\n",
       "      <th>education</th>\n",
       "      <th>education_id</th>\n",
       "      <th>family_status</th>\n",
       "      <th>family_status_id</th>\n",
       "      <th>gender</th>\n",
       "      <th>income_type</th>\n",
       "      <th>debt</th>\n",
       "      <th>total_income</th>\n",
       "      <th>purpose</th>\n",
       "    </tr>\n",
       "  </thead>\n",
       "  <tbody>\n",
       "  </tbody>\n",
       "</table>\n",
       "</div>"
      ],
      "text/plain": [
       "Empty DataFrame\n",
       "Columns: [children, days_employed, dob_years, education, education_id, family_status, family_status_id, gender, income_type, debt, total_income, purpose]\n",
       "Index: []"
      ]
     },
     "execution_count": 11,
     "metadata": {},
     "output_type": "execute_result"
    }
   ],
   "source": [
    "dt[(dt['income_type']== 'безработный') & (dt['total_income']== 0)] # у категории безработный была очень высокая медиана, проверил ли есть\n",
    "# нулевые значения в этой категории, замена которых могла сильно исказить значения, их не оказалось"
   ]
  },
  {
   "cell_type": "code",
   "execution_count": 12,
   "metadata": {},
   "outputs": [
    {
     "data": {
      "text/plain": [
       "0        None\n",
       "1        None\n",
       "2        None\n",
       "3        None\n",
       "4        None\n",
       "         ... \n",
       "21520    None\n",
       "21521    None\n",
       "21522    None\n",
       "21523    None\n",
       "21524    None\n",
       "Name: income_type, Length: 21525, dtype: object"
      ]
     },
     "execution_count": 12,
     "metadata": {},
     "output_type": "execute_result"
    }
   ],
   "source": [
    "dt['income_type'].apply(mid_incom)"
   ]
  },
  {
   "cell_type": "code",
   "execution_count": 13,
   "metadata": {},
   "outputs": [
    {
     "data": {
      "text/html": [
       "<div>\n",
       "<style scoped>\n",
       "    .dataframe tbody tr th:only-of-type {\n",
       "        vertical-align: middle;\n",
       "    }\n",
       "\n",
       "    .dataframe tbody tr th {\n",
       "        vertical-align: top;\n",
       "    }\n",
       "\n",
       "    .dataframe thead th {\n",
       "        text-align: right;\n",
       "    }\n",
       "</style>\n",
       "<table border=\"1\" class=\"dataframe\">\n",
       "  <thead>\n",
       "    <tr style=\"text-align: right;\">\n",
       "      <th></th>\n",
       "      <th>children</th>\n",
       "      <th>days_employed</th>\n",
       "      <th>dob_years</th>\n",
       "      <th>education</th>\n",
       "      <th>education_id</th>\n",
       "      <th>family_status</th>\n",
       "      <th>family_status_id</th>\n",
       "      <th>gender</th>\n",
       "      <th>income_type</th>\n",
       "      <th>debt</th>\n",
       "      <th>total_income</th>\n",
       "      <th>purpose</th>\n",
       "    </tr>\n",
       "  </thead>\n",
       "  <tbody>\n",
       "  </tbody>\n",
       "</table>\n",
       "</div>"
      ],
      "text/plain": [
       "Empty DataFrame\n",
       "Columns: [children, days_employed, dob_years, education, education_id, family_status, family_status_id, gender, income_type, debt, total_income, purpose]\n",
       "Index: []"
      ]
     },
     "execution_count": 13,
     "metadata": {},
     "output_type": "execute_result"
    }
   ],
   "source": [
    "#dt.loc[(dt['total_income'] == 0) & (dt['income_type'] == 'сотрудник'), 'total_income'] = mid_incom('сотрудник') # заменяю пропуски\n",
    "#dt.loc[(dt['total_income'] == 0) & (dt['income_type'] == 'компаньон'), 'total_income'] = mid_incom('компаньон')\n",
    "#dt.loc[(dt['total_income'] == 0) & (dt['income_type'] == 'пенсионер'), 'total_income'] = mid_incom('пенсионер')\n",
    "#dt.loc[(dt['total_income'] == 0) & (dt['income_type'] == 'госслужащий'), 'total_income'] = mid_incom('госслужащий')\n",
    "#dt.loc[(dt['total_income'] == 0) & (dt['income_type'] == 'предприниматель'), 'total_income'] = mid_incom('предприниматель')\n",
    "#dt.loc[(dt['total_income'] == 0) & (dt['income_type'] == 'безработный'), 'total_income'] = mid_incom('безработный')\n",
    "#dt.loc[(dt['total_income'] == 0) & (dt['income_type'] == 'в декрете'), 'total_income'] = mid_incom('в декрете')\n",
    "#dt['income_type'].apply(mid_incom)\n",
    "\n",
    "dt[dt['total_income'] == 0] # проверил замену значений\n",
    "    \n",
    "    \n"
   ]
  },
  {
   "cell_type": "markdown",
   "metadata": {},
   "source": [
    "<div class=\"alert alert-success\">\n",
    "<h2> Комментарий ревьюера 2</h2>\n",
    "\n",
    "Пустые таблицы на печать лучше не выводить. Стоит вывести размеры получаемой таблицы и показать, что число строк в ней равно 0. В этом тебе поможет аттрибут таблицы shape.\n",
    "\n",
    "</div>"
   ]
  },
  {
   "cell_type": "markdown",
   "metadata": {},
   "source": [
    "### Вывод"
   ]
  },
  {
   "cell_type": "markdown",
   "metadata": {},
   "source": [
    "В столбцах трудовой стаж и ежемесячный доход были обнаружены пропуски, они были количественными переменными.\n",
    "\n",
    "Пропуски могли возникнуть по следующим причинам:\n",
    "респонденты не указали данные, \n",
    "могли возникнуть технические проблемы,\n",
    "человеческий фактор (ошибки сотрудников обрабатыващих данные).\n",
    "\n",
    "Данные по трудовому стажу не требуются для ответа на поставленые задачи и в них есть артефакты в виде отрицательных значений, поэтому пропуски можно заменть на 0 не переживая за результат.\n",
    "Данные по ежемесячному доходу важный показатель в исследовании. Пропуски  заполнил медианой расчитанной по типам занятости. Решил использовать этот метод, так как расчет по средней завысил бы средний доход в виду наличия больших крайних значений. Расчет же  медианы по группам позволил более точно опредилить доход согласно типа занятости."
   ]
  },
  {
   "cell_type": "markdown",
   "metadata": {},
   "source": [
    "<div class=\"alert alert-warning\">\n",
    "<h2> Комментарий ревьюера </h2>\n",
    "\n",
    "Параметр стажа в анализе мы не используем, поэтому такая его обработка вполне подойдет. Для дохода также все сделано вполне логично. Тип занятости влияет на получаемый доход. Но процесс стоит автоматизировать. Твою функцию mid_incom вполне можно доработать и сделать так, чтобы она сразу заполняла пропуски в данных.\n",
    "\n",
    "</div>"
   ]
  },
  {
   "cell_type": "markdown",
   "metadata": {},
   "source": [
    "<div class=\"alert alert-success\">\n",
    "<h2> Комментарий ревьюера 2</h2>\n",
    "\n",
    "Отлично, код несколько оптимизирован. Однако лучше сделать так, чтобы тип занятости определялся автоматически при заполнении. В этом тебе поможет цикл по уникальным типам занятости. В нем мы можем рассчитывать медианный доход по данному типу занятости и сразу же заполнять пропуски. \n",
    "\n",
    "</div>"
   ]
  },
  {
   "cell_type": "markdown",
   "metadata": {},
   "source": [
    "### Замена типа данных"
   ]
  },
  {
   "cell_type": "code",
   "execution_count": 14,
   "metadata": {
    "scrolled": true
   },
   "outputs": [
    {
     "name": "stdout",
     "output_type": "stream",
     "text": [
      "<class 'pandas.core.frame.DataFrame'>\n",
      "RangeIndex: 21525 entries, 0 to 21524\n",
      "Data columns (total 12 columns):\n",
      "children            21525 non-null int64\n",
      "days_employed       21525 non-null int64\n",
      "dob_years           21525 non-null int64\n",
      "education           21525 non-null object\n",
      "education_id        21525 non-null int64\n",
      "family_status       21525 non-null object\n",
      "family_status_id    21525 non-null int64\n",
      "gender              21525 non-null object\n",
      "income_type         21525 non-null object\n",
      "debt                21525 non-null int64\n",
      "total_income        21525 non-null int64\n",
      "purpose             21525 non-null object\n",
      "dtypes: int64(7), object(5)\n",
      "memory usage: 2.0+ MB\n"
     ]
    }
   ],
   "source": [
    "dt['total_income'] = dt['total_income'].astype(int) # изменяю формать на целочислленный\n",
    "dt['days_employed'] = dt['days_employed'].astype(int)\n",
    "dt.info()\n"
   ]
  },
  {
   "cell_type": "markdown",
   "metadata": {},
   "source": [
    "### Вывод"
   ]
  },
  {
   "cell_type": "markdown",
   "metadata": {},
   "source": [
    "Интересующий столбец для исследования имел вещественный формат flot поэтому для изменения формата на целочисленный intепger подходил метод .astype()"
   ]
  },
  {
   "cell_type": "markdown",
   "metadata": {},
   "source": [
    "<div class=\"alert alert-success\">\n",
    "<h2> Комментарий ревьюера </h2>\n",
    "\n",
    "Исходя из общей информации о таблице мы видим, что два столбца имеют вещественный тип данных, который и надо заменить на целочисленный. Эта замена произведена только для дохода. Стаж также стоит сделать целочисленным показателем. Также хорошо бы освоить метод to_numeric() для будущих работ. \n",
    "\n",
    "</div>"
   ]
  },
  {
   "cell_type": "markdown",
   "metadata": {},
   "source": [
    "### Обработка дубликатов"
   ]
  },
  {
   "cell_type": "code",
   "execution_count": 15,
   "metadata": {},
   "outputs": [
    {
     "data": {
      "text/plain": [
       "54"
      ]
     },
     "execution_count": 15,
     "metadata": {},
     "output_type": "execute_result"
    }
   ],
   "source": [
    "dt.duplicated().sum() #считаю полные дубликаты"
   ]
  },
  {
   "cell_type": "code",
   "execution_count": 16,
   "metadata": {},
   "outputs": [
    {
     "data": {
      "text/plain": [
       "0"
      ]
     },
     "execution_count": 16,
     "metadata": {},
     "output_type": "execute_result"
    }
   ],
   "source": [
    "dt = dt.drop_duplicates().reset_index(drop = True) # удаляю полные дубликаты\n",
    "dt.duplicated().sum()"
   ]
  },
  {
   "cell_type": "code",
   "execution_count": 17,
   "metadata": {},
   "outputs": [
    {
     "data": {
      "text/plain": [
       "женат / замужем          12344\n",
       "гражданский брак          4163\n",
       "Не женат / не замужем     2810\n",
       "в разводе                 1195\n",
       "вдовец / вдова             959\n",
       "Name: family_status, dtype: int64"
      ]
     },
     "execution_count": 17,
     "metadata": {},
     "output_type": "execute_result"
    }
   ],
   "source": [
    "dt['family_status'].value_counts() # проверил  имена"
   ]
  },
  {
   "cell_type": "code",
   "execution_count": 18,
   "metadata": {},
   "outputs": [
    {
     "data": {
      "text/plain": [
       " 0     14107\n",
       " 1      4809\n",
       " 2      2052\n",
       " 3       330\n",
       " 20       76\n",
       "-1        47\n",
       " 4        41\n",
       " 5         9\n",
       "Name: children, dtype: int64"
      ]
     },
     "execution_count": 18,
     "metadata": {},
     "output_type": "execute_result"
    }
   ],
   "source": [
    "dt['children'].value_counts() # проверил  имена"
   ]
  },
  {
   "cell_type": "code",
   "execution_count": 19,
   "metadata": {},
   "outputs": [
    {
     "data": {
      "text/plain": [
       "0    19730\n",
       "1     1741\n",
       "Name: debt, dtype: int64"
      ]
     },
     "execution_count": 19,
     "metadata": {},
     "output_type": "execute_result"
    }
   ],
   "source": [
    "dt['debt'].value_counts()"
   ]
  },
  {
   "cell_type": "code",
   "execution_count": 20,
   "metadata": {},
   "outputs": [
    {
     "data": {
      "text/plain": [
       "0"
      ]
     },
     "execution_count": 20,
     "metadata": {},
     "output_type": "execute_result"
    }
   ],
   "source": [
    "dt['children'].value_counts() # проверил на артефакты столбец дети\n",
    "dt[dt['children']== -1]['debt'].sum() # посмотрел многоли артефактов попадает на просроченную задолженность\n",
    "dt.loc[dt['children']== -1, 'children'] = 1 # заменил артефакт, на значение\n",
    "dt.loc[dt['children']== 20, 'children'] = 2 # заменил артефакт, на значение\n",
    "dt[dt['children']== -1]['debt'].sum()"
   ]
  },
  {
   "cell_type": "code",
   "execution_count": 21,
   "metadata": {},
   "outputs": [
    {
     "data": {
      "text/html": [
       "<div>\n",
       "<style scoped>\n",
       "    .dataframe tbody tr th:only-of-type {\n",
       "        vertical-align: middle;\n",
       "    }\n",
       "\n",
       "    .dataframe tbody tr th {\n",
       "        vertical-align: top;\n",
       "    }\n",
       "\n",
       "    .dataframe thead th {\n",
       "        text-align: right;\n",
       "    }\n",
       "</style>\n",
       "<table border=\"1\" class=\"dataframe\">\n",
       "  <thead>\n",
       "    <tr style=\"text-align: right;\">\n",
       "      <th></th>\n",
       "      <th>children</th>\n",
       "      <th>days_employed</th>\n",
       "      <th>dob_years</th>\n",
       "      <th>education</th>\n",
       "      <th>education_id</th>\n",
       "      <th>family_status</th>\n",
       "      <th>family_status_id</th>\n",
       "      <th>gender</th>\n",
       "      <th>income_type</th>\n",
       "      <th>debt</th>\n",
       "      <th>total_income</th>\n",
       "      <th>purpose</th>\n",
       "    </tr>\n",
       "  </thead>\n",
       "  <tbody>\n",
       "  </tbody>\n",
       "</table>\n",
       "</div>"
      ],
      "text/plain": [
       "Empty DataFrame\n",
       "Columns: [children, days_employed, dob_years, education, education_id, family_status, family_status_id, gender, income_type, debt, total_income, purpose]\n",
       "Index: []"
      ]
     },
     "execution_count": 21,
     "metadata": {},
     "output_type": "execute_result"
    }
   ],
   "source": [
    "dt[dt['total_income']<0] # проверил столбец ежемесячный доход на отсутсвие артефактов в виде отрицательных значений"
   ]
  },
  {
   "cell_type": "code",
   "execution_count": 22,
   "metadata": {},
   "outputs": [
    {
     "data": {
      "text/plain": [
       "свадьба                                   793\n",
       "на проведение свадьбы                     773\n",
       "сыграть свадьбу                           769\n",
       "операции с недвижимостью                  675\n",
       "покупка коммерческой недвижимости         662\n",
       "покупка жилья для сдачи                   652\n",
       "операции с жильем                         652\n",
       "операции с коммерческой недвижимостью     650\n",
       "покупка жилья                             646\n",
       "жилье                                     646\n",
       "покупка жилья для семьи                   638\n",
       "строительство собственной недвижимости    635\n",
       "недвижимость                              633\n",
       "операции со своей недвижимостью           627\n",
       "строительство жилой недвижимости          625\n",
       "покупка недвижимости                      621\n",
       "покупка своего жилья                      620\n",
       "строительство недвижимости                619\n",
       "ремонт жилью                              607\n",
       "покупка жилой недвижимости                606\n",
       "на покупку своего автомобиля              505\n",
       "заняться высшим образованием              496\n",
       "автомобиль                                494\n",
       "сделка с подержанным автомобилем          486\n",
       "свой автомобиль                           479\n",
       "на покупку подержанного автомобиля        478\n",
       "автомобили                                478\n",
       "на покупку автомобиля                     472\n",
       "приобретение автомобиля                   461\n",
       "дополнительное образование                460\n",
       "сделка с автомобилем                      455\n",
       "высшее образование                        452\n",
       "образование                               447\n",
       "получение дополнительного образования     447\n",
       "получение образования                     442\n",
       "профильное образование                    436\n",
       "получение высшего образования             426\n",
       "заняться образованием                     408\n",
       "Name: purpose, dtype: int64"
      ]
     },
     "execution_count": 22,
     "metadata": {},
     "output_type": "execute_result"
    }
   ],
   "source": [
    "dt['purpose'].value_counts()\n"
   ]
  },
  {
   "cell_type": "markdown",
   "metadata": {},
   "source": [
    "### Вывод"
   ]
  },
  {
   "cell_type": "markdown",
   "metadata": {},
   "source": [
    "В первую очередь я использовал метод для выявления и удаления полных дубликатов. Затем проверил интересующие столбцы с категориальными данными на наличие повторов (количественные столбцы не рассматривал так как наличие дубликатов там допустимо). Из проверенных столбцов дубликаты были выявлены только в столбце цели, но бороться с ними мы буду в разделе лемматизация.\n",
    "Причины возникновения дубликатов могут быть следующие:\n",
    "- полные дубликаты могли возникнуть из за технических неисправностей, либо несовершенства программного обеспечения позволяющего подгружать однотипные данные,\n",
    "- дубликаты же в целях возникли из за возможности свободного ответа на вопрос а не выбора определенной категории"
   ]
  },
  {
   "cell_type": "markdown",
   "metadata": {},
   "source": [
    "<div class=\"alert alert-success\">\n",
    "<h2> Комментарий ревьюера </h2>\n",
    "\n",
    "Дубликаты вызывают смещение финальных результатов, поэтому их и надо удалять. Конечно, в данных нет уникального идентификатора, однако надо уметь удалять дубликаты. Метод drop_duplicates() использован верно.\n",
    "    \n",
    "Здорово, что ты также заметил и испарвил ошибки в данных.\n",
    "\n",
    "</div>"
   ]
  },
  {
   "cell_type": "markdown",
   "metadata": {},
   "source": [
    "### Лемматизация"
   ]
  },
  {
   "cell_type": "code",
   "execution_count": 23,
   "metadata": {},
   "outputs": [
    {
     "data": {
      "text/plain": [
       "'свадьба, недвижимость, ремонт, жилье, автомобиль, образование\\n'"
      ]
     },
     "execution_count": 23,
     "metadata": {},
     "output_type": "execute_result"
    }
   ],
   "source": [
    "from pymystem3 import Mystem\n",
    "m = Mystem()\n",
    "('').join(m.lemmatize('свадьба, недвижимости, ремонт, жилье, автомобиль, образования')) # выделил целевые слова для категоризации\n",
    "                    "
   ]
  },
  {
   "cell_type": "code",
   "execution_count": 24,
   "metadata": {},
   "outputs": [
    {
     "data": {
      "text/plain": [
       "операции с недвижимостью    10207\n",
       "приобретение автомобиля      4308\n",
       "образование                  4014\n",
       "свадьба                      2335\n",
       "ремонт жилья                  607\n",
       "Name: purpose_change, dtype: int64"
      ]
     },
     "execution_count": 24,
     "metadata": {},
     "output_type": "execute_result"
    }
   ],
   "source": [
    "def changes(purpose):\n",
    "    words = m.lemmatize(purpose)\n",
    "    if 'свадьба' in words:        \n",
    "        return 'свадьба'\n",
    "    if 'недвижимость' in words:        \n",
    "        return 'операции с недвижимостью'\n",
    "    if 'жилье' in words:\n",
    "        if 'ремонт' in words:\n",
    "            return 'ремонт жилья'\n",
    "        return 'операции с недвижимостью'\n",
    "    if 'автомобиль' in words:        \n",
    "        return 'приобретение автомобиля' \n",
    "    if 'образование' in words:        \n",
    "        return 'образование'\n",
    "    \n",
    "dt['purpose_change'] = dt['purpose'].apply(changes)\n",
    "dt['purpose_change'].value_counts()       \n",
    "    \n",
    "    \n"
   ]
  },
  {
   "cell_type": "markdown",
   "metadata": {},
   "source": [
    "### Вывод"
   ]
  },
  {
   "cell_type": "markdown",
   "metadata": {},
   "source": [
    "Выделил основные группы целей: свадьба, недвижимости, ремонт, автомобиль, образования. Согласно выделенным ключевым словам провел лемматизацию с помощью pymystem3"
   ]
  },
  {
   "cell_type": "markdown",
   "metadata": {},
   "source": [
    "<div class=\"alert alert-success\">\n",
    "<h2> Комментарий ревьюера </h2>\n",
    "\n",
    "Круто, ты сделал самую сложную часть проекта. Использовал нужные методы, и даже провел группировку с помощью собственной функции. Выбор лемм обоснован при помощи подсчета часто встречающихся слов. \n",
    "\n",
    "</div>"
   ]
  },
  {
   "cell_type": "markdown",
   "metadata": {},
   "source": [
    "### Категоризация данных"
   ]
  },
  {
   "cell_type": "code",
   "execution_count": 25,
   "metadata": {},
   "outputs": [
    {
     "data": {
      "text/plain": [
       "(140116.0, 162401.0]      2765\n",
       "(20666.999, 83890.0]      2685\n",
       "(254213.75, 2265604.0]    2684\n",
       "(195767.5, 254213.75]     2684\n",
       "(127580.25, 140116.0]     2684\n",
       "(107654.5, 127580.25]     2684\n",
       "(83890.0, 107654.5]       2683\n",
       "(162401.0, 195767.5]      2602\n",
       "Name: group_income, dtype: int64"
      ]
     },
     "execution_count": 25,
     "metadata": {},
     "output_type": "execute_result"
    }
   ],
   "source": [
    "dt['group_income'] = pd.qcut(dt['total_income'], 8) #разбиваю на группы\n",
    "dt['group_income'].value_counts() "
   ]
  },
  {
   "cell_type": "markdown",
   "metadata": {},
   "source": [
    "<div class=\"alert alert-success\">\n",
    "<h2> Комментарий ревьюера 2</h2>\n",
    "\n",
    "Здорово, что ты освоил данный метод категоризации. Так группы получаются одинакового размера, и мы можем по ним построить выводы. \n",
    "\n",
    "</div>"
   ]
  },
  {
   "cell_type": "code",
   "execution_count": 26,
   "metadata": {},
   "outputs": [
    {
     "name": "stdout",
     "output_type": "stream",
     "text": [
      "   family_status_id          family_status\n",
      "0                 0        женат / замужем\n",
      "1                 1       гражданский брак\n",
      "2                 2         вдовец / вдова\n",
      "3                 3              в разводе\n",
      "4                 4  Не женат / не замужем\n"
     ]
    },
    {
     "data": {
      "text/html": [
       "<div>\n",
       "<style scoped>\n",
       "    .dataframe tbody tr th:only-of-type {\n",
       "        vertical-align: middle;\n",
       "    }\n",
       "\n",
       "    .dataframe tbody tr th {\n",
       "        vertical-align: top;\n",
       "    }\n",
       "\n",
       "    .dataframe thead th {\n",
       "        text-align: right;\n",
       "    }\n",
       "</style>\n",
       "<table border=\"1\" class=\"dataframe\">\n",
       "  <thead>\n",
       "    <tr style=\"text-align: right;\">\n",
       "      <th></th>\n",
       "      <th>education_id</th>\n",
       "      <th>education</th>\n",
       "    </tr>\n",
       "  </thead>\n",
       "  <tbody>\n",
       "    <tr>\n",
       "      <td>0</td>\n",
       "      <td>0</td>\n",
       "      <td>высшее</td>\n",
       "    </tr>\n",
       "    <tr>\n",
       "      <td>1</td>\n",
       "      <td>1</td>\n",
       "      <td>среднее</td>\n",
       "    </tr>\n",
       "    <tr>\n",
       "      <td>2</td>\n",
       "      <td>2</td>\n",
       "      <td>неоконченное высшее</td>\n",
       "    </tr>\n",
       "    <tr>\n",
       "      <td>3</td>\n",
       "      <td>3</td>\n",
       "      <td>начальное</td>\n",
       "    </tr>\n",
       "    <tr>\n",
       "      <td>4</td>\n",
       "      <td>4</td>\n",
       "      <td>ученая степень</td>\n",
       "    </tr>\n",
       "  </tbody>\n",
       "</table>\n",
       "</div>"
      ],
      "text/plain": [
       "   education_id            education\n",
       "0             0               высшее\n",
       "1             1              среднее\n",
       "2             2  неоконченное высшее\n",
       "3             3            начальное\n",
       "4             4       ученая степень"
      ]
     },
     "execution_count": 26,
     "metadata": {},
     "output_type": "execute_result"
    }
   ],
   "source": [
    "dict_family_status = dt[['family_status_id','family_status']].drop_duplicates().reset_index(drop = True) # словарь семейный статус\n",
    "\n",
    "dt['education'] = dt['education'].str.lower()\n",
    "dict_education = dt[['education_id','education']]\n",
    "dict_education =dict_education.drop_duplicates().reset_index(drop = True) # словарь образование\n",
    "print (dict_family_status)\n",
    "dict_education"
   ]
  },
  {
   "cell_type": "markdown",
   "metadata": {},
   "source": [
    "<div class=\"alert alert-success\">\n",
    "<h2> Комментарий ревьюера 2</h2>\n",
    "\n",
    "Словари выделены. Теперь мы можем убрать текстовые параметры из основной таблицы, что увеличит эффективность работы с данными. \n",
    "\n",
    "</div>"
   ]
  },
  {
   "cell_type": "markdown",
   "metadata": {},
   "source": [
    "### Вывод"
   ]
  },
  {
   "cell_type": "markdown",
   "metadata": {},
   "source": [
    "Столбец total_incom был заполнен количественными данными, чтоб провести исследования нужно было провести его группирвоку. Группы  сдеал методом qcut, который разбивает данные на равные части. Разделить решил на 8 частей. Такой разделитель мне кажется оптимальный, так группы получаются не  мелкие и данных хватает для вывода, и не крупные чтоб затереть закономерности."
   ]
  },
  {
   "cell_type": "markdown",
   "metadata": {},
   "source": [
    "Выдели два словаря: словарь образование, словарь семейное положение. У каждой категории в этих словарях есть свой уникальный id, по которуму можно работать с данными в будущем. \n"
   ]
  },
  {
   "cell_type": "markdown",
   "metadata": {},
   "source": [
    "<div class=\"alert alert-danger\">\n",
    "<h2> Комментарий ревьюера </h2>\n",
    "\n",
    "Исходя из чего выбран именно такой способ категоризации столбца с доходами? Не во всех группах содержится достаточное число клиентов для построения по ним надежных выводов. Лучше использовать разбиение по квантилям данных (метод qcut). Тогда группы получатся одинакового размера. Или же можно узнать в интернете процентный состав общества по доходам и затем уже категоризовать столбец с доходами по найденному соотношению с помощью персентилей. \n",
    "\n",
    "</div>"
   ]
  },
  {
   "cell_type": "markdown",
   "metadata": {},
   "source": [
    "<div class=\"alert alert-danger\">\n",
    "<h2> Комментарий ревьюера </h2>\n",
    "\n",
    "В данных есть словари. Попробуй их обнаружить и выделить. Это довольно распространенный способ хранения информации. Мне важно понять, что он тобой освоен. Заметь, что в основной таблице мы имеем по 2 параметра с образованием и семейным статусом. Именно по ним и стоит выделить словари. \n",
    "\n",
    "</div>"
   ]
  },
  {
   "cell_type": "markdown",
   "metadata": {},
   "source": [
    "### Шаг 3. Ответьте на вопросы"
   ]
  },
  {
   "cell_type": "markdown",
   "metadata": {},
   "source": [
    "- Есть ли зависимость между наличием детей и возвратом кредита в срок?"
   ]
  },
  {
   "cell_type": "code",
   "execution_count": 27,
   "metadata": {},
   "outputs": [
    {
     "data": {
      "text/html": [
       "<div>\n",
       "<style scoped>\n",
       "    .dataframe tbody tr th:only-of-type {\n",
       "        vertical-align: middle;\n",
       "    }\n",
       "\n",
       "    .dataframe tbody tr th {\n",
       "        vertical-align: top;\n",
       "    }\n",
       "\n",
       "    .dataframe thead tr th {\n",
       "        text-align: left;\n",
       "    }\n",
       "\n",
       "    .dataframe thead tr:last-of-type th {\n",
       "        text-align: right;\n",
       "    }\n",
       "</style>\n",
       "<table border=\"1\" class=\"dataframe\">\n",
       "  <thead>\n",
       "    <tr>\n",
       "      <th></th>\n",
       "      <th colspan=\"2\" halign=\"left\">debt</th>\n",
       "      <th>conv</th>\n",
       "    </tr>\n",
       "    <tr>\n",
       "      <th></th>\n",
       "      <th>sum</th>\n",
       "      <th>count</th>\n",
       "      <th></th>\n",
       "    </tr>\n",
       "    <tr>\n",
       "      <th>children</th>\n",
       "      <th></th>\n",
       "      <th></th>\n",
       "      <th></th>\n",
       "    </tr>\n",
       "  </thead>\n",
       "  <tbody>\n",
       "    <tr>\n",
       "      <td>5</td>\n",
       "      <td>0</td>\n",
       "      <td>9</td>\n",
       "      <td>0.00</td>\n",
       "    </tr>\n",
       "    <tr>\n",
       "      <td>0</td>\n",
       "      <td>1063</td>\n",
       "      <td>14107</td>\n",
       "      <td>7.54</td>\n",
       "    </tr>\n",
       "    <tr>\n",
       "      <td>3</td>\n",
       "      <td>27</td>\n",
       "      <td>330</td>\n",
       "      <td>8.18</td>\n",
       "    </tr>\n",
       "    <tr>\n",
       "      <td>1</td>\n",
       "      <td>445</td>\n",
       "      <td>4856</td>\n",
       "      <td>9.16</td>\n",
       "    </tr>\n",
       "    <tr>\n",
       "      <td>2</td>\n",
       "      <td>202</td>\n",
       "      <td>2128</td>\n",
       "      <td>9.49</td>\n",
       "    </tr>\n",
       "    <tr>\n",
       "      <td>4</td>\n",
       "      <td>4</td>\n",
       "      <td>41</td>\n",
       "      <td>9.76</td>\n",
       "    </tr>\n",
       "  </tbody>\n",
       "</table>\n",
       "</div>"
      ],
      "text/plain": [
       "          debt         conv\n",
       "           sum  count      \n",
       "children                   \n",
       "5            0      9  0.00\n",
       "0         1063  14107  7.54\n",
       "3           27    330  8.18\n",
       "1          445   4856  9.16\n",
       "2          202   2128  9.49\n",
       "4            4     41  9.76"
      ]
     },
     "execution_count": 27,
     "metadata": {},
     "output_type": "execute_result"
    }
   ],
   "source": [
    "total_debt = dt['debt'].sum()\n",
    "dt_children = dt.groupby(['children']).agg({'debt': ['sum','count']})\n",
    "dt_children['conv'] = (dt_children['debt']['sum'] /dt_children['debt']['count']   * 100).round(2)\n",
    "dt_children.sort_values('conv')\n"
   ]
  },
  {
   "cell_type": "markdown",
   "metadata": {},
   "source": [
    "### Вывод"
   ]
  },
  {
   "cell_type": "markdown",
   "metadata": {},
   "source": [
    "Исследование данных показало, что есть зависимость между наличием детей и возратом кредита в срок, самые пунктуальные кредиторы оказась без детей их доля просрочки к выданным кредитам составила 7,54 %. Конечно есть семьи с 5 детьми у которых нет вообще просроки, но вывод по ним делать сложно, так выборка очень маленькая всего  9 респондентов.\n",
    "Самая же большая доля по просрочке у людей с 4 детьми их доля составила 9,76 %."
   ]
  },
  {
   "cell_type": "markdown",
   "metadata": {},
   "source": [
    "<div class=\"alert alert-warning\">\n",
    "<h2> Комментарий ревьюера </h2>\n",
    "\n",
    "20 детей - это все же ошибка в данных, которую надо было исправить на этапе предобработки данных. Также есть и другие ошибки. Обнаружить их тебе помогут методы describe и value_counts. \n",
    "\n",
    "</div>"
   ]
  },
  {
   "cell_type": "markdown",
   "metadata": {},
   "source": [
    "- Есть ли зависимость между семейным положением и возвратом кредита в срок?"
   ]
  },
  {
   "cell_type": "code",
   "execution_count": 28,
   "metadata": {},
   "outputs": [
    {
     "name": "stdout",
     "output_type": "stream",
     "text": [
      "debt                       0    1\n",
      "family_status                    \n",
      "Не женат / не замужем   2536  274\n",
      "в разводе               1110   85\n",
      "вдовец / вдова           896   63\n",
      "гражданский брак        3775  388\n",
      "женат / замужем        11413  931\n"
     ]
    },
    {
     "data": {
      "text/html": [
       "<div>\n",
       "<style scoped>\n",
       "    .dataframe tbody tr th:only-of-type {\n",
       "        vertical-align: middle;\n",
       "    }\n",
       "\n",
       "    .dataframe tbody tr th {\n",
       "        vertical-align: top;\n",
       "    }\n",
       "\n",
       "    .dataframe thead tr th {\n",
       "        text-align: left;\n",
       "    }\n",
       "\n",
       "    .dataframe thead tr:last-of-type th {\n",
       "        text-align: right;\n",
       "    }\n",
       "</style>\n",
       "<table border=\"1\" class=\"dataframe\">\n",
       "  <thead>\n",
       "    <tr>\n",
       "      <th></th>\n",
       "      <th colspan=\"2\" halign=\"left\">debt</th>\n",
       "      <th>conv</th>\n",
       "    </tr>\n",
       "    <tr>\n",
       "      <th></th>\n",
       "      <th>sum</th>\n",
       "      <th>count</th>\n",
       "      <th></th>\n",
       "    </tr>\n",
       "    <tr>\n",
       "      <th>family_status</th>\n",
       "      <th></th>\n",
       "      <th></th>\n",
       "      <th></th>\n",
       "    </tr>\n",
       "  </thead>\n",
       "  <tbody>\n",
       "    <tr>\n",
       "      <td>вдовец / вдова</td>\n",
       "      <td>63</td>\n",
       "      <td>959</td>\n",
       "      <td>6.57</td>\n",
       "    </tr>\n",
       "    <tr>\n",
       "      <td>в разводе</td>\n",
       "      <td>85</td>\n",
       "      <td>1195</td>\n",
       "      <td>7.11</td>\n",
       "    </tr>\n",
       "    <tr>\n",
       "      <td>женат / замужем</td>\n",
       "      <td>931</td>\n",
       "      <td>12344</td>\n",
       "      <td>7.54</td>\n",
       "    </tr>\n",
       "    <tr>\n",
       "      <td>гражданский брак</td>\n",
       "      <td>388</td>\n",
       "      <td>4163</td>\n",
       "      <td>9.32</td>\n",
       "    </tr>\n",
       "    <tr>\n",
       "      <td>Не женат / не замужем</td>\n",
       "      <td>274</td>\n",
       "      <td>2810</td>\n",
       "      <td>9.75</td>\n",
       "    </tr>\n",
       "  </tbody>\n",
       "</table>\n",
       "</div>"
      ],
      "text/plain": [
       "                      debt         conv\n",
       "                       sum  count      \n",
       "family_status                          \n",
       "вдовец / вдова          63    959  6.57\n",
       "в разводе               85   1195  7.11\n",
       "женат / замужем        931  12344  7.54\n",
       "гражданский брак       388   4163  9.32\n",
       "Не женат / не замужем  274   2810  9.75"
      ]
     },
     "execution_count": 28,
     "metadata": {},
     "output_type": "execute_result"
    }
   ],
   "source": [
    "dt_family = dt.pivot_table(index = ['family_status'], columns =  'debt', values = 'family_status_id', aggfunc = 'count') #провел группировку pivot_table \n",
    "print (dt_family)  \n",
    "dt_family= dt.groupby(['family_status']).agg({'debt': ['sum','count']})\n",
    "dt_family['conv'] = (dt_family['debt']['sum'] /dt_family['debt']['count']   * 100).round(2)\n",
    "dt_family.sort_values('conv')"
   ]
  },
  {
   "cell_type": "markdown",
   "metadata": {},
   "source": [
    "### Вывод"
   ]
  },
  {
   "cell_type": "markdown",
   "metadata": {},
   "source": [
    "Исследование данных показало, что есть зависимость между семейным положением и возратом кредита в срок, самыми пунктуальными кредиторами оказась люди с непростыми жизненными ситуациями: кто столкнулся со смертью близких и у кого распался брак, их доли соответственно  6,57 % и 7,11 %. Люди которые же не когда не были скованы узами брака чаще всего допускают просрочку 9,75 %. \n"
   ]
  },
  {
   "cell_type": "markdown",
   "metadata": {},
   "source": [
    "Провел  группировки с помощью pivot_table, но в данном задании мне кажется его использование не удобно. И дальнейшие расчеты сделал другигим методом. pivot_table такой метод таблицы называется «широкий».Он удобен, когда нужно сравнить значения столбцов. Методы groupby() и agg() удобны, когда нужно применить функцию к столбцу со сгруппированными  данными или создать новый столбец на их основе."
   ]
  },
  {
   "cell_type": "markdown",
   "metadata": {},
   "source": [
    "<div class=\"alert alert-success\">\n",
    "<h2> Комментарий ревьюера </h2>\n",
    "\n",
    "Вывод не противоречит полученному результату. \n",
    "\n",
    "</div>"
   ]
  },
  {
   "cell_type": "markdown",
   "metadata": {},
   "source": [
    "- Есть ли зависимость между уровнем дохода и возвратом кредита в срок?"
   ]
  },
  {
   "cell_type": "code",
   "execution_count": 29,
   "metadata": {},
   "outputs": [
    {
     "data": {
      "text/html": [
       "<div>\n",
       "<style scoped>\n",
       "    .dataframe tbody tr th:only-of-type {\n",
       "        vertical-align: middle;\n",
       "    }\n",
       "\n",
       "    .dataframe tbody tr th {\n",
       "        vertical-align: top;\n",
       "    }\n",
       "\n",
       "    .dataframe thead tr th {\n",
       "        text-align: left;\n",
       "    }\n",
       "\n",
       "    .dataframe thead tr:last-of-type th {\n",
       "        text-align: right;\n",
       "    }\n",
       "</style>\n",
       "<table border=\"1\" class=\"dataframe\">\n",
       "  <thead>\n",
       "    <tr>\n",
       "      <th></th>\n",
       "      <th colspan=\"2\" halign=\"left\">debt</th>\n",
       "      <th>conv</th>\n",
       "    </tr>\n",
       "    <tr>\n",
       "      <th></th>\n",
       "      <th>sum</th>\n",
       "      <th>count</th>\n",
       "      <th></th>\n",
       "    </tr>\n",
       "    <tr>\n",
       "      <th>group_income</th>\n",
       "      <th></th>\n",
       "      <th></th>\n",
       "      <th></th>\n",
       "    </tr>\n",
       "  </thead>\n",
       "  <tbody>\n",
       "    <tr>\n",
       "      <td>(254213.75, 2265604.0]</td>\n",
       "      <td>185</td>\n",
       "      <td>2684</td>\n",
       "      <td>6.89</td>\n",
       "    </tr>\n",
       "    <tr>\n",
       "      <td>(195767.5, 254213.75]</td>\n",
       "      <td>198</td>\n",
       "      <td>2684</td>\n",
       "      <td>7.38</td>\n",
       "    </tr>\n",
       "    <tr>\n",
       "      <td>(20666.999, 83890.0]</td>\n",
       "      <td>206</td>\n",
       "      <td>2685</td>\n",
       "      <td>7.67</td>\n",
       "    </tr>\n",
       "    <tr>\n",
       "      <td>(83890.0, 107654.5]</td>\n",
       "      <td>221</td>\n",
       "      <td>2683</td>\n",
       "      <td>8.24</td>\n",
       "    </tr>\n",
       "    <tr>\n",
       "      <td>(140116.0, 162401.0]</td>\n",
       "      <td>231</td>\n",
       "      <td>2765</td>\n",
       "      <td>8.35</td>\n",
       "    </tr>\n",
       "    <tr>\n",
       "      <td>(127580.25, 140116.0]</td>\n",
       "      <td>226</td>\n",
       "      <td>2684</td>\n",
       "      <td>8.42</td>\n",
       "    </tr>\n",
       "    <tr>\n",
       "      <td>(107654.5, 127580.25]</td>\n",
       "      <td>235</td>\n",
       "      <td>2684</td>\n",
       "      <td>8.76</td>\n",
       "    </tr>\n",
       "    <tr>\n",
       "      <td>(162401.0, 195767.5]</td>\n",
       "      <td>239</td>\n",
       "      <td>2602</td>\n",
       "      <td>9.19</td>\n",
       "    </tr>\n",
       "  </tbody>\n",
       "</table>\n",
       "</div>"
      ],
      "text/plain": [
       "                       debt        conv\n",
       "                        sum count      \n",
       "group_income                           \n",
       "(254213.75, 2265604.0]  185  2684  6.89\n",
       "(195767.5, 254213.75]   198  2684  7.38\n",
       "(20666.999, 83890.0]    206  2685  7.67\n",
       "(83890.0, 107654.5]     221  2683  8.24\n",
       "(140116.0, 162401.0]    231  2765  8.35\n",
       "(127580.25, 140116.0]   226  2684  8.42\n",
       "(107654.5, 127580.25]   235  2684  8.76\n",
       "(162401.0, 195767.5]    239  2602  9.19"
      ]
     },
     "execution_count": 29,
     "metadata": {},
     "output_type": "execute_result"
    }
   ],
   "source": [
    "dt_income= dt.groupby(['group_income']).agg({'debt': ['sum','count']})\n",
    "dt_income['conv'] = (dt_income['debt']['sum'] /dt_income['debt']['count']   * 100).round(2)\n",
    "dt_income.sort_values('conv')"
   ]
  },
  {
   "cell_type": "markdown",
   "metadata": {},
   "source": [
    "### Вывод"
   ]
  },
  {
   "cell_type": "markdown",
   "metadata": {},
   "source": [
    "Проведенное исследование не выявило явной линейной зависимости между доходом и возратом кредита срок. Как самыми наденжными так самыми ненадежными являются люди с высокими доходами. Но все же рейтинг надежных заемщиков возглавляют 2 категрии с самыми высокими доходами(доходы свыше 195 тыс). Что касается 3 категории дохода, которая оказалась самой ненадежной, думаю это связано с тем, что они люди с очень высокий зарплатой, но не достаточно богатыми чтоб позволить все радости мира, и не расчитав свои силы чаще чем другие залазеют в долги, чтоб удовлетворить свои растущие потребности, которые не покрывают их доходы."
   ]
  },
  {
   "cell_type": "markdown",
   "metadata": {},
   "source": [
    "<div class=\"alert alert-success\">\n",
    "<h2> Комментарий ревьюера </h2>\n",
    "\n",
    "Посмотри на результаты при ином способе категоризации. \n",
    "\n",
    "</div>"
   ]
  },
  {
   "cell_type": "markdown",
   "metadata": {},
   "source": [
    "- Как разные цели кредита влияют на его возврат в срок?"
   ]
  },
  {
   "cell_type": "code",
   "execution_count": 30,
   "metadata": {},
   "outputs": [
    {
     "data": {
      "text/html": [
       "<div>\n",
       "<style scoped>\n",
       "    .dataframe tbody tr th:only-of-type {\n",
       "        vertical-align: middle;\n",
       "    }\n",
       "\n",
       "    .dataframe tbody tr th {\n",
       "        vertical-align: top;\n",
       "    }\n",
       "\n",
       "    .dataframe thead tr th {\n",
       "        text-align: left;\n",
       "    }\n",
       "\n",
       "    .dataframe thead tr:last-of-type th {\n",
       "        text-align: right;\n",
       "    }\n",
       "</style>\n",
       "<table border=\"1\" class=\"dataframe\">\n",
       "  <thead>\n",
       "    <tr>\n",
       "      <th></th>\n",
       "      <th colspan=\"2\" halign=\"left\">debt</th>\n",
       "      <th>conv</th>\n",
       "    </tr>\n",
       "    <tr>\n",
       "      <th></th>\n",
       "      <th>sum</th>\n",
       "      <th>count</th>\n",
       "      <th></th>\n",
       "    </tr>\n",
       "    <tr>\n",
       "      <th>purpose_change</th>\n",
       "      <th></th>\n",
       "      <th></th>\n",
       "      <th></th>\n",
       "    </tr>\n",
       "  </thead>\n",
       "  <tbody>\n",
       "    <tr>\n",
       "      <td>ремонт жилья</td>\n",
       "      <td>35</td>\n",
       "      <td>607</td>\n",
       "      <td>5.77</td>\n",
       "    </tr>\n",
       "    <tr>\n",
       "      <td>операции с недвижимостью</td>\n",
       "      <td>747</td>\n",
       "      <td>10207</td>\n",
       "      <td>7.32</td>\n",
       "    </tr>\n",
       "    <tr>\n",
       "      <td>свадьба</td>\n",
       "      <td>186</td>\n",
       "      <td>2335</td>\n",
       "      <td>7.97</td>\n",
       "    </tr>\n",
       "    <tr>\n",
       "      <td>образование</td>\n",
       "      <td>370</td>\n",
       "      <td>4014</td>\n",
       "      <td>9.22</td>\n",
       "    </tr>\n",
       "    <tr>\n",
       "      <td>приобретение автомобиля</td>\n",
       "      <td>403</td>\n",
       "      <td>4308</td>\n",
       "      <td>9.35</td>\n",
       "    </tr>\n",
       "  </tbody>\n",
       "</table>\n",
       "</div>"
      ],
      "text/plain": [
       "                         debt         conv\n",
       "                          sum  count      \n",
       "purpose_change                            \n",
       "ремонт жилья               35    607  5.77\n",
       "операции с недвижимостью  747  10207  7.32\n",
       "свадьба                   186   2335  7.97\n",
       "образование               370   4014  9.22\n",
       "приобретение автомобиля   403   4308  9.35"
      ]
     },
     "execution_count": 30,
     "metadata": {},
     "output_type": "execute_result"
    }
   ],
   "source": [
    "dt_purpose= dt.groupby(['purpose_change']).agg({'debt': ['sum','count']})\n",
    "dt_purpose['conv'] = (dt_purpose['debt']['sum'] /dt_purpose['debt']['count']   * 100).round(2)\n",
    "dt_purpose.sort_values(['conv'])\n",
    "\n"
   ]
  },
  {
   "cell_type": "markdown",
   "metadata": {},
   "source": [
    "### Вывод"
   ]
  },
  {
   "cell_type": "markdown",
   "metadata": {},
   "source": [
    "Исследование опказало что про люди берущие кредит на автомобиль и образование чаще просрачивают кредит( 9,35 % и 9,22 %), самыми же надежнымм кредиторами являются клиенты цель кредита которых: ремонт жилья и операции с недвижимостью ( 5,77 % и 7,46%)."
   ]
  },
  {
   "cell_type": "markdown",
   "metadata": {},
   "source": [
    "<div class=\"alert alert-danger\">\n",
    "<h2> Комментарий ревьюера </h2>\n",
    "\n",
    "На данном шаге рекомендуется использовать метод сводных таблиц (pivot_table()). Однако он является аналогом метода groupby(). Изучи метод сводных таблиц и примени его хотя бы в одном пункте анализа.\n",
    "\n",
    "</div>"
   ]
  },
  {
   "cell_type": "markdown",
   "metadata": {},
   "source": [
    "<div class=\"alert alert-success\">\n",
    "<h2> Комментарий ревьюера 2</h2>\n",
    "\n",
    "Метод сводных таблиц использован. Данный метод нам сильно пригодится в дальнейших проектах. Только в таблице ты не получил доли должников. Для этого надо столбей 1 поделить на сумму столбцов 0 и 1, т.е. на общее число клиентов данной группы.  \n",
    "\n",
    "</div>"
   ]
  },
  {
   "cell_type": "markdown",
   "metadata": {},
   "source": [
    "### Шаг 4. Общий вывод"
   ]
  },
  {
   "cell_type": "markdown",
   "metadata": {},
   "source": [
    "В ходе изучени исследовния  были проведены следущие работы:\n",
    "\n",
    "**Этап 1** Загрузка данных:\n",
    "- загрузил данные с помощью метода read_csv();\n",
    "- проверил есть ли данные позволящие провести исследование;\n",
    "- проверил заголовки таблицы\n",
    "- получил данные по таблице с помощью метода info().\n",
    "\n",
    "**Этап 2** Предобработка данных:\n",
    "- обнаружил в интересующих данных пропуски, все они имели формат Nan, поэтом все заменил на 0с помощью метод fillna();\n",
    "- для столбца доход написал функцию которая заменяет, нули на медианы расчитанные по источнику дохода;\n",
    "- заменил артефакты в столбце дети;\n",
    "- использовал pymystem3 для лемматизация, и выдел категирии в целях получения кредита;\n",
    "- провел категоризацию столбца доход, для это применил метод qcut();\n",
    "- выдели два словаря: по группу образование и семейное положение.\n",
    "\n",
    "**Этап 3** Выводы\n",
    "- Провел  анализ показателей  с помощью pivot_table groupby() и agg()\n",
    "\n",
    "В ходе работы надо было ответить на следущие вопросы:\n",
    "\n",
    "- есть ли зависимость между наличием детей и возвратом кредита в срок?\n",
    "- есть ли зависимость между семейным положением и возвратом кредита в срок?\n",
    "- есть ли зависимость между уровнем дохода и возвратом кредита в срок?\n",
    "- как разные цели кредита влияют на его возврат в срок?\n",
    "\n",
    "**Зависимость между наличием детей и возвратом кредита в срок.**\n",
    "\n",
    "На основе данных были определенны 5 основных категорий по количеству детей: 0,1,2,3,4.\n",
    "\n",
    "**Результаты исследования:**\n",
    "- 0 детей: количество выданных кредитов 14107, количество просроченных кредитов 1063, доля просрочки по кредитам 7,54 %\n",
    "- 1 ребенок: количество выданных кредитов 4856, количество просроченных кредитов 445, доля просрочки по кредитам 9,16 %\n",
    "- 2 ребенка: количество выданных кредитов 2128, количество просроченных кредитов 202, доля просрочки по кредитам 9,49 %\n",
    "- 3 ребенка: количество  выданных кредитов 330, количество просроченных кредитов 27, доля просрочки по кредитам 8,18 %\n",
    "- 4 ребенка: количество  выданных кредитов 41, количество просроченных кредитов 4, доля просрочки по кредитам 9,76 %\n",
    "\n",
    "Исследование данных показало, что есть зависимость между наличием детей и возратом кредита в срок, самые пунктуальные кредиторы оказась без детей их доля просрочки к выданным кредитам составила 7,54 %. Самая же большая доля по просрочке у людей с 4 детьми их доля составила 9,76 %. Это в принципе логично каждый ребенок это значетильная нагрузка на бюджет семьи, и чем ниже доход у семей с детьми тем тяжелее им приходится с выплатой кредитов и каждай непредвиденная трата может выбить их из коллеии.\n",
    "\n",
    "**Зависимость между семейным положением и возвратом кредита в срок.**\n",
    "\n",
    "На основе данных были определенны 5 основных категорий по количеству детей:\n",
    "\n",
    "- вдовец / вдова\t\n",
    "- в разводе\t\n",
    "- женат / замужем\n",
    "- гражданский брак\n",
    "- Не женат / не замужем\n",
    "\n",
    "**Результаты исследования:**\n",
    "- вдовец / вдова: количество выданных кредитов 959, количество просроченных кредитов 63, доля просрочки по кредитам 6,57 %\n",
    "- в разводе: количество выданных кредитов 1195, количество просроченных кредитов 85, доля просрочки по кредитам 7,11 %\n",
    "- женат / замужем: количество выданных кредитов 12344, количество просроченных кредитов 931, доля просрочки по кредитам 7,54 %\n",
    "- гражданский брак: количество  выданных кредитов 4163, количество просроченных кредитов 388, доля просрочки по кредитам 9,32 %\n",
    "- Не женат / не замужем: количество  выданных кредитов 2810, количество просроченных кредитов 274, доля просрочки по кредитам 9,75 %\n",
    "\n",
    "Исследование данных показало, что есть зависимость между семейным положением и возратом кредита в срок, самыми пунктуальными кредиторами оказась люди с непростыми жизненными ситуациями: кто столкнулся со смертью близких и у кого распался брак, их доли соответственно  6,57 % и 7,11 %. Люди которые же не когда не были скованы узами брака чаще всего допускают просрочку 9,75 %, \n",
    "это видимо происходит из за того что у  них доля личной ответсвенности ниже, живут более своими потребностями.\n",
    "\n",
    "**Зависимость между уровнем дохода и возвратом кредита в срок.**\n",
    "\n",
    "На основе данных были выделены 8  категорий дохода:\n",
    "- от 20700 до 83900: \n",
    "- от 83900 до 107650: \n",
    "- от 107650 до 127580: \n",
    "- от 127580 до 140100:\n",
    "- от 140100 до 162400: \n",
    "- от 162400 до 195770:\n",
    "- от 195770 до 254210: \n",
    "- от 254210 до 2265604: \n",
    "\n",
    "**Результаты исследования:**\n",
    "- от 20700 до 83900: количество выданных кредитов 2685, количество просроченных кредитов 206, доля просрочки по кредитам 7,67 %\n",
    "- от 83900 до 107650: количество выданных кредитов 2683, количество просроченных кредитов 221, доля просрочки по кредитам 8,24 %\n",
    "- от 107650 до 127580: количество выданных кредитов 2684, количество просроченных кредитов 235, доля просрочки по кредитам 8,76 %\n",
    "- от 127580 до 140100: количество  выданных кредитов 2684, количество просроченных кредитов 226, доля просрочки по кредитам 8,42 %\n",
    "- от 140100 до 162400: количество  выданных кредитов 2765, количество просроченных кредитов 231, доля просрочки по кредитам 8,35 %\n",
    "- от 162400 до 195770: количество  выданных кредитов 2602, количество просроченных кредитов 239, доля просрочки по кредитам 9,19 %\n",
    "- от 195770 до 254210: количество  выданных кредитов 2684, количество просроченных кредитов 198, доля просрочки по кредитам 7,38 %\n",
    "- от 254210 до 2265604: количество  выданных кредитов 2684, количество просроченных кредитов 185, доля просрочки по кредитам 6,89 %\n",
    "\n",
    "\n",
    "Проведенное исследование не выявило явной линейной зависимости между доходом и возратом кредита срок. Как самыми наденжными так самыми ненадежными являются люди с высокими доходами. Но все же рейтинг надежных заемщиков возглавляют 2 категрии с самыми высокими доходами(доходы свыше 195 тыс). Что касается 3 категории дохода, которая оказалась самой ненадежной, думаю это связано с тем, что они люди с очень высокий зарплатой, но не достаточно богатыми чтоб позволить все радости мира, и не расчитав свои силы чаще чем другие залазеют в долги, чтоб удовлетворить свои растущие потребности, которые не покрывают их доходы.\n",
    "\n",
    "**Зависимость между целями кредита и возвратом кредита в срок.**\n",
    "\n",
    "На основе данных были определенны 5 основных категорий целей кредитования: \n",
    "\n",
    "- ремонт жилья;\n",
    "- операции с недвижимостью;\n",
    "- свадьба;\n",
    "- образование;\n",
    "- приобретение автомобиля.\n",
    "\n",
    "**Результаты исследования:**\n",
    "- ремонт жилья: количество выданных кредитов 607, количество просроченных кредитов 35, доля просрочки по кредитам 5,77 %\n",
    "- операции с недвижимостью: количество выданных кредитов 10207, количество просроченных кредитов 747, доля проскрочки по кредитам 7,32 %\n",
    "- свадьба: количество выданных кредитов 2335, количество просроченных кредитов 186, доля просрочки по кредитам 7,97 %\n",
    "- образование: количество  выданных кредитов 4014, количество просроченных кредитов 370, доля просрочки по кредитам 9,22 %\n",
    "- приобретение автомобиля: количество  выданных кредитов 4308, количество просроченных кредитов 403, доля просрочки по кредитам 9,35 %\n",
    "\n",
    "Исследование показало, что люди берущие кредит на автомобиль и образование чаще просрачивают кредит( 9,35 % и 9,22 %), самыми же надежнымм кредиторами являются клиенты цель кредита которых: ремонт жилья и операции с недвижимостью ( 5,77 % и 7,46%). В текущих данных есть определенная закономерность, клиенты которые берут кредит на недвижимость здраво оценивает свое финнасовое состояние и возможности, да и недвижимость зачастую является обремененной кредитором, и чтоб не было ни каких проблем заемщики стараюся гасить в срок. Что же касается кредита на авто, то данные тоже объсними, люди зачастую оценивают машину как игрушку, и многие пытаются приобрести её, даже если не позволяют финансы.\n",
    "\n",
    "\n",
    "\n",
    "\n",
    "Cогласно полученным данным можно сформировать следущие факторы :\n",
    "факторы надежности:\n",
    "1 наличие детей : нет\n",
    "2 семейный статус: вдовец,вдова; в разводе\n",
    "3 уровень дохода: свыше 195\n",
    "4 цель: ремонт, недвижимость\n",
    "\n",
    "факторы риска:\n",
    "1 наличие детей: 2 и более\n",
    "2 не замужем/ не женат; в гражданском браке\n",
    "3 доход от 162 до 195\n",
    "4 цель: автомобиль, образование"
   ]
  },
  {
   "cell_type": "markdown",
   "metadata": {},
   "source": [
    "<div class=\"alert alert-danger\">\n",
    "<h2> Комментарий ревьюера </h2>\n",
    "\n",
    "Финальный вывод и есть главный результат твоей работы. Стоит писать его подробно по результатам проведенной работы. В нем можно приводить полученные в ходе работы значения. Также можно расписать все, что было сделано в работе.\n",
    "\n",
    "</div>"
   ]
  },
  {
   "cell_type": "markdown",
   "metadata": {},
   "source": [
    "<div class=\"alert alert-success\">\n",
    "<h2> Комментарий ревьюера 2</h2>\n",
    "\n",
    "Выводы описаны грамотно. Приведены ответы на главные вопросы проекта. В выводах можно приводить полученные ранее значения, правильно. Здорово, что по каждому пункту работы приведен вывод. \n",
    "\n",
    "</div>"
   ]
  },
  {
   "cell_type": "markdown",
   "metadata": {},
   "source": [
    "<div class=\"alert alert-warning\">\n",
    "<h2> Комментарий ревьюера </h2>\n",
    "\n",
    "- В начале работы следует описывать данные, с которыми работаешь;\n",
    "- Категоризацию по доходу стоит делать иначе. Смотри данный пункт подробнее;\n",
    "- Выдели словари в данных;\n",
    "- Изучи и используй в анализе метод сводных таблиц;\n",
    "- Финальный вывод стоит писать подробно.\n",
    "\n",
    "Ты проделал большую работу, молодец! Исправь отмеченные выше помарки. Также есть достаточное число желтых комментариев. Думаю, исправить их тебе не составит труда. Жду твою работу :)\n",
    "\n",
    "</div>"
   ]
  },
  {
   "cell_type": "markdown",
   "metadata": {},
   "source": [
    "<div class=\"alert alert-success\">\n",
    "<h2> Комментарий ревьюера 2</h2>\n",
    "\n",
    "Помарки исправлены, и теперь работа выполнена хорошо. Ты здорово поработал над исправлениями, молодец. Успехов в дальнейших проектах :)\n",
    "\n",
    "</div>\n",
    "   "
   ]
  },
  {
   "cell_type": "markdown",
   "metadata": {},
   "source": [
    "### Чек-лист готовности проекта\n",
    "\n",
    "Поставьте 'x' в выполненных пунктах. Далее нажмите Shift+Enter."
   ]
  },
  {
   "cell_type": "markdown",
   "metadata": {},
   "source": [
    "- [x]  открыт файл;\n",
    "- [x]  файл изучен;\n",
    "- [x]  определены пропущенные значения;\n",
    "- [x]  заполнены пропущенные значения;\n",
    "- [x]  есть пояснение, какие пропущенные значения обнаружены;\n",
    "- [x]  описаны возможные причины появления пропусков в данных;\n",
    "- [x]  объяснено, по какому принципу заполнены пропуски;\n",
    "- [x]  заменен вещественный тип данных на целочисленный;\n",
    "- [x]  есть пояснение, какой метод используется для изменения типа данных и почему;\n",
    "- [x]  удалены дубликаты;\n",
    "- [x]  есть пояснение, какой метод используется для поиска и удаления дубликатов;\n",
    "- [x]  описаны возможные причины появления дубликатов в данных;\n",
    "- [x]  выделены леммы в значениях столбца с целями получения кредита;\n",
    "- [x]  описан процесс лемматизации;\n",
    "- [x]  данные категоризированы;\n",
    "- [x]  есть объяснение принципа категоризации данных;\n",
    "- [x]  есть ответ на вопрос: \"Есть ли зависимость между наличием детей и возвратом кредита в срок?\";\n",
    "- [x]  есть ответ на вопрос: \"Есть ли зависимость между семейным положением и возвратом кредита в срок?\";\n",
    "- [x]  есть ответ на вопрос: \"Есть ли зависимость между уровнем дохода и возвратом кредита в срок?\";\n",
    "- [x]  есть ответ на вопрос: \"Как разные цели кредита влияют на его возврат в срок?\";\n",
    "- [x]  в каждом этапе есть выводы;\n",
    "- [x]  есть общий вывод."
   ]
  }
 ],
 "metadata": {
  "kernelspec": {
   "display_name": "Python 3",
   "language": "python",
   "name": "python3"
  },
  "language_info": {
   "codemirror_mode": {
    "name": "ipython",
    "version": 3
   },
   "file_extension": ".py",
   "mimetype": "text/x-python",
   "name": "python",
   "nbconvert_exporter": "python",
   "pygments_lexer": "ipython3",
   "version": "3.7.8"
  },
  "toc": {
   "base_numbering": 1,
   "nav_menu": {},
   "number_sections": true,
   "sideBar": true,
   "skip_h1_title": true,
   "title_cell": "Table of Contents",
   "title_sidebar": "Contents",
   "toc_cell": false,
   "toc_position": {},
   "toc_section_display": true,
   "toc_window_display": false
  }
 },
 "nbformat": 4,
 "nbformat_minor": 2
}
