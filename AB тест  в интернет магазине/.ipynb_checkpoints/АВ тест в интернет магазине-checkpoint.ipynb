{
 "cells": [
  {
   "cell_type": "markdown",
   "metadata": {},
   "source": [
    "## Введение"
   ]
  },
  {
   "cell_type": "markdown",
   "metadata": {},
   "source": [
    "**План работы**\n",
    "\n",
    "**Часть 1. Приоритизация гипотез.**\n",
    "\n",
    "Задача:\n",
    "- Применить фреймворк ICE для приоритизации гипотез. Отсортировать их по убыванию приоритета.\n",
    "- Применить фреймворк RICE для приоритизации гипотез. Отсортировать их по убыванию приоритета.\n",
    "- Указать, как изменилась приоритизация гипотез при применении RICE вместо ICE. Объяснить, почему так произошло.\n",
    "\n",
    "**Часть 2. Анализ A/B-теста**\n",
    "\n",
    "Мы провели A/B-тест и получили результаты, которые описаны в файлах /datasets/orders.csv и /datasets/visitors.csv.\n",
    "\n",
    "Задача проанализировать A/B-тест:\n",
    "- Построить график кумулятивной выручки по группам. Сделать выводы и предположения.\n",
    "- Построить график кумулятивного среднего чека по группам. Сделать выводы и предположения.\n",
    "- Построить график относительного изменения кумулятивного среднего чека группы B к группе A. Сделать выводы и предположения.\n",
    "- Построить график кумулятивной конверсии по группам. Сделать выводы и предположения.\n",
    "- Построить график относительного изменения кумулятивной конверсии группы B к группе A. Сделать выводы и предположения.\n",
    "- Построить точечный график количества заказов по пользователям. Сделать выводы и предположения.\n",
    "- Посчитать 95-й и 99-й перцентили количества заказов на пользователя. Выберать границу для определения аномальных пользователей.\n",
    "- Построить точечный график стоимостей заказов. Сделать выводы и предположения.\n",
    "- Посчитать 95-й и 99-й перцентили стоимости заказов. Выбрать границу для определения аномальных заказов.\n",
    "- Посчитать статистическую значимость различий в конверсии между группами по «сырым» данным. Сделать выводы и предположения.\n",
    "- Посчитать статистическую значимость различий в среднем чеке заказа между группами по «сырым» данным. Сделать выводы и предположения.\n",
    "- Посчитать статистическую значимость различий в конверсии между группами по «очищенным» данным. Сделать выводы и предположения.\n",
    "- Посчитать статистическую значимость различий в среднем чеке заказа между группами по «очищенным» данным. Сделайте выводы и предположения.\n",
    "- Примите решение по результатам теста и объясните его. Варианты решений: 1. Остановить тест, зафиксировать победу одной из групп. 2. Остановить тест, зафиксировать отсутствие различий между группами. 3. Продолжить тест.\n",
    "\n"
   ]
  },
  {
   "cell_type": "markdown",
   "metadata": {},
   "source": [
    "## Ознакомление с данными"
   ]
  },
  {
   "cell_type": "markdown",
   "metadata": {},
   "source": [
    "### Первичный взгляд на данные и предобработка данных\n"
   ]
  },
  {
   "cell_type": "code",
   "execution_count": 1,
   "metadata": {},
   "outputs": [],
   "source": [
    "import pandas as pd\n",
    "from matplotlib import pyplot as plt\n",
    "import numpy as np\n",
    "import scipy.stats as stats\n",
    "import warnings\n",
    "warnings.filterwarnings('ignore')\n",
    "pd.set_option('display.max_colwidth', 500)"
   ]
  },
  {
   "cell_type": "code",
   "execution_count": 2,
   "metadata": {},
   "outputs": [],
   "source": [
    "def info(data):\n",
    "# функция выводит информаци по загруженному датефрейму    \n",
    "\n",
    "    print('--------------Обзор загруженных данных-----------')\n",
    "    display(data.head(5))\n",
    "    print()\n",
    "    data.info()\n",
    "    print()\n",
    "    print()\n",
    "    print('----------Размер датасета---')\n",
    "    print(data.shape)\n",
    "    print()\n",
    "    print('----------Пропуски----------')\n",
    "    for i in data.columns:\n",
    "        if data[i].isna().sum()>0:\n",
    "            print(f'Количество пропусков в столбце {i}:',data[i].isna().sum(),\n",
    "                  ', что состовляет: {:.2%}'.format(data[i].isna().mean()))\n",
    "    display(pd.DataFrame(round((data.isna().mean()*100),2)).style.background_gradient('coolwarm'))\n",
    "            \n",
    "            \n",
    "            \n",
    "    print()        \n",
    "    print('----------Дубликаты----------')   \n",
    "    print('Количество полных дубликатов:', data.duplicated().sum())\n",
    "    print()\n",
    "\n",
    "    print('----------Типы данных--------')\n",
    "    list2={}\n",
    "    for i in data.columns:\n",
    "        key = data[i].dtypes\n",
    "        list2.setdefault(key, [])\n",
    "        list2[key].append(i)\n",
    "    for i,k in list2.items():\n",
    "        print(f'Тип данных {i}: {k}')       \n",
    "        "
   ]
  },
  {
   "cell_type": "code",
   "execution_count": 3,
   "metadata": {},
   "outputs": [],
   "source": [
    "hipotes=pd.read_csv('C:/Users/Hp/Desktop/project/дата сеты/hypothesis.csv')\n",
    "orders=pd.read_csv('C:/Users/Hp/Desktop/project/дата сеты/orders.csv')\n",
    "visitors=pd.read_csv('C:/Users/Hp/Desktop/project/дата сеты/visitors.csv')\n"
   ]
  },
  {
   "cell_type": "code",
   "execution_count": 4,
   "metadata": {},
   "outputs": [
    {
     "name": "stdout",
     "output_type": "stream",
     "text": [
      "\u001b[1mhipotes\u001b[0m\n",
      "--------------Обзор загруженных данных-----------\n"
     ]
    },
    {
     "data": {
      "text/html": [
       "<div>\n",
       "<style scoped>\n",
       "    .dataframe tbody tr th:only-of-type {\n",
       "        vertical-align: middle;\n",
       "    }\n",
       "\n",
       "    .dataframe tbody tr th {\n",
       "        vertical-align: top;\n",
       "    }\n",
       "\n",
       "    .dataframe thead th {\n",
       "        text-align: right;\n",
       "    }\n",
       "</style>\n",
       "<table border=\"1\" class=\"dataframe\">\n",
       "  <thead>\n",
       "    <tr style=\"text-align: right;\">\n",
       "      <th></th>\n",
       "      <th>Hypothesis</th>\n",
       "      <th>Reach</th>\n",
       "      <th>Impact</th>\n",
       "      <th>Confidence</th>\n",
       "      <th>Efforts</th>\n",
       "    </tr>\n",
       "  </thead>\n",
       "  <tbody>\n",
       "    <tr>\n",
       "      <th>0</th>\n",
       "      <td>Добавить два новых канала привлечения трафика, что позволит привлекать на 30% больше пользователей</td>\n",
       "      <td>3</td>\n",
       "      <td>10</td>\n",
       "      <td>8</td>\n",
       "      <td>6</td>\n",
       "    </tr>\n",
       "    <tr>\n",
       "      <th>1</th>\n",
       "      <td>Запустить собственную службу доставки, что сократит срок доставки заказов</td>\n",
       "      <td>2</td>\n",
       "      <td>5</td>\n",
       "      <td>4</td>\n",
       "      <td>10</td>\n",
       "    </tr>\n",
       "    <tr>\n",
       "      <th>2</th>\n",
       "      <td>Добавить блоки рекомендаций товаров на сайт интернет магазина, чтобы повысить конверсию и средний чек заказа</td>\n",
       "      <td>8</td>\n",
       "      <td>3</td>\n",
       "      <td>7</td>\n",
       "      <td>3</td>\n",
       "    </tr>\n",
       "    <tr>\n",
       "      <th>3</th>\n",
       "      <td>Изменить структура категорий, что увеличит конверсию, т.к. пользователи быстрее найдут нужный товар</td>\n",
       "      <td>8</td>\n",
       "      <td>3</td>\n",
       "      <td>3</td>\n",
       "      <td>8</td>\n",
       "    </tr>\n",
       "    <tr>\n",
       "      <th>4</th>\n",
       "      <td>Изменить цвет фона главной страницы, чтобы увеличить вовлеченность пользователей</td>\n",
       "      <td>3</td>\n",
       "      <td>1</td>\n",
       "      <td>1</td>\n",
       "      <td>1</td>\n",
       "    </tr>\n",
       "  </tbody>\n",
       "</table>\n",
       "</div>"
      ],
      "text/plain": [
       "                                                                                                     Hypothesis  \\\n",
       "0            Добавить два новых канала привлечения трафика, что позволит привлекать на 30% больше пользователей   \n",
       "1                                     Запустить собственную службу доставки, что сократит срок доставки заказов   \n",
       "2  Добавить блоки рекомендаций товаров на сайт интернет магазина, чтобы повысить конверсию и средний чек заказа   \n",
       "3           Изменить структура категорий, что увеличит конверсию, т.к. пользователи быстрее найдут нужный товар   \n",
       "4                              Изменить цвет фона главной страницы, чтобы увеличить вовлеченность пользователей   \n",
       "\n",
       "   Reach  Impact  Confidence  Efforts  \n",
       "0      3      10           8        6  \n",
       "1      2       5           4       10  \n",
       "2      8       3           7        3  \n",
       "3      8       3           3        8  \n",
       "4      3       1           1        1  "
      ]
     },
     "metadata": {},
     "output_type": "display_data"
    },
    {
     "name": "stdout",
     "output_type": "stream",
     "text": [
      "\n",
      "<class 'pandas.core.frame.DataFrame'>\n",
      "RangeIndex: 9 entries, 0 to 8\n",
      "Data columns (total 5 columns):\n",
      " #   Column      Non-Null Count  Dtype \n",
      "---  ------      --------------  ----- \n",
      " 0   Hypothesis  9 non-null      object\n",
      " 1   Reach       9 non-null      int64 \n",
      " 2   Impact      9 non-null      int64 \n",
      " 3   Confidence  9 non-null      int64 \n",
      " 4   Efforts     9 non-null      int64 \n",
      "dtypes: int64(4), object(1)\n",
      "memory usage: 488.0+ bytes\n",
      "\n",
      "\n",
      "----------Размер датасета---\n",
      "(9, 5)\n",
      "\n",
      "----------Пропуски----------\n"
     ]
    },
    {
     "data": {
      "text/html": [
       "<style  type=\"text/css\" >\n",
       "#T_953afb40_db44_11eb_8f80_a08cfd79dc69row0_col0,#T_953afb40_db44_11eb_8f80_a08cfd79dc69row1_col0,#T_953afb40_db44_11eb_8f80_a08cfd79dc69row2_col0,#T_953afb40_db44_11eb_8f80_a08cfd79dc69row3_col0,#T_953afb40_db44_11eb_8f80_a08cfd79dc69row4_col0{\n",
       "            background-color:  #3b4cc0;\n",
       "            color:  #f1f1f1;\n",
       "        }</style><table id=\"T_953afb40_db44_11eb_8f80_a08cfd79dc69\" ><thead>    <tr>        <th class=\"blank level0\" ></th>        <th class=\"col_heading level0 col0\" >0</th>    </tr></thead><tbody>\n",
       "                <tr>\n",
       "                        <th id=\"T_953afb40_db44_11eb_8f80_a08cfd79dc69level0_row0\" class=\"row_heading level0 row0\" >Hypothesis</th>\n",
       "                        <td id=\"T_953afb40_db44_11eb_8f80_a08cfd79dc69row0_col0\" class=\"data row0 col0\" >0.000000</td>\n",
       "            </tr>\n",
       "            <tr>\n",
       "                        <th id=\"T_953afb40_db44_11eb_8f80_a08cfd79dc69level0_row1\" class=\"row_heading level0 row1\" >Reach</th>\n",
       "                        <td id=\"T_953afb40_db44_11eb_8f80_a08cfd79dc69row1_col0\" class=\"data row1 col0\" >0.000000</td>\n",
       "            </tr>\n",
       "            <tr>\n",
       "                        <th id=\"T_953afb40_db44_11eb_8f80_a08cfd79dc69level0_row2\" class=\"row_heading level0 row2\" >Impact</th>\n",
       "                        <td id=\"T_953afb40_db44_11eb_8f80_a08cfd79dc69row2_col0\" class=\"data row2 col0\" >0.000000</td>\n",
       "            </tr>\n",
       "            <tr>\n",
       "                        <th id=\"T_953afb40_db44_11eb_8f80_a08cfd79dc69level0_row3\" class=\"row_heading level0 row3\" >Confidence</th>\n",
       "                        <td id=\"T_953afb40_db44_11eb_8f80_a08cfd79dc69row3_col0\" class=\"data row3 col0\" >0.000000</td>\n",
       "            </tr>\n",
       "            <tr>\n",
       "                        <th id=\"T_953afb40_db44_11eb_8f80_a08cfd79dc69level0_row4\" class=\"row_heading level0 row4\" >Efforts</th>\n",
       "                        <td id=\"T_953afb40_db44_11eb_8f80_a08cfd79dc69row4_col0\" class=\"data row4 col0\" >0.000000</td>\n",
       "            </tr>\n",
       "    </tbody></table>"
      ],
      "text/plain": [
       "<pandas.io.formats.style.Styler at 0x20606cc05e0>"
      ]
     },
     "metadata": {},
     "output_type": "display_data"
    },
    {
     "name": "stdout",
     "output_type": "stream",
     "text": [
      "\n",
      "----------Дубликаты----------\n",
      "Количество полных дубликатов: 0\n",
      "\n",
      "----------Типы данных--------\n",
      "Тип данных object: ['Hypothesis']\n",
      "Тип данных int64: ['Reach', 'Impact', 'Confidence', 'Efforts']\n",
      "\n",
      "\u001b[1morders\u001b[0m\n",
      "--------------Обзор загруженных данных-----------\n"
     ]
    },
    {
     "data": {
      "text/html": [
       "<div>\n",
       "<style scoped>\n",
       "    .dataframe tbody tr th:only-of-type {\n",
       "        vertical-align: middle;\n",
       "    }\n",
       "\n",
       "    .dataframe tbody tr th {\n",
       "        vertical-align: top;\n",
       "    }\n",
       "\n",
       "    .dataframe thead th {\n",
       "        text-align: right;\n",
       "    }\n",
       "</style>\n",
       "<table border=\"1\" class=\"dataframe\">\n",
       "  <thead>\n",
       "    <tr style=\"text-align: right;\">\n",
       "      <th></th>\n",
       "      <th>transactionId</th>\n",
       "      <th>visitorId</th>\n",
       "      <th>date</th>\n",
       "      <th>revenue</th>\n",
       "      <th>group</th>\n",
       "    </tr>\n",
       "  </thead>\n",
       "  <tbody>\n",
       "    <tr>\n",
       "      <th>0</th>\n",
       "      <td>3667963787</td>\n",
       "      <td>3312258926</td>\n",
       "      <td>2019-08-15</td>\n",
       "      <td>1650</td>\n",
       "      <td>B</td>\n",
       "    </tr>\n",
       "    <tr>\n",
       "      <th>1</th>\n",
       "      <td>2804400009</td>\n",
       "      <td>3642806036</td>\n",
       "      <td>2019-08-15</td>\n",
       "      <td>730</td>\n",
       "      <td>B</td>\n",
       "    </tr>\n",
       "    <tr>\n",
       "      <th>2</th>\n",
       "      <td>2961555356</td>\n",
       "      <td>4069496402</td>\n",
       "      <td>2019-08-15</td>\n",
       "      <td>400</td>\n",
       "      <td>A</td>\n",
       "    </tr>\n",
       "    <tr>\n",
       "      <th>3</th>\n",
       "      <td>3797467345</td>\n",
       "      <td>1196621759</td>\n",
       "      <td>2019-08-15</td>\n",
       "      <td>9759</td>\n",
       "      <td>B</td>\n",
       "    </tr>\n",
       "    <tr>\n",
       "      <th>4</th>\n",
       "      <td>2282983706</td>\n",
       "      <td>2322279887</td>\n",
       "      <td>2019-08-15</td>\n",
       "      <td>2308</td>\n",
       "      <td>B</td>\n",
       "    </tr>\n",
       "  </tbody>\n",
       "</table>\n",
       "</div>"
      ],
      "text/plain": [
       "   transactionId   visitorId        date  revenue group\n",
       "0     3667963787  3312258926  2019-08-15     1650     B\n",
       "1     2804400009  3642806036  2019-08-15      730     B\n",
       "2     2961555356  4069496402  2019-08-15      400     A\n",
       "3     3797467345  1196621759  2019-08-15     9759     B\n",
       "4     2282983706  2322279887  2019-08-15     2308     B"
      ]
     },
     "metadata": {},
     "output_type": "display_data"
    },
    {
     "name": "stdout",
     "output_type": "stream",
     "text": [
      "\n",
      "<class 'pandas.core.frame.DataFrame'>\n",
      "RangeIndex: 1197 entries, 0 to 1196\n",
      "Data columns (total 5 columns):\n",
      " #   Column         Non-Null Count  Dtype \n",
      "---  ------         --------------  ----- \n",
      " 0   transactionId  1197 non-null   int64 \n",
      " 1   visitorId      1197 non-null   int64 \n",
      " 2   date           1197 non-null   object\n",
      " 3   revenue        1197 non-null   int64 \n",
      " 4   group          1197 non-null   object\n",
      "dtypes: int64(3), object(2)\n",
      "memory usage: 46.9+ KB\n",
      "\n",
      "\n",
      "----------Размер датасета---\n",
      "(1197, 5)\n",
      "\n",
      "----------Пропуски----------\n"
     ]
    },
    {
     "data": {
      "text/html": [
       "<style  type=\"text/css\" >\n",
       "#T_954421d0_db44_11eb_91d9_a08cfd79dc69row0_col0,#T_954421d0_db44_11eb_91d9_a08cfd79dc69row1_col0,#T_954421d0_db44_11eb_91d9_a08cfd79dc69row2_col0,#T_954421d0_db44_11eb_91d9_a08cfd79dc69row3_col0,#T_954421d0_db44_11eb_91d9_a08cfd79dc69row4_col0{\n",
       "            background-color:  #3b4cc0;\n",
       "            color:  #f1f1f1;\n",
       "        }</style><table id=\"T_954421d0_db44_11eb_91d9_a08cfd79dc69\" ><thead>    <tr>        <th class=\"blank level0\" ></th>        <th class=\"col_heading level0 col0\" >0</th>    </tr></thead><tbody>\n",
       "                <tr>\n",
       "                        <th id=\"T_954421d0_db44_11eb_91d9_a08cfd79dc69level0_row0\" class=\"row_heading level0 row0\" >transactionId</th>\n",
       "                        <td id=\"T_954421d0_db44_11eb_91d9_a08cfd79dc69row0_col0\" class=\"data row0 col0\" >0.000000</td>\n",
       "            </tr>\n",
       "            <tr>\n",
       "                        <th id=\"T_954421d0_db44_11eb_91d9_a08cfd79dc69level0_row1\" class=\"row_heading level0 row1\" >visitorId</th>\n",
       "                        <td id=\"T_954421d0_db44_11eb_91d9_a08cfd79dc69row1_col0\" class=\"data row1 col0\" >0.000000</td>\n",
       "            </tr>\n",
       "            <tr>\n",
       "                        <th id=\"T_954421d0_db44_11eb_91d9_a08cfd79dc69level0_row2\" class=\"row_heading level0 row2\" >date</th>\n",
       "                        <td id=\"T_954421d0_db44_11eb_91d9_a08cfd79dc69row2_col0\" class=\"data row2 col0\" >0.000000</td>\n",
       "            </tr>\n",
       "            <tr>\n",
       "                        <th id=\"T_954421d0_db44_11eb_91d9_a08cfd79dc69level0_row3\" class=\"row_heading level0 row3\" >revenue</th>\n",
       "                        <td id=\"T_954421d0_db44_11eb_91d9_a08cfd79dc69row3_col0\" class=\"data row3 col0\" >0.000000</td>\n",
       "            </tr>\n",
       "            <tr>\n",
       "                        <th id=\"T_954421d0_db44_11eb_91d9_a08cfd79dc69level0_row4\" class=\"row_heading level0 row4\" >group</th>\n",
       "                        <td id=\"T_954421d0_db44_11eb_91d9_a08cfd79dc69row4_col0\" class=\"data row4 col0\" >0.000000</td>\n",
       "            </tr>\n",
       "    </tbody></table>"
      ],
      "text/plain": [
       "<pandas.io.formats.style.Styler at 0x206081127f0>"
      ]
     },
     "metadata": {},
     "output_type": "display_data"
    },
    {
     "name": "stdout",
     "output_type": "stream",
     "text": [
      "\n",
      "----------Дубликаты----------\n",
      "Количество полных дубликатов: 0\n",
      "\n",
      "----------Типы данных--------\n",
      "Тип данных int64: ['transactionId', 'visitorId', 'revenue']\n",
      "Тип данных object: ['date', 'group']\n",
      "\n",
      "\u001b[1mvisitors\u001b[0m\n",
      "--------------Обзор загруженных данных-----------\n"
     ]
    },
    {
     "data": {
      "text/html": [
       "<div>\n",
       "<style scoped>\n",
       "    .dataframe tbody tr th:only-of-type {\n",
       "        vertical-align: middle;\n",
       "    }\n",
       "\n",
       "    .dataframe tbody tr th {\n",
       "        vertical-align: top;\n",
       "    }\n",
       "\n",
       "    .dataframe thead th {\n",
       "        text-align: right;\n",
       "    }\n",
       "</style>\n",
       "<table border=\"1\" class=\"dataframe\">\n",
       "  <thead>\n",
       "    <tr style=\"text-align: right;\">\n",
       "      <th></th>\n",
       "      <th>date</th>\n",
       "      <th>group</th>\n",
       "      <th>visitors</th>\n",
       "    </tr>\n",
       "  </thead>\n",
       "  <tbody>\n",
       "    <tr>\n",
       "      <th>0</th>\n",
       "      <td>2019-08-01</td>\n",
       "      <td>A</td>\n",
       "      <td>719</td>\n",
       "    </tr>\n",
       "    <tr>\n",
       "      <th>1</th>\n",
       "      <td>2019-08-02</td>\n",
       "      <td>A</td>\n",
       "      <td>619</td>\n",
       "    </tr>\n",
       "    <tr>\n",
       "      <th>2</th>\n",
       "      <td>2019-08-03</td>\n",
       "      <td>A</td>\n",
       "      <td>507</td>\n",
       "    </tr>\n",
       "    <tr>\n",
       "      <th>3</th>\n",
       "      <td>2019-08-04</td>\n",
       "      <td>A</td>\n",
       "      <td>717</td>\n",
       "    </tr>\n",
       "    <tr>\n",
       "      <th>4</th>\n",
       "      <td>2019-08-05</td>\n",
       "      <td>A</td>\n",
       "      <td>756</td>\n",
       "    </tr>\n",
       "  </tbody>\n",
       "</table>\n",
       "</div>"
      ],
      "text/plain": [
       "         date group  visitors\n",
       "0  2019-08-01     A       719\n",
       "1  2019-08-02     A       619\n",
       "2  2019-08-03     A       507\n",
       "3  2019-08-04     A       717\n",
       "4  2019-08-05     A       756"
      ]
     },
     "metadata": {},
     "output_type": "display_data"
    },
    {
     "name": "stdout",
     "output_type": "stream",
     "text": [
      "\n",
      "<class 'pandas.core.frame.DataFrame'>\n",
      "RangeIndex: 62 entries, 0 to 61\n",
      "Data columns (total 3 columns):\n",
      " #   Column    Non-Null Count  Dtype \n",
      "---  ------    --------------  ----- \n",
      " 0   date      62 non-null     object\n",
      " 1   group     62 non-null     object\n",
      " 2   visitors  62 non-null     int64 \n",
      "dtypes: int64(1), object(2)\n",
      "memory usage: 1.6+ KB\n",
      "\n",
      "\n",
      "----------Размер датасета---\n",
      "(62, 3)\n",
      "\n",
      "----------Пропуски----------\n"
     ]
    },
    {
     "data": {
      "text/html": [
       "<style  type=\"text/css\" >\n",
       "#T_9553138c_db44_11eb_85c5_a08cfd79dc69row0_col0,#T_9553138c_db44_11eb_85c5_a08cfd79dc69row1_col0,#T_9553138c_db44_11eb_85c5_a08cfd79dc69row2_col0{\n",
       "            background-color:  #3b4cc0;\n",
       "            color:  #f1f1f1;\n",
       "        }</style><table id=\"T_9553138c_db44_11eb_85c5_a08cfd79dc69\" ><thead>    <tr>        <th class=\"blank level0\" ></th>        <th class=\"col_heading level0 col0\" >0</th>    </tr></thead><tbody>\n",
       "                <tr>\n",
       "                        <th id=\"T_9553138c_db44_11eb_85c5_a08cfd79dc69level0_row0\" class=\"row_heading level0 row0\" >date</th>\n",
       "                        <td id=\"T_9553138c_db44_11eb_85c5_a08cfd79dc69row0_col0\" class=\"data row0 col0\" >0.000000</td>\n",
       "            </tr>\n",
       "            <tr>\n",
       "                        <th id=\"T_9553138c_db44_11eb_85c5_a08cfd79dc69level0_row1\" class=\"row_heading level0 row1\" >group</th>\n",
       "                        <td id=\"T_9553138c_db44_11eb_85c5_a08cfd79dc69row1_col0\" class=\"data row1 col0\" >0.000000</td>\n",
       "            </tr>\n",
       "            <tr>\n",
       "                        <th id=\"T_9553138c_db44_11eb_85c5_a08cfd79dc69level0_row2\" class=\"row_heading level0 row2\" >visitors</th>\n",
       "                        <td id=\"T_9553138c_db44_11eb_85c5_a08cfd79dc69row2_col0\" class=\"data row2 col0\" >0.000000</td>\n",
       "            </tr>\n",
       "    </tbody></table>"
      ],
      "text/plain": [
       "<pandas.io.formats.style.Styler at 0x206081126d0>"
      ]
     },
     "metadata": {},
     "output_type": "display_data"
    },
    {
     "name": "stdout",
     "output_type": "stream",
     "text": [
      "\n",
      "----------Дубликаты----------\n",
      "Количество полных дубликатов: 0\n",
      "\n",
      "----------Типы данных--------\n",
      "Тип данных object: ['date', 'group']\n",
      "Тип данных int64: ['visitors']\n",
      "\n"
     ]
    }
   ],
   "source": [
    "list_df=[hipotes, orders, visitors]\n",
    "all_dfs = {'hipotes': hipotes, 'orders': orders, 'visitors': visitors} # собираем все датафреймы в одну общую переменную\n",
    "for df_key in all_dfs.keys():\n",
    "    print('\\033[1m' + df_key + '\\033[0m')\n",
    "    info(all_dfs[df_key])\n",
    "    print()"
   ]
  },
  {
   "cell_type": "code",
   "execution_count": 5,
   "metadata": {},
   "outputs": [],
   "source": [
    "orders['date']=pd.to_datetime(orders['date'])\n",
    "visitors['date']=pd.to_datetime(visitors['date'])"
   ]
  },
  {
   "cell_type": "markdown",
   "metadata": {},
   "source": [
    "### Вывод"
   ]
  },
  {
   "cell_type": "markdown",
   "metadata": {},
   "source": [
    "В ходе ознакомления и подготовки данных проделали следущие работы:\n",
    "- cоздали три таблицы с данными(hipotes, orders, visitors);\n",
    "- проверили данные на пропуски и полные дубликаты(пропусков и дубликатов не оказалось);\n",
    "- изменили тип данных в столбцах с датой с object на datetime[64].\n"
   ]
  },
  {
   "cell_type": "markdown",
   "metadata": {},
   "source": [
    "## Приоритизация гипотез"
   ]
  },
  {
   "cell_type": "code",
   "execution_count": 6,
   "metadata": {},
   "outputs": [
    {
     "data": {
      "text/html": [
       "<div>\n",
       "<style scoped>\n",
       "    .dataframe tbody tr th:only-of-type {\n",
       "        vertical-align: middle;\n",
       "    }\n",
       "\n",
       "    .dataframe tbody tr th {\n",
       "        vertical-align: top;\n",
       "    }\n",
       "\n",
       "    .dataframe thead th {\n",
       "        text-align: right;\n",
       "    }\n",
       "</style>\n",
       "<table border=\"1\" class=\"dataframe\">\n",
       "  <thead>\n",
       "    <tr style=\"text-align: right;\">\n",
       "      <th></th>\n",
       "      <th>Hypothesis</th>\n",
       "      <th>Reach</th>\n",
       "      <th>Impact</th>\n",
       "      <th>Confidence</th>\n",
       "      <th>Efforts</th>\n",
       "    </tr>\n",
       "  </thead>\n",
       "  <tbody>\n",
       "    <tr>\n",
       "      <th>0</th>\n",
       "      <td>Добавить два новых канала привлечения трафика, что позволит привлекать на 30% больше пользователей</td>\n",
       "      <td>3</td>\n",
       "      <td>10</td>\n",
       "      <td>8</td>\n",
       "      <td>6</td>\n",
       "    </tr>\n",
       "    <tr>\n",
       "      <th>1</th>\n",
       "      <td>Запустить собственную службу доставки, что сократит срок доставки заказов</td>\n",
       "      <td>2</td>\n",
       "      <td>5</td>\n",
       "      <td>4</td>\n",
       "      <td>10</td>\n",
       "    </tr>\n",
       "    <tr>\n",
       "      <th>2</th>\n",
       "      <td>Добавить блоки рекомендаций товаров на сайт интернет магазина, чтобы повысить конверсию и средний чек заказа</td>\n",
       "      <td>8</td>\n",
       "      <td>3</td>\n",
       "      <td>7</td>\n",
       "      <td>3</td>\n",
       "    </tr>\n",
       "    <tr>\n",
       "      <th>3</th>\n",
       "      <td>Изменить структура категорий, что увеличит конверсию, т.к. пользователи быстрее найдут нужный товар</td>\n",
       "      <td>8</td>\n",
       "      <td>3</td>\n",
       "      <td>3</td>\n",
       "      <td>8</td>\n",
       "    </tr>\n",
       "    <tr>\n",
       "      <th>4</th>\n",
       "      <td>Изменить цвет фона главной страницы, чтобы увеличить вовлеченность пользователей</td>\n",
       "      <td>3</td>\n",
       "      <td>1</td>\n",
       "      <td>1</td>\n",
       "      <td>1</td>\n",
       "    </tr>\n",
       "  </tbody>\n",
       "</table>\n",
       "</div>"
      ],
      "text/plain": [
       "                                                                                                     Hypothesis  \\\n",
       "0            Добавить два новых канала привлечения трафика, что позволит привлекать на 30% больше пользователей   \n",
       "1                                     Запустить собственную службу доставки, что сократит срок доставки заказов   \n",
       "2  Добавить блоки рекомендаций товаров на сайт интернет магазина, чтобы повысить конверсию и средний чек заказа   \n",
       "3           Изменить структура категорий, что увеличит конверсию, т.к. пользователи быстрее найдут нужный товар   \n",
       "4                              Изменить цвет фона главной страницы, чтобы увеличить вовлеченность пользователей   \n",
       "\n",
       "   Reach  Impact  Confidence  Efforts  \n",
       "0      3      10           8        6  \n",
       "1      2       5           4       10  \n",
       "2      8       3           7        3  \n",
       "3      8       3           3        8  \n",
       "4      3       1           1        1  "
      ]
     },
     "metadata": {},
     "output_type": "display_data"
    }
   ],
   "source": [
    "display(hipotes.head())"
   ]
  },
  {
   "cell_type": "markdown",
   "metadata": {},
   "source": [
    "### Приотезация фреймворком ICE"
   ]
  },
  {
   "cell_type": "code",
   "execution_count": 7,
   "metadata": {},
   "outputs": [
    {
     "data": {
      "text/html": [
       "<div>\n",
       "<style scoped>\n",
       "    .dataframe tbody tr th:only-of-type {\n",
       "        vertical-align: middle;\n",
       "    }\n",
       "\n",
       "    .dataframe tbody tr th {\n",
       "        vertical-align: top;\n",
       "    }\n",
       "\n",
       "    .dataframe thead th {\n",
       "        text-align: right;\n",
       "    }\n",
       "</style>\n",
       "<table border=\"1\" class=\"dataframe\">\n",
       "  <thead>\n",
       "    <tr style=\"text-align: right;\">\n",
       "      <th></th>\n",
       "      <th>Hypothesis</th>\n",
       "      <th>Reach</th>\n",
       "      <th>Impact</th>\n",
       "      <th>Confidence</th>\n",
       "      <th>Efforts</th>\n",
       "      <th>ICE</th>\n",
       "    </tr>\n",
       "  </thead>\n",
       "  <tbody>\n",
       "    <tr>\n",
       "      <th>8</th>\n",
       "      <td>Запустить акцию, дающую скидку на товар в день рождения</td>\n",
       "      <td>1</td>\n",
       "      <td>9</td>\n",
       "      <td>9</td>\n",
       "      <td>5</td>\n",
       "      <td>16.200000</td>\n",
       "    </tr>\n",
       "    <tr>\n",
       "      <th>0</th>\n",
       "      <td>Добавить два новых канала привлечения трафика, что позволит привлекать на 30% больше пользователей</td>\n",
       "      <td>3</td>\n",
       "      <td>10</td>\n",
       "      <td>8</td>\n",
       "      <td>6</td>\n",
       "      <td>13.333333</td>\n",
       "    </tr>\n",
       "    <tr>\n",
       "      <th>7</th>\n",
       "      <td>Добавить форму подписки на все основные страницы, чтобы собрать базу клиентов для email-рассылок</td>\n",
       "      <td>10</td>\n",
       "      <td>7</td>\n",
       "      <td>8</td>\n",
       "      <td>5</td>\n",
       "      <td>11.200000</td>\n",
       "    </tr>\n",
       "    <tr>\n",
       "      <th>6</th>\n",
       "      <td>Показать на главной странице баннеры с актуальными акциями и распродажами, чтобы увеличить конверсию</td>\n",
       "      <td>5</td>\n",
       "      <td>3</td>\n",
       "      <td>8</td>\n",
       "      <td>3</td>\n",
       "      <td>8.000000</td>\n",
       "    </tr>\n",
       "    <tr>\n",
       "      <th>2</th>\n",
       "      <td>Добавить блоки рекомендаций товаров на сайт интернет магазина, чтобы повысить конверсию и средний чек заказа</td>\n",
       "      <td>8</td>\n",
       "      <td>3</td>\n",
       "      <td>7</td>\n",
       "      <td>3</td>\n",
       "      <td>7.000000</td>\n",
       "    </tr>\n",
       "    <tr>\n",
       "      <th>1</th>\n",
       "      <td>Запустить собственную службу доставки, что сократит срок доставки заказов</td>\n",
       "      <td>2</td>\n",
       "      <td>5</td>\n",
       "      <td>4</td>\n",
       "      <td>10</td>\n",
       "      <td>2.000000</td>\n",
       "    </tr>\n",
       "    <tr>\n",
       "      <th>5</th>\n",
       "      <td>Добавить страницу отзывов клиентов о магазине, что позволит увеличить количество заказов</td>\n",
       "      <td>3</td>\n",
       "      <td>2</td>\n",
       "      <td>2</td>\n",
       "      <td>3</td>\n",
       "      <td>1.333333</td>\n",
       "    </tr>\n",
       "    <tr>\n",
       "      <th>3</th>\n",
       "      <td>Изменить структура категорий, что увеличит конверсию, т.к. пользователи быстрее найдут нужный товар</td>\n",
       "      <td>8</td>\n",
       "      <td>3</td>\n",
       "      <td>3</td>\n",
       "      <td>8</td>\n",
       "      <td>1.125000</td>\n",
       "    </tr>\n",
       "    <tr>\n",
       "      <th>4</th>\n",
       "      <td>Изменить цвет фона главной страницы, чтобы увеличить вовлеченность пользователей</td>\n",
       "      <td>3</td>\n",
       "      <td>1</td>\n",
       "      <td>1</td>\n",
       "      <td>1</td>\n",
       "      <td>1.000000</td>\n",
       "    </tr>\n",
       "  </tbody>\n",
       "</table>\n",
       "</div>"
      ],
      "text/plain": [
       "                                                                                                     Hypothesis  \\\n",
       "8                                                       Запустить акцию, дающую скидку на товар в день рождения   \n",
       "0            Добавить два новых канала привлечения трафика, что позволит привлекать на 30% больше пользователей   \n",
       "7              Добавить форму подписки на все основные страницы, чтобы собрать базу клиентов для email-рассылок   \n",
       "6          Показать на главной странице баннеры с актуальными акциями и распродажами, чтобы увеличить конверсию   \n",
       "2  Добавить блоки рекомендаций товаров на сайт интернет магазина, чтобы повысить конверсию и средний чек заказа   \n",
       "1                                     Запустить собственную службу доставки, что сократит срок доставки заказов   \n",
       "5                      Добавить страницу отзывов клиентов о магазине, что позволит увеличить количество заказов   \n",
       "3           Изменить структура категорий, что увеличит конверсию, т.к. пользователи быстрее найдут нужный товар   \n",
       "4                              Изменить цвет фона главной страницы, чтобы увеличить вовлеченность пользователей   \n",
       "\n",
       "   Reach  Impact  Confidence  Efforts        ICE  \n",
       "8      1       9           9        5  16.200000  \n",
       "0      3      10           8        6  13.333333  \n",
       "7     10       7           8        5  11.200000  \n",
       "6      5       3           8        3   8.000000  \n",
       "2      8       3           7        3   7.000000  \n",
       "1      2       5           4       10   2.000000  \n",
       "5      3       2           2        3   1.333333  \n",
       "3      8       3           3        8   1.125000  \n",
       "4      3       1           1        1   1.000000  "
      ]
     },
     "metadata": {},
     "output_type": "display_data"
    }
   ],
   "source": [
    "hipotes['ICE']=hipotes['Impact']*hipotes['Confidence'] / hipotes['Efforts']\n",
    "display(hipotes.sort_values(by='ICE', ascending=False))"
   ]
  },
  {
   "cell_type": "markdown",
   "metadata": {},
   "source": [
    "### Приотезация фреймворком RICE"
   ]
  },
  {
   "cell_type": "code",
   "execution_count": 8,
   "metadata": {},
   "outputs": [
    {
     "data": {
      "text/html": [
       "<div>\n",
       "<style scoped>\n",
       "    .dataframe tbody tr th:only-of-type {\n",
       "        vertical-align: middle;\n",
       "    }\n",
       "\n",
       "    .dataframe tbody tr th {\n",
       "        vertical-align: top;\n",
       "    }\n",
       "\n",
       "    .dataframe thead th {\n",
       "        text-align: right;\n",
       "    }\n",
       "</style>\n",
       "<table border=\"1\" class=\"dataframe\">\n",
       "  <thead>\n",
       "    <tr style=\"text-align: right;\">\n",
       "      <th></th>\n",
       "      <th>Hypothesis</th>\n",
       "      <th>Reach</th>\n",
       "      <th>Impact</th>\n",
       "      <th>Confidence</th>\n",
       "      <th>Efforts</th>\n",
       "      <th>ICE</th>\n",
       "      <th>RICE</th>\n",
       "    </tr>\n",
       "  </thead>\n",
       "  <tbody>\n",
       "    <tr>\n",
       "      <th>7</th>\n",
       "      <td>Добавить форму подписки на все основные страницы, чтобы собрать базу клиентов для email-рассылок</td>\n",
       "      <td>10</td>\n",
       "      <td>7</td>\n",
       "      <td>8</td>\n",
       "      <td>5</td>\n",
       "      <td>11.200000</td>\n",
       "      <td>112.0</td>\n",
       "    </tr>\n",
       "    <tr>\n",
       "      <th>2</th>\n",
       "      <td>Добавить блоки рекомендаций товаров на сайт интернет магазина, чтобы повысить конверсию и средний чек заказа</td>\n",
       "      <td>8</td>\n",
       "      <td>3</td>\n",
       "      <td>7</td>\n",
       "      <td>3</td>\n",
       "      <td>7.000000</td>\n",
       "      <td>56.0</td>\n",
       "    </tr>\n",
       "    <tr>\n",
       "      <th>0</th>\n",
       "      <td>Добавить два новых канала привлечения трафика, что позволит привлекать на 30% больше пользователей</td>\n",
       "      <td>3</td>\n",
       "      <td>10</td>\n",
       "      <td>8</td>\n",
       "      <td>6</td>\n",
       "      <td>13.333333</td>\n",
       "      <td>40.0</td>\n",
       "    </tr>\n",
       "    <tr>\n",
       "      <th>6</th>\n",
       "      <td>Показать на главной странице баннеры с актуальными акциями и распродажами, чтобы увеличить конверсию</td>\n",
       "      <td>5</td>\n",
       "      <td>3</td>\n",
       "      <td>8</td>\n",
       "      <td>3</td>\n",
       "      <td>8.000000</td>\n",
       "      <td>40.0</td>\n",
       "    </tr>\n",
       "    <tr>\n",
       "      <th>8</th>\n",
       "      <td>Запустить акцию, дающую скидку на товар в день рождения</td>\n",
       "      <td>1</td>\n",
       "      <td>9</td>\n",
       "      <td>9</td>\n",
       "      <td>5</td>\n",
       "      <td>16.200000</td>\n",
       "      <td>16.2</td>\n",
       "    </tr>\n",
       "    <tr>\n",
       "      <th>3</th>\n",
       "      <td>Изменить структура категорий, что увеличит конверсию, т.к. пользователи быстрее найдут нужный товар</td>\n",
       "      <td>8</td>\n",
       "      <td>3</td>\n",
       "      <td>3</td>\n",
       "      <td>8</td>\n",
       "      <td>1.125000</td>\n",
       "      <td>9.0</td>\n",
       "    </tr>\n",
       "    <tr>\n",
       "      <th>1</th>\n",
       "      <td>Запустить собственную службу доставки, что сократит срок доставки заказов</td>\n",
       "      <td>2</td>\n",
       "      <td>5</td>\n",
       "      <td>4</td>\n",
       "      <td>10</td>\n",
       "      <td>2.000000</td>\n",
       "      <td>4.0</td>\n",
       "    </tr>\n",
       "    <tr>\n",
       "      <th>5</th>\n",
       "      <td>Добавить страницу отзывов клиентов о магазине, что позволит увеличить количество заказов</td>\n",
       "      <td>3</td>\n",
       "      <td>2</td>\n",
       "      <td>2</td>\n",
       "      <td>3</td>\n",
       "      <td>1.333333</td>\n",
       "      <td>4.0</td>\n",
       "    </tr>\n",
       "    <tr>\n",
       "      <th>4</th>\n",
       "      <td>Изменить цвет фона главной страницы, чтобы увеличить вовлеченность пользователей</td>\n",
       "      <td>3</td>\n",
       "      <td>1</td>\n",
       "      <td>1</td>\n",
       "      <td>1</td>\n",
       "      <td>1.000000</td>\n",
       "      <td>3.0</td>\n",
       "    </tr>\n",
       "  </tbody>\n",
       "</table>\n",
       "</div>"
      ],
      "text/plain": [
       "                                                                                                     Hypothesis  \\\n",
       "7              Добавить форму подписки на все основные страницы, чтобы собрать базу клиентов для email-рассылок   \n",
       "2  Добавить блоки рекомендаций товаров на сайт интернет магазина, чтобы повысить конверсию и средний чек заказа   \n",
       "0            Добавить два новых канала привлечения трафика, что позволит привлекать на 30% больше пользователей   \n",
       "6          Показать на главной странице баннеры с актуальными акциями и распродажами, чтобы увеличить конверсию   \n",
       "8                                                       Запустить акцию, дающую скидку на товар в день рождения   \n",
       "3           Изменить структура категорий, что увеличит конверсию, т.к. пользователи быстрее найдут нужный товар   \n",
       "1                                     Запустить собственную службу доставки, что сократит срок доставки заказов   \n",
       "5                      Добавить страницу отзывов клиентов о магазине, что позволит увеличить количество заказов   \n",
       "4                              Изменить цвет фона главной страницы, чтобы увеличить вовлеченность пользователей   \n",
       "\n",
       "   Reach  Impact  Confidence  Efforts        ICE   RICE  \n",
       "7     10       7           8        5  11.200000  112.0  \n",
       "2      8       3           7        3   7.000000   56.0  \n",
       "0      3      10           8        6  13.333333   40.0  \n",
       "6      5       3           8        3   8.000000   40.0  \n",
       "8      1       9           9        5  16.200000   16.2  \n",
       "3      8       3           3        8   1.125000    9.0  \n",
       "1      2       5           4       10   2.000000    4.0  \n",
       "5      3       2           2        3   1.333333    4.0  \n",
       "4      3       1           1        1   1.000000    3.0  "
      ]
     },
     "metadata": {},
     "output_type": "display_data"
    }
   ],
   "source": [
    "hipotes['RICE']=hipotes['Reach']*hipotes['Impact']*hipotes['Confidence'] / hipotes['Efforts']\n",
    "display(hipotes.sort_values(by='RICE', ascending=False))"
   ]
  },
  {
   "cell_type": "markdown",
   "metadata": {},
   "source": [
    "### Вывод\n",
    "\n",
    "При преоритизации методом ICE наибольший балл оценки набрала гипотеза 8(Запустить акцию, дающую скидку на товар в день). При преоритизации методом RICE наибольший балл получила гипотеза 7(Добавить блоки рекомендаций товаров на сайт), гипотеза же 8 скатилась в середину списка.\n",
    "\n",
    "Изменение произошли из за показателя reach(охват), если показатель ice не учитывает  охват, то RICE напротив, поэтому гипотезы с низкми reach скатились в низ, а с высоким вырвались в лидеры."
   ]
  },
  {
   "cell_type": "markdown",
   "metadata": {},
   "source": [
    "## Анализ A/B-теста"
   ]
  },
  {
   "cell_type": "markdown",
   "metadata": {},
   "source": [
    "### График коммулятивной выручки"
   ]
  },
  {
   "cell_type": "code",
   "execution_count": 9,
   "metadata": {},
   "outputs": [
    {
     "data": {
      "text/html": [
       "<div>\n",
       "<style scoped>\n",
       "    .dataframe tbody tr th:only-of-type {\n",
       "        vertical-align: middle;\n",
       "    }\n",
       "\n",
       "    .dataframe tbody tr th {\n",
       "        vertical-align: top;\n",
       "    }\n",
       "\n",
       "    .dataframe thead th {\n",
       "        text-align: right;\n",
       "    }\n",
       "</style>\n",
       "<table border=\"1\" class=\"dataframe\">\n",
       "  <thead>\n",
       "    <tr style=\"text-align: right;\">\n",
       "      <th></th>\n",
       "      <th>date</th>\n",
       "      <th>group</th>\n",
       "      <th>revenue</th>\n",
       "      <th>transactionId</th>\n",
       "      <th>visitors</th>\n",
       "    </tr>\n",
       "  </thead>\n",
       "  <tbody>\n",
       "    <tr>\n",
       "      <th>0</th>\n",
       "      <td>2019-08-01</td>\n",
       "      <td>A</td>\n",
       "      <td>148579</td>\n",
       "      <td>24</td>\n",
       "      <td>719</td>\n",
       "    </tr>\n",
       "    <tr>\n",
       "      <th>1</th>\n",
       "      <td>2019-08-01</td>\n",
       "      <td>B</td>\n",
       "      <td>101217</td>\n",
       "      <td>21</td>\n",
       "      <td>713</td>\n",
       "    </tr>\n",
       "    <tr>\n",
       "      <th>2</th>\n",
       "      <td>2019-08-02</td>\n",
       "      <td>A</td>\n",
       "      <td>93822</td>\n",
       "      <td>20</td>\n",
       "      <td>619</td>\n",
       "    </tr>\n",
       "    <tr>\n",
       "      <th>3</th>\n",
       "      <td>2019-08-02</td>\n",
       "      <td>B</td>\n",
       "      <td>165531</td>\n",
       "      <td>24</td>\n",
       "      <td>581</td>\n",
       "    </tr>\n",
       "    <tr>\n",
       "      <th>4</th>\n",
       "      <td>2019-08-03</td>\n",
       "      <td>A</td>\n",
       "      <td>112473</td>\n",
       "      <td>24</td>\n",
       "      <td>507</td>\n",
       "    </tr>\n",
       "  </tbody>\n",
       "</table>\n",
       "</div>"
      ],
      "text/plain": [
       "        date group  revenue  transactionId  visitors\n",
       "0 2019-08-01     A   148579             24       719\n",
       "1 2019-08-01     B   101217             21       713\n",
       "2 2019-08-02     A    93822             20       619\n",
       "3 2019-08-02     B   165531             24       581\n",
       "4 2019-08-03     A   112473             24       507"
      ]
     },
     "metadata": {},
     "output_type": "display_data"
    },
    {
     "data": {
      "text/html": [
       "<div>\n",
       "<style scoped>\n",
       "    .dataframe tbody tr th:only-of-type {\n",
       "        vertical-align: middle;\n",
       "    }\n",
       "\n",
       "    .dataframe tbody tr th {\n",
       "        vertical-align: top;\n",
       "    }\n",
       "\n",
       "    .dataframe thead th {\n",
       "        text-align: right;\n",
       "    }\n",
       "</style>\n",
       "<table border=\"1\" class=\"dataframe\">\n",
       "  <thead>\n",
       "    <tr style=\"text-align: right;\">\n",
       "      <th></th>\n",
       "      <th>date</th>\n",
       "      <th>group</th>\n",
       "      <th>revenue</th>\n",
       "      <th>transactionId</th>\n",
       "      <th>visitors</th>\n",
       "    </tr>\n",
       "  </thead>\n",
       "  <tbody>\n",
       "    <tr>\n",
       "      <th>0</th>\n",
       "      <td>2019-08-01</td>\n",
       "      <td>A</td>\n",
       "      <td>148579</td>\n",
       "      <td>24</td>\n",
       "      <td>719</td>\n",
       "    </tr>\n",
       "    <tr>\n",
       "      <th>2</th>\n",
       "      <td>2019-08-02</td>\n",
       "      <td>A</td>\n",
       "      <td>93822</td>\n",
       "      <td>20</td>\n",
       "      <td>619</td>\n",
       "    </tr>\n",
       "    <tr>\n",
       "      <th>4</th>\n",
       "      <td>2019-08-03</td>\n",
       "      <td>A</td>\n",
       "      <td>112473</td>\n",
       "      <td>24</td>\n",
       "      <td>507</td>\n",
       "    </tr>\n",
       "    <tr>\n",
       "      <th>6</th>\n",
       "      <td>2019-08-04</td>\n",
       "      <td>A</td>\n",
       "      <td>70825</td>\n",
       "      <td>16</td>\n",
       "      <td>717</td>\n",
       "    </tr>\n",
       "    <tr>\n",
       "      <th>8</th>\n",
       "      <td>2019-08-05</td>\n",
       "      <td>A</td>\n",
       "      <td>124218</td>\n",
       "      <td>25</td>\n",
       "      <td>756</td>\n",
       "    </tr>\n",
       "  </tbody>\n",
       "</table>\n",
       "</div>"
      ],
      "text/plain": [
       "        date group  revenue  transactionId  visitors\n",
       "0 2019-08-01     A   148579             24       719\n",
       "2 2019-08-02     A    93822             20       619\n",
       "4 2019-08-03     A   112473             24       507\n",
       "6 2019-08-04     A    70825             16       717\n",
       "8 2019-08-05     A   124218             25       756"
      ]
     },
     "metadata": {},
     "output_type": "display_data"
    },
    {
     "data": {
      "text/html": [
       "<div>\n",
       "<style scoped>\n",
       "    .dataframe tbody tr th:only-of-type {\n",
       "        vertical-align: middle;\n",
       "    }\n",
       "\n",
       "    .dataframe tbody tr th {\n",
       "        vertical-align: top;\n",
       "    }\n",
       "\n",
       "    .dataframe thead th {\n",
       "        text-align: right;\n",
       "    }\n",
       "</style>\n",
       "<table border=\"1\" class=\"dataframe\">\n",
       "  <thead>\n",
       "    <tr style=\"text-align: right;\">\n",
       "      <th></th>\n",
       "      <th>date</th>\n",
       "      <th>group</th>\n",
       "      <th>revenue</th>\n",
       "      <th>transactionId</th>\n",
       "      <th>visitors</th>\n",
       "    </tr>\n",
       "  </thead>\n",
       "  <tbody>\n",
       "    <tr>\n",
       "      <th>1</th>\n",
       "      <td>2019-08-01</td>\n",
       "      <td>B</td>\n",
       "      <td>101217</td>\n",
       "      <td>21</td>\n",
       "      <td>713</td>\n",
       "    </tr>\n",
       "    <tr>\n",
       "      <th>3</th>\n",
       "      <td>2019-08-02</td>\n",
       "      <td>B</td>\n",
       "      <td>165531</td>\n",
       "      <td>24</td>\n",
       "      <td>581</td>\n",
       "    </tr>\n",
       "    <tr>\n",
       "      <th>5</th>\n",
       "      <td>2019-08-03</td>\n",
       "      <td>B</td>\n",
       "      <td>114248</td>\n",
       "      <td>16</td>\n",
       "      <td>509</td>\n",
       "    </tr>\n",
       "    <tr>\n",
       "      <th>7</th>\n",
       "      <td>2019-08-04</td>\n",
       "      <td>B</td>\n",
       "      <td>108571</td>\n",
       "      <td>17</td>\n",
       "      <td>770</td>\n",
       "    </tr>\n",
       "    <tr>\n",
       "      <th>9</th>\n",
       "      <td>2019-08-05</td>\n",
       "      <td>B</td>\n",
       "      <td>92428</td>\n",
       "      <td>23</td>\n",
       "      <td>707</td>\n",
       "    </tr>\n",
       "  </tbody>\n",
       "</table>\n",
       "</div>"
      ],
      "text/plain": [
       "        date group  revenue  transactionId  visitors\n",
       "1 2019-08-01     B   101217             21       713\n",
       "3 2019-08-02     B   165531             24       581\n",
       "5 2019-08-03     B   114248             16       509\n",
       "7 2019-08-04     B   108571             17       770\n",
       "9 2019-08-05     B    92428             23       707"
      ]
     },
     "metadata": {},
     "output_type": "display_data"
    }
   ],
   "source": [
    "orders_revenue = orders.groupby(['date', 'group'], as_index=False).agg({'revenue':'sum','transactionId':'nunique'})\n",
    "orders_revenue=orders_revenue.merge(visitors, on=('date','group'))\n",
    "orders_revenue_a=orders_revenue.query('group==\"A\"')\n",
    "orders_revenue_b=orders_revenue.query('group==\"B\"')\n",
    "display(orders_revenue.head())\n",
    "display(orders_revenue_a.head())\n",
    "display(orders_revenue_b.head())"
   ]
  },
  {
   "cell_type": "code",
   "execution_count": 10,
   "metadata": {},
   "outputs": [],
   "source": [
    "orders_revenue_a['revenue_cumsum']=orders_revenue_a['revenue'].cumsum()\n",
    "orders_revenue_b['revenue_cumsum']=orders_revenue_b['revenue'].cumsum()"
   ]
  },
  {
   "cell_type": "code",
   "execution_count": 11,
   "metadata": {},
   "outputs": [
    {
     "data": {
      "image/png": "[encoded data removed]",
      "text/plain": [
       "<Figure size 1080x360 with 1 Axes>"
      ]
     },
     "metadata": {
      "needs_background": "light"
     },
     "output_type": "display_data"
    }
   ],
   "source": [
    "plt.figure(figsize = (15, 5))\n",
    "plt.title('График коммулятивной выручки по тестам')\n",
    "plt.xlabel('Дата')\n",
    "plt.ylabel('Выручка')\n",
    "plt.grid(True)\n",
    "plt.plot(orders_revenue_a['date'],orders_revenue_a['revenue_cumsum'], label='A')\n",
    "\n",
    "plt.plot(orders_revenue_b['date'], orders_revenue_b['revenue_cumsum'], label='B')\n",
    "plt.legend() \n",
    "plt.grid(False)\n",
    "plt.show()"
   ]
  },
  {
   "cell_type": "markdown",
   "metadata": {},
   "source": [
    "Из графика видно, что коммулятинвная выручка группы В значительно выше коммулятивной выручки группы А. До 17 августа выручка группы В была незначательно выше выручки группы А, но затем произошел резкий скачок выручки группы В(около 120000). Возможно это связано с большими выбивыющими заказами или был резкий наплыв посететилей."
   ]
  },
  {
   "cell_type": "markdown",
   "metadata": {},
   "source": [
    "### График куммулятивного среднего чека"
   ]
  },
  {
   "cell_type": "code",
   "execution_count": 12,
   "metadata": {},
   "outputs": [
    {
     "data": {
      "image/png": "[encoded data removed]",
      "text/plain": [
       "<Figure size 1080x360 with 1 Axes>"
      ]
     },
     "metadata": {
      "needs_background": "light"
     },
     "output_type": "display_data"
    }
   ],
   "source": [
    "plt.figure(figsize = (15, 5))\n",
    "plt.title('График коммулятивного среднего чека по тестам')\n",
    "plt.xlabel('Дата')\n",
    "plt.ylabel('Выручка')\n",
    "plt.grid(True)\n",
    "plt.plot(orders_revenue_a['date'],\n",
    "         ((orders_revenue_a['revenue'].cumsum()) / (orders_revenue_a['transactionId'].cumsum())),\n",
    "         label='A')\n",
    "\n",
    "plt.plot(orders_revenue_b['date'], \n",
    "        ((orders_revenue_b['revenue'].cumsum()) / (orders_revenue_b['transactionId'].cumsum())), \n",
    "         label='B')\n",
    "\n",
    "plt.legend() \n",
    "plt.grid(False)\n",
    "plt.show()"
   ]
  },
  {
   "cell_type": "markdown",
   "metadata": {},
   "source": [
    "Из гарфика коммулятивного среднего чека видно что группа В незначительно была лучшие группы А до 17 августа. С 17 августа средний чек группы В аномально вырос на 3000. Причиной такого роста могли послужить, как большие суммы заказов, так и например повышение суммы заказов, но при этом и сокращение числа покупателей."
   ]
  },
  {
   "cell_type": "markdown",
   "metadata": {},
   "source": [
    "### График относительного изменения кумулятивного среднего чека группы B к группе A."
   ]
  },
  {
   "cell_type": "code",
   "execution_count": 13,
   "metadata": {},
   "outputs": [
    {
     "data": {
      "text/html": [
       "<div>\n",
       "<style scoped>\n",
       "    .dataframe tbody tr th:only-of-type {\n",
       "        vertical-align: middle;\n",
       "    }\n",
       "\n",
       "    .dataframe tbody tr th {\n",
       "        vertical-align: top;\n",
       "    }\n",
       "\n",
       "    .dataframe thead th {\n",
       "        text-align: right;\n",
       "    }\n",
       "</style>\n",
       "<table border=\"1\" class=\"dataframe\">\n",
       "  <thead>\n",
       "    <tr style=\"text-align: right;\">\n",
       "      <th></th>\n",
       "      <th>date</th>\n",
       "      <th>group_A</th>\n",
       "      <th>revenue_A</th>\n",
       "      <th>transactionId_A</th>\n",
       "      <th>visitors_A</th>\n",
       "      <th>revenue_cumsum_A</th>\n",
       "      <th>group_B</th>\n",
       "      <th>revenue_B</th>\n",
       "      <th>transactionId_B</th>\n",
       "      <th>visitors_B</th>\n",
       "      <th>revenue_cumsum_B</th>\n",
       "    </tr>\n",
       "  </thead>\n",
       "  <tbody>\n",
       "    <tr>\n",
       "      <th>0</th>\n",
       "      <td>2019-08-01</td>\n",
       "      <td>A</td>\n",
       "      <td>148579</td>\n",
       "      <td>24</td>\n",
       "      <td>719</td>\n",
       "      <td>148579</td>\n",
       "      <td>B</td>\n",
       "      <td>101217</td>\n",
       "      <td>21</td>\n",
       "      <td>713</td>\n",
       "      <td>101217</td>\n",
       "    </tr>\n",
       "    <tr>\n",
       "      <th>1</th>\n",
       "      <td>2019-08-02</td>\n",
       "      <td>A</td>\n",
       "      <td>93822</td>\n",
       "      <td>20</td>\n",
       "      <td>619</td>\n",
       "      <td>242401</td>\n",
       "      <td>B</td>\n",
       "      <td>165531</td>\n",
       "      <td>24</td>\n",
       "      <td>581</td>\n",
       "      <td>266748</td>\n",
       "    </tr>\n",
       "    <tr>\n",
       "      <th>2</th>\n",
       "      <td>2019-08-03</td>\n",
       "      <td>A</td>\n",
       "      <td>112473</td>\n",
       "      <td>24</td>\n",
       "      <td>507</td>\n",
       "      <td>354874</td>\n",
       "      <td>B</td>\n",
       "      <td>114248</td>\n",
       "      <td>16</td>\n",
       "      <td>509</td>\n",
       "      <td>380996</td>\n",
       "    </tr>\n",
       "    <tr>\n",
       "      <th>3</th>\n",
       "      <td>2019-08-04</td>\n",
       "      <td>A</td>\n",
       "      <td>70825</td>\n",
       "      <td>16</td>\n",
       "      <td>717</td>\n",
       "      <td>425699</td>\n",
       "      <td>B</td>\n",
       "      <td>108571</td>\n",
       "      <td>17</td>\n",
       "      <td>770</td>\n",
       "      <td>489567</td>\n",
       "    </tr>\n",
       "    <tr>\n",
       "      <th>4</th>\n",
       "      <td>2019-08-05</td>\n",
       "      <td>A</td>\n",
       "      <td>124218</td>\n",
       "      <td>25</td>\n",
       "      <td>756</td>\n",
       "      <td>549917</td>\n",
       "      <td>B</td>\n",
       "      <td>92428</td>\n",
       "      <td>23</td>\n",
       "      <td>707</td>\n",
       "      <td>581995</td>\n",
       "    </tr>\n",
       "  </tbody>\n",
       "</table>\n",
       "</div>"
      ],
      "text/plain": [
       "        date group_A  revenue_A  transactionId_A  visitors_A  \\\n",
       "0 2019-08-01       A     148579               24         719   \n",
       "1 2019-08-02       A      93822               20         619   \n",
       "2 2019-08-03       A     112473               24         507   \n",
       "3 2019-08-04       A      70825               16         717   \n",
       "4 2019-08-05       A     124218               25         756   \n",
       "\n",
       "   revenue_cumsum_A group_B  revenue_B  transactionId_B  visitors_B  \\\n",
       "0            148579       B     101217               21         713   \n",
       "1            242401       B     165531               24         581   \n",
       "2            354874       B     114248               16         509   \n",
       "3            425699       B     108571               17         770   \n",
       "4            549917       B      92428               23         707   \n",
       "\n",
       "   revenue_cumsum_B  \n",
       "0            101217  \n",
       "1            266748  \n",
       "2            380996  \n",
       "3            489567  \n",
       "4            581995  "
      ]
     },
     "metadata": {},
     "output_type": "display_data"
    }
   ],
   "source": [
    "merge_data=orders_revenue_a.merge(orders_revenue_b, on='date', how='left', suffixes=['_A','_B'])\n",
    "display(merge_data.head())"
   ]
  },
  {
   "cell_type": "code",
   "execution_count": 14,
   "metadata": {},
   "outputs": [
    {
     "data": {
      "image/png": "[encoded data removed]",
      "text/plain": [
       "<Figure size 1080x360 with 1 Axes>"
      ]
     },
     "metadata": {
      "needs_background": "light"
     },
     "output_type": "display_data"
    }
   ],
   "source": [
    "plt.figure(figsize=(15,5))\n",
    "plt.plot(merge_data['date'],\n",
    "                ((merge_data['revenue_B'].cumsum()/ merge_data['transactionId_B'].cumsum())/\n",
    "                (merge_data['revenue_A'].cumsum() / merge_data['transactionId_A'].cumsum()))-1\n",
    "    )\n",
    "plt.axhline(y=0, color='green', linestyle='--')\n",
    "plt.grid(True)\n",
    "plt.title('График относительного изменения кумулятивного среднего чека группы B к группе A.')\n",
    "plt.xlabel('Дата')\n",
    "plt.ylabel('Относительное изменение')\n",
    "plt.grid(False)\n",
    "plt.show()"
   ]
  },
  {
   "cell_type": "markdown",
   "metadata": {},
   "source": [
    "Из графика видно, что средний коммулятивный чек группы В практически всегда был выше коммулятивного чека группы А, за исключиением небольшой просадки между 10 и 15 августа. После 15 августа группа В снова захватили лидерство, а 17 августа произошел резкий скачок группы В на 50%, так как скачок был вызван какими то определенными аномалиями, то в дальнейшей группа А по немногу отыграла позиции. К концу исследования коммулятивный чек группы В был на 30% лучше чека группы А."
   ]
  },
  {
   "cell_type": "markdown",
   "metadata": {},
   "source": [
    "### График кумулятивной конверсии по группам"
   ]
  },
  {
   "cell_type": "code",
   "execution_count": 15,
   "metadata": {},
   "outputs": [
    {
     "data": {
      "image/png": "[encoded data removed]",
      "text/plain": [
       "<Figure size 1080x360 with 1 Axes>"
      ]
     },
     "metadata": {
      "needs_background": "light"
     },
     "output_type": "display_data"
    }
   ],
   "source": [
    "plt.figure(figsize = (15, 5))\n",
    "plt.title('График кумулятивной конверсии по группам')\n",
    "plt.xlabel('Дата')\n",
    "plt.ylabel('Конверсия')\n",
    "plt.grid(True)\n",
    "plt.plot(orders_revenue_a['date'],\n",
    "         ((orders_revenue_a['transactionId'].cumsum()) / (orders_revenue_a['visitors'].cumsum())),\n",
    "         label='A')\n",
    "\n",
    "plt.plot(orders_revenue_b['date'], \n",
    "        ((orders_revenue_b['transactionId'].cumsum()) / (orders_revenue_b['visitors'].cumsum())), \n",
    "         label='B')\n",
    "\n",
    "plt.legend() \n",
    "plt.grid(False)\n",
    "plt.show()"
   ]
  },
  {
   "cell_type": "markdown",
   "metadata": {},
   "source": [
    "Из графика выдно, что в начале были скачки, так данные только нарабатывались и небыло достаточного количества, после 9 августа графики стабилизируются и становится понятно, что конверся группы В лучше конверсии группы А. К Концу теста конверсия В составила 3,4 %, конверсия А 0,3%"
   ]
  },
  {
   "cell_type": "markdown",
   "metadata": {},
   "source": [
    "### График относительного изменения кумулятивной конверсии группы B к группе A."
   ]
  },
  {
   "cell_type": "code",
   "execution_count": 16,
   "metadata": {},
   "outputs": [
    {
     "data": {
      "image/png": "[encoded data removed]",
      "text/plain": [
       "<Figure size 1080x360 with 1 Axes>"
      ]
     },
     "metadata": {
      "needs_background": "light"
     },
     "output_type": "display_data"
    }
   ],
   "source": [
    "plt.figure(figsize=(15,5))\n",
    "plt.plot(merge_data['date'],\n",
    "                ((merge_data['transactionId_B'].cumsum()/ merge_data['visitors_B'].cumsum())/\n",
    "                (merge_data['transactionId_A'].cumsum() / merge_data['visitors_A'].cumsum()))-1\n",
    "    )\n",
    "plt.axhline(y=0, color='green', linestyle='--')\n",
    "plt.grid(True)\n",
    "plt.title('График относительного изменения кумулятивной конверсии группы B к группе A.')\n",
    "plt.xlabel('Дата')\n",
    "plt.ylabel('Относительное изменение')\n",
    "plt.grid(False)\n",
    "plt.show()"
   ]
  },
  {
   "cell_type": "markdown",
   "metadata": {},
   "source": [
    "Коммулятивная конверсия группы В на 15 %  лучше, группы А, но на этот показатель возможно повлияли выбросы, в период с 5 по 9 августа произошел резкий подъём конверсии(на 20%). Но так этот подъем был в начале, теста возможно это связано с недостатком информации. В тоже время мы выдим что после 9 августа график конверсии стабильный, из этого можно сделать вывод, что резкий рост среднего чека и выручки не связан с аномальными показателями количества покупок."
   ]
  },
  {
   "cell_type": "markdown",
   "metadata": {},
   "source": [
    "### Работа с выбросами"
   ]
  },
  {
   "cell_type": "markdown",
   "metadata": {},
   "source": [
    "#### Точечный график количества заказов по пользователям."
   ]
  },
  {
   "cell_type": "code",
   "execution_count": 17,
   "metadata": {},
   "outputs": [
    {
     "data": {
      "image/png": "[encoded data removed]",
      "text/plain": [
       "<Figure size 1080x360 with 1 Axes>"
      ]
     },
     "metadata": {
      "needs_background": "light"
     },
     "output_type": "display_data"
    }
   ],
   "source": [
    "orders_unique=orders.groupby('visitorId', as_index=False).agg({'transactionId':'nunique','revenue':'sum'})\n",
    "\n",
    "plot_scatter=orders_unique.plot(\n",
    "    x='visitorId', \n",
    "    y='transactionId', \n",
    "    kind='scatter',\n",
    "    figsize = (15, 5),\n",
    "    title=('Точечный график числа заказов на пользователя'),\n",
    "    grid=True\n",
    "    )\n",
    "\n",
    "plot_scatter.set_ylabel(\"Количество заказов\")\n",
    "plot_scatter.set_xlabel(\"Пользователи\")\n",
    "plt.grid(False)\n",
    "plt.show()\n"
   ]
  },
  {
   "cell_type": "markdown",
   "metadata": {},
   "source": [
    "Из графика видно что большинство заков находися в диапозоне от 1 до 2."
   ]
  },
  {
   "cell_type": "markdown",
   "metadata": {},
   "source": [
    "#### 95-й и 99-й перцентили количества заказов на пользователя. Границу для определения аномальных пользователей"
   ]
  },
  {
   "cell_type": "code",
   "execution_count": 18,
   "metadata": {},
   "outputs": [
    {
     "name": "stdout",
     "output_type": "stream",
     "text": [
      "95 и 99 перцентили количества заказов:  [2. 4.]\n"
     ]
    }
   ],
   "source": [
    "print('95 и 99 перцентили количества заказов: ',np.percentile(orders_unique['transactionId'],[95,99]))"
   ]
  },
  {
   "cell_type": "markdown",
   "metadata": {},
   "source": [
    "Границу установим в диапозоне меньше 3, так как заказы, больше двух встречаются редко и попадают в 5% допустимой срезки. "
   ]
  },
  {
   "cell_type": "markdown",
   "metadata": {},
   "source": [
    "#### Точечный график стоимости заказов."
   ]
  },
  {
   "cell_type": "code",
   "execution_count": 19,
   "metadata": {},
   "outputs": [
    {
     "data": {
      "image/png": "[encoded data removed]",
      "text/plain": [
       "<Figure size 1080x360 with 1 Axes>"
      ]
     },
     "metadata": {
      "needs_background": "light"
     },
     "output_type": "display_data"
    }
   ],
   "source": [
    "plot_scatter_revenue=orders.plot(\n",
    "    x='transactionId', \n",
    "    y='revenue', \n",
    "    kind='scatter',\n",
    "    figsize = (15, 5),\n",
    "    title=('Точечный график суммы заказов'),\n",
    "    grid=True,\n",
    "    ylim=(0,100000)\n",
    "    )\n",
    "\n",
    "plot_scatter_revenue.set_ylabel(\"Сумма заказов\")\n",
    "plot_scatter_revenue.set_xlabel(\"Заказы\")\n",
    "plt.grid(False)\n",
    "plt.show()"
   ]
  },
  {
   "cell_type": "markdown",
   "metadata": {},
   "source": [
    "Из графики видно что большинство пользователей совершают покупки до 40000"
   ]
  },
  {
   "cell_type": "markdown",
   "metadata": {},
   "source": [
    "#### 95 и 99 перцентили стоимости заказов.  Граница аномальных заказов."
   ]
  },
  {
   "cell_type": "code",
   "execution_count": 20,
   "metadata": {},
   "outputs": [
    {
     "name": "stdout",
     "output_type": "stream",
     "text": [
      "95 и 99 перцентили стоимости заказов:  [28000.  58233.2]\n"
     ]
    }
   ],
   "source": [
    "print('95 и 99 перцентили стоимости заказов: ',np.percentile(orders['revenue'],[95,99]))"
   ]
  },
  {
   "cell_type": "markdown",
   "metadata": {},
   "source": [
    "Границу установим в диапозоне меньше 28000, в границах допустимого среза в 5 %."
   ]
  },
  {
   "cell_type": "markdown",
   "metadata": {},
   "source": [
    "#### Статистическую значимость различий в конверсии между группами по «сырым» данным."
   ]
  },
  {
   "cell_type": "code",
   "execution_count": 21,
   "metadata": {},
   "outputs": [],
   "source": [
    "orders_conv=orders.merge(visitors, on=('date','group'))\n",
    "ordersByUsersA = (\n",
    "    orders[orders['group'] == 'A']\n",
    "    .groupby('visitorId', as_index=False)\n",
    "    .agg({'transactionId': 'nunique'})\n",
    ")\n",
    "ordersByUsersA.columns = ['userId', 'orders']\n",
    "\n",
    "ordersByUsersB = (\n",
    "    orders[orders['group'] == 'B']\n",
    "    .groupby('visitorId', as_index=False)\n",
    "    .agg({'transactionId': 'nunique'})\n",
    ")\n",
    "ordersByUsersB.columns = ['userId', 'orders']"
   ]
  },
  {
   "cell_type": "code",
   "execution_count": 22,
   "metadata": {},
   "outputs": [],
   "source": [
    "sampleA = pd.concat([ordersByUsersA['orders'],pd.Series(0, index=np.arange(orders_revenue_a['visitors'].sum()-\n",
    "                                                        len(ordersByUsersA['orders'])),name='orders')],axis=0)\n",
    "sampleB = pd.concat([ordersByUsersB['orders'],pd.Series(0, index=np.arange(orders_revenue_b['visitors'].sum()-\n",
    "                                                        len(ordersByUsersB['orders'])),name='orders')],axis=0)\n"
   ]
  },
  {
   "cell_type": "markdown",
   "metadata": {},
   "source": [
    "**Гипотезы:**\n",
    "- H0 Средние значение конверсий групп A и B одинаковые\n",
    "- H1 Средние значение конверсий групп A и B отличаются\n",
    "\n",
    "a=0.05"
   ]
  },
  {
   "cell_type": "code",
   "execution_count": 23,
   "metadata": {},
   "outputs": [
    {
     "name": "stdout",
     "output_type": "stream",
     "text": [
      "p-значение: 0.016792355056752608\n",
      "Отвергаем нулевую гипотезу о равенстве средних конверсий групп А и В\n",
      "Выигрышь группы В: 13.81%\n"
     ]
    }
   ],
   "source": [
    "a=0.05\n",
    "result=stats.mannwhitneyu(sampleA,sampleB,alternative = 'two-sided')\n",
    "print('p-значение:',result.pvalue)\n",
    "if result.pvalue< a:\n",
    "    print('Отвергаем нулевую гипотезу о равенстве средних конверсий групп А и В')\n",
    "else:\n",
    "    print('Принимаем  нулевую гипотезу о равенстве средних конверсий групп А и В')\n",
    "    \n",
    "print('Выигрышь группы В: {:.2%}'.format(sampleB.mean()/sampleA.mean()-1))"
   ]
  },
  {
   "cell_type": "markdown",
   "metadata": {},
   "source": [
    "Из теста получили результат, что есть статистическое значимое различие между конверсии групп А и В,  средняя конверсия группы В выше, чем  группы А на 13,81%"
   ]
  },
  {
   "cell_type": "markdown",
   "metadata": {},
   "source": [
    "#### Cтатистическая значимость различий в среднем чеке заказа между группами по «сырым» данным."
   ]
  },
  {
   "cell_type": "markdown",
   "metadata": {},
   "source": [
    "**Гипотезы:**\n",
    "- H0 Средние чеки  групп A и B одинаковые\n",
    "- H1 Средние чеки  групп A и B отличаются\n",
    "\n",
    "a=0.05"
   ]
  },
  {
   "cell_type": "code",
   "execution_count": 24,
   "metadata": {},
   "outputs": [
    {
     "name": "stdout",
     "output_type": "stream",
     "text": [
      "p-значение: 0.7292909855432458\n",
      "Принимаем  нулевую гипотезу о равенстве средних чеков групп А и В\n",
      "Выигрышь группы В: 25.87%\n"
     ]
    }
   ],
   "source": [
    "result1=stats.mannwhitneyu(orders.query('group==\"A\"')['revenue'],\n",
    "                           orders.query('group==\"B\"')['revenue'],alternative = 'two-sided')\n",
    "\n",
    "print('p-значение:',result1.pvalue)\n",
    "if result1.pvalue< a:\n",
    "    print('Отвергаем нулевую гипотезу о равенстве средних чеков групп А и В')\n",
    "else:\n",
    "    print('Принимаем  нулевую гипотезу о равенстве средних чеков групп А и В')\n",
    "    \n",
    "print('Выигрышь группы В: {:.2%}'.format(orders.query('group==\"B\"')['revenue'].mean()/orders.query('group==\"A\"')['revenue'].mean()-1))       "
   ]
  },
  {
   "cell_type": "markdown",
   "metadata": {},
   "source": [
    "Из теста получили, нет статистической значимости различий средних чеков, но при этом средний чек группы В выше среднего чека группы А на 25.87%"
   ]
  },
  {
   "cell_type": "markdown",
   "metadata": {},
   "source": [
    "#### Cтатистическая значимость различий в конверсии между группами по «очищенным» данным. "
   ]
  },
  {
   "cell_type": "code",
   "execution_count": 25,
   "metadata": {},
   "outputs": [],
   "source": [
    "usersWithManyOrders = pd.concat(\n",
    "    [\n",
    "        ordersByUsersA[ordersByUsersA['orders'] > 2]['userId'],\n",
    "        ordersByUsersB[ordersByUsersB['orders'] > 2]['userId'],\n",
    "    ],\n",
    "    axis=0,\n",
    ")\n",
    "usersWithExpensiveOrders = orders[orders['revenue'] > 28000]['visitorId']\n",
    "abnormalUsers = (\n",
    "    pd.concat([usersWithManyOrders, usersWithExpensiveOrders], axis=0)\n",
    "    .drop_duplicates()\n",
    "    .sort_values())"
   ]
  },
  {
   "cell_type": "code",
   "execution_count": 26,
   "metadata": {},
   "outputs": [],
   "source": [
    "sampleAFiltered = pd.concat(\n",
    "    [ordersByUsersA[np.logical_not(ordersByUsersA['userId'].isin(abnormalUsers))]['orders'],\n",
    "    pd.Series(0, index=np.arange(orders_revenue_a['visitors'].sum()-len(ordersByUsersA['orders'])),name='orders')],axis=0)\n",
    "\n",
    "sampleBFiltered = pd.concat(\n",
    "    [ordersByUsersB[np.logical_not(ordersByUsersB['userId'].isin(abnormalUsers))]['orders'],\n",
    "    pd.Series(0, index=np.arange(orders_revenue_b['visitors'].sum()-len(ordersByUsersB['orders'])),name='orders')],axis=0)"
   ]
  },
  {
   "cell_type": "markdown",
   "metadata": {},
   "source": [
    "**Гипотезы:**\n",
    "- H0 Средние значение конверсий групп A и B по очищенным данным  одинаковые\n",
    "- H1 Средние значение конверсий групп A и B по очищенным данным отличаются"
   ]
  },
  {
   "cell_type": "code",
   "execution_count": 27,
   "metadata": {},
   "outputs": [
    {
     "name": "stdout",
     "output_type": "stream",
     "text": [
      "p-значение: 0.013042592743036758\n",
      "Отвергаем нулевую гипотезу о равенстве средних конверсий групп А и В\n",
      "Выигрышь группы В: 17.27%\n"
     ]
    }
   ],
   "source": [
    "a=0.05\n",
    "result3=stats.mannwhitneyu(sampleAFiltered,sampleBFiltered,alternative = 'two-sided')\n",
    "print('p-значение:',result3.pvalue)\n",
    "if result3.pvalue< a:\n",
    "    print('Отвергаем нулевую гипотезу о равенстве средних конверсий групп А и В')\n",
    "else:\n",
    "    print('Принимаем  нулевую гипотезу о равенстве средних конверсий групп А и В')\n",
    "    \n",
    "print('Выигрышь группы В: {:.2%}'.format(sampleBFiltered.mean()/sampleAFiltered.mean()-1))"
   ]
  },
  {
   "cell_type": "markdown",
   "metadata": {},
   "source": [
    "По очещенным данным тест, дал результат, что есть статистически значимое различие между конверсиями группы А и В, при этом произошло повышение выигрыша конверсии группы В с 13,81% до 17,27 %.\n"
   ]
  },
  {
   "cell_type": "markdown",
   "metadata": {},
   "source": [
    "#### Cтатистическая значимость различий в среднем чеке между группами по «очищенным» данным. "
   ]
  },
  {
   "cell_type": "markdown",
   "metadata": {},
   "source": [
    "**Гипотезы:**\n",
    "- H0 Средние чеки  групп A и B по очищенным данным одинаковые\n",
    "- H1 Средние чеки  групп A и B по очищенным дaнным отличаются\n",
    "\n",
    "a=0.05"
   ]
  },
  {
   "cell_type": "code",
   "execution_count": 28,
   "metadata": {},
   "outputs": [
    {
     "name": "stdout",
     "output_type": "stream",
     "text": [
      "p-значение: 0.738481751314565\n",
      "Принимаем  нулевую гипотезу о равенстве средних чеков по очищенным данным групп А и В\n",
      "Выгрышь группы В: -1.96%\n"
     ]
    }
   ],
   "source": [
    "filter_revenueA=orders[np.logical_and(orders['group'] == 'A',np.logical_not(orders['visitorId'].isin(abnormalUsers)))]['revenue']\n",
    "filter_revenueB=orders[np.logical_and(orders['group'] == 'B',np.logical_not(orders['visitorId'].isin(abnormalUsers)))]['revenue']\n",
    "                          \n",
    "result4=stats.mannwhitneyu(filter_revenueA,filter_revenueB,alternative = 'two-sided')\n",
    "print('p-значение:',result4.pvalue)\n",
    "if result4.pvalue< a:\n",
    "    print('Отвергаем нулевую гипотезу о равенстве средних чеков по очищенным данным групп А и В')\n",
    "else:\n",
    "    print('Принимаем  нулевую гипотезу о равенстве средних чеков по очищенным данным групп А и В')\n",
    "    \n",
    "print('Выгрышь группы В: {:.2%}'.format(filter_revenueB.mean() /filter_revenueA.mean()-1))      \n",
    "      \n",
    "      \n"
   ]
  },
  {
   "cell_type": "markdown",
   "metadata": {},
   "source": [
    "По очищенным данным тест показал, что нет статистически значимого различия среднего чека групп А и В, при этом выигрышь группы В сократился с 25,87% до -1.96%, тоетсть по очищенным данным группа В стала проигрывать группе А."
   ]
  },
  {
   "cell_type": "markdown",
   "metadata": {},
   "source": [
    "### Вывод"
   ]
  },
  {
   "cell_type": "markdown",
   "metadata": {},
   "source": [
    "Есть статистически значимоe различиe по конверсии между группами по «сырым» и по фильтрованным данным;\n",
    "\n",
    "Нет статистически значимого различия по среднему чеку между группами по «сырым», нет различия после фильтрации аномалий;\n",
    "\n",
    "Средняя конверсия группы B лучше группы A на 17,27 %\n",
    "\n",
    "Средний чек руппы группы B хуже группы A  на -1,96 %\n",
    "\n",
    "Исходя из обнаруженных фактов, тест можно остановить и признать победу группы В , так как стат тесты показали, что нет статитистически значимого различия в среднем чеке, средний чек В хуже на 1,96 % чека группы А, но в тоже время есть статистически значимое различие в средней конверсии и группа В выигрывает по средней конверсии на 17,27 %."
   ]
  },
  {
   "cell_type": "code",
   "execution_count": null,
   "metadata": {},
   "outputs": [],
   "source": []
  }
 ],
 "metadata": {
  "kernelspec": {
   "display_name": "Python 3",
   "language": "python",
   "name": "python3"
  },
  "language_info": {
   "codemirror_mode": {
    "name": "ipython",
    "version": 3
   },
   "file_extension": ".py",
   "mimetype": "text/x-python",
   "name": "python",
   "nbconvert_exporter": "python",
   "pygments_lexer": "ipython3",
   "version": "3.8.5"
  },
  "toc": {
   "base_numbering": 1,
   "nav_menu": {},
   "number_sections": true,
   "sideBar": true,
   "skip_h1_title": true,
   "title_cell": "Table of Contents",
   "title_sidebar": "Contents",
   "toc_cell": false,
   "toc_position": {
    "height": "calc(100% - 180px)",
    "left": "10px",
    "top": "150px",
    "width": "277.275px"
   },
   "toc_section_display": true,
   "toc_window_display": false
  }
 },
 "nbformat": 4,
 "nbformat_minor": 2
}
