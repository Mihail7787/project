{
 "cells": [
  {
   "cell_type": "markdown",
   "metadata": {},
   "source": [
    "**План работы.**\n",
    "\n",
    "**Шаг 1.Изучить общую информацию и подготовить данные:**\n",
    "- Загрузить и ознакокиться с данными;\n",
    "- Заменить названия столбцов на удобные для вас;\n",
    "- Проверить пропуски и типы данных. Откорректируйте, если нужно;\n",
    "- Добавить столбец даты и времени, а также отдельный столбец дат.\n",
    "\n",
    "**Шаг 2. Изучить и проверить данные:**\n",
    "\n",
    "- Сколько всего событий в логе?\n",
    "- Сколько всего пользователей в логе?\n",
    "- Сколько в среднем событий приходится на пользователя?\n",
    "- Данными за какой период мы располагаеем? Найти максимальную и минимальную дату. Построить гистограмму по дате и времени. Можно ли быть уверенным, что у нас одинаково полные данные за весь период? Технически в логи новых дней по некоторым пользователям могут «доезжать» события из прошлого — это может «перекашивать данные». Определить, с какого момента данные полные и отбросьте более старые. Данными за какой период времени мы располагаете на самом деле?\n",
    "- Много ли событий и пользователей мы потеряли, отбросив старые данные?\n",
    "- Проверить, что у нас есть пользователи из всех трёх экспериментальных групп.\n",
    "\n",
    "**Шаг 3. Изучите воронку событий:**\n",
    "- Посмотреть, какие события есть в логах, как часто они встречаются. Отсортировать события по частоте.\n",
    "- Посчитать, сколько пользователей совершали каждое из этих событий. Отсортировать события по числу пользователей. Посчитать долю пользователей, которые хоть раз совершали событие.\n",
    "- Предположить, в каком порядке происходят события. Все ли они выстраиваются в последовательную цепочку? Их не нужно учитывать при расчёте воронки.\n",
    "- По воронке событий посчитать, какая доля пользователей проходит на следующий шаг воронки (от числа пользователей на предыдущем). То есть для последовательности событий A → B → C посчитайте отношение числа пользователей с событием B к количеству пользователей с событием A, а также отношение числа пользователей с событием C к количеству пользователей с событием B.\n",
    "- На каком шаге теряем больше всего пользователей?\n",
    "- Какая доля пользователей доходит от первого события до оплаты?\n",
    "\n",
    "**Шаг 4. Изучите результаты эксперимента:**\n",
    "- Сколько пользователей в каждой экспериментальной группе?\n",
    "- Есть 2 контрольные группы для А/А-эксперимента, чтобы проверить корректность всех механизмов и расчётов. Проверить, находят ли статистические критерии разницу между выборками 246 и 247.\n",
    "- Выбрать самое популярное событие. Посчитать число пользователей, совершивших это событие в каждой из контрольных групп. Посчитать долю пользователей, совершивших это событие. Проверить, будет ли отличие между группами статистически достоверным. Проделать то же самое для всех других событий (удобно обернуть проверку в отдельную функцию). Можно ли сказать, что разбиение на группы работает корректно?\n",
    "- Аналогично поступить с группой с изменённым шрифтом. Сравнить результаты с каждой из контрольных групп в отдельности по каждому событию. Сравнить результаты с объединённой контрольной группой. Какие выводы из эксперимента можно сделать?\n",
    "- Определить уровень статистической значимости\n"
   ]
  },
  {
   "cell_type": "markdown",
   "metadata": {},
   "source": [
    "## Ознакомление и предобработка данных"
   ]
  },
  {
   "cell_type": "code",
   "execution_count": 1,
   "metadata": {},
   "outputs": [],
   "source": [
    "import pandas as pd\n",
    "import numpy as np\n",
    "from matplotlib import pyplot as plt\n",
    "from scipy import stats as st\n",
    "import numpy as np\n",
    "import math as mth\n",
    "from pandas.plotting import register_matplotlib_converters\n",
    "register_matplotlib_converters()"
   ]
  },
  {
   "cell_type": "code",
   "execution_count": 2,
   "metadata": {},
   "outputs": [],
   "source": [
    "def info(data):\n",
    "# функция выводит информаци по загруженному датефрейму    \n",
    "\n",
    "    print('--------------Обзор загруженных данных-----------')\n",
    "    display(data.head(5))\n",
    "    print()\n",
    "    data.info()\n",
    "    print()\n",
    "    print()\n",
    "    print('----------Размер датасета---')\n",
    "    print(data.shape)\n",
    "    print()\n",
    "    print('----------Пропуски----------')\n",
    "    for i in data.columns:\n",
    "        if data[i].isna().sum()>0:\n",
    "            print(f'Количество пропусков в столбце {i}:',data[i].isna().sum(),\n",
    "                  ', что состовляет: {:.2%}'.format(data[i].isna().mean()))\n",
    "    display(pd.DataFrame(round((data.isna().mean()*100),2)).style.background_gradient('coolwarm'))\n",
    "            \n",
    "            \n",
    "            \n",
    "    print()        \n",
    "    print('----------Дубликаты----------')   \n",
    "    print('Количество полных дубликатов:', data.duplicated().sum())\n",
    "    print()\n",
    "\n",
    "    print('----------Типы данных--------')\n",
    "    list2={}\n",
    "    for i in data.columns:\n",
    "        key = data[i].dtypes\n",
    "        list2.setdefault(key, [])\n",
    "        list2[key].append(i)\n",
    "    for i,k in list2.items():\n",
    "        print(f'Тип данных {i}: {k}') "
   ]
  },
  {
   "cell_type": "code",
   "execution_count": 3,
   "metadata": {},
   "outputs": [
    {
     "name": "stdout",
     "output_type": "stream",
     "text": [
      "--------------Обзор загруженных данных-----------\n"
     ]
    },
    {
     "data": {
      "text/html": [
       "<div>\n",
       "<style scoped>\n",
       "    .dataframe tbody tr th:only-of-type {\n",
       "        vertical-align: middle;\n",
       "    }\n",
       "\n",
       "    .dataframe tbody tr th {\n",
       "        vertical-align: top;\n",
       "    }\n",
       "\n",
       "    .dataframe thead th {\n",
       "        text-align: right;\n",
       "    }\n",
       "</style>\n",
       "<table border=\"1\" class=\"dataframe\">\n",
       "  <thead>\n",
       "    <tr style=\"text-align: right;\">\n",
       "      <th></th>\n",
       "      <th>EventName</th>\n",
       "      <th>DeviceIDHash</th>\n",
       "      <th>EventTimestamp</th>\n",
       "      <th>ExpId</th>\n",
       "    </tr>\n",
       "  </thead>\n",
       "  <tbody>\n",
       "    <tr>\n",
       "      <th>0</th>\n",
       "      <td>MainScreenAppear</td>\n",
       "      <td>4575588528974610257</td>\n",
       "      <td>1564029816</td>\n",
       "      <td>246</td>\n",
       "    </tr>\n",
       "    <tr>\n",
       "      <th>1</th>\n",
       "      <td>MainScreenAppear</td>\n",
       "      <td>7416695313311560658</td>\n",
       "      <td>1564053102</td>\n",
       "      <td>246</td>\n",
       "    </tr>\n",
       "    <tr>\n",
       "      <th>2</th>\n",
       "      <td>PaymentScreenSuccessful</td>\n",
       "      <td>3518123091307005509</td>\n",
       "      <td>1564054127</td>\n",
       "      <td>248</td>\n",
       "    </tr>\n",
       "    <tr>\n",
       "      <th>3</th>\n",
       "      <td>CartScreenAppear</td>\n",
       "      <td>3518123091307005509</td>\n",
       "      <td>1564054127</td>\n",
       "      <td>248</td>\n",
       "    </tr>\n",
       "    <tr>\n",
       "      <th>4</th>\n",
       "      <td>PaymentScreenSuccessful</td>\n",
       "      <td>6217807653094995999</td>\n",
       "      <td>1564055322</td>\n",
       "      <td>248</td>\n",
       "    </tr>\n",
       "  </tbody>\n",
       "</table>\n",
       "</div>"
      ],
      "text/plain": [
       "                 EventName         DeviceIDHash  EventTimestamp  ExpId\n",
       "0         MainScreenAppear  4575588528974610257      1564029816    246\n",
       "1         MainScreenAppear  7416695313311560658      1564053102    246\n",
       "2  PaymentScreenSuccessful  3518123091307005509      1564054127    248\n",
       "3         CartScreenAppear  3518123091307005509      1564054127    248\n",
       "4  PaymentScreenSuccessful  6217807653094995999      1564055322    248"
      ]
     },
     "metadata": {},
     "output_type": "display_data"
    },
    {
     "name": "stdout",
     "output_type": "stream",
     "text": [
      "\n",
      "<class 'pandas.core.frame.DataFrame'>\n",
      "RangeIndex: 244126 entries, 0 to 244125\n",
      "Data columns (total 4 columns):\n",
      " #   Column          Non-Null Count   Dtype \n",
      "---  ------          --------------   ----- \n",
      " 0   EventName       244126 non-null  object\n",
      " 1   DeviceIDHash    244126 non-null  int64 \n",
      " 2   EventTimestamp  244126 non-null  int64 \n",
      " 3   ExpId           244126 non-null  int64 \n",
      "dtypes: int64(3), object(1)\n",
      "memory usage: 7.5+ MB\n",
      "\n",
      "\n",
      "----------Размер датасета---\n",
      "(244126, 4)\n",
      "\n",
      "----------Пропуски----------\n"
     ]
    },
    {
     "data": {
      "text/html": [
       "<style  type=\"text/css\" >\n",
       "#T_0fff0b67_dbf3_11eb_bc0c_a08cfd79dc69row0_col0,#T_0fff0b67_dbf3_11eb_bc0c_a08cfd79dc69row1_col0,#T_0fff0b67_dbf3_11eb_bc0c_a08cfd79dc69row2_col0,#T_0fff0b67_dbf3_11eb_bc0c_a08cfd79dc69row3_col0{\n",
       "            background-color:  #3b4cc0;\n",
       "            color:  #f1f1f1;\n",
       "        }</style><table id=\"T_0fff0b67_dbf3_11eb_bc0c_a08cfd79dc69\" ><thead>    <tr>        <th class=\"blank level0\" ></th>        <th class=\"col_heading level0 col0\" >0</th>    </tr></thead><tbody>\n",
       "                <tr>\n",
       "                        <th id=\"T_0fff0b67_dbf3_11eb_bc0c_a08cfd79dc69level0_row0\" class=\"row_heading level0 row0\" >EventName</th>\n",
       "                        <td id=\"T_0fff0b67_dbf3_11eb_bc0c_a08cfd79dc69row0_col0\" class=\"data row0 col0\" >0.000000</td>\n",
       "            </tr>\n",
       "            <tr>\n",
       "                        <th id=\"T_0fff0b67_dbf3_11eb_bc0c_a08cfd79dc69level0_row1\" class=\"row_heading level0 row1\" >DeviceIDHash</th>\n",
       "                        <td id=\"T_0fff0b67_dbf3_11eb_bc0c_a08cfd79dc69row1_col0\" class=\"data row1 col0\" >0.000000</td>\n",
       "            </tr>\n",
       "            <tr>\n",
       "                        <th id=\"T_0fff0b67_dbf3_11eb_bc0c_a08cfd79dc69level0_row2\" class=\"row_heading level0 row2\" >EventTimestamp</th>\n",
       "                        <td id=\"T_0fff0b67_dbf3_11eb_bc0c_a08cfd79dc69row2_col0\" class=\"data row2 col0\" >0.000000</td>\n",
       "            </tr>\n",
       "            <tr>\n",
       "                        <th id=\"T_0fff0b67_dbf3_11eb_bc0c_a08cfd79dc69level0_row3\" class=\"row_heading level0 row3\" >ExpId</th>\n",
       "                        <td id=\"T_0fff0b67_dbf3_11eb_bc0c_a08cfd79dc69row3_col0\" class=\"data row3 col0\" >0.000000</td>\n",
       "            </tr>\n",
       "    </tbody></table>"
      ],
      "text/plain": [
       "<pandas.io.formats.style.Styler at 0x1504e241460>"
      ]
     },
     "metadata": {},
     "output_type": "display_data"
    },
    {
     "name": "stdout",
     "output_type": "stream",
     "text": [
      "\n",
      "----------Дубликаты----------\n",
      "Количество полных дубликатов: 413\n",
      "\n",
      "----------Типы данных--------\n",
      "Тип данных object: ['EventName']\n",
      "Тип данных int64: ['DeviceIDHash', 'EventTimestamp', 'ExpId']\n"
     ]
    }
   ],
   "source": [
    "data_event=pd.read_csv('C:/Users/Hp/Desktop/project/дата сеты/logs_exp.csv',sep='\\t')\n",
    "info(data_event)"
   ]
  },
  {
   "cell_type": "code",
   "execution_count": 4,
   "metadata": {},
   "outputs": [
    {
     "name": "stdout",
     "output_type": "stream",
     "text": [
      "Полных дубликатов 0\n"
     ]
    }
   ],
   "source": [
    "data_event.columns=['event_name', 'id_user', 'time_ivent_unix', 'exper']\n",
    "data_event=data_event.drop_duplicates().reset_index(drop=True)\n",
    "print('Полных дубликатов', data_event.duplicated().sum())\n"
   ]
  },
  {
   "cell_type": "code",
   "execution_count": 5,
   "metadata": {},
   "outputs": [
    {
     "data": {
      "text/html": [
       "<div>\n",
       "<style scoped>\n",
       "    .dataframe tbody tr th:only-of-type {\n",
       "        vertical-align: middle;\n",
       "    }\n",
       "\n",
       "    .dataframe tbody tr th {\n",
       "        vertical-align: top;\n",
       "    }\n",
       "\n",
       "    .dataframe thead th {\n",
       "        text-align: right;\n",
       "    }\n",
       "</style>\n",
       "<table border=\"1\" class=\"dataframe\">\n",
       "  <thead>\n",
       "    <tr style=\"text-align: right;\">\n",
       "      <th></th>\n",
       "      <th>event_name</th>\n",
       "      <th>id_user</th>\n",
       "      <th>time_ivent_unix</th>\n",
       "      <th>exper</th>\n",
       "      <th>time_ivent</th>\n",
       "      <th>date_ivent</th>\n",
       "    </tr>\n",
       "  </thead>\n",
       "  <tbody>\n",
       "    <tr>\n",
       "      <th>0</th>\n",
       "      <td>MainScreenAppear</td>\n",
       "      <td>4575588528974610257</td>\n",
       "      <td>1564029816</td>\n",
       "      <td>246</td>\n",
       "      <td>2019-07-25 04:43:36</td>\n",
       "      <td>2019-07-25</td>\n",
       "    </tr>\n",
       "    <tr>\n",
       "      <th>1</th>\n",
       "      <td>MainScreenAppear</td>\n",
       "      <td>7416695313311560658</td>\n",
       "      <td>1564053102</td>\n",
       "      <td>246</td>\n",
       "      <td>2019-07-25 11:11:42</td>\n",
       "      <td>2019-07-25</td>\n",
       "    </tr>\n",
       "    <tr>\n",
       "      <th>2</th>\n",
       "      <td>PaymentScreenSuccessful</td>\n",
       "      <td>3518123091307005509</td>\n",
       "      <td>1564054127</td>\n",
       "      <td>248</td>\n",
       "      <td>2019-07-25 11:28:47</td>\n",
       "      <td>2019-07-25</td>\n",
       "    </tr>\n",
       "    <tr>\n",
       "      <th>3</th>\n",
       "      <td>CartScreenAppear</td>\n",
       "      <td>3518123091307005509</td>\n",
       "      <td>1564054127</td>\n",
       "      <td>248</td>\n",
       "      <td>2019-07-25 11:28:47</td>\n",
       "      <td>2019-07-25</td>\n",
       "    </tr>\n",
       "    <tr>\n",
       "      <th>4</th>\n",
       "      <td>PaymentScreenSuccessful</td>\n",
       "      <td>6217807653094995999</td>\n",
       "      <td>1564055322</td>\n",
       "      <td>248</td>\n",
       "      <td>2019-07-25 11:48:42</td>\n",
       "      <td>2019-07-25</td>\n",
       "    </tr>\n",
       "  </tbody>\n",
       "</table>\n",
       "</div>"
      ],
      "text/plain": [
       "                event_name              id_user  time_ivent_unix  exper  \\\n",
       "0         MainScreenAppear  4575588528974610257       1564029816    246   \n",
       "1         MainScreenAppear  7416695313311560658       1564053102    246   \n",
       "2  PaymentScreenSuccessful  3518123091307005509       1564054127    248   \n",
       "3         CartScreenAppear  3518123091307005509       1564054127    248   \n",
       "4  PaymentScreenSuccessful  6217807653094995999       1564055322    248   \n",
       "\n",
       "           time_ivent  date_ivent  \n",
       "0 2019-07-25 04:43:36  2019-07-25  \n",
       "1 2019-07-25 11:11:42  2019-07-25  \n",
       "2 2019-07-25 11:28:47  2019-07-25  \n",
       "3 2019-07-25 11:28:47  2019-07-25  \n",
       "4 2019-07-25 11:48:42  2019-07-25  "
      ]
     },
     "execution_count": 5,
     "metadata": {},
     "output_type": "execute_result"
    }
   ],
   "source": [
    "data_event['time_ivent']=pd.to_datetime(data_event['time_ivent_unix'],unit='s')\n",
    "data_event['date_ivent']=data_event['time_ivent'].dt.date\n",
    "data_event.head()"
   ]
  },
  {
   "cell_type": "markdown",
   "metadata": {},
   "source": [
    "### Вывод\n",
    "Создали датафрейм **data_event**, со следующими данными:\n",
    "-  **event_name**  - название события\n",
    "- **id_user**  - уникальный идентификатор пользователя\n",
    "- **time_ivent_unix** -  время события\n",
    "- **exper** -  номер эксперимента: 246 и 247 — контрольные группы, а 248 — экспериментальная\n",
    "\n",
    "Затем в таблицу добавили столбцы даты  и времени **(time_ivent)** и отдельный столбец даты **(date_ivent)**\n",
    "\n",
    "Данные проверили на пропуски и полные дубликаты.Пропусков не оказалось, полных дубликатов 413. Дубликаты удалили.\n",
    "Типы данных при загрузке данных были корректные, не требующие переформатирования."
   ]
  },
  {
   "cell_type": "markdown",
   "metadata": {},
   "source": [
    "## Изучение  логов данных и их общая характеристика.\n"
   ]
  },
  {
   "cell_type": "code",
   "execution_count": 6,
   "metadata": {},
   "outputs": [
    {
     "name": "stdout",
     "output_type": "stream",
     "text": [
      "Количество событий в исследуемых данных: 243713\n",
      "Количество пользователей в логе: 7551\n",
      "Количестов событий в среднем приходящихся на одного пользовтеля: 32\n",
      "Количесво событий на одного пользователя усредненных медианой: 20\n",
      "Минимальная дата: 2019-07-25\n",
      "Максимальная дата: 2019-08-07\n"
     ]
    }
   ],
   "source": [
    "print(\"Количество событий в исследуемых данных:\",data_event.shape[0])\n",
    "print('Количество пользователей в логе:', data_event['id_user'].nunique())\n",
    "print('Количестов событий в среднем приходящихся на одного пользовтеля: {:.0f}'\n",
    "      .format(data_event.shape[0]/data_event['id_user'].nunique()))\n",
    "print('Количесво событий на одного пользователя усредненных медианой: {:.0f}' \n",
    "      .format(data_event.groupby('id_user').\n",
    "      agg({'event_name':'count'}).reset_index()['event_name'].median()))\n",
    "     \n",
    "print('Минимальная дата:',data_event['date_ivent'].min())\n",
    "print('Максимальная дата:',data_event['date_ivent'].max())\n"
   ]
  },
  {
   "cell_type": "code",
   "execution_count": 7,
   "metadata": {},
   "outputs": [
    {
     "data": {
      "image/png": "[encoded data removed]",
      "text/plain": [
       "<Figure size 1080x216 with 1 Axes>"
      ]
     },
     "metadata": {
      "needs_background": "light"
     },
     "output_type": "display_data"
    },
    {
     "data": {
      "image/png": "[encoded data removed]",
      "text/plain": [
       "<Figure size 1080x216 with 1 Axes>"
      ]
     },
     "metadata": {
      "needs_background": "light"
     },
     "output_type": "display_data"
    }
   ],
   "source": [
    "hist_ivent=data_event['time_ivent'].hist(bins=100,figsize=(15,3))\n",
    "hist_ivent.set_title('Распределение событий во времени')\n",
    "hist_ivent.set_ylabel('Частота распределения')\n",
    "hist_ivent.set_xlabel('Дата')\n",
    "plt.show()\n",
    "\n",
    "hist_ivent_clean=data_event['time_ivent'].hist(bins=100,figsize=(15,3), range=('2019-08-01', '2019-08-09'))\n",
    "hist_ivent_clean.set_title('Распределение событий во времени без доганяющих данных')\n",
    "hist_ivent_clean.set_ylabel('Частота распределения')\n",
    "hist_ivent_clean.set_xlabel('Дата')\n",
    "plt.show()"
   ]
  },
  {
   "cell_type": "code",
   "execution_count": 8,
   "metadata": {},
   "outputs": [
    {
     "name": "stdout",
     "output_type": "stream",
     "text": [
      "Срезано данных: 1.16%\n",
      "Срезано уникальных пользователей: 0.23%\n"
     ]
    }
   ],
   "source": [
    "clean_data_event=data_event.query('time_ivent>=\"2019-08-01\"')\n",
    "\n",
    "print('Срезано данных: {:.2%}'.format((1-clean_data_event.shape[0]/data_event.shape[0])))\n",
    "print('Срезано уникальных пользователей: {:.2%}'.format((1-len(clean_data_event['id_user'].unique())/len(data_event['id_user'].unique()))))"
   ]
  },
  {
   "cell_type": "code",
   "execution_count": 9,
   "metadata": {},
   "outputs": [
    {
     "name": "stdout",
     "output_type": "stream",
     "text": [
      "Количество событий в исследуемых данных: 240887\n",
      "Количество пользователей в логе: 7534\n",
      "Количестов событий в среднем приходящихся на одного пользовтеля: 32\n",
      "Количесво событий на одного пользователя усредненных медианой: 19\n",
      "Минимальная дата: 2019-08-01\n",
      "Максимальная дата: 2019-08-07\n"
     ]
    }
   ],
   "source": [
    "print(\"Количество событий в исследуемых данных:\",clean_data_event.shape[0])\n",
    "print('Количество пользователей в логе:', clean_data_event['id_user'].nunique())\n",
    "print('Количестов событий в среднем приходящихся на одного пользовтеля: {:.0f}'\n",
    "      .format(clean_data_event.shape[0]/clean_data_event['id_user'].nunique()))\n",
    "print('Количесво событий на одного пользователя усредненных медианой: {:.0f}' \n",
    "      .format(clean_data_event.groupby('id_user').\n",
    "      agg({'event_name':'count'}).reset_index()['event_name'].median()))\n",
    "\n",
    "\n",
    "print('Минимальная дата:',clean_data_event['date_ivent'].min())\n",
    "print('Максимальная дата:',clean_data_event['date_ivent'].max())\n"
   ]
  },
  {
   "cell_type": "code",
   "execution_count": 36,
   "metadata": {},
   "outputs": [
    {
     "name": "stdout",
     "output_type": "stream",
     "text": [
      "Количество пользователей в эксперементальных группах\n"
     ]
    },
    {
     "data": {
      "text/html": [
       "<div>\n",
       "<style scoped>\n",
       "    .dataframe tbody tr th:only-of-type {\n",
       "        vertical-align: middle;\n",
       "    }\n",
       "\n",
       "    .dataframe tbody tr th {\n",
       "        vertical-align: top;\n",
       "    }\n",
       "\n",
       "    .dataframe thead th {\n",
       "        text-align: right;\n",
       "    }\n",
       "</style>\n",
       "<table border=\"1\" class=\"dataframe\">\n",
       "  <thead>\n",
       "    <tr style=\"text-align: right;\">\n",
       "      <th></th>\n",
       "      <th>exper</th>\n",
       "      <th>id_user</th>\n",
       "    </tr>\n",
       "  </thead>\n",
       "  <tbody>\n",
       "    <tr>\n",
       "      <th>0</th>\n",
       "      <td>246</td>\n",
       "      <td>2484</td>\n",
       "    </tr>\n",
       "    <tr>\n",
       "      <th>1</th>\n",
       "      <td>247</td>\n",
       "      <td>2513</td>\n",
       "    </tr>\n",
       "    <tr>\n",
       "      <th>2</th>\n",
       "      <td>248</td>\n",
       "      <td>2537</td>\n",
       "    </tr>\n",
       "  </tbody>\n",
       "</table>\n",
       "</div>"
      ],
      "text/plain": [
       "   exper  id_user\n",
       "0    246     2484\n",
       "1    247     2513\n",
       "2    248     2537"
      ]
     },
     "execution_count": 36,
     "metadata": {},
     "output_type": "execute_result"
    }
   ],
   "source": [
    "print('Количество пользователей в эксперементальных группах')\n",
    "clean_data_event.groupby('exper').agg({'id_user':'nunique'}).reset_index()"
   ]
  },
  {
   "cell_type": "markdown",
   "metadata": {},
   "source": [
    "### Вывод\n",
    "Были изучена логи данных. Были отчищены данные от догоняющих событий.\n",
    "\n",
    "**Данные без очистки:**\n",
    "\n",
    "- Количество событий в исследуемых данных: 243713\n",
    "- Количество пользователей в логе: 7551\n",
    "- Количестов событий в среднем приходящихся на одного пользовтеля: 32\n",
    "- Количесво событий на одного пользователя усредненных медианой: 20\n",
    "- Минимальная дата: 2019-07-25\n",
    "- Максимальная дата: 2019-08-07\n",
    "\n",
    "**Данные после очистки:**\n",
    "- Количество событий в исследуемых данных: 240887\n",
    "- Количество пользователей в логе: 7534\n",
    "- Количестов событий в среднем приходящихся на одного пользовтеля: 32\n",
    "- Количесво событий на одного пользователя усредненных медианой: 19\n",
    "- Минимальная дата: 2019-08-01\n",
    "- Максимальная дата: 2019-08-07\n",
    "\n",
    "Срезано данных: 1.16% или срезано 0,23 % уникальных пользователей\n",
    "\n",
    "\n",
    "\n",
    "Количество пользователей в эксперементальных группах по отчищенным данным:\t\n",
    "- 246 экспереминтальная группа:\t2484 пользователя\n",
    "- 247 эксперементальная группа:\t2513 пользователя\n",
    "- 248 эксперементальная группа:\t2537 пользователя"
   ]
  },
  {
   "cell_type": "markdown",
   "metadata": {},
   "source": [
    "## Исследование воронки событий"
   ]
  },
  {
   "cell_type": "code",
   "execution_count": 11,
   "metadata": {},
   "outputs": [
    {
     "name": "stdout",
     "output_type": "stream",
     "text": [
      "Воронка видов событий:\n"
     ]
    },
    {
     "data": {
      "text/html": [
       "<div>\n",
       "<style scoped>\n",
       "    .dataframe tbody tr th:only-of-type {\n",
       "        vertical-align: middle;\n",
       "    }\n",
       "\n",
       "    .dataframe tbody tr th {\n",
       "        vertical-align: top;\n",
       "    }\n",
       "\n",
       "    .dataframe thead th {\n",
       "        text-align: right;\n",
       "    }\n",
       "</style>\n",
       "<table border=\"1\" class=\"dataframe\">\n",
       "  <thead>\n",
       "    <tr style=\"text-align: right;\">\n",
       "      <th></th>\n",
       "      <th>event_name</th>\n",
       "      <th>id_user</th>\n",
       "    </tr>\n",
       "  </thead>\n",
       "  <tbody>\n",
       "    <tr>\n",
       "      <th>1</th>\n",
       "      <td>MainScreenAppear</td>\n",
       "      <td>117328</td>\n",
       "    </tr>\n",
       "    <tr>\n",
       "      <th>2</th>\n",
       "      <td>OffersScreenAppear</td>\n",
       "      <td>46333</td>\n",
       "    </tr>\n",
       "    <tr>\n",
       "      <th>0</th>\n",
       "      <td>CartScreenAppear</td>\n",
       "      <td>42303</td>\n",
       "    </tr>\n",
       "    <tr>\n",
       "      <th>3</th>\n",
       "      <td>PaymentScreenSuccessful</td>\n",
       "      <td>33918</td>\n",
       "    </tr>\n",
       "    <tr>\n",
       "      <th>4</th>\n",
       "      <td>Tutorial</td>\n",
       "      <td>1005</td>\n",
       "    </tr>\n",
       "  </tbody>\n",
       "</table>\n",
       "</div>"
      ],
      "text/plain": [
       "                event_name  id_user\n",
       "1         MainScreenAppear   117328\n",
       "2       OffersScreenAppear    46333\n",
       "0         CartScreenAppear    42303\n",
       "3  PaymentScreenSuccessful    33918\n",
       "4                 Tutorial     1005"
      ]
     },
     "execution_count": 11,
     "metadata": {},
     "output_type": "execute_result"
    }
   ],
   "source": [
    "event_name_count=(clean_data_event.groupby('event_name').\n",
    "                  agg({'id_user':'count'}).reset_index().sort_values(by='id_user', ascending=False))\n",
    "print('Воронка видов событий:')\n",
    "event_name_count"
   ]
  },
  {
   "cell_type": "code",
   "execution_count": 12,
   "metadata": {},
   "outputs": [
    {
     "name": "stdout",
     "output_type": "stream",
     "text": [
      "Воронка  уникальных пользователей по событиям:\n"
     ]
    },
    {
     "data": {
      "text/html": [
       "<div>\n",
       "<style scoped>\n",
       "    .dataframe tbody tr th:only-of-type {\n",
       "        vertical-align: middle;\n",
       "    }\n",
       "\n",
       "    .dataframe tbody tr th {\n",
       "        vertical-align: top;\n",
       "    }\n",
       "\n",
       "    .dataframe thead th {\n",
       "        text-align: right;\n",
       "    }\n",
       "</style>\n",
       "<table border=\"1\" class=\"dataframe\">\n",
       "  <thead>\n",
       "    <tr style=\"text-align: right;\">\n",
       "      <th></th>\n",
       "      <th>event_name</th>\n",
       "      <th>id_user</th>\n",
       "    </tr>\n",
       "  </thead>\n",
       "  <tbody>\n",
       "    <tr>\n",
       "      <th>1</th>\n",
       "      <td>MainScreenAppear</td>\n",
       "      <td>7419</td>\n",
       "    </tr>\n",
       "    <tr>\n",
       "      <th>2</th>\n",
       "      <td>OffersScreenAppear</td>\n",
       "      <td>4593</td>\n",
       "    </tr>\n",
       "    <tr>\n",
       "      <th>0</th>\n",
       "      <td>CartScreenAppear</td>\n",
       "      <td>3734</td>\n",
       "    </tr>\n",
       "    <tr>\n",
       "      <th>3</th>\n",
       "      <td>PaymentScreenSuccessful</td>\n",
       "      <td>3539</td>\n",
       "    </tr>\n",
       "    <tr>\n",
       "      <th>4</th>\n",
       "      <td>Tutorial</td>\n",
       "      <td>840</td>\n",
       "    </tr>\n",
       "  </tbody>\n",
       "</table>\n",
       "</div>"
      ],
      "text/plain": [
       "                event_name  id_user\n",
       "1         MainScreenAppear     7419\n",
       "2       OffersScreenAppear     4593\n",
       "0         CartScreenAppear     3734\n",
       "3  PaymentScreenSuccessful     3539\n",
       "4                 Tutorial      840"
      ]
     },
     "execution_count": 12,
     "metadata": {},
     "output_type": "execute_result"
    }
   ],
   "source": [
    "event_name_count_users=(clean_data_event.groupby('event_name').\n",
    "                  agg({'id_user':'nunique'}).reset_index().sort_values(by='id_user', ascending=False))\n",
    "print('Воронка  уникальных пользователей по событиям:')\n",
    "event_name_count_users"
   ]
  },
  {
   "cell_type": "code",
   "execution_count": 13,
   "metadata": {},
   "outputs": [
    {
     "name": "stdout",
     "output_type": "stream",
     "text": [
      "Доля пользователей хоть раз совершивших событие:\n"
     ]
    },
    {
     "data": {
      "text/html": [
       "<div>\n",
       "<style scoped>\n",
       "    .dataframe tbody tr th:only-of-type {\n",
       "        vertical-align: middle;\n",
       "    }\n",
       "\n",
       "    .dataframe tbody tr th {\n",
       "        vertical-align: top;\n",
       "    }\n",
       "\n",
       "    .dataframe thead th {\n",
       "        text-align: right;\n",
       "    }\n",
       "</style>\n",
       "<table border=\"1\" class=\"dataframe\">\n",
       "  <thead>\n",
       "    <tr style=\"text-align: right;\">\n",
       "      <th></th>\n",
       "      <th>event_name</th>\n",
       "      <th>id_user</th>\n",
       "      <th>share</th>\n",
       "    </tr>\n",
       "  </thead>\n",
       "  <tbody>\n",
       "    <tr>\n",
       "      <th>1</th>\n",
       "      <td>MainScreenAppear</td>\n",
       "      <td>7419</td>\n",
       "      <td>98.47</td>\n",
       "    </tr>\n",
       "    <tr>\n",
       "      <th>2</th>\n",
       "      <td>OffersScreenAppear</td>\n",
       "      <td>4593</td>\n",
       "      <td>60.96</td>\n",
       "    </tr>\n",
       "    <tr>\n",
       "      <th>0</th>\n",
       "      <td>CartScreenAppear</td>\n",
       "      <td>3734</td>\n",
       "      <td>49.56</td>\n",
       "    </tr>\n",
       "    <tr>\n",
       "      <th>3</th>\n",
       "      <td>PaymentScreenSuccessful</td>\n",
       "      <td>3539</td>\n",
       "      <td>46.97</td>\n",
       "    </tr>\n",
       "    <tr>\n",
       "      <th>4</th>\n",
       "      <td>Tutorial</td>\n",
       "      <td>840</td>\n",
       "      <td>11.15</td>\n",
       "    </tr>\n",
       "  </tbody>\n",
       "</table>\n",
       "</div>"
      ],
      "text/plain": [
       "                event_name  id_user  share\n",
       "1         MainScreenAppear     7419  98.47\n",
       "2       OffersScreenAppear     4593  60.96\n",
       "0         CartScreenAppear     3734  49.56\n",
       "3  PaymentScreenSuccessful     3539  46.97\n",
       "4                 Tutorial      840  11.15"
      ]
     },
     "execution_count": 13,
     "metadata": {},
     "output_type": "execute_result"
    }
   ],
   "source": [
    "event_name_count_users['share']=(event_name_count_users['id_user'] / clean_data_event['id_user'].nunique()*100).round(2)\n",
    "print('Доля пользователей хоть раз совершивших событие:')\n",
    "event_name_count_users"
   ]
  },
  {
   "cell_type": "code",
   "execution_count": 14,
   "metadata": {},
   "outputs": [],
   "source": [
    "conv=event_name_count_users[1:].reset_index()['id_user']\n",
    "conv= conv.rename('count_users')\n",
    "conv\n",
    "conv1=event_name_count_users.reset_index()[['event_name','id_user']]"
   ]
  },
  {
   "cell_type": "code",
   "execution_count": 15,
   "metadata": {},
   "outputs": [
    {
     "name": "stdout",
     "output_type": "stream",
     "text": [
      "Доля перехода пользователей между событиями: \n"
     ]
    },
    {
     "data": {
      "text/html": [
       "<div>\n",
       "<style scoped>\n",
       "    .dataframe tbody tr th:only-of-type {\n",
       "        vertical-align: middle;\n",
       "    }\n",
       "\n",
       "    .dataframe tbody tr th {\n",
       "        vertical-align: top;\n",
       "    }\n",
       "\n",
       "    .dataframe thead th {\n",
       "        text-align: right;\n",
       "    }\n",
       "</style>\n",
       "<table border=\"1\" class=\"dataframe\">\n",
       "  <thead>\n",
       "    <tr style=\"text-align: right;\">\n",
       "      <th></th>\n",
       "      <th>event_name</th>\n",
       "      <th>id_user</th>\n",
       "      <th>count_users</th>\n",
       "      <th>conv</th>\n",
       "    </tr>\n",
       "  </thead>\n",
       "  <tbody>\n",
       "    <tr>\n",
       "      <th>0</th>\n",
       "      <td>MainScreenAppear</td>\n",
       "      <td>7419</td>\n",
       "      <td>4593.0</td>\n",
       "      <td>61.91</td>\n",
       "    </tr>\n",
       "    <tr>\n",
       "      <th>1</th>\n",
       "      <td>OffersScreenAppear</td>\n",
       "      <td>4593</td>\n",
       "      <td>3734.0</td>\n",
       "      <td>81.30</td>\n",
       "    </tr>\n",
       "    <tr>\n",
       "      <th>2</th>\n",
       "      <td>CartScreenAppear</td>\n",
       "      <td>3734</td>\n",
       "      <td>3539.0</td>\n",
       "      <td>94.78</td>\n",
       "    </tr>\n",
       "    <tr>\n",
       "      <th>3</th>\n",
       "      <td>PaymentScreenSuccessful</td>\n",
       "      <td>3539</td>\n",
       "      <td>840.0</td>\n",
       "      <td>23.74</td>\n",
       "    </tr>\n",
       "    <tr>\n",
       "      <th>4</th>\n",
       "      <td>Tutorial</td>\n",
       "      <td>840</td>\n",
       "      <td>NaN</td>\n",
       "      <td>NaN</td>\n",
       "    </tr>\n",
       "  </tbody>\n",
       "</table>\n",
       "</div>"
      ],
      "text/plain": [
       "                event_name  id_user  count_users   conv\n",
       "0         MainScreenAppear     7419       4593.0  61.91\n",
       "1       OffersScreenAppear     4593       3734.0  81.30\n",
       "2         CartScreenAppear     3734       3539.0  94.78\n",
       "3  PaymentScreenSuccessful     3539        840.0  23.74\n",
       "4                 Tutorial      840          NaN    NaN"
      ]
     },
     "execution_count": 15,
     "metadata": {},
     "output_type": "execute_result"
    }
   ],
   "source": [
    "conv2=pd.concat([conv1, conv], axis=1)\n",
    "conv2['conv']=(conv2['count_users'] / conv2['id_user']*100).round(2)\n",
    "print('Доля перехода пользователей между событиями: ')\n",
    "conv2[['event_name','conv']]\n",
    "conv2"
   ]
  },
  {
   "cell_type": "code",
   "execution_count": 16,
   "metadata": {},
   "outputs": [
    {
     "name": "stdout",
     "output_type": "stream",
     "text": [
      "Доля пользователей, которые доходят от первого события до оплаты: 47.70%\n"
     ]
    }
   ],
   "source": [
    "print('Доля пользователей, которые доходят от первого события до оплаты: {:.2%}'\n",
    "      .format(conv2['id_user'][3] / conv2['id_user'][0]))"
   ]
  },
  {
   "cell_type": "markdown",
   "metadata": {},
   "source": [
    "### Вывод\n"
   ]
  },
  {
   "cell_type": "markdown",
   "metadata": {},
   "source": [
    "\n",
    "\n",
    "**События в логах:**\n",
    "\n",
    "-\t**MainScreenAppear** (главная страница приложения):\t117328\n",
    "-\t**OffersScreenAppear** (добавление заказа в корзину):\t46333\n",
    "-\t**CartScreenAppear** (переход к оплате):\t42303\n",
    "-\t**PaymentScreenSuccessful** (успешная оплата):\t33918\n",
    "-\t**Tutorial** (инструкции):\t1005\n",
    "\n",
    "**Воронка активности пользователей по событиям:**\n",
    "\n",
    "событие|количество пользователей| доля пользователей| доля перехода на следующий шаг\n",
    "--|--|--|--|\n",
    "**MainScreenAppear**|7419|98.47|61.91\n",
    "-\t**OffersScreenAppear:**|\t4593| 60.96|81.30\n",
    "-\t**CartScreenAppear:**|\t3734| 49.56|94.78\n",
    "-\t**PaymentScreenSuccessful:**|\t3539| 46.97|23.74\n",
    "-\t**Tutorial:**|\t840| 11.15|не считается\n",
    "\n",
    "\n",
    "\n",
    "Доля пользователей, которые доходят от первого события до оплаты: 47.70%\n",
    "\n",
    "Из приведенных данных видно, что образуется воронка событий в следующей последовательности: \n",
    "-\t**MainScreenAppear** (главная страница приложения)\n",
    "- **OffersScreenAppear** (добавление заказа в корзину)\n",
    "-\t**CartScreenAppear** (переход к оплате)\n",
    "-\t**PaymentScreenSuccessful** (успешная оплата)\n",
    "\n",
    "\n",
    "Вид события, как инструкция нам в событийной аналитике в данном случаи не интересен. Из воронки видим,что 98,47 % пользователей попадают в приложение через главную страницу, остальные попадают минуя её. 60,96 % пользователей прешедщих в приложение добавляют товар в корзину, 49,56 % заходят на страницу оплаты, 46,97 % оплачивают товар.Больше всег теряется пользователей на первом шаге около 40%. 5,22 % пользователей не получается оплатить заказ. Конверсия пользователей которая остается и оплачивает достаточная высокая, но все же можно попытаться выяснить причину почему уходят 40 % пользователей не дойдя до заказа, а также проверить не бывает ли технических проблем при оплатах. В то же время 19 % пользователей добавишвших товар в корзину не оплачивают, возможно емеет смысл провести им рассылки."
   ]
  },
  {
   "cell_type": "markdown",
   "metadata": {},
   "source": [
    "## Изучение данных  эксперимента"
   ]
  },
  {
   "cell_type": "markdown",
   "metadata": {},
   "source": [
    "### Функция Z теста"
   ]
  },
  {
   "cell_type": "code",
   "execution_count": 17,
   "metadata": {
    "scrolled": true
   },
   "outputs": [
    {
     "data": {
      "text/html": [
       "<div>\n",
       "<style scoped>\n",
       "    .dataframe tbody tr th:only-of-type {\n",
       "        vertical-align: middle;\n",
       "    }\n",
       "\n",
       "    .dataframe tbody tr th {\n",
       "        vertical-align: top;\n",
       "    }\n",
       "\n",
       "    .dataframe thead th {\n",
       "        text-align: right;\n",
       "    }\n",
       "</style>\n",
       "<table border=\"1\" class=\"dataframe\">\n",
       "  <thead>\n",
       "    <tr style=\"text-align: right;\">\n",
       "      <th>exper</th>\n",
       "      <th>event_name</th>\n",
       "      <th>246</th>\n",
       "      <th>247</th>\n",
       "      <th>248</th>\n",
       "      <th>union_group</th>\n",
       "    </tr>\n",
       "  </thead>\n",
       "  <tbody>\n",
       "    <tr>\n",
       "      <th>0</th>\n",
       "      <td>CartScreenAppear</td>\n",
       "      <td>1266</td>\n",
       "      <td>1238</td>\n",
       "      <td>1230</td>\n",
       "      <td>2504</td>\n",
       "    </tr>\n",
       "    <tr>\n",
       "      <th>1</th>\n",
       "      <td>MainScreenAppear</td>\n",
       "      <td>2450</td>\n",
       "      <td>2476</td>\n",
       "      <td>2493</td>\n",
       "      <td>4926</td>\n",
       "    </tr>\n",
       "    <tr>\n",
       "      <th>2</th>\n",
       "      <td>OffersScreenAppear</td>\n",
       "      <td>1542</td>\n",
       "      <td>1520</td>\n",
       "      <td>1531</td>\n",
       "      <td>3062</td>\n",
       "    </tr>\n",
       "    <tr>\n",
       "      <th>3</th>\n",
       "      <td>PaymentScreenSuccessful</td>\n",
       "      <td>1200</td>\n",
       "      <td>1158</td>\n",
       "      <td>1181</td>\n",
       "      <td>2358</td>\n",
       "    </tr>\n",
       "  </tbody>\n",
       "</table>\n",
       "</div>"
      ],
      "text/plain": [
       "exper               event_name   246   247   248  union_group\n",
       "0             CartScreenAppear  1266  1238  1230         2504\n",
       "1             MainScreenAppear  2450  2476  2493         4926\n",
       "2           OffersScreenAppear  1542  1520  1531         3062\n",
       "3      PaymentScreenSuccessful  1200  1158  1181         2358"
      ]
     },
     "metadata": {},
     "output_type": "display_data"
    },
    {
     "data": {
      "text/plain": [
       "'Количество пользователей в группах:'"
      ]
     },
     "metadata": {},
     "output_type": "display_data"
    },
    {
     "data": {
      "text/html": [
       "<div>\n",
       "<style scoped>\n",
       "    .dataframe tbody tr th:only-of-type {\n",
       "        vertical-align: middle;\n",
       "    }\n",
       "\n",
       "    .dataframe tbody tr th {\n",
       "        vertical-align: top;\n",
       "    }\n",
       "\n",
       "    .dataframe thead th {\n",
       "        text-align: right;\n",
       "    }\n",
       "</style>\n",
       "<table border=\"1\" class=\"dataframe\">\n",
       "  <thead>\n",
       "    <tr style=\"text-align: right;\">\n",
       "      <th></th>\n",
       "      <th>exper</th>\n",
       "      <th>id_user</th>\n",
       "    </tr>\n",
       "  </thead>\n",
       "  <tbody>\n",
       "    <tr>\n",
       "      <th>0</th>\n",
       "      <td>246</td>\n",
       "      <td>2484</td>\n",
       "    </tr>\n",
       "    <tr>\n",
       "      <th>1</th>\n",
       "      <td>247</td>\n",
       "      <td>2513</td>\n",
       "    </tr>\n",
       "    <tr>\n",
       "      <th>2</th>\n",
       "      <td>248</td>\n",
       "      <td>2537</td>\n",
       "    </tr>\n",
       "  </tbody>\n",
       "</table>\n",
       "</div>"
      ],
      "text/plain": [
       "   exper  id_user\n",
       "0    246     2484\n",
       "1    247     2513\n",
       "2    248     2537"
      ]
     },
     "metadata": {},
     "output_type": "display_data"
    }
   ],
   "source": [
    "\n",
    "exper_group=clean_data_event.pivot_table(index=('event_name'), columns=('exper'), values='id_user', aggfunc=('nunique')).reset_index()[:4]\n",
    "\n",
    "exper_group['union_group']=exper_group[246]+exper_group[247]\n",
    "display(exper_group)\n",
    "count_user=clean_data_event.groupby('exper').agg({'id_user':'nunique'}).reset_index()\n",
    "\n",
    "display('Количество пользователей в группах:',count_user)\n",
    "list_count_user={246:2484, 247:2513, 248:2537, 'union_group':4997}"
   ]
  },
  {
   "cell_type": "code",
   "execution_count": 18,
   "metadata": {},
   "outputs": [],
   "source": [
    "def Ztest1(event,group1,group2, alpha):\n",
    "# event1- событие\n",
    "# group1-эсксперементальная группа 1\n",
    "# group2-эксперементальная группа 2\n",
    "# alpha\n",
    "        \n",
    "# пропорция успехов в первой группе:\n",
    "    p1 =(\n",
    "        exper_group[exper_group['event_name']==event][group1]\n",
    "        [exper_group[exper_group['event_name']==event][group1].index[0]]\n",
    "         / list_count_user[group1]\n",
    "       \n",
    "        \n",
    ")\n",
    "# пропорция успехов во второй группе:\n",
    "    p2 =(\n",
    "        exper_group[exper_group['event_name']==event][group2]\n",
    "        [exper_group[exper_group['event_name']==event][group2].index[0]]\n",
    "         / list_count_user[group2]\n",
    ")\n",
    "\n",
    "    \n",
    "# пропорция успехов в комбинированном датасете:\n",
    "    p_combined = (exper_group[exper_group['event_name']==event][group1]\\\n",
    "                  [exper_group[exper_group['event_name']==event][group1].index[0]]\n",
    "                  + exper_group[exper_group['event_name']==event][group2]\\\n",
    "                [exper_group[exper_group['event_name']==event][group2].index[0]])/(list_count_user[group1]+list_count_user[group2])\n",
    "    \n",
    "# разница пропорций в датасетах\n",
    "    difference = p1 - p2 \n",
    "# считаем статистику в ст.отклонениях стандартного нормального распределения\n",
    "    z_value =difference / mth.sqrt(p_combined * (1 - p_combined) * (1/list_count_user[group1] + 1/list_count_user[group2]))\n",
    "\n",
    "# задаем стандартное нормальное распределение (среднее 0, ст.отклонение 1)\n",
    "    distr = st.norm(0, 1)  \n",
    "    p_value = (1 - distr.cdf(abs(z_value))) * 2\n",
    "\n",
    "    print('p-значение: ', p_value)\n",
    "\n",
    "    if p_value < alpha:\n",
    "        print('Отвергаем нулевую гипотезу: между долями есть значимая разница')\n",
    "    else:\n",
    "        print(\n",
    "            'Не получилось отвергнуть нулевую гипотезу, нет оснований считать доли разными'\n",
    "    ) \n",
    "        "
   ]
  },
  {
   "cell_type": "markdown",
   "metadata": {},
   "source": [
    "### Исследование статитистического сходства долей А1-А2 групп(246-247)"
   ]
  },
  {
   "cell_type": "markdown",
   "metadata": {},
   "source": [
    "**Н0-доли групп одинаковые**\n",
    "\n",
    "**Н1-доли групп отличаются**"
   ]
  },
  {
   "cell_type": "markdown",
   "metadata": {},
   "source": [
    "**Cтатистически значимое различие собития MainScreenAppear**"
   ]
  },
  {
   "cell_type": "code",
   "execution_count": 19,
   "metadata": {},
   "outputs": [
    {
     "name": "stdout",
     "output_type": "stream",
     "text": [
      "p-значение:  0.7570597232046099\n",
      "Не получилось отвергнуть нулевую гипотезу, нет оснований считать доли разными\n"
     ]
    }
   ],
   "source": [
    "Ztest1('MainScreenAppear',246,247,0.05)"
   ]
  },
  {
   "cell_type": "markdown",
   "metadata": {},
   "source": [
    "**Cтатистически значимое различие собития OffersScreenAppear**\n"
   ]
  },
  {
   "cell_type": "code",
   "execution_count": 20,
   "metadata": {},
   "outputs": [
    {
     "name": "stdout",
     "output_type": "stream",
     "text": [
      "p-значение:  0.2480954578522181\n",
      "Не получилось отвергнуть нулевую гипотезу, нет оснований считать доли разными\n"
     ]
    }
   ],
   "source": [
    "Ztest1('OffersScreenAppear',246,247,0.05)"
   ]
  },
  {
   "cell_type": "markdown",
   "metadata": {},
   "source": [
    "**Cтатистически значимое различие собития CartScreenAppear**"
   ]
  },
  {
   "cell_type": "code",
   "execution_count": 21,
   "metadata": {},
   "outputs": [
    {
     "name": "stdout",
     "output_type": "stream",
     "text": [
      "p-значение:  0.22883372237997213\n",
      "Не получилось отвергнуть нулевую гипотезу, нет оснований считать доли разными\n"
     ]
    }
   ],
   "source": [
    "Ztest1('CartScreenAppear',246,247,0.05)"
   ]
  },
  {
   "cell_type": "markdown",
   "metadata": {},
   "source": [
    "**Cтатистически значимое различие собития PaymentScreenSuccessful**"
   ]
  },
  {
   "cell_type": "code",
   "execution_count": 22,
   "metadata": {},
   "outputs": [
    {
     "name": "stdout",
     "output_type": "stream",
     "text": [
      "p-значение:  0.11456679313141849\n",
      "Не получилось отвергнуть нулевую гипотезу, нет оснований считать доли разными\n"
     ]
    }
   ],
   "source": [
    "Ztest1('PaymentScreenSuccessful',246,247,0.05)"
   ]
  },
  {
   "cell_type": "markdown",
   "metadata": {},
   "source": [
    "Исследоавние показатало, что нет статистические значимого рзаличия долей в контрольных группах 246 и 247"
   ]
  },
  {
   "cell_type": "markdown",
   "metadata": {},
   "source": [
    "### Исследование статитистического сходства долей А1-В групп(246-248)"
   ]
  },
  {
   "cell_type": "markdown",
   "metadata": {},
   "source": [
    "**Н0-доли групп одинаковые**\n",
    "\n",
    "**Н1-доли групп отличаются**"
   ]
  },
  {
   "cell_type": "markdown",
   "metadata": {},
   "source": [
    "**Cтатистически значимое различие собития MainScreenAppear**"
   ]
  },
  {
   "cell_type": "code",
   "execution_count": 23,
   "metadata": {},
   "outputs": [
    {
     "name": "stdout",
     "output_type": "stream",
     "text": [
      "p-значение:  0.2949721933554552\n",
      "Не получилось отвергнуть нулевую гипотезу, нет оснований считать доли разными\n"
     ]
    }
   ],
   "source": [
    "Ztest1('MainScreenAppear',246,248,0.05)"
   ]
  },
  {
   "cell_type": "markdown",
   "metadata": {},
   "source": [
    "**Cтатистически значимое различие собития OffersScreenAppear**"
   ]
  },
  {
   "cell_type": "code",
   "execution_count": 24,
   "metadata": {},
   "outputs": [
    {
     "name": "stdout",
     "output_type": "stream",
     "text": [
      "p-значение:  0.20836205402738917\n",
      "Не получилось отвергнуть нулевую гипотезу, нет оснований считать доли разными\n"
     ]
    }
   ],
   "source": [
    "Ztest1('OffersScreenAppear',246,248,0.05)"
   ]
  },
  {
   "cell_type": "markdown",
   "metadata": {},
   "source": [
    "**Cтатистически значимое различие собития CartScreenAppear**"
   ]
  },
  {
   "cell_type": "code",
   "execution_count": 25,
   "metadata": {},
   "outputs": [
    {
     "name": "stdout",
     "output_type": "stream",
     "text": [
      "p-значение:  0.07842923237520116\n",
      "Не получилось отвергнуть нулевую гипотезу, нет оснований считать доли разными\n"
     ]
    }
   ],
   "source": [
    "Ztest1('CartScreenAppear',246,248,0.05)"
   ]
  },
  {
   "cell_type": "markdown",
   "metadata": {},
   "source": [
    "**Cтатистически значимое различие собития PaymentScreenSuccessful**"
   ]
  },
  {
   "cell_type": "code",
   "execution_count": 26,
   "metadata": {},
   "outputs": [
    {
     "name": "stdout",
     "output_type": "stream",
     "text": [
      "p-значение:  0.2122553275697796\n",
      "Не получилось отвергнуть нулевую гипотезу, нет оснований считать доли разными\n"
     ]
    }
   ],
   "source": [
    "Ztest1('PaymentScreenSuccessful',246,248,0.05)"
   ]
  },
  {
   "cell_type": "markdown",
   "metadata": {},
   "source": [
    "Исследование показало, что нет статистические значимого различичия долей контрольной 246 и экспериминтальной 248 группой"
   ]
  },
  {
   "cell_type": "markdown",
   "metadata": {},
   "source": [
    "### Исследование статитистического сходства долей А2-В групп(247-248)"
   ]
  },
  {
   "cell_type": "markdown",
   "metadata": {},
   "source": [
    "**Н0-доли групп одинаковые**\n",
    "\n",
    "**Н1-доли групп отличаются**"
   ]
  },
  {
   "cell_type": "markdown",
   "metadata": {},
   "source": [
    "**Cтатистически значимое различие собития MainScreenAppear**"
   ]
  },
  {
   "cell_type": "code",
   "execution_count": 27,
   "metadata": {},
   "outputs": [
    {
     "name": "stdout",
     "output_type": "stream",
     "text": [
      "p-значение:  0.4587053616621515\n",
      "Не получилось отвергнуть нулевую гипотезу, нет оснований считать доли разными\n"
     ]
    }
   ],
   "source": [
    "Ztest1('MainScreenAppear',247,248,0.05)"
   ]
  },
  {
   "cell_type": "markdown",
   "metadata": {},
   "source": [
    "**Cтатистически значимое различие собития OffersScreenAppear**"
   ]
  },
  {
   "cell_type": "code",
   "execution_count": 28,
   "metadata": {},
   "outputs": [
    {
     "name": "stdout",
     "output_type": "stream",
     "text": [
      "p-значение:  0.9197817830592261\n",
      "Не получилось отвергнуть нулевую гипотезу, нет оснований считать доли разными\n"
     ]
    }
   ],
   "source": [
    "Ztest1('OffersScreenAppear',247,248,0.05)"
   ]
  },
  {
   "cell_type": "markdown",
   "metadata": {},
   "source": [
    "**Cтатистически значимое различие собития CartScreenAppear**"
   ]
  },
  {
   "cell_type": "code",
   "execution_count": 29,
   "metadata": {},
   "outputs": [
    {
     "name": "stdout",
     "output_type": "stream",
     "text": [
      "p-значение:  0.5786197879539783\n",
      "Не получилось отвергнуть нулевую гипотезу, нет оснований считать доли разными\n"
     ]
    }
   ],
   "source": [
    "Ztest1('CartScreenAppear',247,248,0.05)"
   ]
  },
  {
   "cell_type": "markdown",
   "metadata": {},
   "source": [
    "**Cтатистически значимое различие собития PaymentScreenSuccessful**"
   ]
  },
  {
   "cell_type": "code",
   "execution_count": 30,
   "metadata": {},
   "outputs": [
    {
     "name": "stdout",
     "output_type": "stream",
     "text": [
      "p-значение:  0.7373415053803964\n",
      "Не получилось отвергнуть нулевую гипотезу, нет оснований считать доли разными\n"
     ]
    }
   ],
   "source": [
    "Ztest1('PaymentScreenSuccessful',247,248,0.05)"
   ]
  },
  {
   "cell_type": "markdown",
   "metadata": {},
   "source": [
    "Исследование показало, что нет статистически значимого различия долей контрольной 247 и эксперементальной 248 группой"
   ]
  },
  {
   "cell_type": "markdown",
   "metadata": {},
   "source": [
    "### Исследование статитистического сходства долей объединенной А1,А2-В групп(246,247-248)"
   ]
  },
  {
   "cell_type": "markdown",
   "metadata": {},
   "source": [
    "**Н0-доли групп одинаковые**\n",
    "**Н1-доли групп отличаются**"
   ]
  },
  {
   "cell_type": "markdown",
   "metadata": {},
   "source": [
    "**Cтатистически значимое различие собития MainScreenAppear**"
   ]
  },
  {
   "cell_type": "code",
   "execution_count": 31,
   "metadata": {},
   "outputs": [
    {
     "name": "stdout",
     "output_type": "stream",
     "text": [
      "p-значение:  0.29424526837179577\n",
      "Не получилось отвергнуть нулевую гипотезу, нет оснований считать доли разными\n"
     ]
    }
   ],
   "source": [
    "Ztest1('MainScreenAppear','union_group',248,0.05)"
   ]
  },
  {
   "cell_type": "markdown",
   "metadata": {},
   "source": [
    "**Cтатистически значимое различие собития OffersScreenAppear**"
   ]
  },
  {
   "cell_type": "code",
   "execution_count": 32,
   "metadata": {},
   "outputs": [
    {
     "name": "stdout",
     "output_type": "stream",
     "text": [
      "p-значение:  0.43425549655188256\n",
      "Не получилось отвергнуть нулевую гипотезу, нет оснований считать доли разными\n"
     ]
    }
   ],
   "source": [
    "Ztest1('OffersScreenAppear','union_group',248,0.05)"
   ]
  },
  {
   "cell_type": "markdown",
   "metadata": {},
   "source": [
    "**Cтатистически значимое различие собития CartScreenAppear**"
   ]
  },
  {
   "cell_type": "code",
   "execution_count": 33,
   "metadata": {},
   "outputs": [
    {
     "name": "stdout",
     "output_type": "stream",
     "text": [
      "p-значение:  0.18175875284404386\n",
      "Не получилось отвергнуть нулевую гипотезу, нет оснований считать доли разными\n"
     ]
    }
   ],
   "source": [
    "Ztest1('CartScreenAppear','union_group',248,0.05)"
   ]
  },
  {
   "cell_type": "markdown",
   "metadata": {},
   "source": [
    "**Cтатистически значимое различие собития PaymentScreenSuccessful**"
   ]
  },
  {
   "cell_type": "code",
   "execution_count": 34,
   "metadata": {},
   "outputs": [
    {
     "name": "stdout",
     "output_type": "stream",
     "text": [
      "p-значение:  0.6004294282308704\n",
      "Не получилось отвергнуть нулевую гипотезу, нет оснований считать доли разными\n"
     ]
    }
   ],
   "source": [
    "Ztest1('PaymentScreenSuccessful','union_group',248,0.05)"
   ]
  },
  {
   "cell_type": "markdown",
   "metadata": {},
   "source": [
    "Исследование показало, что нет статистически значимого различия долей контрольной объединенной группой 246,247 и эксперементальной 248."
   ]
  },
  {
   "cell_type": "markdown",
   "metadata": {},
   "source": [
    "При проверки гипотез выбрали уровень значимости 0,05, взяли его, так как это негласно установленный и часто используемый уровень в статистике.При таком уровне значимости каждый двадцатый результат может быть ложным.\n",
    "\n",
    "В ходе статитистического исследования значимости, мы проверили 16 гипотез, везде использовали уровень значимости равный 0,05."
   ]
  },
  {
   "cell_type": "markdown",
   "metadata": {},
   "source": [
    "---"
   ]
  },
  {
   "cell_type": "markdown",
   "metadata": {},
   "source": [
    "## Вывод"
   ]
  },
  {
   "cell_type": "markdown",
   "metadata": {},
   "source": [
    "Были изучена логи данных. Были отчищены данные от догоняющих событий.\n",
    "\n",
    "**Данные без очистки:**\n",
    "\n",
    "- Количество событий в исследуемых данных: 243713\n",
    "- Количество пользователей в логе: 7551\n",
    "- Количестов событий в среднем приходящихся на одного пользовтеля: 32\n",
    "- Количесво событий на одного пользователя усредненных медианой: 20\n",
    "- Минимальная дата: 2019-07-25\n",
    "- Максимальная дата: 2019-08-07\n",
    "\n",
    "**Данные после очистки:**\n",
    "- Количество событий в исследуемых данных: 240887\n",
    "- Количество пользователей в логе: 7534\n",
    "- Количестов событий в среднем приходящихся на одного пользовтеля: 32\n",
    "- Количесво событий на одного пользователя усредненных медианой: 19\n",
    "- Минимальная дата: 2019-08-01\n",
    "- Максимальная дата: 2019-08-07\n",
    "\n",
    "Срезано данных: 1.17%\n",
    "\n",
    "\n",
    "Количество пользователей в эксперементальных группах по отчищенным данным:\t\n",
    "- 246 экспереминтальная группа:\t2484 пользователя\n",
    "- 247 эксперементальная группа:\t2513 пользователя\n",
    "- 248 эксперементальная группа:\t2537 пользователя\n",
    "\n",
    "\n",
    "\n",
    "**События в логах:**\n",
    "\n",
    "-\t**MainScreenAppear** (главная страница приложения):\t117328\n",
    "-\t**OffersScreenAppear** (добавление заказа в корзину):\t46333\n",
    "-\t**CartScreenAppear** (переход к оплате):\t42303\n",
    "-\t**PaymentScreenSuccessful** (успешная оплата):\t33918\n",
    "-\t**Tutorial** (инструкции):\t1005\n",
    "\n",
    "**Воронка активности пользователей по событиям:**\n",
    "\n",
    "событие|количество пользователей| доля пользователей| доля перехода на следующий шаг\n",
    "--|--|--|--|\n",
    "**MainScreenAppear**|7419|98.47|61.91\n",
    "\t**OffersScreenAppear:**|\t4593| 60.96|81.30\n",
    "\t**CartScreenAppear:**|\t3734| 49.56|94.78\n",
    "\t**PaymentScreenSuccessful:**|\t3539| 46.97|23.74\n",
    "\t**Tutorial:**|\t840| 11.15|не считается\n",
    "\n",
    "\n",
    "\n",
    "Доля пользователей, которые доходят от первого события до оплаты: 47.70%\n",
    "\n",
    "Из приведенных данных видно, что образуется воронка событий в следующей последовательности: \n",
    "-\t**MainScreenAppear** (главная страница приложения)\n",
    "- **OffersScreenAppear** (добавление заказа в корзину)\n",
    "-\t**CartScreenAppear** (переход к оплате)\n",
    "-\t**PaymentScreenSuccessful** (успешная оплата)\n",
    "\n",
    "\n",
    "Вид события, как инструкция нам в событийной аналитике в данном случаи не интересен. Из воронки видим,что 98,47 % пользователей попадают в приложение через главную страницу, остальные попадают минуя её. 60,96 % пользователей прешедщих в приложение добавляют товар в корзину, 49,56 % заходят на страницу оплаты, 46,97 % оплачивают товар.Больше всег теряется пользователей на первом шаге около 40%. 5,22 % пользователей не получается оплатить заказ. Конверсия пользователей которая остается и оплачивает достаточная высокая, но все же можно попытаться выяснить причину почему уходят 40 % пользователей не дойдя до заказа, а также проверить не бывает ли технических проблем при оплатах. В то же время 19 % пользователей добавишвших товар в корзину не оплачивают, возможно емеет смысл провести им рассылки.\n",
    "\n",
    "**Анализ статистикеской разницы долей эксперементальный групп**\n",
    "\n",
    "событие|246-247| 246-248|247-248|246,247-248|\n",
    "--|--|--|--|--|\n",
    "**MainScreenAppear**|различий нет|различий нет|различий нет|различий нет|\n",
    "\t**OffersScreenAppear:**|различий нет|различий нет|различий нет|различий нет|\n",
    "\t**CartScreenAppear:**|различий нет|различий нет|различий нет|различий нет|\n",
    "\t**PaymentScreenSuccessful:**|различий нет|различий нет|различий нет|различий нет|\n",
    "\n",
    "Из результатов тестов можно сделать вывод, что изменение шрифта не повлияло на пользователей, и опасение менеджеров не потвердились, что новый шрифт оттолкнет пользователей."
   ]
  },
  {
   "cell_type": "code",
   "execution_count": null,
   "metadata": {},
   "outputs": [],
   "source": []
  }
 ],
 "metadata": {
  "kernelspec": {
   "display_name": "Python 3",
   "language": "python",
   "name": "python3"
  },
  "language_info": {
   "codemirror_mode": {
    "name": "ipython",
    "version": 3
   },
   "file_extension": ".py",
   "mimetype": "text/x-python",
   "name": "python",
   "nbconvert_exporter": "python",
   "pygments_lexer": "ipython3",
   "version": "3.8.5"
  },
  "toc": {
   "base_numbering": 1,
   "nav_menu": {},
   "number_sections": true,
   "sideBar": true,
   "skip_h1_title": true,
   "title_cell": "Table of Contents",
   "title_sidebar": "Contents",
   "toc_cell": false,
   "toc_position": {
    "height": "calc(100% - 180px)",
    "left": "10px",
    "top": "150px",
    "width": "285px"
   },
   "toc_section_display": true,
   "toc_window_display": true
  }
 },
 "nbformat": 4,
 "nbformat_minor": 2
}
