{
 "cells": [
  {
   "cell_type": "markdown",
   "metadata": {},
   "source": [
    "**План исследования**\n",
    "\n",
    "**1. Ознакомление и предобработка данных:**\n",
    "- Загрузить датасеты и ознакомиться с имеющимися данными;\n",
    "- проверить на пропуски и дубликаты, при их наличии провести операции по их обработке;\n",
    "- проверить типы данных, при необходимости изменить на соответсующие.\n",
    "- изучить данные на аномалии и выбросы( здесь можно исследовать на выбросы показатель количетва построенных зданий, а на аномалии, можно рассмотреть удаление событий которые идут после маркеров завершения уровня, а именно для события реализация проекта, считать последним событием маркер проект завершен,а не маркер перехода на уровень. Это следует из условия, где завершение проекта-это переход на уровень, но возможно существует какие то лаги или переход на уровень осуществляется в ручную, что приводит к растягиванию перехода от часов до недель, а это удлиняет сессию за которую пользователь через проект может завершить 1 уровень, в то время как такие события, как постройка(просмотр видеороликов) произошли до маркера проект завершен.\n",
    "\n",
    "**2.Рассчитать метрики и построить графики. Посчитать метрики трёх видов:**\n",
    "\n",
    "- продуктовые; \n",
    "- метрики электронной коммерции; \n",
    "- маркетинговые.\n",
    "\n",
    "**Продуктовые метрики**\n",
    "\n",
    "- Рассчитать DAU, WAU и MAU. Вычислить средние значения этих метрик за весь период;\n",
    "- Исследовать, сколько времени пользователи проводят в игре.\n",
    "- Рассчитать Retention Rate, применяя когортный анализ.\n",
    "\n",
    "**Метрики электронной коммерции**\n",
    "\n",
    "- Исследовать, сколько времени в среднем проходит с момента первого посещения игры (первой постройки здания) до завершения уровня(победы над игроком или завершения проекта).\n",
    "- Применяя когортный анализ или другой метод, рассчитать среднее количество покупок(построек) на одного пользователя за определённый период.\n",
    "- Изучить потенциальный LTV\n",
    "\n",
    "**Маркетинговые метрики**\n",
    "\n",
    "- Посчитать и отобразить на графиках, как маркетинговые метрики различаются по рекламным источникам.\n",
    "- Посчитать общую сумму расходов на маркетинг. Выяснить, как траты распределены по источникам;\n",
    "- Рассчитать средний CAC на одного покупателя для всего проекта и для каждого источника трафика;\n",
    "- Изучить потенциальный ROMI в разрезе источников привлечения клиентов.\n",
    "\n",
    "**3. Проверить статистические гипотезы**\n",
    "\n",
    "Проверить гипотезу: время завершения уровня различается в зависимости способа прохождения:\n",
    "\n",
    "- через реализацию проекта,\n",
    "- через победу над первым игроком.\n",
    "\n",
    "Проверить гипотезу: среднее количество построенных знаний различается в зависимости способа прохождения:\n",
    "\n",
    "- через реализацию проекта,\n",
    "- через победу над первым игроком.\n",
    "\n",
    "план проверки гипотез:\n",
    "\n",
    "Посчитать среднее время на прохождения уровня двумя путями победы, сравнить показатели между группами;\n",
    "посчитать среднее количество на пользователя в зависимости от типа победы, сравнить показатели между группами;\n",
    "проверить на стат значимость\n",
    "\n",
    "задать уровень стат значимости=0,05\n",
    "использовать Т-тест для проверки гипотез\n",
    "\n",
    "**4. Сформулировать выводы и рекомендации**\n",
    "- Сделать общие выводы и дать рекомендации;\n",
    "- поодготовить презентацию,\n",
    "- подготовить дашборд."
   ]
  },
  {
   "cell_type": "markdown",
   "metadata": {},
   "source": [
    "### Ознакомление  с данными"
   ]
  },
  {
   "cell_type": "code",
   "execution_count": 1,
   "metadata": {},
   "outputs": [],
   "source": [
    "import pandas as pd\n",
    "import numpy as np\n",
    "import matplotlib.pyplot as plt\n",
    "import seaborn as sns\n",
    "from io import BytesIO\n",
    "import requests\n",
    "from scipy import stats as st\n",
    "import warnings \n",
    "warnings.filterwarnings('ignore')"
   ]
  },
  {
   "cell_type": "code",
   "execution_count": 2,
   "metadata": {},
   "outputs": [],
   "source": [
    "def info(data):\n",
    "# функция выводит информаци по загруженному датефрейму    \n",
    "\n",
    "    print('--------------Обзор загруженных данных-----------')\n",
    "    display(data.head(5))\n",
    "    print()\n",
    "    data.info()\n",
    "    print()\n",
    "    print()\n",
    "    print('----------Размер датасета---')\n",
    "    print(data.shape)\n",
    "    print()\n",
    "    print('----------Пропуски----------')\n",
    "    for i in data.columns:\n",
    "        if data[i].isna().sum()>0:\n",
    "            print(f'Количество пропусков в столбце {i}:',data[i].isna().sum(),\n",
    "                  ', что состовляет: {:.2%}'.format(data[i].isna().mean()))\n",
    "    display(pd.DataFrame(round((data.isna().mean()*100),2)).style.background_gradient('coolwarm'))\n",
    "            \n",
    "            \n",
    "            \n",
    "    print()        \n",
    "    print('----------Дубликаты----------')   \n",
    "    print('Количество полных дубликатов:', data.duplicated().sum())\n",
    "    print()\n",
    "\n",
    "    print('----------Типы данных--------')\n",
    "    list2={}\n",
    "    for i in data.columns:\n",
    "        key = data[i].dtypes\n",
    "        list2.setdefault(key, [])\n",
    "        list2[key].append(i)\n",
    "    for i,k in list2.items():\n",
    "        print(f'Тип данных {i}: {k}')       "
   ]
  },
  {
   "cell_type": "code",
   "execution_count": 3,
   "metadata": {},
   "outputs": [],
   "source": [
    "# загружаем датафреймы\n",
    "spreadsheet_id_costs ='1l5UFZFwT5z5cRoPZa_0fSBoYpv6Rpzamz1E_uCf20D4'\n",
    "file_name_costs = 'https://docs.google.com/spreadsheets/d/{}/export?format=csv'.format(spreadsheet_id_costs)\n",
    "r = requests.get(file_name_costs)\n",
    "costs = pd.read_csv(BytesIO(r.content))\n",
    "\n",
    "spreadsheet_id_source ='16PiuA1vwf9JyBFCy-1GqEgJu381u4fjNPZ_nlb5e8JM'\n",
    "file_name_source = 'https://docs.google.com/spreadsheets/d/{}/export?format=csv'.format(spreadsheet_id_source)\n",
    "rs = requests.get(file_name_source)\n",
    "source = pd.read_csv(BytesIO(rs.content))\n",
    "\n",
    "spreadsheet_id_actions ='1k6yaj0f0ZCH0QRnMsHhAGrhzQ42dvmkbcyqL6lMlbOg'\n",
    "file_name_actions = 'https://docs.google.com/spreadsheets/d/{}/export?format=csv'.format(spreadsheet_id_actions)\n",
    "ra = requests.get(file_name_actions)\n",
    "actions = pd.read_csv(BytesIO(ra.content))\n",
    "\n"
   ]
  },
  {
   "cell_type": "code",
   "execution_count": 4,
   "metadata": {
    "scrolled": false
   },
   "outputs": [
    {
     "name": "stdout",
     "output_type": "stream",
     "text": [
      "\u001b[1mcosts\u001b[0m\n",
      "--------------Обзор загруженных данных-----------\n"
     ]
    },
    {
     "data": {
      "text/html": [
       "<div>\n",
       "<style scoped>\n",
       "    .dataframe tbody tr th:only-of-type {\n",
       "        vertical-align: middle;\n",
       "    }\n",
       "\n",
       "    .dataframe tbody tr th {\n",
       "        vertical-align: top;\n",
       "    }\n",
       "\n",
       "    .dataframe thead th {\n",
       "        text-align: right;\n",
       "    }\n",
       "</style>\n",
       "<table border=\"1\" class=\"dataframe\">\n",
       "  <thead>\n",
       "    <tr style=\"text-align: right;\">\n",
       "      <th></th>\n",
       "      <th>source</th>\n",
       "      <th>day</th>\n",
       "      <th>cost</th>\n",
       "    </tr>\n",
       "  </thead>\n",
       "  <tbody>\n",
       "    <tr>\n",
       "      <th>0</th>\n",
       "      <td>facebook_ads</td>\n",
       "      <td>2020-05-03</td>\n",
       "      <td>935.882786</td>\n",
       "    </tr>\n",
       "    <tr>\n",
       "      <th>1</th>\n",
       "      <td>facebook_ads</td>\n",
       "      <td>2020-05-04</td>\n",
       "      <td>548.354480</td>\n",
       "    </tr>\n",
       "    <tr>\n",
       "      <th>2</th>\n",
       "      <td>facebook_ads</td>\n",
       "      <td>2020-05-05</td>\n",
       "      <td>260.185754</td>\n",
       "    </tr>\n",
       "    <tr>\n",
       "      <th>3</th>\n",
       "      <td>facebook_ads</td>\n",
       "      <td>2020-05-06</td>\n",
       "      <td>177.982200</td>\n",
       "    </tr>\n",
       "    <tr>\n",
       "      <th>4</th>\n",
       "      <td>facebook_ads</td>\n",
       "      <td>2020-05-07</td>\n",
       "      <td>111.766796</td>\n",
       "    </tr>\n",
       "  </tbody>\n",
       "</table>\n",
       "</div>"
      ],
      "text/plain": [
       "         source         day        cost\n",
       "0  facebook_ads  2020-05-03  935.882786\n",
       "1  facebook_ads  2020-05-04  548.354480\n",
       "2  facebook_ads  2020-05-05  260.185754\n",
       "3  facebook_ads  2020-05-06  177.982200\n",
       "4  facebook_ads  2020-05-07  111.766796"
      ]
     },
     "metadata": {},
     "output_type": "display_data"
    },
    {
     "name": "stdout",
     "output_type": "stream",
     "text": [
      "\n",
      "<class 'pandas.core.frame.DataFrame'>\n",
      "RangeIndex: 28 entries, 0 to 27\n",
      "Data columns (total 3 columns):\n",
      " #   Column  Non-Null Count  Dtype  \n",
      "---  ------  --------------  -----  \n",
      " 0   source  28 non-null     object \n",
      " 1   day     28 non-null     object \n",
      " 2   cost    28 non-null     float64\n",
      "dtypes: float64(1), object(2)\n",
      "memory usage: 800.0+ bytes\n",
      "\n",
      "\n",
      "----------Размер датасета---\n",
      "(28, 3)\n",
      "\n",
      "----------Пропуски----------\n"
     ]
    },
    {
     "data": {
      "text/html": [
       "<style  type=\"text/css\" >\n",
       "#T_c651ab14_db59_11eb_90dd_a08cfd79dc69row0_col0,#T_c651ab14_db59_11eb_90dd_a08cfd79dc69row1_col0,#T_c651ab14_db59_11eb_90dd_a08cfd79dc69row2_col0{\n",
       "            background-color:  #3b4cc0;\n",
       "            color:  #f1f1f1;\n",
       "        }</style><table id=\"T_c651ab14_db59_11eb_90dd_a08cfd79dc69\" ><thead>    <tr>        <th class=\"blank level0\" ></th>        <th class=\"col_heading level0 col0\" >0</th>    </tr></thead><tbody>\n",
       "                <tr>\n",
       "                        <th id=\"T_c651ab14_db59_11eb_90dd_a08cfd79dc69level0_row0\" class=\"row_heading level0 row0\" >source</th>\n",
       "                        <td id=\"T_c651ab14_db59_11eb_90dd_a08cfd79dc69row0_col0\" class=\"data row0 col0\" >0.000000</td>\n",
       "            </tr>\n",
       "            <tr>\n",
       "                        <th id=\"T_c651ab14_db59_11eb_90dd_a08cfd79dc69level0_row1\" class=\"row_heading level0 row1\" >day</th>\n",
       "                        <td id=\"T_c651ab14_db59_11eb_90dd_a08cfd79dc69row1_col0\" class=\"data row1 col0\" >0.000000</td>\n",
       "            </tr>\n",
       "            <tr>\n",
       "                        <th id=\"T_c651ab14_db59_11eb_90dd_a08cfd79dc69level0_row2\" class=\"row_heading level0 row2\" >cost</th>\n",
       "                        <td id=\"T_c651ab14_db59_11eb_90dd_a08cfd79dc69row2_col0\" class=\"data row2 col0\" >0.000000</td>\n",
       "            </tr>\n",
       "    </tbody></table>"
      ],
      "text/plain": [
       "<pandas.io.formats.style.Styler at 0x207b92f0850>"
      ]
     },
     "metadata": {},
     "output_type": "display_data"
    },
    {
     "name": "stdout",
     "output_type": "stream",
     "text": [
      "\n",
      "----------Дубликаты----------\n",
      "Количество полных дубликатов: 0\n",
      "\n",
      "----------Типы данных--------\n",
      "Тип данных object: ['source', 'day']\n",
      "Тип данных float64: ['cost']\n",
      "\n",
      "\u001b[1msource\u001b[0m\n",
      "--------------Обзор загруженных данных-----------\n"
     ]
    },
    {
     "data": {
      "text/html": [
       "<div>\n",
       "<style scoped>\n",
       "    .dataframe tbody tr th:only-of-type {\n",
       "        vertical-align: middle;\n",
       "    }\n",
       "\n",
       "    .dataframe tbody tr th {\n",
       "        vertical-align: top;\n",
       "    }\n",
       "\n",
       "    .dataframe thead th {\n",
       "        text-align: right;\n",
       "    }\n",
       "</style>\n",
       "<table border=\"1\" class=\"dataframe\">\n",
       "  <thead>\n",
       "    <tr style=\"text-align: right;\">\n",
       "      <th></th>\n",
       "      <th>user_id</th>\n",
       "      <th>source</th>\n",
       "    </tr>\n",
       "  </thead>\n",
       "  <tbody>\n",
       "    <tr>\n",
       "      <th>0</th>\n",
       "      <td>0001f83c-c6ac-4621-b7f0-8a28b283ac30</td>\n",
       "      <td>facebook_ads</td>\n",
       "    </tr>\n",
       "    <tr>\n",
       "      <th>1</th>\n",
       "      <td>00151b4f-ba38-44a8-a650-d7cf130a0105</td>\n",
       "      <td>yandex_direct</td>\n",
       "    </tr>\n",
       "    <tr>\n",
       "      <th>2</th>\n",
       "      <td>001aaea6-3d14-43f1-8ca8-7f48820f17aa</td>\n",
       "      <td>youtube_channel_reklama</td>\n",
       "    </tr>\n",
       "    <tr>\n",
       "      <th>3</th>\n",
       "      <td>001d39dc-366c-4021-9604-6a3b9ff01e25</td>\n",
       "      <td>instagram_new_adverts</td>\n",
       "    </tr>\n",
       "    <tr>\n",
       "      <th>4</th>\n",
       "      <td>002f508f-67b6-479f-814b-b05f00d4e995</td>\n",
       "      <td>facebook_ads</td>\n",
       "    </tr>\n",
       "  </tbody>\n",
       "</table>\n",
       "</div>"
      ],
      "text/plain": [
       "                                user_id                   source\n",
       "0  0001f83c-c6ac-4621-b7f0-8a28b283ac30             facebook_ads\n",
       "1  00151b4f-ba38-44a8-a650-d7cf130a0105            yandex_direct\n",
       "2  001aaea6-3d14-43f1-8ca8-7f48820f17aa  youtube_channel_reklama\n",
       "3  001d39dc-366c-4021-9604-6a3b9ff01e25    instagram_new_adverts\n",
       "4  002f508f-67b6-479f-814b-b05f00d4e995             facebook_ads"
      ]
     },
     "metadata": {},
     "output_type": "display_data"
    },
    {
     "name": "stdout",
     "output_type": "stream",
     "text": [
      "\n",
      "<class 'pandas.core.frame.DataFrame'>\n",
      "RangeIndex: 13576 entries, 0 to 13575\n",
      "Data columns (total 2 columns):\n",
      " #   Column   Non-Null Count  Dtype \n",
      "---  ------   --------------  ----- \n",
      " 0   user_id  13576 non-null  object\n",
      " 1   source   13576 non-null  object\n",
      "dtypes: object(2)\n",
      "memory usage: 212.2+ KB\n",
      "\n",
      "\n",
      "----------Размер датасета---\n",
      "(13576, 2)\n",
      "\n",
      "----------Пропуски----------\n"
     ]
    },
    {
     "data": {
      "text/html": [
       "<style  type=\"text/css\" >\n",
       "#T_c65ad1a9_db59_11eb_b440_a08cfd79dc69row0_col0,#T_c65ad1a9_db59_11eb_b440_a08cfd79dc69row1_col0{\n",
       "            background-color:  #3b4cc0;\n",
       "            color:  #f1f1f1;\n",
       "        }</style><table id=\"T_c65ad1a9_db59_11eb_b440_a08cfd79dc69\" ><thead>    <tr>        <th class=\"blank level0\" ></th>        <th class=\"col_heading level0 col0\" >0</th>    </tr></thead><tbody>\n",
       "                <tr>\n",
       "                        <th id=\"T_c65ad1a9_db59_11eb_b440_a08cfd79dc69level0_row0\" class=\"row_heading level0 row0\" >user_id</th>\n",
       "                        <td id=\"T_c65ad1a9_db59_11eb_b440_a08cfd79dc69row0_col0\" class=\"data row0 col0\" >0.000000</td>\n",
       "            </tr>\n",
       "            <tr>\n",
       "                        <th id=\"T_c65ad1a9_db59_11eb_b440_a08cfd79dc69level0_row1\" class=\"row_heading level0 row1\" >source</th>\n",
       "                        <td id=\"T_c65ad1a9_db59_11eb_b440_a08cfd79dc69row1_col0\" class=\"data row1 col0\" >0.000000</td>\n",
       "            </tr>\n",
       "    </tbody></table>"
      ],
      "text/plain": [
       "<pandas.io.formats.style.Styler at 0x207bb9118e0>"
      ]
     },
     "metadata": {},
     "output_type": "display_data"
    },
    {
     "name": "stdout",
     "output_type": "stream",
     "text": [
      "\n",
      "----------Дубликаты----------\n",
      "Количество полных дубликатов: 0\n",
      "\n",
      "----------Типы данных--------\n",
      "Тип данных object: ['user_id', 'source']\n",
      "\n",
      "\u001b[1mactions\u001b[0m\n",
      "--------------Обзор загруженных данных-----------\n"
     ]
    },
    {
     "data": {
      "text/html": [
       "<div>\n",
       "<style scoped>\n",
       "    .dataframe tbody tr th:only-of-type {\n",
       "        vertical-align: middle;\n",
       "    }\n",
       "\n",
       "    .dataframe tbody tr th {\n",
       "        vertical-align: top;\n",
       "    }\n",
       "\n",
       "    .dataframe thead th {\n",
       "        text-align: right;\n",
       "    }\n",
       "</style>\n",
       "<table border=\"1\" class=\"dataframe\">\n",
       "  <thead>\n",
       "    <tr style=\"text-align: right;\">\n",
       "      <th></th>\n",
       "      <th>event_datetime</th>\n",
       "      <th>event</th>\n",
       "      <th>building_type</th>\n",
       "      <th>user_id</th>\n",
       "      <th>project_type</th>\n",
       "    </tr>\n",
       "  </thead>\n",
       "  <tbody>\n",
       "    <tr>\n",
       "      <th>0</th>\n",
       "      <td>2020-05-04 0:00:01</td>\n",
       "      <td>building</td>\n",
       "      <td>assembly_shop</td>\n",
       "      <td>55e92310-cb8e-4754-b622-597e124b03de</td>\n",
       "      <td>NaN</td>\n",
       "    </tr>\n",
       "    <tr>\n",
       "      <th>1</th>\n",
       "      <td>2020-05-04 0:00:03</td>\n",
       "      <td>building</td>\n",
       "      <td>assembly_shop</td>\n",
       "      <td>c07b1c10-f477-44dc-81dc-ec82254b1347</td>\n",
       "      <td>NaN</td>\n",
       "    </tr>\n",
       "    <tr>\n",
       "      <th>2</th>\n",
       "      <td>2020-05-04 0:00:16</td>\n",
       "      <td>building</td>\n",
       "      <td>assembly_shop</td>\n",
       "      <td>6edd42cc-e753-4ff6-a947-2107cd560710</td>\n",
       "      <td>NaN</td>\n",
       "    </tr>\n",
       "    <tr>\n",
       "      <th>3</th>\n",
       "      <td>2020-05-04 0:00:16</td>\n",
       "      <td>building</td>\n",
       "      <td>assembly_shop</td>\n",
       "      <td>92c69003-d60a-444a-827f-8cc51bf6bf4c</td>\n",
       "      <td>NaN</td>\n",
       "    </tr>\n",
       "    <tr>\n",
       "      <th>4</th>\n",
       "      <td>2020-05-04 0:00:35</td>\n",
       "      <td>building</td>\n",
       "      <td>assembly_shop</td>\n",
       "      <td>cdc6bb92-0ccb-4490-9866-ef142f09139d</td>\n",
       "      <td>NaN</td>\n",
       "    </tr>\n",
       "  </tbody>\n",
       "</table>\n",
       "</div>"
      ],
      "text/plain": [
       "       event_datetime     event  building_type  \\\n",
       "0  2020-05-04 0:00:01  building  assembly_shop   \n",
       "1  2020-05-04 0:00:03  building  assembly_shop   \n",
       "2  2020-05-04 0:00:16  building  assembly_shop   \n",
       "3  2020-05-04 0:00:16  building  assembly_shop   \n",
       "4  2020-05-04 0:00:35  building  assembly_shop   \n",
       "\n",
       "                                user_id project_type  \n",
       "0  55e92310-cb8e-4754-b622-597e124b03de          NaN  \n",
       "1  c07b1c10-f477-44dc-81dc-ec82254b1347          NaN  \n",
       "2  6edd42cc-e753-4ff6-a947-2107cd560710          NaN  \n",
       "3  92c69003-d60a-444a-827f-8cc51bf6bf4c          NaN  \n",
       "4  cdc6bb92-0ccb-4490-9866-ef142f09139d          NaN  "
      ]
     },
     "metadata": {},
     "output_type": "display_data"
    },
    {
     "name": "stdout",
     "output_type": "stream",
     "text": [
      "\n",
      "<class 'pandas.core.frame.DataFrame'>\n",
      "RangeIndex: 135640 entries, 0 to 135639\n",
      "Data columns (total 5 columns):\n",
      " #   Column          Non-Null Count   Dtype \n",
      "---  ------          --------------   ----- \n",
      " 0   event_datetime  135640 non-null  object\n",
      " 1   event           135640 non-null  object\n",
      " 2   building_type   127957 non-null  object\n",
      " 3   user_id         135640 non-null  object\n",
      " 4   project_type    1866 non-null    object\n",
      "dtypes: object(5)\n",
      "memory usage: 5.2+ MB\n",
      "\n",
      "\n",
      "----------Размер датасета---\n",
      "(135640, 5)\n",
      "\n",
      "----------Пропуски----------\n",
      "Количество пропусков в столбце building_type: 7683 , что состовляет: 5.66%\n",
      "Количество пропусков в столбце project_type: 133774 , что состовляет: 98.62%\n"
     ]
    },
    {
     "data": {
      "text/html": [
       "<style  type=\"text/css\" >\n",
       "#T_c690cda4_db59_11eb_9276_a08cfd79dc69row0_col0,#T_c690cda4_db59_11eb_9276_a08cfd79dc69row1_col0,#T_c690cda4_db59_11eb_9276_a08cfd79dc69row3_col0{\n",
       "            background-color:  #3b4cc0;\n",
       "            color:  #f1f1f1;\n",
       "        }#T_c690cda4_db59_11eb_9276_a08cfd79dc69row2_col0{\n",
       "            background-color:  #4b64d5;\n",
       "            color:  #f1f1f1;\n",
       "        }#T_c690cda4_db59_11eb_9276_a08cfd79dc69row4_col0{\n",
       "            background-color:  #b40426;\n",
       "            color:  #f1f1f1;\n",
       "        }</style><table id=\"T_c690cda4_db59_11eb_9276_a08cfd79dc69\" ><thead>    <tr>        <th class=\"blank level0\" ></th>        <th class=\"col_heading level0 col0\" >0</th>    </tr></thead><tbody>\n",
       "                <tr>\n",
       "                        <th id=\"T_c690cda4_db59_11eb_9276_a08cfd79dc69level0_row0\" class=\"row_heading level0 row0\" >event_datetime</th>\n",
       "                        <td id=\"T_c690cda4_db59_11eb_9276_a08cfd79dc69row0_col0\" class=\"data row0 col0\" >0.000000</td>\n",
       "            </tr>\n",
       "            <tr>\n",
       "                        <th id=\"T_c690cda4_db59_11eb_9276_a08cfd79dc69level0_row1\" class=\"row_heading level0 row1\" >event</th>\n",
       "                        <td id=\"T_c690cda4_db59_11eb_9276_a08cfd79dc69row1_col0\" class=\"data row1 col0\" >0.000000</td>\n",
       "            </tr>\n",
       "            <tr>\n",
       "                        <th id=\"T_c690cda4_db59_11eb_9276_a08cfd79dc69level0_row2\" class=\"row_heading level0 row2\" >building_type</th>\n",
       "                        <td id=\"T_c690cda4_db59_11eb_9276_a08cfd79dc69row2_col0\" class=\"data row2 col0\" >5.660000</td>\n",
       "            </tr>\n",
       "            <tr>\n",
       "                        <th id=\"T_c690cda4_db59_11eb_9276_a08cfd79dc69level0_row3\" class=\"row_heading level0 row3\" >user_id</th>\n",
       "                        <td id=\"T_c690cda4_db59_11eb_9276_a08cfd79dc69row3_col0\" class=\"data row3 col0\" >0.000000</td>\n",
       "            </tr>\n",
       "            <tr>\n",
       "                        <th id=\"T_c690cda4_db59_11eb_9276_a08cfd79dc69level0_row4\" class=\"row_heading level0 row4\" >project_type</th>\n",
       "                        <td id=\"T_c690cda4_db59_11eb_9276_a08cfd79dc69row4_col0\" class=\"data row4 col0\" >98.620000</td>\n",
       "            </tr>\n",
       "    </tbody></table>"
      ],
      "text/plain": [
       "<pandas.io.formats.style.Styler at 0x207bbb48730>"
      ]
     },
     "metadata": {},
     "output_type": "display_data"
    },
    {
     "name": "stdout",
     "output_type": "stream",
     "text": [
      "\n",
      "----------Дубликаты----------\n",
      "Количество полных дубликатов: 1\n",
      "\n",
      "----------Типы данных--------\n",
      "Тип данных object: ['event_datetime', 'event', 'building_type', 'user_id', 'project_type']\n",
      "\n"
     ]
    }
   ],
   "source": [
    "# смотрим информацию и проверяем на полные дубликаты\n",
    "all_dfs = {'costs': costs, 'source': source, 'actions': actions} # собираем все датафреймы в одну общую переменную\n",
    "for df_key in all_dfs.keys():\n",
    "    print('\\033[1m' + df_key + '\\033[0m')\n",
    "    info(all_dfs[df_key])\n",
    "    print()"
   ]
  },
  {
   "cell_type": "code",
   "execution_count": 5,
   "metadata": {},
   "outputs": [],
   "source": [
    "actions=actions.drop_duplicates().reset_index(drop=True) # удаляем полные дубликаты"
   ]
  },
  {
   "cell_type": "code",
   "execution_count": 6,
   "metadata": {},
   "outputs": [],
   "source": [
    "costs['day']=pd.to_datetime(costs['day'])\n",
    "actions['event_datetime']=pd.to_datetime(actions['event_datetime'])"
   ]
  },
  {
   "cell_type": "markdown",
   "metadata": {},
   "source": [
    "#### Вывод:\n",
    "- создали три датефрейма с исодными данными: actions(с основной активностью игрока), costs(с расходами на привлечение игроков), source(источник привлечения уникального игрока);\n",
    "- все столбцы с количетсвенными данными заполнены корректно, имеются пропуски в категориальных данных, но на дальнейшее исследование они не оказывают влияние, в дальнейшем если будет необходимость можно будет заменить из маркерами;\n",
    "- типы данных в датафреймах корректные, кроме столцов со временем, в них заменили формат на  datetime."
   ]
  },
  {
   "cell_type": "markdown",
   "metadata": {},
   "source": [
    "### Предобработка данных"
   ]
  },
  {
   "cell_type": "code",
   "execution_count": 7,
   "metadata": {},
   "outputs": [],
   "source": [
    "# маркер игроков по типам победы\n",
    "i=(\n",
    "    actions.query('event==\"finished_stage_1\"')[['event','user_id']].\n",
    "   merge\n",
    "   (actions.query('project_type==\"satellite_orbital_assembly\"')[['user_id','project_type']],how='left',on='user_id')\n",
    "   .fillna('victory') \n",
    ")\n",
    "actions_union=actions.merge(i[['user_id','project_type']],how='left', on='user_id')\n",
    "actions_union['project_type_y'].fillna('не выполнены условия', inplace=True)\n",
    "actions_union.rename(columns={'project_type_x':'project_type', 'project_type_y':'marker_victory'}, inplace=True)"
   ]
  },
  {
   "cell_type": "code",
   "execution_count": 8,
   "metadata": {},
   "outputs": [],
   "source": [
    "# добавил источник привлечения игрока\n",
    "actions_union_1=actions_union.merge(source, how='left',on='user_id')\n",
    "actions_union_1['day']=actions_union_1['event_datetime'].astype('datetime64[D]')\n",
    "actions_union_1['week']=actions_union_1['event_datetime'].astype('datetime64[W]')\n",
    "actions_union_1['month']=actions_union_1['event_datetime'].astype('datetime64[M]')"
   ]
  },
  {
   "cell_type": "code",
   "execution_count": 9,
   "metadata": {},
   "outputs": [],
   "source": [
    "# подсчёт количество событий на игрока, нарастающим итогом\n",
    "actions_union_1['count_ivent']=actions_union_1.groupby('user_id').cumcount()+1\n"
   ]
  },
  {
   "cell_type": "markdown",
   "metadata": {},
   "source": [
    "#### Работа с выбросами и аномалиями"
   ]
  },
  {
   "cell_type": "markdown",
   "metadata": {},
   "source": [
    "Решил принять за дату получения уровня по проекту-маркер проект, а не переход на уровень, так как все условия переходы были выполнены и рекламные видео просмотрены относящиеся к проекту, тоесть маркер проект показывает реально необходимое время для получения уровня.Если же использовать финальной точкой маркер получение уровня, то идет удлинение периода необходимого для победы, и как следствие снижение дохода за единицу времени.\n"
   ]
  },
  {
   "cell_type": "code",
   "execution_count": 10,
   "metadata": {},
   "outputs": [],
   "source": [
    "# формирую датеврейм без событий, которые выходят за рамки времени проекта\n",
    "\n",
    "actions_union_1=actions_union_1.merge(actions_union_1[actions_union_1['event']=='project'][['event_datetime','user_id']],how='left',on='user_id')\n",
    "actions_union_1.rename(columns={'event_datetime_y':'time_finish_proect','event_datetime_x': 'event_datetime'},inplace=True)\n",
    "# функция для определения к какому периоду относится затраченное время\n",
    "def paste(row):\n",
    "    if row['event_datetime']<=row['time_finish_proect']:\n",
    "        return 'время в рамках проекта'\n",
    "    elif row['event_datetime']>row['time_finish_proect']:\n",
    "        return 'время после завершения проекта'\n",
    "    else:\n",
    "        return 'не относится к проекту'\n",
    "# формирую датефрейм без событий, которые выходят за рамки времени проекта   \n",
    "actions_union_1['period_victory']=actions_union_1.apply(paste, axis=1)\n",
    "clean_data=actions_union_1.query('period_victory != \"время после завершения проекта\"')"
   ]
  },
  {
   "cell_type": "code",
   "execution_count": 11,
   "metadata": {},
   "outputs": [],
   "source": [
    "# время победы\n",
    "time_start=clean_data.groupby('user_id').agg({'event_datetime':'min'}).reset_index()\n",
    "time_finish=clean_data.groupby('user_id').agg({'event_datetime':'max'}).reset_index()\n",
    "time=time_start.merge(time_finish, how='left',on='user_id')\n",
    "\n",
    "\n",
    "clean_data_1=clean_data.merge(time,how='left', on='user_id')\n",
    "clean_data_1.rename(columns={'event_datetime_y':'time_finish','event_datetime_x':'time_start'}, inplace=True)\n",
    "# время затрачиваемое на прохождение уровня\n",
    "clean_data_1['long_victory']=clean_data_1['time_finish']-clean_data_1['time_start']\n",
    "clean_data_1['long_victory']=clean_data_1['long_victory'].astype('timedelta64[D]')"
   ]
  },
  {
   "cell_type": "markdown",
   "metadata": {},
   "source": [
    "Исследуем данные на выбросы по затраченному времени на прохождения 1 уровня"
   ]
  },
  {
   "cell_type": "code",
   "execution_count": 12,
   "metadata": {},
   "outputs": [
    {
     "name": "stdout",
     "output_type": "stream",
     "text": [
      "count    132253.000000\n",
      "mean         10.909658\n",
      "std           4.006894\n",
      "min           0.000000\n",
      "25%           8.000000\n",
      "50%          11.000000\n",
      "75%          13.000000\n",
      "max          30.000000\n",
      "Name: long_victory, dtype: float64\n"
     ]
    },
    {
     "data": {
      "image/png": "[encoded data removed]",
      "text/plain": [
       "<Figure size 432x288 with 1 Axes>"
      ]
     },
     "metadata": {
      "needs_background": "light"
     },
     "output_type": "display_data"
    }
   ],
   "source": [
    "print(clean_data_1['long_victory'].describe())\n",
    "plt.boxplot(clean_data_1['long_victory']) \n",
    "plt.title('Диаграмма размаха активности пользователей при прохождени 1 уровня')\n",
    "plt.ylabel('Количество дней')\n",
    "plt.show()"
   ]
  },
  {
   "cell_type": "code",
   "execution_count": 13,
   "metadata": {},
   "outputs": [
    {
     "name": "stdout",
     "output_type": "stream",
     "text": [
      "Срезано данных: 1.94%\n"
     ]
    }
   ],
   "source": [
    "# удаляем выбросы\n",
    "q1=clean_data_1['long_victory'].quantile(0.25)\n",
    "q3=clean_data_1['long_victory'].quantile(0.75)\n",
    "iqr=q3-q1\n",
    "data_activ = clean_data_1[(clean_data_1['long_victory']<q3+iqr*1.5) & (clean_data_1['long_victory']>q1-1.5*iqr)]\n",
    "print('Срезано данных: {:.2%}' .format((len(clean_data_1)-len(data_activ))/len(clean_data_1)))"
   ]
  },
  {
   "cell_type": "code",
   "execution_count": 14,
   "metadata": {},
   "outputs": [
    {
     "name": "stdout",
     "output_type": "stream",
     "text": [
      "count    129689.000000\n",
      "mean         10.706251\n",
      "std           3.668910\n",
      "min           1.000000\n",
      "25%           8.000000\n",
      "50%          10.000000\n",
      "75%          13.000000\n",
      "max          20.000000\n",
      "Name: long_victory, dtype: float64\n"
     ]
    },
    {
     "data": {
      "image/png": "[encoded data removed]",
      "text/plain": [
       "<Figure size 432x288 with 1 Axes>"
      ]
     },
     "metadata": {
      "needs_background": "light"
     },
     "output_type": "display_data"
    }
   ],
   "source": [
    "print(data_activ['long_victory'].describe())\n",
    "plt.boxplot(data_activ['long_victory']) \n",
    "plt.title('Диаграмма размаха активности пользователей при прохождени 1 уровня')\n",
    "plt.ylabel('Количество дней')\n",
    "plt.show()"
   ]
  },
  {
   "cell_type": "markdown",
   "metadata": {},
   "source": [
    "Удалил выбросы по затраченному времени на прохождение 1 уровня, было срезано 1,94 % данных. Среднее и медиана составляют 10,7 и 10, что свидетельствуют об отсутвии аномальных значений, способных исказить данные."
   ]
  },
  {
   "cell_type": "markdown",
   "metadata": {},
   "source": [
    "### Исследование метрик"
   ]
  },
  {
   "cell_type": "markdown",
   "metadata": {},
   "source": [
    "#### Продуктовые метрики"
   ]
  },
  {
   "cell_type": "markdown",
   "metadata": {},
   "source": [
    "##### DAU, WAU и MAU"
   ]
  },
  {
   "cell_type": "code",
   "execution_count": 15,
   "metadata": {},
   "outputs": [
    {
     "name": "stdout",
     "output_type": "stream",
     "text": [
      "Количество уникальных пользователей в день: 3255\n",
      "Количество уникальных пользователей в неделю: 6947\n",
      "Количество уникальных пользователей в месяц: 13282\n"
     ]
    }
   ],
   "source": [
    "DAU=int((data_activ.groupby('day').agg({'user_id':'nunique'})).mean())\n",
    "WAU=int((data_activ.groupby('week').agg({'user_id':'nunique'})).mean())\n",
    "MAU=int((data_activ.groupby('month').agg({'user_id':'nunique'})).mean())\n",
    "print('Количество уникальных пользователей в день:', DAU)\n",
    "print('Количество уникальных пользователей в неделю:', WAU)\n",
    "print('Количество уникальных пользователей в месяц:', MAU)"
   ]
  },
  {
   "cell_type": "markdown",
   "metadata": {},
   "source": [
    "##### Retention Rate\n"
   ]
  },
  {
   "cell_type": "code",
   "execution_count": 16,
   "metadata": {},
   "outputs": [],
   "source": [
    "data_activ['cogort']=data_activ['time_start'].dt.date\n",
    "data_activ['life_cogort']=((data_activ['event_datetime']-data_activ['time_start'])/np.timedelta64(1,'W')).round().astype('int')\n"
   ]
  },
  {
   "cell_type": "markdown",
   "metadata": {},
   "source": [
    "***Количесво уникальных пользователей по когортам***"
   ]
  },
  {
   "cell_type": "code",
   "execution_count": 17,
   "metadata": {},
   "outputs": [
    {
     "data": {
      "text/html": [
       "<div>\n",
       "<style scoped>\n",
       "    .dataframe tbody tr th:only-of-type {\n",
       "        vertical-align: middle;\n",
       "    }\n",
       "\n",
       "    .dataframe tbody tr th {\n",
       "        vertical-align: top;\n",
       "    }\n",
       "\n",
       "    .dataframe thead th {\n",
       "        text-align: right;\n",
       "    }\n",
       "</style>\n",
       "<table border=\"1\" class=\"dataframe\">\n",
       "  <thead>\n",
       "    <tr style=\"text-align: right;\">\n",
       "      <th>life_cogort</th>\n",
       "      <th>0</th>\n",
       "      <th>1</th>\n",
       "      <th>2</th>\n",
       "      <th>3</th>\n",
       "    </tr>\n",
       "    <tr>\n",
       "      <th>cogort</th>\n",
       "      <th></th>\n",
       "      <th></th>\n",
       "      <th></th>\n",
       "      <th></th>\n",
       "    </tr>\n",
       "  </thead>\n",
       "  <tbody>\n",
       "    <tr>\n",
       "      <th>2020-05-04</th>\n",
       "      <td>5763</td>\n",
       "      <td>5676</td>\n",
       "      <td>3008</td>\n",
       "      <td>295</td>\n",
       "    </tr>\n",
       "    <tr>\n",
       "      <th>2020-05-05</th>\n",
       "      <td>3291</td>\n",
       "      <td>3220</td>\n",
       "      <td>1530</td>\n",
       "      <td>124</td>\n",
       "    </tr>\n",
       "    <tr>\n",
       "      <th>2020-05-06</th>\n",
       "      <td>1805</td>\n",
       "      <td>1731</td>\n",
       "      <td>747</td>\n",
       "      <td>75</td>\n",
       "    </tr>\n",
       "    <tr>\n",
       "      <th>2020-05-07</th>\n",
       "      <td>1076</td>\n",
       "      <td>991</td>\n",
       "      <td>429</td>\n",
       "      <td>53</td>\n",
       "    </tr>\n",
       "    <tr>\n",
       "      <th>2020-05-08</th>\n",
       "      <td>663</td>\n",
       "      <td>605</td>\n",
       "      <td>258</td>\n",
       "      <td>26</td>\n",
       "    </tr>\n",
       "    <tr>\n",
       "      <th>2020-05-09</th>\n",
       "      <td>424</td>\n",
       "      <td>392</td>\n",
       "      <td>166</td>\n",
       "      <td>24</td>\n",
       "    </tr>\n",
       "    <tr>\n",
       "      <th>2020-05-10</th>\n",
       "      <td>260</td>\n",
       "      <td>242</td>\n",
       "      <td>110</td>\n",
       "      <td>14</td>\n",
       "    </tr>\n",
       "  </tbody>\n",
       "</table>\n",
       "</div>"
      ],
      "text/plain": [
       "life_cogort     0     1     2    3\n",
       "cogort                            \n",
       "2020-05-04   5763  5676  3008  295\n",
       "2020-05-05   3291  3220  1530  124\n",
       "2020-05-06   1805  1731   747   75\n",
       "2020-05-07   1076   991   429   53\n",
       "2020-05-08    663   605   258   26\n",
       "2020-05-09    424   392   166   24\n",
       "2020-05-10    260   242   110   14"
      ]
     },
     "execution_count": 17,
     "metadata": {},
     "output_type": "execute_result"
    }
   ],
   "source": [
    "data_activ.pivot_table(index=['cogort'],columns='life_cogort',values='user_id',aggfunc='nunique')"
   ]
  },
  {
   "cell_type": "markdown",
   "metadata": {},
   "source": [
    "***Retation Rate***"
   ]
  },
  {
   "cell_type": "code",
   "execution_count": 18,
   "metadata": {},
   "outputs": [],
   "source": [
    "count_user=data_activ.query('life_cogort==0').groupby(['cogort','life_cogort']).agg({'user_id':'nunique'}).reset_index().merge(\n",
    "    data_activ.groupby(['cogort','life_cogort']).agg({'user_id':'nunique'}).reset_index(),\n",
    "        how='left',\n",
    "        on='cogort')\n",
    "count_user.rename(columns={'user_id_x':'count_user_0', 'user_id_y':'count_user_life','life_cogort_y':'life'}, inplace=True)           "
   ]
  },
  {
   "cell_type": "code",
   "execution_count": 19,
   "metadata": {},
   "outputs": [
    {
     "data": {
      "image/png": "[encoded data removed]",
      "text/plain": [
       "<Figure size 504x360 with 2 Axes>"
      ]
     },
     "metadata": {},
     "output_type": "display_data"
    }
   ],
   "source": [
    "count_user['retation_rate']=count_user['count_user_life'] / count_user['count_user_0']\n",
    "count_map=count_user.pivot_table(index='cogort', columns='life',values='retation_rate')\n",
    "\n",
    "sns.set(style='white')\n",
    "plt.figure(figsize=(7,5))\n",
    "plt.title('Коэффициент удержания')\n",
    "\n",
    "sns.heatmap(count_map, annot=True, fmt='.1%', linewidths=1, linecolor='green', vmax=0.1)\n",
    "plt.show()"
   ]
  },
  {
   "cell_type": "markdown",
   "metadata": {},
   "source": [
    "##### Приход уникальных пользователей в разрезе источников"
   ]
  },
  {
   "cell_type": "code",
   "execution_count": 20,
   "metadata": {},
   "outputs": [
    {
     "data": {
      "text/html": [
       "<div>\n",
       "<style scoped>\n",
       "    .dataframe tbody tr th:only-of-type {\n",
       "        vertical-align: middle;\n",
       "    }\n",
       "\n",
       "    .dataframe tbody tr th {\n",
       "        vertical-align: top;\n",
       "    }\n",
       "\n",
       "    .dataframe thead th {\n",
       "        text-align: right;\n",
       "    }\n",
       "</style>\n",
       "<table border=\"1\" class=\"dataframe\">\n",
       "  <thead>\n",
       "    <tr style=\"text-align: right;\">\n",
       "      <th>life_cogort</th>\n",
       "      <th>0</th>\n",
       "      <th>1</th>\n",
       "      <th>2</th>\n",
       "      <th>3</th>\n",
       "    </tr>\n",
       "    <tr>\n",
       "      <th>source</th>\n",
       "      <th></th>\n",
       "      <th></th>\n",
       "      <th></th>\n",
       "      <th></th>\n",
       "    </tr>\n",
       "  </thead>\n",
       "  <tbody>\n",
       "    <tr>\n",
       "      <th>facebook_ads</th>\n",
       "      <td>2672</td>\n",
       "      <td>2599</td>\n",
       "      <td>1258</td>\n",
       "      <td>135</td>\n",
       "    </tr>\n",
       "    <tr>\n",
       "      <th>instagram_new_adverts</th>\n",
       "      <td>3277</td>\n",
       "      <td>3184</td>\n",
       "      <td>1568</td>\n",
       "      <td>146</td>\n",
       "    </tr>\n",
       "    <tr>\n",
       "      <th>yandex_direct</th>\n",
       "      <td>4714</td>\n",
       "      <td>4549</td>\n",
       "      <td>2196</td>\n",
       "      <td>208</td>\n",
       "    </tr>\n",
       "    <tr>\n",
       "      <th>youtube_channel_reklama</th>\n",
       "      <td>2619</td>\n",
       "      <td>2525</td>\n",
       "      <td>1226</td>\n",
       "      <td>122</td>\n",
       "    </tr>\n",
       "  </tbody>\n",
       "</table>\n",
       "</div>"
      ],
      "text/plain": [
       "life_cogort                 0     1     2    3\n",
       "source                                        \n",
       "facebook_ads             2672  2599  1258  135\n",
       "instagram_new_adverts    3277  3184  1568  146\n",
       "yandex_direct            4714  4549  2196  208\n",
       "youtube_channel_reklama  2619  2525  1226  122"
      ]
     },
     "metadata": {},
     "output_type": "display_data"
    }
   ],
   "source": [
    "display(data_activ.pivot_table(index=['source'],columns='life_cogort',values='user_id',aggfunc='nunique'))\n",
    "\n",
    "ldtotal=data_activ.pivot_table(index=['cogort', 'source'],columns='life_cogort',values='user_id',aggfunc='nunique').reset_index()"
   ]
  },
  {
   "cell_type": "code",
   "execution_count": 21,
   "metadata": {},
   "outputs": [
    {
     "data": {
      "image/png": "[encoded data removed]",
      "text/plain": [
       "<Figure size 864x432 with 1 Axes>"
      ]
     },
     "metadata": {},
     "output_type": "display_data"
    }
   ],
   "source": [
    "plt.figure(figsize=(12,6))\n",
    "sns.barplot(x=\"cogort\", y=0, hue=\"source\", data=(ldtotal.sort_values(by=0,ascending=False)))\n",
    "plt.title('Привлечение игроков по когортам в разрезе источников')\n",
    "plt.ylabel('Количество игроков')\n",
    "plt.show()"
   ]
  },
  {
   "cell_type": "markdown",
   "metadata": {},
   "source": [
    "##### Количество игроков прошедших уровень."
   ]
  },
  {
   "cell_type": "code",
   "execution_count": 22,
   "metadata": {},
   "outputs": [
    {
     "data": {
      "text/html": [
       "<div>\n",
       "<style scoped>\n",
       "    .dataframe tbody tr th:only-of-type {\n",
       "        vertical-align: middle;\n",
       "    }\n",
       "\n",
       "    .dataframe tbody tr th {\n",
       "        vertical-align: top;\n",
       "    }\n",
       "\n",
       "    .dataframe thead th {\n",
       "        text-align: right;\n",
       "    }\n",
       "</style>\n",
       "<table border=\"1\" class=\"dataframe\">\n",
       "  <thead>\n",
       "    <tr style=\"text-align: right;\">\n",
       "      <th></th>\n",
       "      <th>user_id</th>\n",
       "    </tr>\n",
       "    <tr>\n",
       "      <th>marker_victory</th>\n",
       "      <th></th>\n",
       "    </tr>\n",
       "  </thead>\n",
       "  <tbody>\n",
       "    <tr>\n",
       "      <th>satellite_orbital_assembly</th>\n",
       "      <td>1832</td>\n",
       "    </tr>\n",
       "    <tr>\n",
       "      <th>victory</th>\n",
       "      <td>3884</td>\n",
       "    </tr>\n",
       "    <tr>\n",
       "      <th>не выполнены условия</th>\n",
       "      <td>7566</td>\n",
       "    </tr>\n",
       "  </tbody>\n",
       "</table>\n",
       "</div>"
      ],
      "text/plain": [
       "                            user_id\n",
       "marker_victory                     \n",
       "satellite_orbital_assembly     1832\n",
       "victory                        3884\n",
       "не выполнены условия           7566"
      ]
     },
     "execution_count": 22,
     "metadata": {},
     "output_type": "execute_result"
    }
   ],
   "source": [
    "data_activ.groupby('marker_victory').agg({'user_id':'nunique'})"
   ]
  },
  {
   "cell_type": "code",
   "execution_count": 23,
   "metadata": {},
   "outputs": [
    {
     "data": {
      "image/png": "[encoded data removed]",
      "text/plain": [
       "<Figure size 864x432 with 1 Axes>"
      ]
     },
     "metadata": {},
     "output_type": "display_data"
    }
   ],
   "source": [
    "type_victory=data_activ.groupby(['marker_victory','source']).agg({'user_id':'nunique'}).reset_index()\n",
    "plt.figure(figsize=(12,6))\n",
    "sns.barplot(x=\"marker_victory\", y='user_id', hue=\"source\", data=(type_victory.sort_values(by='user_id',ascending=False)))\n",
    "plt.title('Типы победы игроков прешедших из разных источников')\n",
    "plt.ylabel('Количество игроков')\n",
    "plt.show()"
   ]
  },
  {
   "cell_type": "markdown",
   "metadata": {},
   "source": [
    "**DAU, WAU и MAU**:\n",
    "- Количество уникальных пользователей в день: 3255\n",
    "- Количество уникальных пользователей в неделю: 6947\n",
    "- Количество уникальных пользователей в месяц: 13282\n",
    "\n",
    "**источник привлечения игроков:**\n",
    "\n",
    "- ***facebook_ads:***\t2672\t\n",
    "- ***instagram_new_adverts:***\t3277\t\n",
    "- ***yandex_direct:***\t4714\t\n",
    "- ***youtube_channel_reklama:***\t2619\t\n",
    "\n",
    "\n",
    "\n",
    "\n",
    "Для исследования сформировали 7 когорот(4-10 мая), наибольший приток клиентов, приходится на первую когорту 5763 пользователя, последущие дни идет снижение численности новых игроков. Падение на столько большое, что на последнюю исследуемую когорту приходится всего 260 уникальных пользователей, что является тревожным фактором.Предположения по причине падения мы сделаем, когда познакомися с данными боллее подробно.\n",
    "\n",
    "Коээфициент удержания смотрим, на вторую неделю, так нам данны данные по прохождению 1 уровня, то 3 на неделю много игроков завершили уровень, и возможно данные на 3 неделю неполные, тоесть нет сведений, как игроки ведут себя дальше. По имещимся данным \n",
    "самый высокий retation в 1 и 2 когорте около 50%, в остальных когортах показатель составляет около 40 %.\n",
    "\n",
    "Если расмотреть когорты в разрезе источников привлечиния игроков, то видим что беспорным лидером является yandex_direct, за ним следует instagram_new_adverts, другие два источника примерно равны.\n",
    "\n",
    "Из прешедщих  13282 игроков 5716 прошли уровень, из них 1832 через постройку oрбитальной базы, 3884 через пупь победы над противником. Что говорит о склоности игроков, проходить уровень через битву, чем через исследование и строительсво. Источник прихода игрока не влияет на тип победы, везде домининрует одни и теже ресурсы.\n"
   ]
  },
  {
   "cell_type": "markdown",
   "metadata": {},
   "source": [
    "### Метрики электроной коммерции"
   ]
  },
  {
   "cell_type": "markdown",
   "metadata": {},
   "source": [
    "#### Строительная стратегия игрока(количество построенных зданий и их тип)"
   ]
  },
  {
   "cell_type": "code",
   "execution_count": 24,
   "metadata": {},
   "outputs": [
    {
     "name": "stdout",
     "output_type": "stream",
     "text": [
      "Среднее количество зданий на одного пользователя: 9.33\n",
      "Среднее количество зданий на одного пользователя, достигшего победы через битву: 9.39\n",
      "Среднее количество зданий на одного пользователя, достигшего победы через постройку орбитальной базы: 11.83\n",
      "Среднее количество зданий на одного пользователя, не достигшего победы: 8.70\n"
     ]
    },
    {
     "data": {
      "image/png": "[encoded data removed]",
      "text/plain": [
       "<Figure size 360x360 with 1 Axes>"
      ]
     },
     "metadata": {},
     "output_type": "display_data"
    },
    {
     "name": "stdout",
     "output_type": "stream",
     "text": [
      "Количество построенных взависимости от вида победы\n"
     ]
    },
    {
     "data": {
      "text/html": [
       "<div>\n",
       "<style scoped>\n",
       "    .dataframe tbody tr th:only-of-type {\n",
       "        vertical-align: middle;\n",
       "    }\n",
       "\n",
       "    .dataframe tbody tr th {\n",
       "        vertical-align: top;\n",
       "    }\n",
       "\n",
       "    .dataframe thead th {\n",
       "        text-align: right;\n",
       "    }\n",
       "</style>\n",
       "<table border=\"1\" class=\"dataframe\">\n",
       "  <thead>\n",
       "    <tr style=\"text-align: right;\">\n",
       "      <th></th>\n",
       "      <th>building_type</th>\n",
       "    </tr>\n",
       "    <tr>\n",
       "      <th>marker_victory</th>\n",
       "      <th></th>\n",
       "    </tr>\n",
       "  </thead>\n",
       "  <tbody>\n",
       "    <tr>\n",
       "      <th>satellite_orbital_assembly</th>\n",
       "      <td>21678</td>\n",
       "    </tr>\n",
       "    <tr>\n",
       "      <th>victory</th>\n",
       "      <td>36454</td>\n",
       "    </tr>\n",
       "    <tr>\n",
       "      <th>не выполнены условия</th>\n",
       "      <td>65841</td>\n",
       "    </tr>\n",
       "  </tbody>\n",
       "</table>\n",
       "</div>"
      ],
      "text/plain": [
       "                            building_type\n",
       "marker_victory                           \n",
       "satellite_orbital_assembly          21678\n",
       "victory                             36454\n",
       "не выполнены условия                65841"
      ]
     },
     "metadata": {},
     "output_type": "display_data"
    },
    {
     "name": "stdout",
     "output_type": "stream",
     "text": [
      "Количество построенных зданий разных типов взависимости от вида победы\n"
     ]
    },
    {
     "data": {
      "text/html": [
       "<div>\n",
       "<style scoped>\n",
       "    .dataframe tbody tr th:only-of-type {\n",
       "        vertical-align: middle;\n",
       "    }\n",
       "\n",
       "    .dataframe tbody tr th {\n",
       "        vertical-align: top;\n",
       "    }\n",
       "\n",
       "    .dataframe thead th {\n",
       "        text-align: right;\n",
       "    }\n",
       "</style>\n",
       "<table border=\"1\" class=\"dataframe\">\n",
       "  <thead>\n",
       "    <tr style=\"text-align: right;\">\n",
       "      <th>building_type</th>\n",
       "      <th>assembly_shop</th>\n",
       "      <th>research_center</th>\n",
       "      <th>spaceport</th>\n",
       "    </tr>\n",
       "    <tr>\n",
       "      <th>marker_victory</th>\n",
       "      <th></th>\n",
       "      <th></th>\n",
       "      <th></th>\n",
       "    </tr>\n",
       "  </thead>\n",
       "  <tbody>\n",
       "    <tr>\n",
       "      <th>satellite_orbital_assembly</th>\n",
       "      <td>9019</td>\n",
       "      <td>3060</td>\n",
       "      <td>9599</td>\n",
       "    </tr>\n",
       "    <tr>\n",
       "      <th>victory</th>\n",
       "      <td>16086</td>\n",
       "      <td>3665</td>\n",
       "      <td>16703</td>\n",
       "    </tr>\n",
       "    <tr>\n",
       "      <th>не выполнены условия</th>\n",
       "      <td>28636</td>\n",
       "      <td>6506</td>\n",
       "      <td>30699</td>\n",
       "    </tr>\n",
       "  </tbody>\n",
       "</table>\n",
       "</div>"
      ],
      "text/plain": [
       "building_type               assembly_shop  research_center  spaceport\n",
       "marker_victory                                                       \n",
       "satellite_orbital_assembly           9019             3060       9599\n",
       "victory                             16086             3665      16703\n",
       "не выполнены условия                28636             6506      30699"
      ]
     },
     "metadata": {},
     "output_type": "display_data"
    },
    {
     "name": "stdout",
     "output_type": "stream",
     "text": [
      "Среднее количество построек на пользователя в разрезе зданий в зависимости от типа победы\n"
     ]
    },
    {
     "data": {
      "text/html": [
       "<div>\n",
       "<style scoped>\n",
       "    .dataframe tbody tr th:only-of-type {\n",
       "        vertical-align: middle;\n",
       "    }\n",
       "\n",
       "    .dataframe tbody tr th {\n",
       "        vertical-align: top;\n",
       "    }\n",
       "\n",
       "    .dataframe thead th {\n",
       "        text-align: right;\n",
       "    }\n",
       "</style>\n",
       "<table border=\"1\" class=\"dataframe\">\n",
       "  <thead>\n",
       "    <tr style=\"text-align: right;\">\n",
       "      <th>building_type</th>\n",
       "      <th>assembly_shop</th>\n",
       "      <th>research_center</th>\n",
       "      <th>spaceport</th>\n",
       "    </tr>\n",
       "    <tr>\n",
       "      <th>marker_victory</th>\n",
       "      <th></th>\n",
       "      <th></th>\n",
       "      <th></th>\n",
       "    </tr>\n",
       "  </thead>\n",
       "  <tbody>\n",
       "    <tr>\n",
       "      <th>satellite_orbital_assembly</th>\n",
       "      <td>4.923035</td>\n",
       "      <td>1.796829</td>\n",
       "      <td>5.242490</td>\n",
       "    </tr>\n",
       "    <tr>\n",
       "      <th>victory</th>\n",
       "      <td>4.141607</td>\n",
       "      <td>1.596950</td>\n",
       "      <td>4.364515</td>\n",
       "    </tr>\n",
       "    <tr>\n",
       "      <th>не выполнены условия</th>\n",
       "      <td>3.784827</td>\n",
       "      <td>1.920874</td>\n",
       "      <td>4.180716</td>\n",
       "    </tr>\n",
       "  </tbody>\n",
       "</table>\n",
       "</div>"
      ],
      "text/plain": [
       "building_type               assembly_shop  research_center  spaceport\n",
       "marker_victory                                                       \n",
       "satellite_orbital_assembly       4.923035         1.796829   5.242490\n",
       "victory                          4.141607         1.596950   4.364515\n",
       "не выполнены условия             3.784827         1.920874   4.180716"
      ]
     },
     "execution_count": 24,
     "metadata": {},
     "output_type": "execute_result"
    }
   ],
   "source": [
    "print('Среднее количество зданий на одного пользователя: {:.2f}' .format(\n",
    "    data_activ['building_type'].count()/data_activ['user_id'].nunique()))\n",
    "\n",
    "print('Среднее количество зданий на одного пользователя, достигшего победы через битву: {:.2f}' .format(\n",
    "    data_activ.query('marker_victory==\"victory\"')['building_type'].count()/\n",
    "    data_activ.query('marker_victory==\"victory\"')['user_id'].nunique()))\n",
    "\n",
    "print('Среднее количество зданий на одного пользователя, достигшего победы через постройку орбитальной базы: {:.2f}' .format(\n",
    "    data_activ.query('marker_victory==\"satellite_orbital_assembly\"')['building_type'].count()/\n",
    "    data_activ.query('marker_victory==\"satellite_orbital_assembly\"')['user_id'].nunique()))\n",
    "\n",
    "\n",
    "print('Среднее количество зданий на одного пользователя, не достигшего победы: {:.2f}' .format(\n",
    "    data_activ.query('marker_victory==\"не выполнены условия\"')['building_type'].count()/\n",
    "    data_activ.query('marker_victory==\"не выполнены условия\"')['user_id'].nunique()))\n",
    "\n",
    "\n",
    "sns.catplot(x='marker_victory',\n",
    "            y='building_type',\n",
    "            kind='box',\n",
    "            data=data_activ.groupby(['user_id','marker_victory']).agg({'building_type':'count'}).reset_index())\n",
    "plt.title('График размаха построенных зданий')\n",
    "plt.show()\n",
    "\n",
    "\n",
    "print('Количество построенных взависимости от вида победы')\n",
    "display(data_activ.groupby(['marker_victory']).agg({'building_type':'count'}))     \n",
    "print('Количество построенных зданий разных типов взависимости от вида победы')\n",
    "display(data_activ.pivot_table(index='marker_victory', columns='building_type',values='user_id', aggfunc='count'))\n",
    "\n",
    "\n",
    "group_bulding=data_activ.groupby(['user_id', 'marker_victory','building_type']).agg({'event':'count'}).reset_index()\n",
    "print('Среднее количество построек на пользователя в разрезе зданий в зависимости от типа победы')\n",
    "group_bulding.pivot_table(index='marker_victory',columns='building_type',values='event',aggfunc='mean')"
   ]
  },
  {
   "cell_type": "markdown",
   "metadata": {},
   "source": []
  },
  {
   "cell_type": "code",
   "execution_count": 25,
   "metadata": {},
   "outputs": [
    {
     "data": {
      "image/png": "[encoded data removed]",
      "text/plain": [
       "<Figure size 864x432 with 1 Axes>"
      ]
     },
     "metadata": {},
     "output_type": "display_data"
    }
   ],
   "source": [
    "count_building=data_activ.groupby(['marker_victory','source']).agg({'building_type':'count'}).reset_index()\n",
    "plt.figure(figsize=(12,6))\n",
    "sns.barplot(x=\"marker_victory\", y='building_type', hue=\"source\", data=(count_building.sort_values(by='building_type',ascending=False)))\n",
    "plt.title('Количество построенных зданий по типам побед в разрезе источников привлечения')\n",
    "plt.ylabel('Количество зданий')\n",
    "plt.show()\n"
   ]
  },
  {
   "cell_type": "markdown",
   "metadata": {},
   "source": [
    "**Показатель постройки зданий на игрока:**\n",
    "- Среднее количество зданий на одного пользователя по всем типам победы: 9.33\n",
    "- Среднее количество зданий на одного пользователя, достигшего победы через битву: 9.39\n",
    "- Среднее количество зданий на одного пользователя, достигшего победы через постройку орбитальной базы: 11.83\n",
    "- Среднее количество зданий на одного пользователя, не достигшего победы: 8.70\n",
    "\n",
    "Из данных видим, что  победа над противником, требует на 2,5 здания меньше, чем через постройку орбитальной базы. При этом помним из прошлых пунктов, что через победу над противников выбирает в 2 раза больше игроков, чем путь постройки базы. А так как монетизацая у нас идет, через видео при простроике зданий, то возможно рассмотреть вопрос перебалансировки построек, в сторону  увеличения  прокачки  количества уровней, необходимых для достижения победы битвой.\n",
    "\n",
    "Игроки которые не прошли 1 уровень в среднем близки к прохождению (8,7 здания). Непрошедшие 1 уровень, могут быть игроки, закинувшие игру или же не так часто играющие. Но достоверно об этом сказать сложно, так объём данных мал.\n",
    "\n",
    "Независимо от типа победы значимость зданий распределилась так: spaceport,assembly_shop,research_center.\n",
    "\n",
    "В разрезе источников, никаких сюрпризов не произошло, чем больше пользователей было привлечено через источник, тем больше зданий было построено."
   ]
  },
  {
   "cell_type": "markdown",
   "metadata": {},
   "source": [
    "#### LTV"
   ]
  },
  {
   "cell_type": "code",
   "execution_count": 26,
   "metadata": {},
   "outputs": [
    {
     "data": {
      "image/png": "[encoded data removed]",
      "text/plain": [
       "<Figure size 720x504 with 2 Axes>"
      ]
     },
     "metadata": {},
     "output_type": "display_data"
    }
   ],
   "source": [
    "life_pivot=data_activ.groupby(['cogort', 'life_cogort','source']).agg({'building_type':'count'}).reset_index()\n",
    "count_user_life=data_activ.query('life_cogort==0').groupby(['cogort', 'life_cogort','source']).agg({'user_id':'nunique'}).reset_index()\n",
    "ltv=life_pivot.merge(count_user_life,how='left', on=(['cogort','source']))\n",
    "ltv['LTV']=ltv['building_type'] / ltv['user_id']\n",
    "ltv_cogort=ltv.pivot_table(index=['cogort'], columns='life_cogort_x', values='LTV')\n",
    "ltv_cogort=ltv_cogort.cumsum(axis=1)\n",
    "\n",
    "sns.set(style='white')\n",
    "plt.figure(figsize=(10,7))\n",
    "plt.title('LTV по когортам')\n",
    "\n",
    "sns.heatmap(ltv_cogort, annot=True, linewidths=1, linecolor='green',fmt='.3')\n",
    "plt.show()\n"
   ]
  },
  {
   "cell_type": "markdown",
   "metadata": {},
   "source": [
    "Из данных LTV видим, что наиболее активные пользователи первых 3 кагорт. Топовый результат дала 1 когорта, затем каждая последуюшая когорта, меньше предыдущей."
   ]
  },
  {
   "cell_type": "markdown",
   "metadata": {},
   "source": [
    "### Маркетинговые метрики"
   ]
  },
  {
   "cell_type": "markdown",
   "metadata": {},
   "source": [
    "#### Расходы на привлечение игроков"
   ]
  },
  {
   "cell_type": "code",
   "execution_count": 27,
   "metadata": {},
   "outputs": [
    {
     "name": "stdout",
     "output_type": "stream",
     "text": [
      "Общая сумма расходоа на привличение игроков за исследуемый период: 7603.58\n",
      "Сумма расходов на привлечение игрок за исследуемый период в разрезе источников:\n"
     ]
    },
    {
     "data": {
      "text/html": [
       "<div>\n",
       "<style scoped>\n",
       "    .dataframe tbody tr th:only-of-type {\n",
       "        vertical-align: middle;\n",
       "    }\n",
       "\n",
       "    .dataframe tbody tr th {\n",
       "        vertical-align: top;\n",
       "    }\n",
       "\n",
       "    .dataframe thead th {\n",
       "        text-align: right;\n",
       "    }\n",
       "</style>\n",
       "<table border=\"1\" class=\"dataframe\">\n",
       "  <thead>\n",
       "    <tr style=\"text-align: right;\">\n",
       "      <th></th>\n",
       "      <th>cost</th>\n",
       "    </tr>\n",
       "    <tr>\n",
       "      <th>source</th>\n",
       "      <th></th>\n",
       "    </tr>\n",
       "  </thead>\n",
       "  <tbody>\n",
       "    <tr>\n",
       "      <th>facebook_ads</th>\n",
       "      <td>2140.90</td>\n",
       "    </tr>\n",
       "    <tr>\n",
       "      <th>instagram_new_adverts</th>\n",
       "      <td>2161.44</td>\n",
       "    </tr>\n",
       "    <tr>\n",
       "      <th>yandex_direct</th>\n",
       "      <td>2233.11</td>\n",
       "    </tr>\n",
       "    <tr>\n",
       "      <th>youtube_channel_reklama</th>\n",
       "      <td>1068.12</td>\n",
       "    </tr>\n",
       "  </tbody>\n",
       "</table>\n",
       "</div>"
      ],
      "text/plain": [
       "                            cost\n",
       "source                          \n",
       "facebook_ads             2140.90\n",
       "instagram_new_adverts    2161.44\n",
       "yandex_direct            2233.11\n",
       "youtube_channel_reklama  1068.12"
      ]
     },
     "execution_count": 27,
     "metadata": {},
     "output_type": "execute_result"
    }
   ],
   "source": [
    "print('Общая сумма расходоа на привличение игроков за исследуемый период: {:.2f}' .format(costs['cost'].sum()))\n",
    "print('Сумма расходов на привлечение игрок за исследуемый период в разрезе источников:')\n",
    "costs.groupby('source').agg({'cost':'sum'}).round(2)"
   ]
  },
  {
   "cell_type": "code",
   "execution_count": 28,
   "metadata": {
    "scrolled": true
   },
   "outputs": [
    {
     "name": "stdout",
     "output_type": "stream",
     "text": [
      "Общий САС по игре: 0.57\n",
      "CAC по источникам привлечения:\n"
     ]
    },
    {
     "data": {
      "text/html": [
       "<div>\n",
       "<style scoped>\n",
       "    .dataframe tbody tr th:only-of-type {\n",
       "        vertical-align: middle;\n",
       "    }\n",
       "\n",
       "    .dataframe tbody tr th {\n",
       "        vertical-align: top;\n",
       "    }\n",
       "\n",
       "    .dataframe thead th {\n",
       "        text-align: right;\n",
       "    }\n",
       "</style>\n",
       "<table border=\"1\" class=\"dataframe\">\n",
       "  <thead>\n",
       "    <tr style=\"text-align: right;\">\n",
       "      <th></th>\n",
       "      <th>source</th>\n",
       "      <th>CAC</th>\n",
       "    </tr>\n",
       "  </thead>\n",
       "  <tbody>\n",
       "    <tr>\n",
       "      <th>0</th>\n",
       "      <td>facebook_ads</td>\n",
       "      <td>0.80</td>\n",
       "    </tr>\n",
       "    <tr>\n",
       "      <th>1</th>\n",
       "      <td>instagram_new_adverts</td>\n",
       "      <td>0.66</td>\n",
       "    </tr>\n",
       "    <tr>\n",
       "      <th>2</th>\n",
       "      <td>yandex_direct</td>\n",
       "      <td>0.48</td>\n",
       "    </tr>\n",
       "    <tr>\n",
       "      <th>3</th>\n",
       "      <td>youtube_channel_reklama</td>\n",
       "      <td>0.42</td>\n",
       "    </tr>\n",
       "  </tbody>\n",
       "</table>\n",
       "</div>"
      ],
      "text/plain": [
       "                    source   CAC\n",
       "0             facebook_ads  0.80\n",
       "1    instagram_new_adverts  0.66\n",
       "2            yandex_direct  0.48\n",
       "3  youtube_channel_reklama  0.42"
      ]
     },
     "execution_count": 28,
     "metadata": {},
     "output_type": "execute_result"
    }
   ],
   "source": [
    "\n",
    "cost1=data_activ.groupby(['cogort','source']).agg({'user_id':'nunique'}).reset_index()\n",
    "costs['cogort'] = (costs['day']+ np.timedelta64(1,'D')).dt.date\n",
    "\n",
    "cost_itog=cost1[['cogort','source','user_id']].merge(costs[['cogort','cost','source']],\n",
    "                                               how='left', on=(['cogort','source']))\n",
    "cost_itog['CAC']=cost_itog['cost'] / cost_itog['user_id']\n",
    "print('Общий САС по игре: {:.2f}'. format(cost_itog['cost'].sum()/cost_itog['user_id'].sum()))\n",
    "print('CAC по источникам привлечения:')\n",
    "cost_itog.groupby('source').agg({'CAC':'mean'}).round(2).reset_index()"
   ]
  },
  {
   "cell_type": "code",
   "execution_count": 29,
   "metadata": {},
   "outputs": [
    {
     "data": {
      "image/png": "[encoded data removed]",
      "text/plain": [
       "<Figure size 864x432 with 1 Axes>"
      ]
     },
     "metadata": {},
     "output_type": "display_data"
    }
   ],
   "source": [
    "costs\n",
    "\n",
    "plt.figure(figsize=(12,6))\n",
    "sns.barplot(x=\"cogort\", y='cost', hue=\"source\", data=costs)\n",
    "plt.title('Расходы на рекламу на привлечение игроков по когортам')\n",
    "plt.ylabel('Количество зданий')\n",
    "plt.show()"
   ]
  },
  {
   "cell_type": "markdown",
   "metadata": {},
   "source": [
    "Из данных видим, что на маркетинг было потрачено:\n",
    "- **facebook_ads:**\t2140.90\n",
    "- **instagram_new_adverts:**\t2161.44\n",
    "- **yandex_direct:**\t2233.11\n",
    "- **youtube_channel_reklama:**\t1068.12\n",
    "\n",
    "Дороговизна источника:\n",
    "- **facebook_ads:**\t0.8\n",
    "- **instagram_new_adverts:**\t0.66\n",
    "- **yandex_direct:**\t0.48\n",
    "- **youtube_channel_reklama:**\t0.42"
   ]
  },
  {
   "cell_type": "markdown",
   "metadata": {},
   "source": [
    "#### Romi"
   ]
  },
  {
   "cell_type": "code",
   "execution_count": 30,
   "metadata": {},
   "outputs": [
    {
     "data": {
      "text/plain": [
       "0.9453513896138735"
      ]
     },
     "execution_count": 30,
     "metadata": {},
     "output_type": "execute_result"
    }
   ],
   "source": [
    "romi=ltv.merge(cost_itog,how='left',on=['source','cogort'])\n",
    "romi['ROMI']=romi['LTV'] / romi['CAC']\n",
    "romi.query('life_cogort_x==0')['user_id_x'].corr(romi.query('life_cogort_x==0')['cost'])\n"
   ]
  },
  {
   "cell_type": "markdown",
   "metadata": {},
   "source": [
    "Из графика по затратам было видно, что компания на каждую последующую когорту, сокращала затраты на рекламу, а в след за рекламой падал приход новых игроков в игру. Расчитанный коэффицент корреляции показал зависимость количество пользователей от рекламы в 0,94 пункта. Видимо маркетологи просчитались решив сокращать затраты на рекламную компанию."
   ]
  },
  {
   "cell_type": "code",
   "execution_count": 31,
   "metadata": {},
   "outputs": [
    {
     "data": {
      "image/png": "[encoded data removed]",
      "text/plain": [
       "<Figure size 720x504 with 2 Axes>"
      ]
     },
     "metadata": {},
     "output_type": "display_data"
    }
   ],
   "source": [
    "romi_pivot=romi.pivot_table(index=('cogort'),columns='life_cogort_x',values='ROMI',aggfunc=('mean'))\n",
    "romi_pivot_1=romi_pivot.cumsum(axis=1).round(2)\n",
    "sns.set(style='white')\n",
    "plt.figure(figsize=(10,7))\n",
    "plt.title('ROMI общий по когортам')\n",
    "sns.heatmap(romi_pivot_1, annot=True,linewidths=1, linecolor='green',fmt='.3') \n",
    "plt.show()"
   ]
  },
  {
   "cell_type": "code",
   "execution_count": 32,
   "metadata": {},
   "outputs": [
    {
     "data": {
      "image/png": "[encoded data removed]",
      "text/plain": [
       "<Figure size 720x504 with 2 Axes>"
      ]
     },
     "metadata": {},
     "output_type": "display_data"
    }
   ],
   "source": [
    "romi_pivot=romi.pivot_table(index=('source'),columns='life_cogort_x',values='ROMI',aggfunc=('mean'))\n",
    "romi_pivot_1=romi_pivot.cumsum(axis=1).round(2)\n",
    "sns.set(style='white')\n",
    "plt.figure(figsize=(10,7))\n",
    "plt.title('ROMI общий по когортам')\n",
    "sns.heatmap(romi_pivot_1, annot=True,linewidths=1, linecolor='green',fmt='.3')\n",
    "plt.show()"
   ]
  },
  {
   "cell_type": "markdown",
   "metadata": {},
   "source": [
    "Полученные результаты показывают, что к потенциальной окупаемости ближе первые 3 кагорты. По эффективности рекламнных источников самыми эффективными являются youtube_channel_reklama(19,1) и yandex_direct(16,8). В зависимости от стратегии развития продукта может быть несколько подходов:\n",
    "- если проект не заинтересован в длительном удержании игроков, а думает о быстрой отдачи и окупаемости, то надо сконцентрировать ся на источниках:youtube_channel_reklama,yandex_direct\n",
    "- если проект играет в долгую, то надо делать упор на самые прибильные источники привлечения, но при это не отказываться от менее эффектиных источников, так как рано или поздно они окупятся. Отказ же от них не гарантирует, что с помощью высвобожденных средств получится привлечь больше игроков из другого источника, ввиду того, что есть определенный целевой сегмент сидящий на разных рекламных ресурсах."
   ]
  },
  {
   "cell_type": "markdown",
   "metadata": {},
   "source": [
    "### Проверка стат гипотез"
   ]
  },
  {
   "cell_type": "markdown",
   "metadata": {},
   "source": [
    "#### Гипотеза о  зависимости время завершения уровня от способа прохождения"
   ]
  },
  {
   "cell_type": "code",
   "execution_count": 33,
   "metadata": {},
   "outputs": [
    {
     "name": "stdout",
     "output_type": "stream",
     "text": [
      "Среднее время для получения уровня через постройку проекта: 11.21\n",
      "Среднее время для получения уровня через победу над противником: 10.95\n"
     ]
    }
   ],
   "source": [
    "time_batle=data_activ.query('marker_victory==\"victory\"')['long_victory']\n",
    "time_build=data_activ.query('marker_victory==\"satellite_orbital_assembly\"')['long_victory']\n",
    "print('Среднее время для получения уровня через постройку проекта: {:.2f}'.format(time_build.mean()))\n",
    "print('Среднее время для получения уровня через победу над противником: {:.2f}'.format(time_batle.mean()))"
   ]
  },
  {
   "cell_type": "code",
   "execution_count": 34,
   "metadata": {},
   "outputs": [
    {
     "name": "stdout",
     "output_type": "stream",
     "text": [
      "p-значение для теста Левене: 4.597895527832936e-45\n",
      "Гипотеза о равенстве дисперсий не нашла подтверждения\n"
     ]
    }
   ],
   "source": [
    "#проверка дисперсий\n",
    "#Н0- дисперсии равны\n",
    "#Н1- дисперсии различаются\n",
    "\n",
    "levene = st.levene(time_batle, time_build)\n",
    "alpha = 0.05\n",
    "print('p-значение для теста Левене:', levene.pvalue)\n",
    "if levene.pvalue < alpha:\n",
    "    print('Гипотеза о равенстве дисперсий не нашла подтверждения')\n",
    "else:\n",
    "    print('Отвергнуть гипотезу о равенстве дисперсий не удалось')"
   ]
  },
  {
   "cell_type": "markdown",
   "metadata": {},
   "source": [
    "**Н0- время завершения уровня не различается в зависимости от способа прохождения**\n",
    "\n",
    "**Н1- время завершения уровня  различается в зависимости от способа прохождения**\n"
   ]
  },
  {
   "cell_type": "code",
   "execution_count": 35,
   "metadata": {},
   "outputs": [
    {
     "name": "stdout",
     "output_type": "stream",
     "text": [
      "p-значение: 6.5578060318552115e-21\n",
      "Отвергаем нулевую гипотезу\n"
     ]
    }
   ],
   "source": [
    "alpha = 0.05\n",
    "\n",
    "results_st = st.ttest_ind(\n",
    "    time_batle, \n",
    "    time_build,\n",
    "    equal_var = False)\n",
    "\n",
    "print('p-значение:', results_st.pvalue)\n",
    "\n",
    "if (results_st.pvalue < alpha):\n",
    "    print(\"Отвергаем нулевую гипотезу\")\n",
    "else:\n",
    "    print(\"Не получилось отвергнуть нулевую гипотезу\")"
   ]
  },
  {
   "cell_type": "code",
   "execution_count": 36,
   "metadata": {},
   "outputs": [
    {
     "name": "stdout",
     "output_type": "stream",
     "text": [
      "p-значение: 4.2544625341661364e-14\n",
      "Отвергаем нулевую гипотезу\n"
     ]
    }
   ],
   "source": [
    "alpha = 0.05\n",
    "\n",
    "results_man = st.mannwhitneyu(\n",
    "    time_batle, \n",
    "    time_build)\n",
    "\n",
    "print('p-значение:', results_man.pvalue)\n",
    "\n",
    "if (results_man.pvalue < alpha):\n",
    "    print(\"Отвергаем нулевую гипотезу\")\n",
    "else:\n",
    "    print(\"Не получилось отвергнуть нулевую гипотезу\")"
   ]
  },
  {
   "cell_type": "markdown",
   "metadata": {},
   "source": [
    "Проверка гипотезы двумя критериями:Стьдента и Манна Уитни, показала идентичные результаты, что есть статистическое значимое основаение, отвергнуть нулевую гипотезу о равенстве среденго времени на прохождения уровня."
   ]
  },
  {
   "cell_type": "markdown",
   "metadata": {},
   "source": [
    "#### Гипотеза о  зависимости количесва построек  от способа прохождения"
   ]
  },
  {
   "cell_type": "code",
   "execution_count": 37,
   "metadata": {},
   "outputs": [
    {
     "name": "stdout",
     "output_type": "stream",
     "text": [
      "Среднее количество построек для победы через постройку: 11.83\n",
      "Среднее количество построек для победы черз победу над противником: 9.39\n"
     ]
    }
   ],
   "source": [
    "build_a=data_activ.query('marker_victory==\"victory\"').groupby('user_id').agg({'building_type':'count'}).reset_index()\n",
    "build_b=data_activ.query('marker_victory==\"satellite_orbital_assembly\"').groupby('user_id').agg({'building_type':'count'}).reset_index()\n",
    "print('Среднее количество построек для победы через постройку: {:.2f}'.format(build_b['building_type'].mean()))\n",
    "print('Среднее количество построек для победы черз победу над противником: {:.2f}'.format(build_a['building_type'].mean()))\n"
   ]
  },
  {
   "cell_type": "code",
   "execution_count": 38,
   "metadata": {},
   "outputs": [
    {
     "name": "stdout",
     "output_type": "stream",
     "text": [
      "p-значение для теста Левене: 2.3835659735369825e-89\n",
      "Гипотеза о равенстве дисперсий не нашла подтверждения\n"
     ]
    }
   ],
   "source": [
    "#проверка дисперсий\n",
    "#Н0- дисперсии равны\n",
    "#Н1- дисперсии различаются\n",
    "\n",
    "levene_2 = st.levene(build_a['building_type'], build_b['building_type'])\n",
    "alpha = 0.05\n",
    "print('p-значение для теста Левене:', levene_2.pvalue)\n",
    "if levene_2.pvalue < alpha:\n",
    "    print('Гипотеза о равенстве дисперсий не нашла подтверждения')\n",
    "else:\n",
    "    print('Отвергнуть гипотезу о равенстве дисперсий не удалось')"
   ]
  },
  {
   "cell_type": "markdown",
   "metadata": {},
   "source": [
    "**Н0- среднее количесво построенных зданий не различается в зависимости от способа прохождения**\n",
    "\n",
    "**Н1- среднее количество построенных зданий  различается в зависимости от способа прохождения**"
   ]
  },
  {
   "cell_type": "code",
   "execution_count": 39,
   "metadata": {},
   "outputs": [
    {
     "name": "stdout",
     "output_type": "stream",
     "text": [
      "p-значение: 3.1535327422221637e-285\n",
      "Отвергаем нулевую гипотезу\n"
     ]
    }
   ],
   "source": [
    "alpha = 0.05\n",
    "\n",
    "results_st = st.ttest_ind(\n",
    "    build_a['building_type'], \n",
    "    build_b['building_type'],\n",
    "    equal_var = False)\n",
    "\n",
    "print('p-значение:', results_st.pvalue)\n",
    "\n",
    "if (results_st.pvalue < alpha):\n",
    "    print(\"Отвергаем нулевую гипотезу\")\n",
    "else:\n",
    "    print(\"Не получилось отвергнуть нулевую гипотезу\")"
   ]
  },
  {
   "cell_type": "code",
   "execution_count": 40,
   "metadata": {},
   "outputs": [
    {
     "name": "stdout",
     "output_type": "stream",
     "text": [
      "p-значение: 6.0744598620689365e-202\n",
      "Отвергаем нулевую гипотезу\n"
     ]
    }
   ],
   "source": [
    "alpha = 0.05\n",
    "\n",
    "results_man = st.mannwhitneyu(\n",
    "    build_a['building_type'], \n",
    "    build_b['building_type'])\n",
    "\n",
    "print('p-значение:', results_man.pvalue)\n",
    "\n",
    "if (results_man.pvalue < alpha):\n",
    "    print(\"Отвергаем нулевую гипотезу\")\n",
    "else:\n",
    "    print(\"Не получилось отвергнуть нулевую гипотезу\")"
   ]
  },
  {
   "cell_type": "markdown",
   "metadata": {},
   "source": [
    "Проверка гипотезы двумя критериями:Стьдента и Манна Уитни, показала идентичные результаты, что есть статистическое значимое основаение, отвергнуть нулевую гипотезу о равенстве среднего количества построек на прохождения уровня разными способами."
   ]
  },
  {
   "cell_type": "markdown",
   "metadata": {},
   "source": [
    "### Вывод\n",
    "Проведя исследование мы получили следующие результаты:\n",
    "\n",
    "**DAU, WAU и MAU**:\n",
    "- Количество уникальных пользователей в день: 3255\n",
    "- Количество уникальных пользователей в неделю: 6947\n",
    "- Количество уникальных пользователей в месяц: 13282\n",
    "\n",
    "**источник привлечения игроков:**\n",
    "\n",
    "- ***facebook_ads:***\t2672\t\n",
    "- ***instagram_new_adverts:***\t3277\t\n",
    "- ***yandex_direct:***\t4714\t\n",
    "- ***youtube_channel_reklama:***\t2619\t\n",
    "\n",
    "\n",
    "\n",
    "\n",
    "Для исследования сформировали 7 когорот(4-10 мая), наибольший приток клиентов, приходится на первую когорту 5763 пользователя, последущие дни идет снижение численности новых игроков. Падение на столько большое, что на последнюю исследуемую когорту приходится всего 260 уникальных пользователей, что является тревожным фактором.Падение же произошло из снижения расходов на рекламу.\n",
    "\n",
    "Коээфициент удержания смотрим, на вторую неделю, так нам данны данные по прохождению 1 уровня, то 3 на неделю много игроков завершили уровень, и возможно данные на 3 неделю неполные, тоесть нет сведений, как игроки ведут себя дальше. По имещимся данным \n",
    "самый высокий retation в 1 и 2 когорте около 50%, в остальных когортах показатель составляет около 40 %.\n",
    "\n",
    "Если расмотреть когорты в разрезе источников привлечиния игроков, то видим что беспорным лидером является yandex_direct, за ним следует instagram_new_adverts, другие два источника примерно равны.\n",
    "\n",
    "Из прешедщих  13282 игроков 5716 прошли уровень, из них 1832 через постройку oрбитальной базы, 3884 через пупь победы над противником. Что говорит о склоности игроков, проходить уровень через битву, чем через исследование и строительсво. Источник прихода игрока не влияет на тип победы, везде домининрует одни и теже ресурсы.\n",
    "\n",
    "**Показатель постройки зданий на игрока:**\n",
    "- Среднее количество зданий на одного пользователя по всем типам победы: 9.33\n",
    "- Среднее количество зданий на одного пользователя, достигшего победы через битву: 9.39\n",
    "- Среднее количество зданий на одного пользователя, достигшего победы через постройку орбитальной базы: 11.83\n",
    "- Среднее количество зданий на одного пользователя, не достигшего победы: 8.70\n",
    "\n",
    "Из данных видим, что  победа над противником, требует на 2,5 здания меньше, чем через постройку орбитальной базы. При этом помним из прошлых пунктов, что через победу над противников выбирает в 2 раза больше игроков, чем путь постройки базы. А так как монетизацая у нас идет, через видео при простроике зданий, то возможно рассмотреть вопрос перебалансировки построек, в сторону  увеличения  прокачки  количества уровней, необходимых для достижения победы битвой.\n",
    "\n",
    "Игроки которые не прошли 1 уровень в среднем близки к прохождению (8,7 здания). Непрошедшие 1 уровень, могут быть игроки, закинувшие игру или же не так часто играющие. Но достоверно об этом сказать сложно, так объём данных мал.\n",
    "\n",
    "Независимо от типа победы значимость зданий распределилась так: spaceport,assembly_shop,research_center.\n",
    "\n",
    "В разрезе источников, никаких сюрпризов не произошло, чем больше пользователей было привлечено через источник, тем больше зданий было построено.\n",
    "\n",
    "Полученные результаты показывают, что к потенциальной окупаемости ближе первые 3 кагорты. По эффективности рекламнных источников самыми эффективными являются youtube_channel_reklama(19,1) и yandex_direct(16,8). В зависимости от стратегии развития продукта может быть несколько подходов:\n",
    "- если проект не заинтересован в длительном удержании игроков, а думает о быстрой отдачи и окупаемости, то надо сконцентрировать ся на источниках:youtube_channel_reklama,yandex_direct\n",
    "- если проект играет в долгую, то надо делать упор на самые прибильные источники привлечения, но при это не отказываться от менее эффектиных источников, так как рано или поздно они окупятся. Отказ же от них не гарантирует, что с помощью высвобожденных средств получится привлечь больше игроков из другого источника, ввиду того, что есть определенный целевой сегмент сидящий на разных рекламных ресурсах."
   ]
  },
  {
   "cell_type": "markdown",
   "metadata": {},
   "source": [
    "#### Дащборд\n",
    "https://public.tableau.com/views/_16222575864930/Dashboard2?:language=en-US&publish=yes&:display_count=n&:origin=viz_share_link",
    "\n"
   ]
  },
  {
   "cell_type": "markdown",
   "metadata": {},
   "source": [
    "\n",
    "\n",
    "#### Презентация\n",
    "https://drive.google.com/file/d/16lv9Pg7sI1GfMvm4AXKf5o2q2Xutu4MK/view?usp=sharing"
   ]
  },
  {
   "cell_type": "code",
   "execution_count": null,
   "metadata": {},
   "outputs": [],
   "source": []
  }
 ],
 "metadata": {
  "kernelspec": {
   "display_name": "Python 3",
   "language": "python",
   "name": "python3"
  },
  "language_info": {
   "codemirror_mode": {
    "name": "ipython",
    "version": 3
   },
   "file_extension": ".py",
   "mimetype": "text/x-python",
   "name": "python",
   "nbconvert_exporter": "python",
   "pygments_lexer": "ipython3",
   "version": "3.8.5"
  },
  "toc": {
   "base_numbering": 1,
   "nav_menu": {},
   "number_sections": true,
   "sideBar": true,
   "skip_h1_title": false,
   "title_cell": "Table of Contents",
   "title_sidebar": "Contents",
   "toc_cell": false,
   "toc_position": {
    "height": "calc(100% - 180px)",
    "left": "10px",
    "top": "150px",
    "width": "297.6px"
   },
   "toc_section_display": true,
   "toc_window_display": true
  }
 },
 "nbformat": 4,
 "nbformat_minor": 4
}
